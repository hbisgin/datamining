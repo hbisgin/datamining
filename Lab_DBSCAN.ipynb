{
  "nbformat": 4,
  "nbformat_minor": 0,
  "metadata": {
    "colab": {
      "provenance": [],
      "toc_visible": true,
      "authorship_tag": "ABX9TyNeMXZ7/ondKejij2JiPXSb",
      "include_colab_link": true
    },
    "kernelspec": {
      "name": "python3",
      "display_name": "Python 3"
    },
    "language_info": {
      "name": "python"
    }
  },
  "cells": [
    {
      "cell_type": "markdown",
      "metadata": {
        "id": "view-in-github",
        "colab_type": "text"
      },
      "source": [
        "<a href=\"https://colab.research.google.com/github/hbisgin/datamining/blob/main/Lab_DBSCAN.ipynb\" target=\"_parent\"><img src=\"https://colab.research.google.com/assets/colab-badge.svg\" alt=\"Open In Colab\"/></a>"
      ]
    },
    {
      "cell_type": "code",
      "execution_count": null,
      "metadata": {
        "id": "Z2UDvX2B75gy"
      },
      "outputs": [],
      "source": [
        "import numpy as np\n",
        "import pandas as pd\n",
        "import matplotlib.pyplot as plt\n",
        "from sklearn.datasets import make_moons\n",
        "from sklearn.cluster import DBSCAN\n",
        "from sklearn.preprocessing import StandardScaler"
      ]
    },
    {
      "cell_type": "markdown",
      "source": [
        "#Generate a 2D dataset with non-convex clusters\n"
      ],
      "metadata": {
        "id": "XGXu6rzc8BRD"
      }
    },
    {
      "cell_type": "code",
      "source": [
        "X, y = make_moons(n_samples=300, noise=0.05, random_state=42)\n",
        "\n",
        "# Standardize the data\n",
        "scaler = StandardScaler()\n",
        "X_scaled = scaler.fit_transform(X)\n",
        "\n",
        "# Visualize\n",
        "plt.scatter(X_scaled[:, 0], X_scaled[:, 1])\n",
        "plt.title(\"Dataset for DBSCAN\")\n",
        "plt.show()"
      ],
      "metadata": {
        "id": "6DjrE_Pt8Bqx",
        "collapsed": true
      },
      "execution_count": null,
      "outputs": []
    },
    {
      "cell_type": "markdown",
      "source": [
        "#Applying DBSCAN"
      ],
      "metadata": {
        "id": "yKo_xBHE8S7s"
      }
    },
    {
      "cell_type": "code",
      "source": [
        "\n",
        "dbscan = DBSCAN(eps=0.3, min_samples=5)\n",
        "labels = dbscan.fit_predict(X_scaled)\n",
        "\n",
        "# Plot clusters\n",
        "plt.scatter(X_scaled[:, 0], X_scaled[:, 1], c=labels, cmap='plasma')\n",
        "plt.title(\"DBSCAN Clustering\")\n",
        "plt.show()"
      ],
      "metadata": {
        "id": "FuncnrYA8T6u"
      },
      "execution_count": null,
      "outputs": []
    },
    {
      "cell_type": "markdown",
      "source": [
        "#Can you change epsilon and min values to observe how things change? For instance,\n",
        "\n",
        "* Try eps=0.1, eps=0.5 and observe the difference.\n",
        "* What happens when you change min_samples to 3 or 10?\n",
        "* Can you also identify noise for each trial. (Hint: np.sum(labels == -1) after you your clusters)"
      ],
      "metadata": {
        "id": "tmZGGT9C8j8M"
      }
    },
    {
      "cell_type": "code",
      "source": [],
      "metadata": {
        "id": "L5qm_OoQ88Qy"
      },
      "execution_count": null,
      "outputs": []
    },
    {
      "cell_type": "code",
      "source": [],
      "metadata": {
        "id": "Z49eNdYb-ZHr"
      },
      "execution_count": null,
      "outputs": []
    },
    {
      "cell_type": "markdown",
      "source": [
        "#Use a real dataset:\n",
        "* Try load_iris() from sklearn.datasets.\n",
        "* Apply DBSCAN"
      ],
      "metadata": {
        "id": "NCghTHIr-aC3"
      }
    },
    {
      "cell_type": "code",
      "source": [],
      "metadata": {
        "id": "3VshLIzs-T82"
      },
      "execution_count": null,
      "outputs": []
    }
  ]
}