{
  "cells": [
    {
      "cell_type": "markdown",
      "metadata": {
        "id": "view-in-github",
        "colab_type": "text"
      },
      "source": [
        "<a href=\"https://colab.research.google.com/github/hbisgin/datamining/blob/main/Lab_Pandas_Stats.ipynb\" target=\"_parent\"><img src=\"https://colab.research.google.com/assets/colab-badge.svg\" alt=\"Open In Colab\"/></a>"
      ]
    },
    {
      "cell_type": "markdown",
      "metadata": {
        "id": "DfSLw3BRnLJ8"
      },
      "source": [
        "# Statistical Methods in Pandas - Lab"
      ]
    },
    {
      "cell_type": "markdown",
      "metadata": {
        "id": "9X7ZvI0snLKA"
      },
      "source": [
        "## Introduction\n",
        "\n",
        "In this lab you'll get some hands-on experience using some of the key summary statistics methods in Pandas."
      ]
    },
    {
      "cell_type": "markdown",
      "metadata": {
        "id": "2bWGwOrhnLKB"
      },
      "source": [
        "## Objectives\n",
        "You will be able to:\n",
        "\n",
        "- Calculate summary statistics for a series and DataFrame\n",
        "- Use the `.apply()` or `.applymap()` methods to apply a function to a pandas series or DataFrame  \n",
        "\n",
        "\n",
        "## Getting Started\n",
        "\n",
        "For this lab, we'll be working with a dataset containing information on various lego datasets. You will find this dataset in the file `'lego_sets.csv'` which is under the DATA folder.   \n",
        "\n",
        "In the cell below:\n",
        "\n",
        "- Import Pandas and set the standard alias of `pd`\n",
        "- Import the `'lego_sets.csv'` dataset\n",
        "- Display the first five rows of the DataFrame to get a feel for what we'll be working with"
      ]
    },
    {
      "cell_type": "code",
      "execution_count": null,
      "metadata": {
        "id": "vNrzwZNXnLKC",
        "outputId": "86f0d828-6236-4856-9322-ec2be98c27d0"
      },
      "outputs": [
        {
          "data": {
            "text/html": [
              "<div>\n",
              "<style scoped>\n",
              "    .dataframe tbody tr th:only-of-type {\n",
              "        vertical-align: middle;\n",
              "    }\n",
              "\n",
              "    .dataframe tbody tr th {\n",
              "        vertical-align: top;\n",
              "    }\n",
              "\n",
              "    .dataframe thead th {\n",
              "        text-align: right;\n",
              "    }\n",
              "</style>\n",
              "<table border=\"1\" class=\"dataframe\">\n",
              "  <thead>\n",
              "    <tr style=\"text-align: right;\">\n",
              "      <th></th>\n",
              "      <th>ages</th>\n",
              "      <th>list_price</th>\n",
              "      <th>num_reviews</th>\n",
              "      <th>piece_count</th>\n",
              "      <th>play_star_rating</th>\n",
              "      <th>prod_desc</th>\n",
              "      <th>prod_id</th>\n",
              "      <th>prod_long_desc</th>\n",
              "      <th>review_difficulty</th>\n",
              "      <th>set_name</th>\n",
              "      <th>star_rating</th>\n",
              "      <th>theme_name</th>\n",
              "      <th>val_star_rating</th>\n",
              "      <th>country</th>\n",
              "    </tr>\n",
              "  </thead>\n",
              "  <tbody>\n",
              "    <tr>\n",
              "      <th>0</th>\n",
              "      <td>6-12</td>\n",
              "      <td>29.99</td>\n",
              "      <td>2.0</td>\n",
              "      <td>277.0</td>\n",
              "      <td>4.0</td>\n",
              "      <td>Catapult into action and take back the eggs fr...</td>\n",
              "      <td>75823.0</td>\n",
              "      <td>Use the staircase catapult to launch Red into ...</td>\n",
              "      <td>Average</td>\n",
              "      <td>Bird Island Egg Heist</td>\n",
              "      <td>4.5</td>\n",
              "      <td>Angry Birds™</td>\n",
              "      <td>4.0</td>\n",
              "      <td>US</td>\n",
              "    </tr>\n",
              "    <tr>\n",
              "      <th>1</th>\n",
              "      <td>6-12</td>\n",
              "      <td>19.99</td>\n",
              "      <td>2.0</td>\n",
              "      <td>168.0</td>\n",
              "      <td>4.0</td>\n",
              "      <td>Launch a flying attack and rescue the eggs fro...</td>\n",
              "      <td>75822.0</td>\n",
              "      <td>Pilot Pig has taken off from Bird Island with ...</td>\n",
              "      <td>Easy</td>\n",
              "      <td>Piggy Plane Attack</td>\n",
              "      <td>5.0</td>\n",
              "      <td>Angry Birds™</td>\n",
              "      <td>4.0</td>\n",
              "      <td>US</td>\n",
              "    </tr>\n",
              "    <tr>\n",
              "      <th>2</th>\n",
              "      <td>6-12</td>\n",
              "      <td>12.99</td>\n",
              "      <td>11.0</td>\n",
              "      <td>74.0</td>\n",
              "      <td>4.3</td>\n",
              "      <td>Chase the piggy with lightning-fast Chuck and ...</td>\n",
              "      <td>75821.0</td>\n",
              "      <td>Pitch speedy bird Chuck against the Piggy Car....</td>\n",
              "      <td>Easy</td>\n",
              "      <td>Piggy Car Escape</td>\n",
              "      <td>4.3</td>\n",
              "      <td>Angry Birds™</td>\n",
              "      <td>4.1</td>\n",
              "      <td>US</td>\n",
              "    </tr>\n",
              "    <tr>\n",
              "      <th>3</th>\n",
              "      <td>12+</td>\n",
              "      <td>99.99</td>\n",
              "      <td>23.0</td>\n",
              "      <td>1032.0</td>\n",
              "      <td>3.6</td>\n",
              "      <td>Explore the architecture of the United States ...</td>\n",
              "      <td>21030.0</td>\n",
              "      <td>Discover the architectural secrets of the icon...</td>\n",
              "      <td>Average</td>\n",
              "      <td>United States Capitol Building</td>\n",
              "      <td>4.6</td>\n",
              "      <td>Architecture</td>\n",
              "      <td>4.3</td>\n",
              "      <td>US</td>\n",
              "    </tr>\n",
              "    <tr>\n",
              "      <th>4</th>\n",
              "      <td>12+</td>\n",
              "      <td>79.99</td>\n",
              "      <td>14.0</td>\n",
              "      <td>744.0</td>\n",
              "      <td>3.2</td>\n",
              "      <td>Recreate the Solomon R. Guggenheim Museum® wit...</td>\n",
              "      <td>21035.0</td>\n",
              "      <td>Discover the architectural secrets of Frank Ll...</td>\n",
              "      <td>Challenging</td>\n",
              "      <td>Solomon R. Guggenheim Museum®</td>\n",
              "      <td>4.6</td>\n",
              "      <td>Architecture</td>\n",
              "      <td>4.1</td>\n",
              "      <td>US</td>\n",
              "    </tr>\n",
              "  </tbody>\n",
              "</table>\n",
              "</div>"
            ],
            "text/plain": [
              "   ages  list_price  num_reviews  piece_count  play_star_rating  \\\n",
              "0  6-12       29.99          2.0        277.0               4.0   \n",
              "1  6-12       19.99          2.0        168.0               4.0   \n",
              "2  6-12       12.99         11.0         74.0               4.3   \n",
              "3   12+       99.99         23.0       1032.0               3.6   \n",
              "4   12+       79.99         14.0        744.0               3.2   \n",
              "\n",
              "                                           prod_desc  prod_id  \\\n",
              "0  Catapult into action and take back the eggs fr...  75823.0   \n",
              "1  Launch a flying attack and rescue the eggs fro...  75822.0   \n",
              "2  Chase the piggy with lightning-fast Chuck and ...  75821.0   \n",
              "3  Explore the architecture of the United States ...  21030.0   \n",
              "4  Recreate the Solomon R. Guggenheim Museum® wit...  21035.0   \n",
              "\n",
              "                                      prod_long_desc review_difficulty  \\\n",
              "0  Use the staircase catapult to launch Red into ...           Average   \n",
              "1  Pilot Pig has taken off from Bird Island with ...              Easy   \n",
              "2  Pitch speedy bird Chuck against the Piggy Car....              Easy   \n",
              "3  Discover the architectural secrets of the icon...           Average   \n",
              "4  Discover the architectural secrets of Frank Ll...       Challenging   \n",
              "\n",
              "                         set_name  star_rating    theme_name  val_star_rating  \\\n",
              "0           Bird Island Egg Heist          4.5  Angry Birds™              4.0   \n",
              "1              Piggy Plane Attack          5.0  Angry Birds™              4.0   \n",
              "2                Piggy Car Escape          4.3  Angry Birds™              4.1   \n",
              "3  United States Capitol Building          4.6  Architecture              4.3   \n",
              "4   Solomon R. Guggenheim Museum®          4.6  Architecture              4.1   \n",
              "\n",
              "  country  \n",
              "0      US  \n",
              "1      US  \n",
              "2      US  \n",
              "3      US  \n",
              "4      US  "
            ]
          },
          "execution_count": 1,
          "metadata": {},
          "output_type": "execute_result"
        }
      ],
      "source": [
        "# Import pandas\n",
        "\n",
        "# Import the 'lego_sets.csv' dataset\n",
        "\n",
        "# Print the first five rows of DataFrame\n"
      ]
    },
    {
      "cell_type": "markdown",
      "metadata": {
        "id": "pviijxV4nLKF"
      },
      "source": [
        "## Getting DataFrame-Level Statistics\n",
        "\n",
        "We'll begin by getting some overall summary statistics on the dataset. There are two ways we'll get this information -- `.info()` and `.describe()`.\n",
        "\n",
        "The `.info()` method provides us metadata on the DataFrame itself. This allows us to answer questions such as:\n",
        "\n",
        "* What data type does each column contain?\n",
        "* How many rows are in my dataset?\n",
        "* How many total non-missing values does each column contain?\n",
        "* How much memory does the DataFrame take up?\n",
        "\n",
        "In the cell below, call our DataFrame's `.info()` method."
      ]
    },
    {
      "cell_type": "code",
      "execution_count": null,
      "metadata": {
        "id": "LH5UvXaRnLKF",
        "outputId": "a3b3dd3c-6b17-4c7a-848d-26e808c70860"
      },
      "outputs": [
        {
          "name": "stdout",
          "output_type": "stream",
          "text": [
            "<class 'pandas.core.frame.DataFrame'>\n",
            "RangeIndex: 12261 entries, 0 to 12260\n",
            "Data columns (total 14 columns):\n",
            "ages                 12261 non-null object\n",
            "list_price           12261 non-null float64\n",
            "num_reviews          10641 non-null float64\n",
            "piece_count          12261 non-null float64\n",
            "play_star_rating     10486 non-null float64\n",
            "prod_desc            11884 non-null object\n",
            "prod_id              12261 non-null float64\n",
            "prod_long_desc       12261 non-null object\n",
            "review_difficulty    10206 non-null object\n",
            "set_name             12261 non-null object\n",
            "star_rating          10641 non-null float64\n",
            "theme_name           12258 non-null object\n",
            "val_star_rating      10466 non-null float64\n",
            "country              12261 non-null object\n",
            "dtypes: float64(7), object(7)\n",
            "memory usage: 1.3+ MB\n"
          ]
        }
      ],
      "source": [
        "# Call the .info() method\n"
      ]
    },
    {
      "cell_type": "markdown",
      "metadata": {
        "id": "OwRBINF0nLKF"
      },
      "source": [
        "#### Interpreting the Results\n",
        "\n",
        "Read the output above, and then answer the following questions:\n",
        "\n",
        "- How many total rows are in this DataFrame?  \n",
        "- How many columns contain numeric data?\n",
        "- How many contain categorical data?\n",
        "- Identify at least 3 columns that contain missing values.\n",
        "\n",
        "Write your answer below this line in comment form:\n",
        "________________________________________________________________________________________________________________________________"
      ]
    },
    {
      "cell_type": "code",
      "execution_count": null,
      "metadata": {
        "id": "fRmwsEYfnLKG"
      },
      "outputs": [],
      "source": []
    },
    {
      "cell_type": "markdown",
      "metadata": {
        "id": "XD5hrqkxnLKG"
      },
      "source": [
        "Whereas `.info()` provides statistics about the DataFrame itself, `.describe()` returns output containing basic summary statistics about the data contained with the DataFrame.  \n",
        "\n",
        "In the cell below, call the DataFrame's `.describe()` method."
      ]
    },
    {
      "cell_type": "code",
      "execution_count": null,
      "metadata": {
        "id": "o99aitXanLKH",
        "outputId": "f6e1ba78-cc58-4f8d-cd7d-d10b8d081bd6"
      },
      "outputs": [
        {
          "data": {
            "text/html": [
              "<div>\n",
              "<style scoped>\n",
              "    .dataframe tbody tr th:only-of-type {\n",
              "        vertical-align: middle;\n",
              "    }\n",
              "\n",
              "    .dataframe tbody tr th {\n",
              "        vertical-align: top;\n",
              "    }\n",
              "\n",
              "    .dataframe thead th {\n",
              "        text-align: right;\n",
              "    }\n",
              "</style>\n",
              "<table border=\"1\" class=\"dataframe\">\n",
              "  <thead>\n",
              "    <tr style=\"text-align: right;\">\n",
              "      <th></th>\n",
              "      <th>list_price</th>\n",
              "      <th>num_reviews</th>\n",
              "      <th>piece_count</th>\n",
              "      <th>play_star_rating</th>\n",
              "      <th>prod_id</th>\n",
              "      <th>star_rating</th>\n",
              "      <th>val_star_rating</th>\n",
              "    </tr>\n",
              "  </thead>\n",
              "  <tbody>\n",
              "    <tr>\n",
              "      <th>count</th>\n",
              "      <td>12261.000000</td>\n",
              "      <td>10641.000000</td>\n",
              "      <td>12261.000000</td>\n",
              "      <td>10486.000000</td>\n",
              "      <td>1.226100e+04</td>\n",
              "      <td>10641.000000</td>\n",
              "      <td>10466.000000</td>\n",
              "    </tr>\n",
              "    <tr>\n",
              "      <th>mean</th>\n",
              "      <td>65.141998</td>\n",
              "      <td>16.826238</td>\n",
              "      <td>493.405921</td>\n",
              "      <td>4.337641</td>\n",
              "      <td>5.983675e+04</td>\n",
              "      <td>4.514134</td>\n",
              "      <td>4.228960</td>\n",
              "    </tr>\n",
              "    <tr>\n",
              "      <th>std</th>\n",
              "      <td>91.980429</td>\n",
              "      <td>36.368984</td>\n",
              "      <td>825.364580</td>\n",
              "      <td>0.652051</td>\n",
              "      <td>1.638115e+05</td>\n",
              "      <td>0.518865</td>\n",
              "      <td>0.660282</td>\n",
              "    </tr>\n",
              "    <tr>\n",
              "      <th>min</th>\n",
              "      <td>2.272400</td>\n",
              "      <td>1.000000</td>\n",
              "      <td>1.000000</td>\n",
              "      <td>1.000000</td>\n",
              "      <td>6.300000e+02</td>\n",
              "      <td>1.800000</td>\n",
              "      <td>1.000000</td>\n",
              "    </tr>\n",
              "    <tr>\n",
              "      <th>25%</th>\n",
              "      <td>19.990000</td>\n",
              "      <td>2.000000</td>\n",
              "      <td>97.000000</td>\n",
              "      <td>4.000000</td>\n",
              "      <td>2.103400e+04</td>\n",
              "      <td>4.300000</td>\n",
              "      <td>4.000000</td>\n",
              "    </tr>\n",
              "    <tr>\n",
              "      <th>50%</th>\n",
              "      <td>36.587800</td>\n",
              "      <td>6.000000</td>\n",
              "      <td>216.000000</td>\n",
              "      <td>4.500000</td>\n",
              "      <td>4.206900e+04</td>\n",
              "      <td>4.700000</td>\n",
              "      <td>4.300000</td>\n",
              "    </tr>\n",
              "    <tr>\n",
              "      <th>75%</th>\n",
              "      <td>70.192200</td>\n",
              "      <td>13.000000</td>\n",
              "      <td>544.000000</td>\n",
              "      <td>4.800000</td>\n",
              "      <td>7.092200e+04</td>\n",
              "      <td>5.000000</td>\n",
              "      <td>4.700000</td>\n",
              "    </tr>\n",
              "    <tr>\n",
              "      <th>max</th>\n",
              "      <td>1104.870000</td>\n",
              "      <td>367.000000</td>\n",
              "      <td>7541.000000</td>\n",
              "      <td>5.000000</td>\n",
              "      <td>2.000431e+06</td>\n",
              "      <td>5.000000</td>\n",
              "      <td>5.000000</td>\n",
              "    </tr>\n",
              "  </tbody>\n",
              "</table>\n",
              "</div>"
            ],
            "text/plain": [
              "         list_price   num_reviews   piece_count  play_star_rating  \\\n",
              "count  12261.000000  10641.000000  12261.000000      10486.000000   \n",
              "mean      65.141998     16.826238    493.405921          4.337641   \n",
              "std       91.980429     36.368984    825.364580          0.652051   \n",
              "min        2.272400      1.000000      1.000000          1.000000   \n",
              "25%       19.990000      2.000000     97.000000          4.000000   \n",
              "50%       36.587800      6.000000    216.000000          4.500000   \n",
              "75%       70.192200     13.000000    544.000000          4.800000   \n",
              "max     1104.870000    367.000000   7541.000000          5.000000   \n",
              "\n",
              "            prod_id   star_rating  val_star_rating  \n",
              "count  1.226100e+04  10641.000000     10466.000000  \n",
              "mean   5.983675e+04      4.514134         4.228960  \n",
              "std    1.638115e+05      0.518865         0.660282  \n",
              "min    6.300000e+02      1.800000         1.000000  \n",
              "25%    2.103400e+04      4.300000         4.000000  \n",
              "50%    4.206900e+04      4.700000         4.300000  \n",
              "75%    7.092200e+04      5.000000         4.700000  \n",
              "max    2.000431e+06      5.000000         5.000000  "
            ]
          },
          "execution_count": 4,
          "metadata": {},
          "output_type": "execute_result"
        }
      ],
      "source": [
        "# Call the .describe() method\n"
      ]
    },
    {
      "cell_type": "markdown",
      "metadata": {
        "id": "end8CWHGnLKH"
      },
      "source": [
        "#### Interpreting the Results\n",
        "\n",
        "The output contains descriptive statistics corresponding to the columns. Use these to answer the following questions:\n",
        "\n",
        "- How much is the standard deviation for `piece count`?\n",
        "- How many pieces are in the largest lego set?\n",
        "- How many in the smallest lego set? What is the median `val_star_rating`?\n",
        "\n",
        "________________________________________________________________________________________________________________________________"
      ]
    },
    {
      "cell_type": "code",
      "execution_count": null,
      "metadata": {
        "id": "GSpXTL3wnLKI"
      },
      "outputs": [],
      "source": [
        "\n",
        "#please use this space to answer the questions\n"
      ]
    },
    {
      "cell_type": "markdown",
      "metadata": {
        "id": "KhPKOTz2nLKI"
      },
      "source": [
        "## Getting Summary Statistics\n",
        "\n",
        "Pandas also allows us to easily compute individual summary statistics using built-in methods.  Next, we'll get some practice using these methods.\n",
        "\n",
        "In the cell below, compute the median value of the `star_rating` column."
      ]
    },
    {
      "cell_type": "code",
      "execution_count": null,
      "metadata": {
        "id": "OENi8pZBnLKJ",
        "outputId": "142cd42f-1ccb-4226-abeb-46bc6a99aad4"
      },
      "outputs": [
        {
          "data": {
            "text/plain": [
              "4.7"
            ]
          },
          "execution_count": 6,
          "metadata": {},
          "output_type": "execute_result"
        }
      ],
      "source": [
        "# Calculate the median of the star_rating column (Hint: there is a median function)\n"
      ]
    },
    {
      "cell_type": "markdown",
      "metadata": {
        "id": "o5gVHmjInLKJ"
      },
      "source": [
        "Next, get a count of the total number of unique values in `play_star_rating`."
      ]
    },
    {
      "cell_type": "code",
      "execution_count": null,
      "metadata": {
        "id": "M0owby7bnLKJ",
        "outputId": "e1d88d38-7297-48ee-b5f3-7a1aaca1c544"
      },
      "outputs": [
        {
          "data": {
            "text/plain": [
              "30"
            ]
          },
          "execution_count": 7,
          "metadata": {},
          "output_type": "execute_result"
        }
      ],
      "source": [
        "# Print the number of unique values in play_star_rating\n"
      ]
    },
    {
      "cell_type": "markdown",
      "metadata": {
        "id": "mddGRaXYnLKJ"
      },
      "source": [
        "Now, compute the standard deviation of the `list_price` column."
      ]
    },
    {
      "cell_type": "code",
      "execution_count": null,
      "metadata": {
        "id": "pRzg7reHnLKK",
        "outputId": "8e1220b7-40a4-4bc2-e0de-f2f1ed8c8be0"
      },
      "outputs": [
        {
          "data": {
            "text/plain": [
              "91.9804293059252"
            ]
          },
          "execution_count": 8,
          "metadata": {},
          "output_type": "execute_result"
        }
      ],
      "source": [
        "# Calculate the standard deviation of the list_price column. (Hint: you can use std function)\n"
      ]
    },
    {
      "cell_type": "markdown",
      "metadata": {
        "id": "kmIGU6PGnLKK"
      },
      "source": [
        "If we bought every single lego set in this dataset, how many pieces would we have?  \n",
        "\n",
        "> **Note**: If you truly want to answer this accurately, and are up for the challenge, remove duplicate lego-set entries before summing the pieces. That is, many of the lego sets are listed multiple times in the dataset above, depending on the country where it is being sold and other unique parameters. If you're stuck, just practice calculating the total number of pieces in the dataset for now."
      ]
    },
    {
      "cell_type": "code",
      "execution_count": null,
      "metadata": {
        "id": "pTTjhfYgnLKK",
        "outputId": "14ffbafb-5dda-47cd-b477-d8b0149c77be"
      },
      "outputs": [
        {
          "data": {
            "text/plain": [
              "319071.0"
            ]
          },
          "execution_count": 9,
          "metadata": {},
          "output_type": "execute_result"
        }
      ],
      "source": [
        "# Total number of pieces across all unique Lego sets\n",
        "df.drop_duplicates(subset='prod_id')['piece_count'].sum()\n",
        "\n",
        "# If you're simply calculating the sum of a column\n",
        "# df['piece_count'].sum()"
      ]
    },
    {
      "cell_type": "markdown",
      "metadata": {
        "id": "29Wz8-MXnLKK"
      },
      "source": [
        "Now, let's try getting the value for the 90% quantile for all numerical columns.  Do this in the cell below."
      ]
    },
    {
      "cell_type": "code",
      "execution_count": null,
      "metadata": {
        "id": "DlHQYgL8nLKK",
        "outputId": "3a068cae-9091-4ae8-af1e-18060e66e942"
      },
      "outputs": [
        {
          "data": {
            "text/plain": [
              "list_price            136.2971\n",
              "num_reviews            38.0000\n",
              "piece_count          1077.0000\n",
              "play_star_rating        5.0000\n",
              "prod_id             75531.0000\n",
              "star_rating             5.0000\n",
              "val_star_rating         5.0000\n",
              "Name: 0.9, dtype: float64"
            ]
          },
          "execution_count": 10,
          "metadata": {},
          "output_type": "execute_result"
        }
      ],
      "source": [
        "# Get the 90% quantile for all numerical columns. (Hint: quantile function)\n"
      ]
    },
    {
      "cell_type": "markdown",
      "metadata": {
        "id": "1ShxymqSnLKL"
      },
      "source": [
        "## Getting Summary Statistics on Categorical Data\n",
        "\n",
        "For obvious reasons, most of the methods we've used so far only work with numerical data -- there's no way to calculate the standard deviation of a column containing string values. However, there are some things that we can discover about columns containing categorical data.\n",
        "\n",
        "In the cell below, print the unique values contained within the `review_difficulty` column."
      ]
    },
    {
      "cell_type": "code",
      "execution_count": null,
      "metadata": {
        "id": "1UK-NJAgnLKL",
        "outputId": "028b7909-8f5d-4d78-b308-3e2be223eedd"
      },
      "outputs": [
        {
          "data": {
            "text/plain": [
              "array(['Average', 'Easy', 'Challenging', 'Very Easy', nan,\n",
              "       'Very Challenging'], dtype=object)"
            ]
          },
          "execution_count": 11,
          "metadata": {},
          "output_type": "execute_result"
        }
      ],
      "source": [
        "# Print the unique values in the review_difficulty column\n",
        "df['review_difficulty'].unique()"
      ]
    },
    {
      "cell_type": "markdown",
      "metadata": {
        "id": "YO3g_jkinLKL"
      },
      "source": [
        "Now, let's get the `value_counts()` for this column, to see how common each is."
      ]
    },
    {
      "cell_type": "code",
      "execution_count": null,
      "metadata": {
        "id": "Euum_BQfnLKM",
        "outputId": "8ba8c4a6-5ead-4731-ea7e-d553017dc4ce"
      },
      "outputs": [
        {
          "name": "stdout",
          "output_type": "stream",
          "text": [
            "Easy                4236\n",
            "Average             3765\n",
            "Very Easy           1139\n",
            "Challenging         1058\n",
            "Very Challenging       8\n",
            "Name: review_difficulty, dtype: int64\n"
          ]
        },
        {
          "data": {
            "text/plain": [
              "Easy                0.415050\n",
              "Average             0.368901\n",
              "Very Easy           0.111601\n",
              "Challenging         0.103665\n",
              "Very Challenging    0.000784\n",
              "Name: review_difficulty, dtype: float64"
            ]
          },
          "execution_count": 12,
          "metadata": {},
          "output_type": "execute_result"
        }
      ],
      "source": [
        "# Get the value_counts() of the review_difficulty column\n",
        "print(df['review_difficulty'].value_counts())\n",
        "\n",
        "# Alternatively normalized value counts\n",
        "df['review_difficulty'].value_counts(normalize=True)"
      ]
    },
    {
      "cell_type": "markdown",
      "source": [
        "\n",
        "## Using `.groupby`\n",
        "\n",
        "For each review difficulty level, find how many legos you have. Then sort these based on their counts. (Hint: Please search for groupby in Pandas, `size()`, `count()`, `reset_index()`, and `sort_values()` functions)\n",
        "\n"
      ],
      "metadata": {
        "id": "8-QevBcFwDyT"
      }
    },
    {
      "cell_type": "markdown",
      "metadata": {
        "id": "v5Z7cEZwnLKM"
      },
      "source": [
        "As you can see, these provide us quick and easy ways to get information on columns containing categorical information.  \n",
        "\n",
        "\n",
        "## Using `.applymap()`\n",
        "\n",
        "When working with pandas DataFrames, we can quickly compute functions on the data contained by using the `.applymap()` method and passing in a lambda function.\n",
        "\n",
        "For instance, we can use `applymap()` to return a version of the DataFrame where every value has been converted to a string.\n",
        "\n",
        "In the cell below:\n",
        "\n",
        "* Call the DataFrame's `.applymap()` method and pass in `lambda x: str(x)`  \n",
        "* Call the new `string_df` object's `.info()` method to confirm that everything has been cast to a string"
      ]
    },
    {
      "cell_type": "code",
      "execution_count": null,
      "metadata": {
        "id": "2Y4X0F9wnLKM",
        "outputId": "c1a00eca-04c9-4cec-9ae6-3c7fa4eac8c6"
      },
      "outputs": [
        {
          "name": "stdout",
          "output_type": "stream",
          "text": [
            "<class 'pandas.core.frame.DataFrame'>\n",
            "RangeIndex: 12261 entries, 0 to 12260\n",
            "Data columns (total 14 columns):\n",
            "ages                 12261 non-null object\n",
            "list_price           12261 non-null object\n",
            "num_reviews          12261 non-null object\n",
            "piece_count          12261 non-null object\n",
            "play_star_rating     12261 non-null object\n",
            "prod_desc            12261 non-null object\n",
            "prod_id              12261 non-null object\n",
            "prod_long_desc       12261 non-null object\n",
            "review_difficulty    12261 non-null object\n",
            "set_name             12261 non-null object\n",
            "star_rating          12261 non-null object\n",
            "theme_name           12261 non-null object\n",
            "val_star_rating      12261 non-null object\n",
            "country              12261 non-null object\n",
            "dtypes: object(14)\n",
            "memory usage: 1.3+ MB\n"
          ]
        }
      ],
      "source": [
        "# Call the .applymap() method\n",
        "\n",
        "# Call the .info() method\n",
        "string_df.info()"
      ]
    },
    {
      "cell_type": "markdown",
      "metadata": {
        "id": "8n_Q1eXQnLKM"
      },
      "source": [
        "Note that everything -- even the `NaN` values, have been cast to a string in the example above.\n",
        "\n",
        "Note that for Pandas Series objects (such as a single column in a DataFrame), we can do the same thing using the `.apply()` method.  \n",
        "\n",
        "This is just one example of how we can quickly compute custom functions on our DataFrame\n",
        "\n",
        "## Summary\n",
        "\n",
        "In this lab, we learned how to:\n",
        "\n",
        "* Use the `df.describe()` and `df.info()` summary statistics methods\n",
        "* Use built-in Pandas methods for calculating summary statistics\n",
        "* Apply a function to every element in a DataFrame"
      ]
    }
  ],
  "metadata": {
    "kernelspec": {
      "display_name": "Python 3",
      "language": "python",
      "name": "python3"
    },
    "language_info": {
      "codemirror_mode": {
        "name": "ipython",
        "version": 3
      },
      "file_extension": ".py",
      "mimetype": "text/x-python",
      "name": "python",
      "nbconvert_exporter": "python",
      "pygments_lexer": "ipython3",
      "version": "3.7.3"
    },
    "colab": {
      "provenance": [],
      "include_colab_link": true
    }
  },
  "nbformat": 4,
  "nbformat_minor": 0
}