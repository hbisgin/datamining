{
  "cells": [
    {
      "cell_type": "markdown",
      "metadata": {
        "id": "view-in-github",
        "colab_type": "text"
      },
      "source": [
        "<a href=\"https://colab.research.google.com/github/hbisgin/datamining/blob/main/Pandas_In_Class_Notebook.ipynb\" target=\"_parent\"><img src=\"https://colab.research.google.com/assets/colab-badge.svg\" alt=\"Open In Colab\"/></a>"
      ]
    },
    {
      "cell_type": "markdown",
      "metadata": {
        "id": "dL8kNF33F_1n"
      },
      "source": [
        "# Data Analysis in Pandas - Introduction\n",
        "\n",
        "These Python notebooks originally exist at https://github.com/learn-co-curriculum\n",
        "\n",
        "Learn.co Curriculum\n",
        "Open Source curriculum powering the Learn.co community. http://learn.co/content-license"
      ]
    },
    {
      "cell_type": "markdown",
      "metadata": {
        "id": "JTix0dd_F_1r"
      },
      "source": [
        "## Introduction\n",
        "\n",
        "In this section, you'll be introduced to pandas, one of the most powerful and widely used libraries for data analysis in Python.\n",
        "\n",
        "## Python Libraries\n",
        "\n",
        "In some cases, such as opening a JSON file to extract a single value, base Python has all of the functionality you need. Other times when the task is more complex, writing your own code to do it can get overwhelming pretty quickly.\n",
        "\n",
        "Luckily one of the great benefits of the Python language is that it has a very active open-source community, which means tons of great libraries and frameworks we can use to do the heavy lifting. One of the main reasons that Python is such a great choice for data science is that the scientific community has written plenty of great packages for various advanced purposes. This means that when we use Python, we have access to a wealth of robust, effective tools written and maintained by an army of volunteers and professionals."
      ]
    },
    {
      "cell_type": "markdown",
      "metadata": {
        "id": "4zHIwnLwF_1s"
      },
      "source": [
        "## Pandas\n",
        "\n",
        "\n",
        "The pandas library will likely be your most-used library. It is a flexible, powerful data analysis library that is especially well-suited to handling tabular data (meaning data that is represented as rows and columns). The name is reminiscent of the term \"panel data\" as well as \"Python data analysis\"."
      ]
    },
    {
      "cell_type": "code",
      "source": [
        "from google.colab import drive\n",
        "drive.mount('/content/drive')"
      ],
      "metadata": {
        "colab": {
          "base_uri": "https://localhost:8080/"
        },
        "id": "oBt4aGRYAWro",
        "outputId": "402ee3e5-d53b-46fa-df64-4a11bc857df8"
      },
      "execution_count": null,
      "outputs": [
        {
          "output_type": "stream",
          "name": "stdout",
          "text": [
            "Mounted at /content/drive\n"
          ]
        }
      ]
    },
    {
      "cell_type": "markdown",
      "metadata": {
        "id": "wUQaJDA7F_1t"
      },
      "source": [
        "### `csv.DictReader` to Pandas\n",
        "\n",
        "The central pandas library feature we will use is the **dataframe** (also styled DataFrame). A dataframe represents tabular data with an integrated index, so data can be selected an manipulated using rows or columns. For some tasks, this means that the syntax can be significantly simpler and more efficient than the equivalent base Python syntax.\n",
        "\n",
        "Let's go over a quick comparison of using pandas vs. the built-in `csv` module.\n",
        "\n",
        "We'll use this dataset about Olympic track and field medal-winners from [kaggle](https://www.kaggle.com/jayrav13/olympic-track-field-results). The first five rows look like this:\n",
        "\n",
        "| Gender | Event      | Location | Year | Medal | Name                  | Nationality | Result   |\n",
        "| ------ | ---------- | -------- | ---- | ----- | --------------------- | ----------- | -------- |\n",
        "| M      | 10000M Men | Rio      | 2016 | G     | Mohamed FARAH         | GBR         | 25:05.17 |\n",
        "| M      | 10000M Men | Rio      | 2016 | S     | Paul Kipngetich TANUI | KEN         | 27:05.64 |\n",
        "| M      | 10000M Men | Rio      | 2016 | B     | Tamirat TOLA          | ETH         | 27:06.26 |\n",
        "| M      | 10000M Men | Beijing  | 2008 | G     | Kenenisa BEKELE       | ETH         | 27:01.17 |\n",
        "| M      | 10000M Men | Beijing  | 2008 | S     | Sileshi SIHINE        | ETH         | 27:02.77 |\n",
        "\n",
        "To open and read the first 5 lines with the `csv` module, that would look like this:"
      ]
    },
    {
      "cell_type": "code",
      "execution_count": null,
      "metadata": {
        "id": "dAGUcCdKF_1t",
        "outputId": "f2974928-3b6f-486b-b6d6-3e7cfab68151",
        "colab": {
          "base_uri": "https://localhost:8080/"
        }
      },
      "outputs": [
        {
          "output_type": "stream",
          "name": "stdout",
          "text": [
            "OrderedDict([('Gender', 'M'), ('Event', '10000M Men'), ('Location', 'Rio'), ('Year', '2016'), ('Medal', 'G'), ('Name', 'Mohamed FARAH'), ('Nationality', 'GBR'), ('Result', '25:05.17')])\n",
            "OrderedDict([('Gender', 'M'), ('Event', '10000M Men'), ('Location', 'Rio'), ('Year', '2016'), ('Medal', 'S'), ('Name', 'Paul Kipngetich TANUI'), ('Nationality', 'KEN'), ('Result', '27:05.64')])\n",
            "OrderedDict([('Gender', 'M'), ('Event', '10000M Men'), ('Location', 'Rio'), ('Year', '2016'), ('Medal', 'B'), ('Name', 'Tamirat TOLA'), ('Nationality', 'ETH'), ('Result', '27:06.26')])\n",
            "OrderedDict([('Gender', 'M'), ('Event', '10000M Men'), ('Location', 'Beijing'), ('Year', '2008'), ('Medal', 'G'), ('Name', 'Kenenisa BEKELE'), ('Nationality', 'ETH'), ('Result', '27:01.17')])\n",
            "OrderedDict([('Gender', 'M'), ('Event', '10000M Men'), ('Location', 'Beijing'), ('Year', '2008'), ('Medal', 'S'), ('Name', 'Sileshi SIHINE'), ('Nationality', 'ETH'), ('Result', '27:02.77')])\n"
          ]
        }
      ],
      "source": [
        "import csv\n",
        "\n",
        "with open(\"/content/drive/MyDrive/DATA/olympic_medals.csv\") as f:\n",
        "    reader = csv.DictReader(f)\n",
        "    olympics_data = list(reader)\n",
        "\n",
        "# Print the first 5 rows of data\n",
        "for index in range(5):\n",
        "    print(olympics_data[index])"
      ]
    },
    {
      "cell_type": "markdown",
      "metadata": {
        "id": "pQFj0B16F_1w"
      },
      "source": [
        "We have a list of dictionaries, where every dictionary has the same keys.\n",
        "\n",
        "Let's say we want to select all data for the 3rd **row** (record). That's simple enough — we can just use list indexing:"
      ]
    },
    {
      "cell_type": "code",
      "execution_count": null,
      "metadata": {
        "id": "mvQlYhO-F_1x",
        "outputId": "8129ca24-4b12-4615-8ab3-1d549797397e"
      },
      "outputs": [
        {
          "data": {
            "text/plain": [
              "{'Gender': 'M',\n",
              " 'Event': '10000M Men',\n",
              " 'Location': 'Rio',\n",
              " 'Year': '2016',\n",
              " 'Medal': 'B',\n",
              " 'Name': 'Tamirat TOLA',\n",
              " 'Nationality': 'ETH',\n",
              " 'Result': '27:06.26'}"
            ]
          },
          "execution_count": 2,
          "metadata": {},
          "output_type": "execute_result"
        }
      ],
      "source": [
        "olympics_data[2]"
      ]
    },
    {
      "cell_type": "markdown",
      "metadata": {
        "id": "aK5h_z_TF_1x"
      },
      "source": [
        "Now, what if we want to select all data for the 3rd **column** (i.e. the values associated with the `'Location'` keys)? That's not impossible, but it will require some kind of loop or list comprehension. Something like this:"
      ]
    },
    {
      "cell_type": "code",
      "execution_count": null,
      "metadata": {
        "id": "1ZjEUQBNF_1y",
        "outputId": "5d7808b6-f3e5-4113-8c5e-be459f60ce32",
        "colab": {
          "base_uri": "https://localhost:8080/"
        }
      },
      "outputs": [
        {
          "output_type": "stream",
          "name": "stdout",
          "text": [
            "['Rio', 'Rio', 'Rio', 'Beijing', 'Beijing', 'Beijing', 'Sydney', 'Sydney', 'Sydney', 'Barcelona', 'Barcelona', 'Barcelona', 'Los Angeles', 'Los Angeles', 'Los Angeles', 'Montreal', 'Montreal', 'Montreal', 'Mexico', 'Mexico', 'Mexico', 'Rome', 'Rome', 'Rome', 'Helsinki', 'Helsinki', 'Helsinki', 'Berlin', 'Berlin', 'Berlin', 'Amsterdam', 'Amsterdam', 'Amsterdam', 'Antwerp', 'Antwerp', 'Antwerp', 'London', 'London', 'London', 'Athens', 'Athens', 'Athens', 'Atlanta', 'Atlanta', 'Atlanta', 'Moscow', 'Moscow', 'Moscow', 'Munich', 'Munich', 'Munich', 'Tokyo', 'Tokyo', 'Tokyo', 'Melbourne / Stockholm', 'Melbourne / Stockholm', 'Melbourne / Stockholm', 'London', 'London', 'London', 'Los Angeles', 'Los Angeles', 'Los Angeles', 'Paris', 'Paris', 'Paris', 'Stockholm', 'Stockholm', 'Stockholm', 'Rio', 'Rio', 'Rio', 'Beijing', 'Beijing', 'Beijing', 'Sydney', 'Sydney', 'Sydney', 'Barcelona', 'Barcelona', 'Barcelona', 'Los Angeles', 'Los Angeles', 'Los Angeles', 'Montreal', 'Montreal', 'Montreal', 'Mexico', 'Mexico', 'Mexico', 'Rome', 'Rome', 'Rome', 'Helsinki', 'Helsinki', 'Helsinki', 'Berlin', 'Berlin', 'Berlin', 'Amsterdam']\n"
          ]
        }
      ],
      "source": [
        "# Cutting it off at 100 for readability\n",
        "print([row['Location'] for row in olympics_data][:100])"
      ]
    },
    {
      "cell_type": "markdown",
      "metadata": {
        "id": "VW4pl6AgF_1z"
      },
      "source": [
        "With pandas, accessing columns is just as simple as accessing rows. For example, if we convert `olympics_data` (a list of dictionaries) in a dataframe, then view the first five rows:"
      ]
    },
    {
      "cell_type": "code",
      "execution_count": null,
      "metadata": {
        "id": "fbMvTwuxF_1z",
        "outputId": "5edfd66c-7aad-4eaa-b72c-615445ea9dfe",
        "colab": {
          "base_uri": "https://localhost:8080/",
          "height": 206
        }
      },
      "outputs": [
        {
          "output_type": "execute_result",
          "data": {
            "text/html": [
              "\n",
              "  <div id=\"df-55641969-79f2-4eca-b85f-b1df7106adbc\">\n",
              "    <div class=\"colab-df-container\">\n",
              "      <div>\n",
              "<style scoped>\n",
              "    .dataframe tbody tr th:only-of-type {\n",
              "        vertical-align: middle;\n",
              "    }\n",
              "\n",
              "    .dataframe tbody tr th {\n",
              "        vertical-align: top;\n",
              "    }\n",
              "\n",
              "    .dataframe thead th {\n",
              "        text-align: right;\n",
              "    }\n",
              "</style>\n",
              "<table border=\"1\" class=\"dataframe\">\n",
              "  <thead>\n",
              "    <tr style=\"text-align: right;\">\n",
              "      <th></th>\n",
              "      <th>Gender</th>\n",
              "      <th>Event</th>\n",
              "      <th>Location</th>\n",
              "      <th>Year</th>\n",
              "      <th>Medal</th>\n",
              "      <th>Name</th>\n",
              "      <th>Nationality</th>\n",
              "      <th>Result</th>\n",
              "    </tr>\n",
              "  </thead>\n",
              "  <tbody>\n",
              "    <tr>\n",
              "      <th>0</th>\n",
              "      <td>M</td>\n",
              "      <td>10000M Men</td>\n",
              "      <td>Rio</td>\n",
              "      <td>2016</td>\n",
              "      <td>G</td>\n",
              "      <td>Mohamed FARAH</td>\n",
              "      <td>GBR</td>\n",
              "      <td>25:05.17</td>\n",
              "    </tr>\n",
              "    <tr>\n",
              "      <th>1</th>\n",
              "      <td>M</td>\n",
              "      <td>10000M Men</td>\n",
              "      <td>Rio</td>\n",
              "      <td>2016</td>\n",
              "      <td>S</td>\n",
              "      <td>Paul Kipngetich TANUI</td>\n",
              "      <td>KEN</td>\n",
              "      <td>27:05.64</td>\n",
              "    </tr>\n",
              "    <tr>\n",
              "      <th>2</th>\n",
              "      <td>M</td>\n",
              "      <td>10000M Men</td>\n",
              "      <td>Rio</td>\n",
              "      <td>2016</td>\n",
              "      <td>B</td>\n",
              "      <td>Tamirat TOLA</td>\n",
              "      <td>ETH</td>\n",
              "      <td>27:06.26</td>\n",
              "    </tr>\n",
              "    <tr>\n",
              "      <th>3</th>\n",
              "      <td>M</td>\n",
              "      <td>10000M Men</td>\n",
              "      <td>Beijing</td>\n",
              "      <td>2008</td>\n",
              "      <td>G</td>\n",
              "      <td>Kenenisa BEKELE</td>\n",
              "      <td>ETH</td>\n",
              "      <td>27:01.17</td>\n",
              "    </tr>\n",
              "    <tr>\n",
              "      <th>4</th>\n",
              "      <td>M</td>\n",
              "      <td>10000M Men</td>\n",
              "      <td>Beijing</td>\n",
              "      <td>2008</td>\n",
              "      <td>S</td>\n",
              "      <td>Sileshi SIHINE</td>\n",
              "      <td>ETH</td>\n",
              "      <td>27:02.77</td>\n",
              "    </tr>\n",
              "  </tbody>\n",
              "</table>\n",
              "</div>\n",
              "      <button class=\"colab-df-convert\" onclick=\"convertToInteractive('df-55641969-79f2-4eca-b85f-b1df7106adbc')\"\n",
              "              title=\"Convert this dataframe to an interactive table.\"\n",
              "              style=\"display:none;\">\n",
              "        \n",
              "  <svg xmlns=\"http://www.w3.org/2000/svg\" height=\"24px\"viewBox=\"0 0 24 24\"\n",
              "       width=\"24px\">\n",
              "    <path d=\"M0 0h24v24H0V0z\" fill=\"none\"/>\n",
              "    <path d=\"M18.56 5.44l.94 2.06.94-2.06 2.06-.94-2.06-.94-.94-2.06-.94 2.06-2.06.94zm-11 1L8.5 8.5l.94-2.06 2.06-.94-2.06-.94L8.5 2.5l-.94 2.06-2.06.94zm10 10l.94 2.06.94-2.06 2.06-.94-2.06-.94-.94-2.06-.94 2.06-2.06.94z\"/><path d=\"M17.41 7.96l-1.37-1.37c-.4-.4-.92-.59-1.43-.59-.52 0-1.04.2-1.43.59L10.3 9.45l-7.72 7.72c-.78.78-.78 2.05 0 2.83L4 21.41c.39.39.9.59 1.41.59.51 0 1.02-.2 1.41-.59l7.78-7.78 2.81-2.81c.8-.78.8-2.07 0-2.86zM5.41 20L4 18.59l7.72-7.72 1.47 1.35L5.41 20z\"/>\n",
              "  </svg>\n",
              "      </button>\n",
              "      \n",
              "  <style>\n",
              "    .colab-df-container {\n",
              "      display:flex;\n",
              "      flex-wrap:wrap;\n",
              "      gap: 12px;\n",
              "    }\n",
              "\n",
              "    .colab-df-convert {\n",
              "      background-color: #E8F0FE;\n",
              "      border: none;\n",
              "      border-radius: 50%;\n",
              "      cursor: pointer;\n",
              "      display: none;\n",
              "      fill: #1967D2;\n",
              "      height: 32px;\n",
              "      padding: 0 0 0 0;\n",
              "      width: 32px;\n",
              "    }\n",
              "\n",
              "    .colab-df-convert:hover {\n",
              "      background-color: #E2EBFA;\n",
              "      box-shadow: 0px 1px 2px rgba(60, 64, 67, 0.3), 0px 1px 3px 1px rgba(60, 64, 67, 0.15);\n",
              "      fill: #174EA6;\n",
              "    }\n",
              "\n",
              "    [theme=dark] .colab-df-convert {\n",
              "      background-color: #3B4455;\n",
              "      fill: #D2E3FC;\n",
              "    }\n",
              "\n",
              "    [theme=dark] .colab-df-convert:hover {\n",
              "      background-color: #434B5C;\n",
              "      box-shadow: 0px 1px 3px 1px rgba(0, 0, 0, 0.15);\n",
              "      filter: drop-shadow(0px 1px 2px rgba(0, 0, 0, 0.3));\n",
              "      fill: #FFFFFF;\n",
              "    }\n",
              "  </style>\n",
              "\n",
              "      <script>\n",
              "        const buttonEl =\n",
              "          document.querySelector('#df-55641969-79f2-4eca-b85f-b1df7106adbc button.colab-df-convert');\n",
              "        buttonEl.style.display =\n",
              "          google.colab.kernel.accessAllowed ? 'block' : 'none';\n",
              "\n",
              "        async function convertToInteractive(key) {\n",
              "          const element = document.querySelector('#df-55641969-79f2-4eca-b85f-b1df7106adbc');\n",
              "          const dataTable =\n",
              "            await google.colab.kernel.invokeFunction('convertToInteractive',\n",
              "                                                     [key], {});\n",
              "          if (!dataTable) return;\n",
              "\n",
              "          const docLinkHtml = 'Like what you see? Visit the ' +\n",
              "            '<a target=\"_blank\" href=https://colab.research.google.com/notebooks/data_table.ipynb>data table notebook</a>'\n",
              "            + ' to learn more about interactive tables.';\n",
              "          element.innerHTML = '';\n",
              "          dataTable['output_type'] = 'display_data';\n",
              "          await google.colab.output.renderOutput(dataTable, element);\n",
              "          const docLink = document.createElement('div');\n",
              "          docLink.innerHTML = docLinkHtml;\n",
              "          element.appendChild(docLink);\n",
              "        }\n",
              "      </script>\n",
              "    </div>\n",
              "  </div>\n",
              "  "
            ],
            "text/plain": [
              "  Gender       Event Location  ...                   Name Nationality    Result\n",
              "0      M  10000M Men      Rio  ...          Mohamed FARAH         GBR  25:05.17\n",
              "1      M  10000M Men      Rio  ...  Paul Kipngetich TANUI         KEN  27:05.64\n",
              "2      M  10000M Men      Rio  ...           Tamirat TOLA         ETH  27:06.26\n",
              "3      M  10000M Men  Beijing  ...        Kenenisa BEKELE         ETH  27:01.17\n",
              "4      M  10000M Men  Beijing  ...         Sileshi SIHINE         ETH  27:02.77\n",
              "\n",
              "[5 rows x 8 columns]"
            ]
          },
          "metadata": {},
          "execution_count": 5
        }
      ],
      "source": [
        "import pandas as pd\n",
        "\n",
        "df = pd.DataFrame(olympics_data)\n",
        "df.head()"
      ]
    },
    {
      "cell_type": "markdown",
      "metadata": {
        "id": "uORtTNKWF_10"
      },
      "source": [
        "We just imported the pandas library as `pd`, the standard alias, then used the `DataFrame` constructor to make a dataframe out of our existing list of dictionaries.\n",
        "\n",
        "Now we can extract all of the information from the 3rd column with a simpler syntax:"
      ]
    },
    {
      "cell_type": "code",
      "execution_count": null,
      "metadata": {
        "id": "kgVObh-RF_10",
        "outputId": "6c75e017-22eb-408a-9f48-d98812bcb303",
        "colab": {
          "base_uri": "https://localhost:8080/"
        }
      },
      "outputs": [
        {
          "output_type": "execute_result",
          "data": {
            "text/plain": [
              "pandas.core.series.Series"
            ]
          },
          "metadata": {},
          "execution_count": 8
        }
      ],
      "source": [
        "type(df['Location'])"
      ]
    },
    {
      "cell_type": "markdown",
      "metadata": {
        "id": "Ln_FinvHF_10"
      },
      "source": [
        "But it's also very easy to extract information by row, just like it was with the list of dictionaries:"
      ]
    },
    {
      "cell_type": "code",
      "execution_count": null,
      "metadata": {
        "id": "g5Ji3f2eF_10",
        "outputId": "16bae015-3395-49b5-8b86-c00f31fd94d5"
      },
      "outputs": [
        {
          "data": {
            "text/plain": [
              "Gender                    M\n",
              "Event            10000M Men\n",
              "Location                Rio\n",
              "Year                   2016\n",
              "Medal                     B\n",
              "Name           Tamirat TOLA\n",
              "Nationality             ETH\n",
              "Result             27:06.26\n",
              "Name: 2, dtype: object"
            ]
          },
          "execution_count": 6,
          "metadata": {},
          "output_type": "execute_result"
        }
      ],
      "source": [
        "df.iloc[2]"
      ]
    },
    {
      "cell_type": "markdown",
      "metadata": {
        "id": "H5r5DOBrF_11"
      },
      "source": [
        "We can also skip the `csv` module and `olympics_data` variable altogether, and just read the data from the CSV file directly. All you need to do is specify the file path:"
      ]
    },
    {
      "cell_type": "code",
      "execution_count": null,
      "metadata": {
        "id": "HFewugv4F_11"
      },
      "outputs": [],
      "source": [
        "df = pd.read_csv(\"/content/drive/MyDrive/DATA/olympic_medals.csv\")\n",
        "df"
      ]
    },
    {
      "cell_type": "markdown",
      "metadata": {
        "id": "EelRLskEF_11"
      },
      "source": [
        "### Features of Pandas\n",
        "\n",
        "The code snippets above demonstrate two of the library highlights from the pandas [about page](https://pandas.pydata.org/about/):\n",
        "\n",
        "* A fast and efficient **DataFrame** object for data manipulation with integrated indexing;\n",
        "* Tools for **reading and writing data between in-memory data structures and different formats**: CSV and text files, Microsoft Excel, SQL databases, and the fast HDF5 format;\n",
        "\n",
        "Other highlights include:\n",
        "\n",
        "* Intelligent data alignment and integrated **handling of missing data**: gain automatic label-based alignment in computations and easily manipulate messy data into an orderly form;\n",
        "* Flexible **reshaping and pivoting** of data sets;\n",
        "* Intelligent label-based **slicing**, fancy indexing, and **subsetting** of large data sets;\n",
        "* Aggregating or transforming data with a powerful **group by** engine allowing split-apply-combine operations on data sets;\n",
        "* High performance **merging and joining** of data sets;\n",
        "* **Time series**-functionality: date range generation and frequency conversion, moving window statistics, date shifting and lagging. Even create domain-specific time offsets and join time series without losing data;\n",
        "* Highly **optimized for performance**, with critical code paths written in Cython or C.\n",
        "\n",
        "We will begin to dive into these features in this section!"
      ]
    },
    {
      "cell_type": "markdown",
      "metadata": {
        "id": "6AobW3yHCYVZ"
      },
      "source": [
        "# Accessing Data within Pandas\n",
        "\n",
        "## Introduction\n",
        "In this lesson, we're going to dig into various methods for accessing data from our Pandas Series and DataFrames.\n",
        "\n",
        "## Objectives\n",
        "\n",
        "You will be able to:\n",
        "\n",
        "- Use pandas methods and attributes to access information about a dataset   \n",
        "- Index pandas dataframes with .loc, .iloc, and column names   \n",
        "- Use a boolean mask to index pandas series and dataframes\n",
        "\n",
        "\n",
        "\n",
        "\n",
        "## Importing pandas and the data\n",
        "\n",
        "First, let's make sure we import `pandas` as `pd`."
      ]
    },
    {
      "cell_type": "code",
      "execution_count": null,
      "metadata": {
        "id": "1KKnrZ1zCYVd"
      },
      "outputs": [],
      "source": [
        "import pandas as pd"
      ]
    },
    {
      "cell_type": "markdown",
      "metadata": {
        "id": "QiRYuSlzCYVf"
      },
      "source": [
        "To show how to access data with Pandas, let's use the `wine` dataset in the scikit-learn library. Don't worry about the code below. We're essentially just making sure you have access to the `wine` dataset.\n",
        "\n",
        "The data contained in the wine dataset are the results of a chemical analysis of wines grown in Italy. It contains the quantities of 13 wine constituents."
      ]
    },
    {
      "cell_type": "code",
      "execution_count": null,
      "metadata": {
        "id": "OGOKY4cKCYVf"
      },
      "outputs": [],
      "source": [
        "from sklearn.datasets import load_wine\n",
        "\n",
        "data = load_wine()\n",
        "df = pd.DataFrame(data.data, columns=data.feature_names)"
      ]
    },
    {
      "cell_type": "markdown",
      "metadata": {
        "id": "XdMpIoo2CYVg"
      },
      "source": [
        "Great! Our data set is now stored in the variable `df`. As you know, you can look at its elements by using `df` or `print(df)`."
      ]
    },
    {
      "cell_type": "code",
      "execution_count": null,
      "metadata": {
        "id": "zZI_-NK5CYVg"
      },
      "outputs": [],
      "source": [
        "print(df)"
      ]
    },
    {
      "cell_type": "markdown",
      "metadata": {
        "id": "ecG_SPTSCYVh"
      },
      "source": [
        "Now, what if you want to see only a few lines of the data, based on certain constraints? You'll learn how to access data in this lesson!"
      ]
    },
    {
      "cell_type": "markdown",
      "metadata": {
        "id": "fJy2jn2UCYVi"
      },
      "source": [
        "## Methods and attributes to access data information"
      ]
    },
    {
      "cell_type": "markdown",
      "metadata": {
        "id": "CcjOpJsMCYVi"
      },
      "source": [
        "It won't be a surprise that our `df` object is a Pandas DataFrame object. Let's verify this using the `type()` function:"
      ]
    },
    {
      "cell_type": "code",
      "execution_count": null,
      "metadata": {
        "id": "nuB7QcQACYVj",
        "outputId": "fa4e98e8-218e-4462-84e0-c675c7f143ef"
      },
      "outputs": [
        {
          "data": {
            "text/plain": [
              "pandas.core.frame.DataFrame"
            ]
          },
          "execution_count": 4,
          "metadata": {},
          "output_type": "execute_result"
        }
      ],
      "source": [
        "type(df)"
      ]
    },
    {
      "cell_type": "markdown",
      "metadata": {
        "id": "mv8YErbVCYVj"
      },
      "source": [
        "There are some methods and attributes associated with Pandas objects (both DataFrames *and* series!) which make retrieving information from the data particularly easy. Some commonly used methods:\n",
        "- `.head()`\n",
        "- `.tail()`\n",
        "\n",
        "And attributes:\n",
        "- `.index`\n",
        "- `.columns`\n",
        "- `.dtypes`\n",
        "- `.shape`"
      ]
    },
    {
      "cell_type": "markdown",
      "metadata": {
        "id": "j4vcPA-vCYVk"
      },
      "source": [
        "### Some methods: `.head()`, `.tail()`, and `.info()`"
      ]
    },
    {
      "cell_type": "markdown",
      "metadata": {
        "id": "Dn7Ah_BnCYVk"
      },
      "source": [
        "By using `.head()` and `.tail()`, you can select the first $n$ rows from your dataframe. The default $n$ is 5, but you can change this value inside the parentheses. For example:"
      ]
    },
    {
      "cell_type": "code",
      "execution_count": null,
      "metadata": {
        "id": "0Mu9UUdYCYVl"
      },
      "outputs": [],
      "source": [
        "# First 5 rows of df\n",
        "df.head()"
      ]
    },
    {
      "cell_type": "code",
      "execution_count": null,
      "metadata": {
        "id": "t0Ii3SpZCYVl"
      },
      "outputs": [],
      "source": [
        "# last 3 rows of df\n",
        "df.tail(3)"
      ]
    },
    {
      "cell_type": "markdown",
      "metadata": {
        "id": "Mr0eWJzqCYVl"
      },
      "source": [
        "To get a concise summary of the dataframe, you can use `.info()`:"
      ]
    },
    {
      "cell_type": "code",
      "execution_count": null,
      "metadata": {
        "id": "CCVhOMYCCYVm"
      },
      "outputs": [],
      "source": [
        "df.info()"
      ]
    },
    {
      "cell_type": "markdown",
      "metadata": {
        "id": "RXvopEUDCYVm"
      },
      "source": [
        "### Some attributes"
      ]
    },
    {
      "cell_type": "markdown",
      "metadata": {
        "id": "0ngH_zIXCYVm"
      },
      "source": [
        "Using `.index`, you can access the index or row labels of the DataFrame."
      ]
    },
    {
      "cell_type": "code",
      "execution_count": null,
      "metadata": {
        "id": "UR3ZlJwUCYVm",
        "outputId": "8288d1f9-aff7-41b5-cebd-bee05cdbeeca"
      },
      "outputs": [
        {
          "data": {
            "text/plain": [
              "RangeIndex(start=0, stop=178, step=1)"
            ]
          },
          "execution_count": 8,
          "metadata": {},
          "output_type": "execute_result"
        }
      ],
      "source": [
        "df.index"
      ]
    },
    {
      "cell_type": "markdown",
      "metadata": {
        "id": "pgE4RCV3CYVn"
      },
      "source": [
        "Using `.columns`, you can access the column labels of the DataFrame."
      ]
    },
    {
      "cell_type": "code",
      "execution_count": null,
      "metadata": {
        "id": "JTgUMS4xCYVn",
        "outputId": "66c0e512-53ba-401f-94ea-d156b294410b"
      },
      "outputs": [
        {
          "data": {
            "text/plain": [
              "Index(['alcohol', 'malic_acid', 'ash', 'alcalinity_of_ash', 'magnesium',\n",
              "       'total_phenols', 'flavanoids', 'nonflavanoid_phenols',\n",
              "       'proanthocyanins', 'color_intensity', 'hue',\n",
              "       'od280/od315_of_diluted_wines', 'proline'],\n",
              "      dtype='object')"
            ]
          },
          "execution_count": 9,
          "metadata": {},
          "output_type": "execute_result"
        }
      ],
      "source": [
        "df.columns"
      ]
    },
    {
      "cell_type": "markdown",
      "metadata": {
        "id": "bQB5wzG2CYVn"
      },
      "source": [
        "Using `.dtypes` returns the data types of all columns in the DataFrame (compare with `.info()`!)"
      ]
    },
    {
      "cell_type": "code",
      "execution_count": null,
      "metadata": {
        "scrolled": true,
        "id": "Nz7h3iIcCYVn"
      },
      "outputs": [],
      "source": [
        "df.dtypes"
      ]
    },
    {
      "cell_type": "markdown",
      "metadata": {
        "id": "XnGWYKYFCYVo"
      },
      "source": [
        "`.shape` returns a tuple representing the dimensionality  (in `(rows, columns)` ) of the DataFrame."
      ]
    },
    {
      "cell_type": "code",
      "execution_count": null,
      "metadata": {
        "id": "C2rXArAmCYVo",
        "outputId": "9281773f-da54-44a5-b1f8-2f71e370f3a0"
      },
      "outputs": [
        {
          "data": {
            "text/plain": [
              "(178, 13)"
            ]
          },
          "execution_count": 11,
          "metadata": {},
          "output_type": "execute_result"
        }
      ],
      "source": [
        "df.shape"
      ]
    },
    {
      "cell_type": "markdown",
      "metadata": {
        "id": "pjkTYJQCCYVo"
      },
      "source": [
        "## Selecting DataFrame information"
      ]
    },
    {
      "cell_type": "markdown",
      "metadata": {
        "id": "sm3iKmqACYVo"
      },
      "source": [
        "In the previous section, we deliberately omitted 2 very important attributes:\n",
        "- `.iloc`, which is a Pandas DataFrame indexer used for integer-location based indexing / selection by position\n",
        "- `.loc`, which has two use cases:\n",
        "       - Selecting by label / index\n",
        "       - Selecting with a boolean / conditional lookup\n"
      ]
    },
    {
      "cell_type": "markdown",
      "metadata": {
        "id": "_RIrWXvxCYVp"
      },
      "source": [
        "### `.iloc`"
      ]
    },
    {
      "cell_type": "markdown",
      "metadata": {
        "id": "IcUFS-z_CYVp"
      },
      "source": [
        "You can use `.iloc` to select single rows. To select the 4th row, you can use `.iloc[3]` like:"
      ]
    },
    {
      "cell_type": "code",
      "execution_count": null,
      "metadata": {
        "id": "mgGhyKkJCYVp"
      },
      "outputs": [],
      "source": [
        "df.iloc[3]"
      ]
    },
    {
      "cell_type": "markdown",
      "metadata": {
        "id": "C-qJMUl8CYVp"
      },
      "source": [
        "You can use a colon to select several rows. Note that you'll use a structure `.iloc[a:b]` where the row with index `a` will be included in the selection and the row with index `b` is excluded."
      ]
    },
    {
      "cell_type": "code",
      "execution_count": null,
      "metadata": {
        "id": "XBnODc2QCYVq"
      },
      "outputs": [],
      "source": [
        "df.iloc[5:8]"
      ]
    },
    {
      "cell_type": "markdown",
      "metadata": {
        "id": "vUdTsG_PCYVq"
      },
      "source": [
        "Next, you can use `,` to perform *column* selections based on their index as well. The command below selects full columns 3-6:"
      ]
    },
    {
      "cell_type": "code",
      "execution_count": null,
      "metadata": {
        "id": "f4ENpUPXCYVq"
      },
      "outputs": [],
      "source": [
        "df.iloc[:, 3:7]"
      ]
    },
    {
      "cell_type": "markdown",
      "metadata": {
        "id": "67tyKF3YCYVq"
      },
      "source": [
        "Last but not least, you can perform column and row selections at once:"
      ]
    },
    {
      "cell_type": "code",
      "execution_count": null,
      "metadata": {
        "id": "RvlfPXPQCYVr"
      },
      "outputs": [],
      "source": [
        "df.iloc[5:10, 3:9]"
      ]
    },
    {
      "cell_type": "markdown",
      "metadata": {
        "id": "oLzJbXerCYVr"
      },
      "source": [
        "### `.loc`"
      ]
    },
    {
      "cell_type": "markdown",
      "metadata": {
        "id": "SGY1v8kFCYVr"
      },
      "source": [
        " #### a) `.loc` label-based indexing"
      ]
    },
    {
      "cell_type": "markdown",
      "metadata": {
        "id": "Pp8i9s6FCYVr"
      },
      "source": [
        "You can `.loc` to select columns based on their (row index and) column name. Examples:"
      ]
    },
    {
      "cell_type": "code",
      "execution_count": null,
      "metadata": {
        "id": "llC9etuhCYVr"
      },
      "outputs": [],
      "source": [
        "df.loc[:, 'magnesium']"
      ]
    },
    {
      "cell_type": "markdown",
      "metadata": {
        "id": "3ZiFDw0qCYVs"
      },
      "source": [
        "An alternative method here is simply calling `df['magnesium']`!"
      ]
    },
    {
      "cell_type": "code",
      "execution_count": null,
      "metadata": {
        "id": "W1HjsXunCYVs"
      },
      "outputs": [],
      "source": [
        "df.loc[7:16, 'magnesium']"
      ]
    },
    {
      "cell_type": "markdown",
      "metadata": {
        "id": "NJfh6m-_CYVs"
      },
      "source": [
        "#### b) boolean indexing using `.loc`"
      ]
    },
    {
      "cell_type": "markdown",
      "metadata": {
        "id": "z4_YII4aCYVs"
      },
      "source": [
        "Sometimes you'd like to select certain rows in your dataset based on the value for a certain variable. Imagine you'd like to create a new DataFrame that only contains the wines with an alcohol percentage below 12. This can be done as follows:"
      ]
    },
    {
      "cell_type": "code",
      "execution_count": null,
      "metadata": {
        "id": "oMmHc3-FCYVs"
      },
      "outputs": [],
      "source": [
        "df.loc[df['alcohol'] < 12]"
      ]
    },
    {
      "cell_type": "markdown",
      "metadata": {
        "id": "3VufNgtSCYVs"
      },
      "source": [
        "You can verify that simply using `df[df['alcohol'] < 12]`, you can obtain the same result!"
      ]
    },
    {
      "cell_type": "markdown",
      "metadata": {
        "id": "ka5RvFeLCYVs"
      },
      "source": [
        "However, the .`loc` attribute is useful if you'd only want the color intensity for the wines with an alcohol percentage below 12. You can obtain the result as follows:"
      ]
    },
    {
      "cell_type": "code",
      "execution_count": null,
      "metadata": {
        "id": "e5nrcTTOCYVt"
      },
      "outputs": [],
      "source": [
        "df.loc[df['alcohol'] < 12, ['color_intensity']]"
      ]
    },
    {
      "cell_type": "markdown",
      "metadata": {
        "id": "7WnlJVwLCYVt"
      },
      "source": [
        "## Selectors for series"
      ]
    },
    {
      "cell_type": "markdown",
      "metadata": {
        "id": "kWUz6qHfCYVt"
      },
      "source": [
        "Until now we've only really discussed Pandas DataFrames. Most of these methods and selectors are also applicable to Pandas Series. See how you can convert a one-column DataFrame into a Pandas Series:"
      ]
    },
    {
      "cell_type": "code",
      "execution_count": null,
      "metadata": {
        "id": "kK8zeN2FCYVt"
      },
      "outputs": [],
      "source": [
        "# Let's save our color intensity dataframe into an object col_intensity\n",
        "col_intensity = df['color_intensity']"
      ]
    },
    {
      "cell_type": "code",
      "execution_count": null,
      "metadata": {
        "id": "yw88f6XjCYVt",
        "outputId": "c02b8b98-46d7-42f1-ae7b-c6d784081b46"
      },
      "outputs": [
        {
          "data": {
            "text/plain": [
              "pandas.core.series.Series"
            ]
          },
          "execution_count": 21,
          "metadata": {},
          "output_type": "execute_result"
        }
      ],
      "source": [
        "type(col_intensity)"
      ]
    },
    {
      "cell_type": "markdown",
      "metadata": {
        "id": "2dLhvCZmCYVu"
      },
      "source": [
        "Note how `col_intensity` is now a Pandas *Series*."
      ]
    },
    {
      "cell_type": "markdown",
      "metadata": {
        "id": "sk3YlpKHCYVu"
      },
      "source": [
        "Many of the commands discussed before are readily applicable to series:"
      ]
    },
    {
      "cell_type": "code",
      "execution_count": null,
      "metadata": {
        "id": "CewoXunbCYVu"
      },
      "outputs": [],
      "source": [
        "col_intensity[0:3]"
      ]
    },
    {
      "cell_type": "code",
      "execution_count": null,
      "metadata": {
        "id": "KFokPpBrCYVu"
      },
      "outputs": [],
      "source": [
        "# Or col_intensity.loc[col_intensity > 8]\n",
        "col_intensity[col_intensity > 8]"
      ]
    },
    {
      "cell_type": "markdown",
      "metadata": {
        "id": "IuDDl6hCCYVu"
      },
      "source": [
        "## Changing and setting values in DataFrames and series"
      ]
    },
    {
      "cell_type": "markdown",
      "metadata": {
        "id": "-NnJwVpPCYVu"
      },
      "source": [
        "### Changing values"
      ]
    },
    {
      "cell_type": "markdown",
      "metadata": {
        "id": "IJ6ceTAxCYVv"
      },
      "source": [
        "Imagine that for some reason, you're not interested in the color intensity values for color intensities above 10, and simply want to set all color intensities to 10 when they are bigger than 10. You can use a selector method and then assign it a new value, just like this:"
      ]
    },
    {
      "cell_type": "code",
      "execution_count": null,
      "metadata": {
        "id": "5cLGAABjCYVv"
      },
      "outputs": [],
      "source": [
        "df.loc[df['color_intensity'] > 10, 'color_intensity'] = 10"
      ]
    },
    {
      "cell_type": "markdown",
      "metadata": {
        "id": "T3OTK9rCCYVv"
      },
      "source": [
        "### Creating new columns"
      ]
    },
    {
      "cell_type": "markdown",
      "metadata": {
        "id": "zJlcxEiACYVv"
      },
      "source": [
        "Now imagine that we want to create a new column named, \"shade\" which has a value, \"light\" when the `color_intensity` is below 7, and, \"dark\" when the intensity is > 7. This can be done as follows:"
      ]
    },
    {
      "cell_type": "code",
      "execution_count": null,
      "metadata": {
        "id": "tpvo0MmdCYVv"
      },
      "outputs": [],
      "source": [
        "df.loc[df['color_intensity'] > 7, 'shade'] = 'dark'\n",
        "df.loc[df['color_intensity'] <= 7, 'shade'] = 'light'"
      ]
    },
    {
      "cell_type": "markdown",
      "metadata": {
        "id": "6VdRXVmhCYVv"
      },
      "source": [
        "If you now look at the output of `df.shape`, you will notice that `df` now has 14 columns."
      ]
    },
    {
      "cell_type": "code",
      "execution_count": null,
      "metadata": {
        "id": "C4rNGU_SCYVv",
        "outputId": "3244c90f-d6dc-48bf-8501-bfe564e9aa6f"
      },
      "outputs": [
        {
          "data": {
            "text/plain": [
              "(178, 14)"
            ]
          },
          "execution_count": 26,
          "metadata": {},
          "output_type": "execute_result"
        }
      ],
      "source": [
        "df.shape"
      ]
    },
    {
      "cell_type": "code",
      "source": [
        "df[['color_intensity', 'magnesium']]"
      ],
      "metadata": {
        "id": "y-IYm1oGFY4I"
      },
      "execution_count": null,
      "outputs": []
    },
    {
      "cell_type": "markdown",
      "metadata": {
        "id": "MY9NbwjkCYVw"
      },
      "source": [
        "## Summary\n",
        "\n",
        "We've introduced a range of techniques for accessing information in Pandas Series and DataFrames, selecting rows and columns, changing values, and creating new columns! Now, it's time for some practice! Let's start working on a lab where you will get a chance to practice some of these methods!"
      ]
    },
    {
      "cell_type": "markdown",
      "metadata": {
        "id": "oj6mvEVWL-DW"
      },
      "source": [
        "# Accessing Data within Pandas - Lab"
      ]
    },
    {
      "cell_type": "markdown",
      "metadata": {
        "id": "KII8U7nBL-Db"
      },
      "source": [
        "## Introduction\n",
        "\n",
        "In this lab, we'll look at a dataset which contains information on World Cup matches. Let's use the pandas commands learned in the previous lesson to learn more about our data!"
      ]
    },
    {
      "cell_type": "markdown",
      "metadata": {
        "id": "k_XrCx8uL-Dc"
      },
      "source": [
        "## Objectives\n",
        "You will be able to:\n",
        "- Use pandas methods and attributes to access information about a dataset\n",
        "- Index pandas dataframes with .loc, .iloc, and column names\n",
        "- Use a boolean mask to index pandas series and dataframes"
      ]
    },
    {
      "cell_type": "markdown",
      "metadata": {
        "id": "et8emJogL-Dc"
      },
      "source": [
        "## Load the Data"
      ]
    },
    {
      "cell_type": "markdown",
      "metadata": {
        "id": "Fwt3p7F1L-Dc"
      },
      "source": [
        "Load the file `'WorldCupMatches.csv'` as a DataFrame in pandas."
      ]
    },
    {
      "cell_type": "code",
      "execution_count": null,
      "metadata": {
        "id": "AHPetZAHL-Dd"
      },
      "outputs": [],
      "source": [
        "# Import pandas using the standard alias\n",
        "import pandas as pd\n",
        "\n",
        "# Load 'WorldCupMatches.csv' as a DataFrame\n",
        "df = pd.read_csv('WorldCupMatches.csv')"
      ]
    },
    {
      "cell_type": "markdown",
      "metadata": {
        "id": "fmHuZ-lzL-De"
      },
      "source": [
        "## Common Methods and Attributes"
      ]
    },
    {
      "cell_type": "markdown",
      "metadata": {
        "id": "keYmX3efL-Df"
      },
      "source": [
        "Use the correct method to display the **first 7 rows** of the dataset."
      ]
    },
    {
      "cell_type": "code",
      "execution_count": null,
      "metadata": {
        "id": "GxvBz0HsL-Dg",
        "outputId": "f1dd6f47-d613-4bd9-ada9-d7f6be12d5a3"
      },
      "outputs": [
        {
          "data": {
            "text/html": [
              "<div>\n",
              "<style scoped>\n",
              "    .dataframe tbody tr th:only-of-type {\n",
              "        vertical-align: middle;\n",
              "    }\n",
              "\n",
              "    .dataframe tbody tr th {\n",
              "        vertical-align: top;\n",
              "    }\n",
              "\n",
              "    .dataframe thead th {\n",
              "        text-align: right;\n",
              "    }\n",
              "</style>\n",
              "<table border=\"1\" class=\"dataframe\">\n",
              "  <thead>\n",
              "    <tr style=\"text-align: right;\">\n",
              "      <th></th>\n",
              "      <th>Year</th>\n",
              "      <th>Datetime</th>\n",
              "      <th>Stage</th>\n",
              "      <th>Stadium</th>\n",
              "      <th>City</th>\n",
              "      <th>Home Team Name</th>\n",
              "      <th>Home Team Goals</th>\n",
              "      <th>Away Team Goals</th>\n",
              "      <th>Away Team Name</th>\n",
              "      <th>Win conditions</th>\n",
              "      <th>Attendance</th>\n",
              "      <th>Half-time Home Goals</th>\n",
              "      <th>Half-time Away Goals</th>\n",
              "      <th>Referee</th>\n",
              "      <th>Assistant 1</th>\n",
              "      <th>Assistant 2</th>\n",
              "      <th>RoundID</th>\n",
              "      <th>MatchID</th>\n",
              "      <th>Home Team Initials</th>\n",
              "      <th>Away Team Initials</th>\n",
              "    </tr>\n",
              "  </thead>\n",
              "  <tbody>\n",
              "    <tr>\n",
              "      <th>0</th>\n",
              "      <td>1930</td>\n",
              "      <td>13 Jul 1930 - 15:00</td>\n",
              "      <td>Group 1</td>\n",
              "      <td>Pocitos</td>\n",
              "      <td>Montevideo</td>\n",
              "      <td>France</td>\n",
              "      <td>4</td>\n",
              "      <td>1</td>\n",
              "      <td>Mexico</td>\n",
              "      <td></td>\n",
              "      <td>4444.0</td>\n",
              "      <td>3</td>\n",
              "      <td>0</td>\n",
              "      <td>LOMBARDI Domingo (URU)</td>\n",
              "      <td>CRISTOPHE Henry (BEL)</td>\n",
              "      <td>REGO Gilberto (BRA)</td>\n",
              "      <td>201</td>\n",
              "      <td>1096</td>\n",
              "      <td>FRA</td>\n",
              "      <td>MEX</td>\n",
              "    </tr>\n",
              "    <tr>\n",
              "      <th>1</th>\n",
              "      <td>1930</td>\n",
              "      <td>13 Jul 1930 - 15:00</td>\n",
              "      <td>Group 4</td>\n",
              "      <td>Parque Central</td>\n",
              "      <td>Montevideo</td>\n",
              "      <td>USA</td>\n",
              "      <td>3</td>\n",
              "      <td>0</td>\n",
              "      <td>Belgium</td>\n",
              "      <td></td>\n",
              "      <td>18346.0</td>\n",
              "      <td>2</td>\n",
              "      <td>0</td>\n",
              "      <td>MACIAS Jose (ARG)</td>\n",
              "      <td>MATEUCCI Francisco (URU)</td>\n",
              "      <td>WARNKEN Alberto (CHI)</td>\n",
              "      <td>201</td>\n",
              "      <td>1090</td>\n",
              "      <td>USA</td>\n",
              "      <td>BEL</td>\n",
              "    </tr>\n",
              "    <tr>\n",
              "      <th>2</th>\n",
              "      <td>1930</td>\n",
              "      <td>14 Jul 1930 - 12:45</td>\n",
              "      <td>Group 2</td>\n",
              "      <td>Parque Central</td>\n",
              "      <td>Montevideo</td>\n",
              "      <td>Yugoslavia</td>\n",
              "      <td>2</td>\n",
              "      <td>1</td>\n",
              "      <td>Brazil</td>\n",
              "      <td></td>\n",
              "      <td>24059.0</td>\n",
              "      <td>2</td>\n",
              "      <td>0</td>\n",
              "      <td>TEJADA Anibal (URU)</td>\n",
              "      <td>VALLARINO Ricardo (URU)</td>\n",
              "      <td>BALWAY Thomas (FRA)</td>\n",
              "      <td>201</td>\n",
              "      <td>1093</td>\n",
              "      <td>YUG</td>\n",
              "      <td>BRA</td>\n",
              "    </tr>\n",
              "    <tr>\n",
              "      <th>3</th>\n",
              "      <td>1930</td>\n",
              "      <td>14 Jul 1930 - 14:50</td>\n",
              "      <td>Group 3</td>\n",
              "      <td>Pocitos</td>\n",
              "      <td>Montevideo</td>\n",
              "      <td>Romania</td>\n",
              "      <td>3</td>\n",
              "      <td>1</td>\n",
              "      <td>Peru</td>\n",
              "      <td></td>\n",
              "      <td>2549.0</td>\n",
              "      <td>1</td>\n",
              "      <td>0</td>\n",
              "      <td>WARNKEN Alberto (CHI)</td>\n",
              "      <td>LANGENUS Jean (BEL)</td>\n",
              "      <td>MATEUCCI Francisco (URU)</td>\n",
              "      <td>201</td>\n",
              "      <td>1098</td>\n",
              "      <td>ROU</td>\n",
              "      <td>PER</td>\n",
              "    </tr>\n",
              "    <tr>\n",
              "      <th>4</th>\n",
              "      <td>1930</td>\n",
              "      <td>15 Jul 1930 - 16:00</td>\n",
              "      <td>Group 1</td>\n",
              "      <td>Parque Central</td>\n",
              "      <td>Montevideo</td>\n",
              "      <td>Argentina</td>\n",
              "      <td>1</td>\n",
              "      <td>0</td>\n",
              "      <td>France</td>\n",
              "      <td></td>\n",
              "      <td>23409.0</td>\n",
              "      <td>0</td>\n",
              "      <td>0</td>\n",
              "      <td>REGO Gilberto (BRA)</td>\n",
              "      <td>SAUCEDO Ulises (BOL)</td>\n",
              "      <td>RADULESCU Constantin (ROU)</td>\n",
              "      <td>201</td>\n",
              "      <td>1085</td>\n",
              "      <td>ARG</td>\n",
              "      <td>FRA</td>\n",
              "    </tr>\n",
              "    <tr>\n",
              "      <th>5</th>\n",
              "      <td>1930</td>\n",
              "      <td>16 Jul 1930 - 14:45</td>\n",
              "      <td>Group 1</td>\n",
              "      <td>Parque Central</td>\n",
              "      <td>Montevideo</td>\n",
              "      <td>Chile</td>\n",
              "      <td>3</td>\n",
              "      <td>0</td>\n",
              "      <td>Mexico</td>\n",
              "      <td></td>\n",
              "      <td>9249.0</td>\n",
              "      <td>1</td>\n",
              "      <td>0</td>\n",
              "      <td>CRISTOPHE Henry (BEL)</td>\n",
              "      <td>APHESTEGUY Martin (URU)</td>\n",
              "      <td>LANGENUS Jean (BEL)</td>\n",
              "      <td>201</td>\n",
              "      <td>1095</td>\n",
              "      <td>CHI</td>\n",
              "      <td>MEX</td>\n",
              "    </tr>\n",
              "    <tr>\n",
              "      <th>6</th>\n",
              "      <td>1930</td>\n",
              "      <td>17 Jul 1930 - 12:45</td>\n",
              "      <td>Group 2</td>\n",
              "      <td>Parque Central</td>\n",
              "      <td>Montevideo</td>\n",
              "      <td>Yugoslavia</td>\n",
              "      <td>4</td>\n",
              "      <td>0</td>\n",
              "      <td>Bolivia</td>\n",
              "      <td></td>\n",
              "      <td>18306.0</td>\n",
              "      <td>0</td>\n",
              "      <td>0</td>\n",
              "      <td>MATEUCCI Francisco (URU)</td>\n",
              "      <td>LOMBARDI Domingo (URU)</td>\n",
              "      <td>WARNKEN Alberto (CHI)</td>\n",
              "      <td>201</td>\n",
              "      <td>1092</td>\n",
              "      <td>YUG</td>\n",
              "      <td>BOL</td>\n",
              "    </tr>\n",
              "  </tbody>\n",
              "</table>\n",
              "</div>"
            ],
            "text/plain": [
              "   Year              Datetime    Stage         Stadium         City  \\\n",
              "0  1930  13 Jul 1930 - 15:00   Group 1         Pocitos  Montevideo    \n",
              "1  1930  13 Jul 1930 - 15:00   Group 4  Parque Central  Montevideo    \n",
              "2  1930  14 Jul 1930 - 12:45   Group 2  Parque Central  Montevideo    \n",
              "3  1930  14 Jul 1930 - 14:50   Group 3         Pocitos  Montevideo    \n",
              "4  1930  15 Jul 1930 - 16:00   Group 1  Parque Central  Montevideo    \n",
              "5  1930  16 Jul 1930 - 14:45   Group 1  Parque Central  Montevideo    \n",
              "6  1930  17 Jul 1930 - 12:45   Group 2  Parque Central  Montevideo    \n",
              "\n",
              "  Home Team Name  Home Team Goals  Away Team Goals Away Team Name  \\\n",
              "0         France                4                1         Mexico   \n",
              "1            USA                3                0        Belgium   \n",
              "2     Yugoslavia                2                1         Brazil   \n",
              "3        Romania                3                1           Peru   \n",
              "4      Argentina                1                0         France   \n",
              "5          Chile                3                0         Mexico   \n",
              "6     Yugoslavia                4                0        Bolivia   \n",
              "\n",
              "  Win conditions  Attendance  Half-time Home Goals  Half-time Away Goals  \\\n",
              "0                     4444.0                     3                     0   \n",
              "1                    18346.0                     2                     0   \n",
              "2                    24059.0                     2                     0   \n",
              "3                     2549.0                     1                     0   \n",
              "4                    23409.0                     0                     0   \n",
              "5                     9249.0                     1                     0   \n",
              "6                    18306.0                     0                     0   \n",
              "\n",
              "                    Referee               Assistant 1  \\\n",
              "0    LOMBARDI Domingo (URU)     CRISTOPHE Henry (BEL)   \n",
              "1         MACIAS Jose (ARG)  MATEUCCI Francisco (URU)   \n",
              "2       TEJADA Anibal (URU)   VALLARINO Ricardo (URU)   \n",
              "3     WARNKEN Alberto (CHI)       LANGENUS Jean (BEL)   \n",
              "4       REGO Gilberto (BRA)      SAUCEDO Ulises (BOL)   \n",
              "5     CRISTOPHE Henry (BEL)   APHESTEGUY Martin (URU)   \n",
              "6  MATEUCCI Francisco (URU)    LOMBARDI Domingo (URU)   \n",
              "\n",
              "                  Assistant 2  RoundID  MatchID Home Team Initials  \\\n",
              "0         REGO Gilberto (BRA)      201     1096                FRA   \n",
              "1       WARNKEN Alberto (CHI)      201     1090                USA   \n",
              "2         BALWAY Thomas (FRA)      201     1093                YUG   \n",
              "3    MATEUCCI Francisco (URU)      201     1098                ROU   \n",
              "4  RADULESCU Constantin (ROU)      201     1085                ARG   \n",
              "5         LANGENUS Jean (BEL)      201     1095                CHI   \n",
              "6       WARNKEN Alberto (CHI)      201     1092                YUG   \n",
              "\n",
              "  Away Team Initials  \n",
              "0                MEX  \n",
              "1                BEL  \n",
              "2                BRA  \n",
              "3                PER  \n",
              "4                FRA  \n",
              "5                MEX  \n",
              "6                BOL  "
            ]
          },
          "execution_count": 2,
          "metadata": {},
          "output_type": "execute_result"
        }
      ],
      "source": [
        "# Display the first 7 rows of df\n",
        "df.head(7)"
      ]
    },
    {
      "cell_type": "markdown",
      "metadata": {
        "id": "h36nNDhNL-Dh"
      },
      "source": [
        "Display the **last 3 rows** of the dataset."
      ]
    },
    {
      "cell_type": "code",
      "execution_count": null,
      "metadata": {
        "id": "gyVcvTBNL-Di",
        "outputId": "ae3f843d-3d76-4cee-9b22-d54413282277"
      },
      "outputs": [
        {
          "data": {
            "text/html": [
              "<div>\n",
              "<style scoped>\n",
              "    .dataframe tbody tr th:only-of-type {\n",
              "        vertical-align: middle;\n",
              "    }\n",
              "\n",
              "    .dataframe tbody tr th {\n",
              "        vertical-align: top;\n",
              "    }\n",
              "\n",
              "    .dataframe thead th {\n",
              "        text-align: right;\n",
              "    }\n",
              "</style>\n",
              "<table border=\"1\" class=\"dataframe\">\n",
              "  <thead>\n",
              "    <tr style=\"text-align: right;\">\n",
              "      <th></th>\n",
              "      <th>Year</th>\n",
              "      <th>Datetime</th>\n",
              "      <th>Stage</th>\n",
              "      <th>Stadium</th>\n",
              "      <th>City</th>\n",
              "      <th>Home Team Name</th>\n",
              "      <th>Home Team Goals</th>\n",
              "      <th>Away Team Goals</th>\n",
              "      <th>Away Team Name</th>\n",
              "      <th>Win conditions</th>\n",
              "      <th>Attendance</th>\n",
              "      <th>Half-time Home Goals</th>\n",
              "      <th>Half-time Away Goals</th>\n",
              "      <th>Referee</th>\n",
              "      <th>Assistant 1</th>\n",
              "      <th>Assistant 2</th>\n",
              "      <th>RoundID</th>\n",
              "      <th>MatchID</th>\n",
              "      <th>Home Team Initials</th>\n",
              "      <th>Away Team Initials</th>\n",
              "    </tr>\n",
              "  </thead>\n",
              "  <tbody>\n",
              "    <tr>\n",
              "      <th>849</th>\n",
              "      <td>2014</td>\n",
              "      <td>09 Jul 2014 - 17:00</td>\n",
              "      <td>Semi-finals</td>\n",
              "      <td>Arena de Sao Paulo</td>\n",
              "      <td>Sao Paulo</td>\n",
              "      <td>Netherlands</td>\n",
              "      <td>0</td>\n",
              "      <td>0</td>\n",
              "      <td>Argentina</td>\n",
              "      <td>Argentina win on penalties (2 - 4)</td>\n",
              "      <td>63267.0</td>\n",
              "      <td>0</td>\n",
              "      <td>0</td>\n",
              "      <td>C�neyt �AKIR (TUR)</td>\n",
              "      <td>DURAN Bahattin (TUR)</td>\n",
              "      <td>ONGUN Tarik (TUR)</td>\n",
              "      <td>255955</td>\n",
              "      <td>300186490</td>\n",
              "      <td>NED</td>\n",
              "      <td>ARG</td>\n",
              "    </tr>\n",
              "    <tr>\n",
              "      <th>850</th>\n",
              "      <td>2014</td>\n",
              "      <td>12 Jul 2014 - 17:00</td>\n",
              "      <td>Play-off for third place</td>\n",
              "      <td>Estadio Nacional</td>\n",
              "      <td>Brasilia</td>\n",
              "      <td>Brazil</td>\n",
              "      <td>0</td>\n",
              "      <td>3</td>\n",
              "      <td>Netherlands</td>\n",
              "      <td></td>\n",
              "      <td>68034.0</td>\n",
              "      <td>0</td>\n",
              "      <td>2</td>\n",
              "      <td>HAIMOUDI Djamel (ALG)</td>\n",
              "      <td>ACHIK Redouane (MAR)</td>\n",
              "      <td>ETCHIALI Abdelhak (ALG)</td>\n",
              "      <td>255957</td>\n",
              "      <td>300186502</td>\n",
              "      <td>BRA</td>\n",
              "      <td>NED</td>\n",
              "    </tr>\n",
              "    <tr>\n",
              "      <th>851</th>\n",
              "      <td>2014</td>\n",
              "      <td>13 Jul 2014 - 16:00</td>\n",
              "      <td>Final</td>\n",
              "      <td>Estadio do Maracana</td>\n",
              "      <td>Rio De Janeiro</td>\n",
              "      <td>Germany</td>\n",
              "      <td>1</td>\n",
              "      <td>0</td>\n",
              "      <td>Argentina</td>\n",
              "      <td>Germany win after extra time</td>\n",
              "      <td>74738.0</td>\n",
              "      <td>0</td>\n",
              "      <td>0</td>\n",
              "      <td>Nicola RIZZOLI (ITA)</td>\n",
              "      <td>Renato FAVERANI (ITA)</td>\n",
              "      <td>Andrea STEFANI (ITA)</td>\n",
              "      <td>255959</td>\n",
              "      <td>300186501</td>\n",
              "      <td>GER</td>\n",
              "      <td>ARG</td>\n",
              "    </tr>\n",
              "  </tbody>\n",
              "</table>\n",
              "</div>"
            ],
            "text/plain": [
              "     Year              Datetime                     Stage  \\\n",
              "849  2014  09 Jul 2014 - 17:00                Semi-finals   \n",
              "850  2014  12 Jul 2014 - 17:00   Play-off for third place   \n",
              "851  2014  13 Jul 2014 - 16:00                      Final   \n",
              "\n",
              "                 Stadium             City Home Team Name  Home Team Goals  \\\n",
              "849   Arena de Sao Paulo       Sao Paulo     Netherlands                0   \n",
              "850     Estadio Nacional        Brasilia          Brazil                0   \n",
              "851  Estadio do Maracana  Rio De Janeiro         Germany                1   \n",
              "\n",
              "     Away Team Goals Away Team Name                       Win conditions  \\\n",
              "849                0      Argentina  Argentina win on penalties (2 - 4)    \n",
              "850                3    Netherlands                                        \n",
              "851                0      Argentina        Germany win after extra time    \n",
              "\n",
              "     Attendance  Half-time Home Goals  Half-time Away Goals  \\\n",
              "849     63267.0                     0                     0   \n",
              "850     68034.0                     0                     2   \n",
              "851     74738.0                     0                     0   \n",
              "\n",
              "                   Referee            Assistant 1              Assistant 2  \\\n",
              "849     C�neyt �AKIR (TUR)   DURAN Bahattin (TUR)        ONGUN Tarik (TUR)   \n",
              "850  HAIMOUDI Djamel (ALG)   ACHIK Redouane (MAR)  ETCHIALI Abdelhak (ALG)   \n",
              "851   Nicola RIZZOLI (ITA)  Renato FAVERANI (ITA)     Andrea STEFANI (ITA)   \n",
              "\n",
              "     RoundID    MatchID Home Team Initials Away Team Initials  \n",
              "849   255955  300186490                NED                ARG  \n",
              "850   255957  300186502                BRA                NED  \n",
              "851   255959  300186501                GER                ARG  "
            ]
          },
          "execution_count": 3,
          "metadata": {},
          "output_type": "execute_result"
        }
      ],
      "source": [
        "# Display the last 3 rows of df\n",
        "df.tail(3)"
      ]
    },
    {
      "cell_type": "markdown",
      "metadata": {
        "id": "QN21I2E7L-Di"
      },
      "source": [
        "Get a concise summary of the data using `.info()`."
      ]
    },
    {
      "cell_type": "code",
      "execution_count": null,
      "metadata": {
        "id": "RNno_stWL-Dj",
        "outputId": "5894497e-8648-4a50-a7c6-ace94f317797"
      },
      "outputs": [
        {
          "name": "stdout",
          "output_type": "stream",
          "text": [
            "<class 'pandas.core.frame.DataFrame'>\n",
            "RangeIndex: 852 entries, 0 to 851\n",
            "Data columns (total 20 columns):\n",
            " #   Column                Non-Null Count  Dtype  \n",
            "---  ------                --------------  -----  \n",
            " 0   Year                  852 non-null    int64  \n",
            " 1   Datetime              852 non-null    object \n",
            " 2   Stage                 852 non-null    object \n",
            " 3   Stadium               852 non-null    object \n",
            " 4   City                  852 non-null    object \n",
            " 5   Home Team Name        852 non-null    object \n",
            " 6   Home Team Goals       852 non-null    int64  \n",
            " 7   Away Team Goals       852 non-null    int64  \n",
            " 8   Away Team Name        852 non-null    object \n",
            " 9   Win conditions        852 non-null    object \n",
            " 10  Attendance            850 non-null    float64\n",
            " 11  Half-time Home Goals  852 non-null    int64  \n",
            " 12  Half-time Away Goals  852 non-null    int64  \n",
            " 13  Referee               852 non-null    object \n",
            " 14  Assistant 1           852 non-null    object \n",
            " 15  Assistant 2           852 non-null    object \n",
            " 16  RoundID               852 non-null    int64  \n",
            " 17  MatchID               852 non-null    int64  \n",
            " 18  Home Team Initials    852 non-null    object \n",
            " 19  Away Team Initials    852 non-null    object \n",
            "dtypes: float64(1), int64(7), object(12)\n",
            "memory usage: 133.2+ KB\n"
          ]
        }
      ],
      "source": [
        "# Print a concise summary of df\n",
        "df.info()"
      ]
    },
    {
      "cell_type": "markdown",
      "metadata": {
        "id": "h1Ekzb_CL-Dj"
      },
      "source": [
        "Obtain a tuple representing the **number of rows and number of columns**."
      ]
    },
    {
      "cell_type": "code",
      "execution_count": null,
      "metadata": {
        "id": "wDLdpb51L-Dk",
        "outputId": "f72789c0-d574-4960-acf2-8b179048af28"
      },
      "outputs": [
        {
          "data": {
            "text/plain": [
              "(852, 20)"
            ]
          },
          "execution_count": 5,
          "metadata": {},
          "output_type": "execute_result"
        }
      ],
      "source": [
        "# Display the number of rows and columns in df\n",
        "df.shape"
      ]
    },
    {
      "cell_type": "markdown",
      "metadata": {
        "id": "yXAk0AbIL-Dk"
      },
      "source": [
        "Use the appropriate attribute to get the **column names**."
      ]
    },
    {
      "cell_type": "code",
      "execution_count": null,
      "metadata": {
        "id": "Am3ny6rKL-Dk",
        "outputId": "09f06dc4-8fe4-4566-c6fa-6d8967406050"
      },
      "outputs": [
        {
          "data": {
            "text/plain": [
              "Index(['Year', 'Datetime', 'Stage', 'Stadium', 'City', 'Home Team Name',\n",
              "       'Home Team Goals', 'Away Team Goals', 'Away Team Name',\n",
              "       'Win conditions', 'Attendance', 'Half-time Home Goals',\n",
              "       'Half-time Away Goals', 'Referee', 'Assistant 1', 'Assistant 2',\n",
              "       'RoundID', 'MatchID', 'Home Team Initials', 'Away Team Initials'],\n",
              "      dtype='object')"
            ]
          },
          "execution_count": 6,
          "metadata": {},
          "output_type": "execute_result"
        }
      ],
      "source": [
        "# Display the column names of df\n",
        "df.columns"
      ]
    },
    {
      "cell_type": "markdown",
      "metadata": {
        "id": "pD83QuBPL-Dl"
      },
      "source": [
        "## Selecting DataFrame Information"
      ]
    },
    {
      "cell_type": "markdown",
      "metadata": {
        "id": "hcsQY6FXL-Dl"
      },
      "source": [
        "When looking at the DataFrame's `.head()` and `.tail()`, you might have noticed that the games are structured chronologically in the DataFrame.\n",
        "\n",
        "Use the right selection method to display all the information from the 3rd to the 5th game (i.e. **select rows 3 through 5 inclusive**)."
      ]
    },
    {
      "cell_type": "code",
      "execution_count": null,
      "metadata": {
        "id": "LOwu-TFYL-Dl",
        "outputId": "ef42b672-1423-4780-dc88-f01f70494c27"
      },
      "outputs": [
        {
          "data": {
            "text/html": [
              "<div>\n",
              "<style scoped>\n",
              "    .dataframe tbody tr th:only-of-type {\n",
              "        vertical-align: middle;\n",
              "    }\n",
              "\n",
              "    .dataframe tbody tr th {\n",
              "        vertical-align: top;\n",
              "    }\n",
              "\n",
              "    .dataframe thead th {\n",
              "        text-align: right;\n",
              "    }\n",
              "</style>\n",
              "<table border=\"1\" class=\"dataframe\">\n",
              "  <thead>\n",
              "    <tr style=\"text-align: right;\">\n",
              "      <th></th>\n",
              "      <th>Year</th>\n",
              "      <th>Datetime</th>\n",
              "      <th>Stage</th>\n",
              "      <th>Stadium</th>\n",
              "      <th>City</th>\n",
              "      <th>Home Team Name</th>\n",
              "      <th>Home Team Goals</th>\n",
              "      <th>Away Team Goals</th>\n",
              "      <th>Away Team Name</th>\n",
              "      <th>Win conditions</th>\n",
              "      <th>Attendance</th>\n",
              "      <th>Half-time Home Goals</th>\n",
              "      <th>Half-time Away Goals</th>\n",
              "      <th>Referee</th>\n",
              "      <th>Assistant 1</th>\n",
              "      <th>Assistant 2</th>\n",
              "      <th>RoundID</th>\n",
              "      <th>MatchID</th>\n",
              "      <th>Home Team Initials</th>\n",
              "      <th>Away Team Initials</th>\n",
              "    </tr>\n",
              "  </thead>\n",
              "  <tbody>\n",
              "    <tr>\n",
              "      <th>3</th>\n",
              "      <td>1930</td>\n",
              "      <td>14 Jul 1930 - 14:50</td>\n",
              "      <td>Group 3</td>\n",
              "      <td>Pocitos</td>\n",
              "      <td>Montevideo</td>\n",
              "      <td>Romania</td>\n",
              "      <td>3</td>\n",
              "      <td>1</td>\n",
              "      <td>Peru</td>\n",
              "      <td></td>\n",
              "      <td>2549.0</td>\n",
              "      <td>1</td>\n",
              "      <td>0</td>\n",
              "      <td>WARNKEN Alberto (CHI)</td>\n",
              "      <td>LANGENUS Jean (BEL)</td>\n",
              "      <td>MATEUCCI Francisco (URU)</td>\n",
              "      <td>201</td>\n",
              "      <td>1098</td>\n",
              "      <td>ROU</td>\n",
              "      <td>PER</td>\n",
              "    </tr>\n",
              "    <tr>\n",
              "      <th>4</th>\n",
              "      <td>1930</td>\n",
              "      <td>15 Jul 1930 - 16:00</td>\n",
              "      <td>Group 1</td>\n",
              "      <td>Parque Central</td>\n",
              "      <td>Montevideo</td>\n",
              "      <td>Argentina</td>\n",
              "      <td>1</td>\n",
              "      <td>0</td>\n",
              "      <td>France</td>\n",
              "      <td></td>\n",
              "      <td>23409.0</td>\n",
              "      <td>0</td>\n",
              "      <td>0</td>\n",
              "      <td>REGO Gilberto (BRA)</td>\n",
              "      <td>SAUCEDO Ulises (BOL)</td>\n",
              "      <td>RADULESCU Constantin (ROU)</td>\n",
              "      <td>201</td>\n",
              "      <td>1085</td>\n",
              "      <td>ARG</td>\n",
              "      <td>FRA</td>\n",
              "    </tr>\n",
              "    <tr>\n",
              "      <th>5</th>\n",
              "      <td>1930</td>\n",
              "      <td>16 Jul 1930 - 14:45</td>\n",
              "      <td>Group 1</td>\n",
              "      <td>Parque Central</td>\n",
              "      <td>Montevideo</td>\n",
              "      <td>Chile</td>\n",
              "      <td>3</td>\n",
              "      <td>0</td>\n",
              "      <td>Mexico</td>\n",
              "      <td></td>\n",
              "      <td>9249.0</td>\n",
              "      <td>1</td>\n",
              "      <td>0</td>\n",
              "      <td>CRISTOPHE Henry (BEL)</td>\n",
              "      <td>APHESTEGUY Martin (URU)</td>\n",
              "      <td>LANGENUS Jean (BEL)</td>\n",
              "      <td>201</td>\n",
              "      <td>1095</td>\n",
              "      <td>CHI</td>\n",
              "      <td>MEX</td>\n",
              "    </tr>\n",
              "  </tbody>\n",
              "</table>\n",
              "</div>"
            ],
            "text/plain": [
              "   Year              Datetime    Stage         Stadium         City  \\\n",
              "3  1930  14 Jul 1930 - 14:50   Group 3         Pocitos  Montevideo    \n",
              "4  1930  15 Jul 1930 - 16:00   Group 1  Parque Central  Montevideo    \n",
              "5  1930  16 Jul 1930 - 14:45   Group 1  Parque Central  Montevideo    \n",
              "\n",
              "  Home Team Name  Home Team Goals  Away Team Goals Away Team Name  \\\n",
              "3        Romania                3                1           Peru   \n",
              "4      Argentina                1                0         France   \n",
              "5          Chile                3                0         Mexico   \n",
              "\n",
              "  Win conditions  Attendance  Half-time Home Goals  Half-time Away Goals  \\\n",
              "3                     2549.0                     1                     0   \n",
              "4                    23409.0                     0                     0   \n",
              "5                     9249.0                     1                     0   \n",
              "\n",
              "                 Referee              Assistant 1                 Assistant 2  \\\n",
              "3  WARNKEN Alberto (CHI)      LANGENUS Jean (BEL)    MATEUCCI Francisco (URU)   \n",
              "4    REGO Gilberto (BRA)     SAUCEDO Ulises (BOL)  RADULESCU Constantin (ROU)   \n",
              "5  CRISTOPHE Henry (BEL)  APHESTEGUY Martin (URU)         LANGENUS Jean (BEL)   \n",
              "\n",
              "   RoundID  MatchID Home Team Initials Away Team Initials  \n",
              "3      201     1098                ROU                PER  \n",
              "4      201     1085                ARG                FRA  \n",
              "5      201     1095                CHI                MEX  "
            ]
          },
          "execution_count": 7,
          "metadata": {},
          "output_type": "execute_result"
        }
      ],
      "source": [
        "# Display rows 3 through 5\n",
        "# .iloc interval is \"half open\", does not include 6 in the output\n",
        "df.iloc[3:6]"
      ]
    },
    {
      "cell_type": "markdown",
      "metadata": {
        "id": "pYSIuDTlL-Dm"
      },
      "source": [
        "Now, display the info from **game 5-9** (inclusive), but **only the `\"Home Team Name\"` and the `\"Away Team Name\"` columns**."
      ]
    },
    {
      "cell_type": "code",
      "execution_count": null,
      "metadata": {
        "id": "HWNqWHj_L-Dm",
        "outputId": "5b952387-74da-465d-a9e3-d927f4fdcb3d"
      },
      "outputs": [
        {
          "data": {
            "text/html": [
              "<div>\n",
              "<style scoped>\n",
              "    .dataframe tbody tr th:only-of-type {\n",
              "        vertical-align: middle;\n",
              "    }\n",
              "\n",
              "    .dataframe tbody tr th {\n",
              "        vertical-align: top;\n",
              "    }\n",
              "\n",
              "    .dataframe thead th {\n",
              "        text-align: right;\n",
              "    }\n",
              "</style>\n",
              "<table border=\"1\" class=\"dataframe\">\n",
              "  <thead>\n",
              "    <tr style=\"text-align: right;\">\n",
              "      <th></th>\n",
              "      <th>Home Team Name</th>\n",
              "      <th>Away Team Name</th>\n",
              "    </tr>\n",
              "  </thead>\n",
              "  <tbody>\n",
              "    <tr>\n",
              "      <th>5</th>\n",
              "      <td>Chile</td>\n",
              "      <td>Mexico</td>\n",
              "    </tr>\n",
              "    <tr>\n",
              "      <th>6</th>\n",
              "      <td>Yugoslavia</td>\n",
              "      <td>Bolivia</td>\n",
              "    </tr>\n",
              "    <tr>\n",
              "      <th>7</th>\n",
              "      <td>USA</td>\n",
              "      <td>Paraguay</td>\n",
              "    </tr>\n",
              "    <tr>\n",
              "      <th>8</th>\n",
              "      <td>Uruguay</td>\n",
              "      <td>Peru</td>\n",
              "    </tr>\n",
              "    <tr>\n",
              "      <th>9</th>\n",
              "      <td>Chile</td>\n",
              "      <td>France</td>\n",
              "    </tr>\n",
              "  </tbody>\n",
              "</table>\n",
              "</div>"
            ],
            "text/plain": [
              "  Home Team Name Away Team Name\n",
              "5          Chile         Mexico\n",
              "6     Yugoslavia        Bolivia\n",
              "7            USA       Paraguay\n",
              "8        Uruguay           Peru\n",
              "9          Chile         France"
            ]
          },
          "execution_count": 8,
          "metadata": {},
          "output_type": "execute_result"
        }
      ],
      "source": [
        "# Display rows 5 through 9 and columns 'Home Team Name' and 'Away Team Name'\n",
        "# .loc interval is not \"half open\", it includes the endpoint\n",
        "df.loc[5:9, ['Home Team Name', 'Away Team Name']]"
      ]
    },
    {
      "cell_type": "markdown",
      "metadata": {
        "id": "Su2Y7-EuL-Dm"
      },
      "source": [
        "Next, we'd like the information on all the games played in **Group 3** for the **1950** World Cup."
      ]
    },
    {
      "cell_type": "markdown",
      "metadata": {
        "id": "6srTC6G5L-Dn"
      },
      "source": [
        "Hint: You can combine conditions like this:\n",
        "\n",
        "`df[(condition1) | (condition2)]`  -> Returns rows where either condition is true\n",
        "\n",
        "`df[(condition1) & (condition2)]`  -> Returns rows where both conditions are true"
      ]
    },
    {
      "cell_type": "code",
      "execution_count": null,
      "metadata": {
        "id": "hdHk2Go_L-Dn",
        "outputId": "65d753b8-daf2-4c48-eac7-09beb22eae67"
      },
      "outputs": [
        {
          "data": {
            "text/html": [
              "<div>\n",
              "<style scoped>\n",
              "    .dataframe tbody tr th:only-of-type {\n",
              "        vertical-align: middle;\n",
              "    }\n",
              "\n",
              "    .dataframe tbody tr th {\n",
              "        vertical-align: top;\n",
              "    }\n",
              "\n",
              "    .dataframe thead th {\n",
              "        text-align: right;\n",
              "    }\n",
              "</style>\n",
              "<table border=\"1\" class=\"dataframe\">\n",
              "  <thead>\n",
              "    <tr style=\"text-align: right;\">\n",
              "      <th></th>\n",
              "      <th>Year</th>\n",
              "      <th>Datetime</th>\n",
              "      <th>Stage</th>\n",
              "      <th>Stadium</th>\n",
              "      <th>City</th>\n",
              "      <th>Home Team Name</th>\n",
              "      <th>Home Team Goals</th>\n",
              "      <th>Away Team Goals</th>\n",
              "      <th>Away Team Name</th>\n",
              "      <th>Win conditions</th>\n",
              "      <th>Attendance</th>\n",
              "      <th>Half-time Home Goals</th>\n",
              "      <th>Half-time Away Goals</th>\n",
              "      <th>Referee</th>\n",
              "      <th>Assistant 1</th>\n",
              "      <th>Assistant 2</th>\n",
              "      <th>RoundID</th>\n",
              "      <th>MatchID</th>\n",
              "      <th>Home Team Initials</th>\n",
              "      <th>Away Team Initials</th>\n",
              "    </tr>\n",
              "  </thead>\n",
              "  <tbody>\n",
              "    <tr>\n",
              "      <th>56</th>\n",
              "      <td>1950</td>\n",
              "      <td>25 Jun 1950 - 15:00</td>\n",
              "      <td>Group 3</td>\n",
              "      <td>Pacaembu</td>\n",
              "      <td>Sao Paulo</td>\n",
              "      <td>Sweden</td>\n",
              "      <td>3</td>\n",
              "      <td>2</td>\n",
              "      <td>Italy</td>\n",
              "      <td></td>\n",
              "      <td>36502.0</td>\n",
              "      <td>2</td>\n",
              "      <td>1</td>\n",
              "      <td>LUTZ Jean (SUI)</td>\n",
              "      <td>BERANEK Alois (AUT)</td>\n",
              "      <td>TEJADA Carlos (MEX)</td>\n",
              "      <td>208</td>\n",
              "      <td>1219</td>\n",
              "      <td>SWE</td>\n",
              "      <td>ITA</td>\n",
              "    </tr>\n",
              "    <tr>\n",
              "      <th>61</th>\n",
              "      <td>1950</td>\n",
              "      <td>29 Jun 1950 - 15:30</td>\n",
              "      <td>Group 3</td>\n",
              "      <td>Durival de Brito</td>\n",
              "      <td>Curitiba</td>\n",
              "      <td>Sweden</td>\n",
              "      <td>2</td>\n",
              "      <td>2</td>\n",
              "      <td>Paraguay</td>\n",
              "      <td></td>\n",
              "      <td>7903.0</td>\n",
              "      <td>2</td>\n",
              "      <td>1</td>\n",
              "      <td>MITCHELL Robert (SCO)</td>\n",
              "      <td>LEMESIC Leo (YUG)</td>\n",
              "      <td>GARCIA Prudencio (USA)</td>\n",
              "      <td>208</td>\n",
              "      <td>1228</td>\n",
              "      <td>SWE</td>\n",
              "      <td>PAR</td>\n",
              "    </tr>\n",
              "    <tr>\n",
              "      <th>65</th>\n",
              "      <td>1950</td>\n",
              "      <td>02 Jul 1950 - 15:00</td>\n",
              "      <td>Group 3</td>\n",
              "      <td>Pacaembu</td>\n",
              "      <td>Sao Paulo</td>\n",
              "      <td>Italy</td>\n",
              "      <td>2</td>\n",
              "      <td>0</td>\n",
              "      <td>Paraguay</td>\n",
              "      <td></td>\n",
              "      <td>25811.0</td>\n",
              "      <td>1</td>\n",
              "      <td>0</td>\n",
              "      <td>ELLIS Arthur (ENG)</td>\n",
              "      <td>GARCIA Prudencio (USA)</td>\n",
              "      <td>DE LA SALLE Charles (FRA)</td>\n",
              "      <td>208</td>\n",
              "      <td>1218</td>\n",
              "      <td>ITA</td>\n",
              "      <td>PAR</td>\n",
              "    </tr>\n",
              "  </tbody>\n",
              "</table>\n",
              "</div>"
            ],
            "text/plain": [
              "    Year              Datetime    Stage           Stadium        City  \\\n",
              "56  1950  25 Jun 1950 - 15:00   Group 3          Pacaembu  Sao Paulo    \n",
              "61  1950  29 Jun 1950 - 15:30   Group 3  Durival de Brito   Curitiba    \n",
              "65  1950  02 Jul 1950 - 15:00   Group 3          Pacaembu  Sao Paulo    \n",
              "\n",
              "   Home Team Name  Home Team Goals  Away Team Goals Away Team Name  \\\n",
              "56         Sweden                3                2          Italy   \n",
              "61         Sweden                2                2       Paraguay   \n",
              "65          Italy                2                0       Paraguay   \n",
              "\n",
              "   Win conditions  Attendance  Half-time Home Goals  Half-time Away Goals  \\\n",
              "56                    36502.0                     2                     1   \n",
              "61                     7903.0                     2                     1   \n",
              "65                    25811.0                     1                     0   \n",
              "\n",
              "                  Referee             Assistant 1                Assistant 2  \\\n",
              "56        LUTZ Jean (SUI)     BERANEK Alois (AUT)        TEJADA Carlos (MEX)   \n",
              "61  MITCHELL Robert (SCO)       LEMESIC Leo (YUG)     GARCIA Prudencio (USA)   \n",
              "65     ELLIS Arthur (ENG)  GARCIA Prudencio (USA)  DE LA SALLE Charles (FRA)   \n",
              "\n",
              "    RoundID  MatchID Home Team Initials Away Team Initials  \n",
              "56      208     1219                SWE                ITA  \n",
              "61      208     1228                SWE                PAR  \n",
              "65      208     1218                ITA                PAR  "
            ]
          },
          "execution_count": 9,
          "metadata": {},
          "output_type": "execute_result"
        }
      ],
      "source": [
        "# Display all info for games played in 1950 for Group 3\n",
        "# This time we don't need .loc because we are applying a\n",
        "# boolean mask and our indexing uses rows only (all\n",
        "# columns are selected)\n",
        "df[(df[\"Year\"] == 1950) & (df[\"Stage\"] == \"Group 3\")]"
      ]
    },
    {
      "cell_type": "markdown",
      "metadata": {
        "id": "mkp1_ooJL-Dn"
      },
      "source": [
        "Let's repeat the command above, but this time display **only the attendance column** for the Group 3 games."
      ]
    },
    {
      "cell_type": "code",
      "execution_count": null,
      "metadata": {
        "id": "ofhJQxfJL-Dn",
        "outputId": "f4dcd6d8-27d5-4a26-d58f-2d6ef7cc2c0e"
      },
      "outputs": [
        {
          "data": {
            "text/plain": [
              "56    36502.0\n",
              "61     7903.0\n",
              "65    25811.0\n",
              "Name: Attendance, dtype: float64"
            ]
          },
          "execution_count": 10,
          "metadata": {},
          "output_type": "execute_result"
        }
      ],
      "source": [
        "# Print the 'Attendance' column for games played in 1950\n",
        "# for Group 3\n",
        "# This time we want to use df.loc instead of just\n",
        "# df[boolean mask] in order to select certain rows AND\n",
        "# certain columns\n",
        "df.loc[(df['Year'] == 1950) & (df['Stage'] == 'Group 3'), 'Attendance']"
      ]
    },
    {
      "cell_type": "markdown",
      "metadata": {
        "id": "rIDkWpKzL-Do"
      },
      "source": [
        "Throughout the entire history of the World Cup as recorded in this dataset, **how many home games were played by the Netherlands**?\n",
        "\n",
        "(Remember that you can use the `len()` built-in function to find the number of rows in a DataFrame.)"
      ]
    },
    {
      "cell_type": "code",
      "execution_count": null,
      "metadata": {
        "id": "9YfCv4TlL-Do",
        "outputId": "d5608e04-d058-46fa-d591-aed5faa427a4"
      },
      "outputs": [
        {
          "data": {
            "text/plain": [
              "32"
            ]
          },
          "execution_count": 11,
          "metadata": {},
          "output_type": "execute_result"
        }
      ],
      "source": [
        "# Number of home games played by the Netherlands\n",
        "# Here we are just using df[boolean mask] again\n",
        "neth_home = len(df[df['Home Team Name'] == ('Netherlands')])\n",
        "neth_home"
      ]
    },
    {
      "cell_type": "markdown",
      "metadata": {
        "id": "YnTExVrlL-Do"
      },
      "source": [
        "**How many games were played by the Netherlands in total**?"
      ]
    },
    {
      "cell_type": "code",
      "execution_count": null,
      "metadata": {
        "id": "AJoV5vXIL-Dp",
        "outputId": "d8fcb727-92d0-443b-d7e7-7d81d98076d5"
      },
      "outputs": [
        {
          "data": {
            "text/plain": [
              "54"
            ]
          },
          "execution_count": 12,
          "metadata": {},
          "output_type": "execute_result"
        }
      ],
      "source": [
        "# Number of games played by the Netherlands in total\n",
        "# Conveniently we already saved neth_home as a variable\n",
        "# so we just need to find the number of times they were\n",
        "# the away team and sum them\n",
        "len(df[df['Away Team Name']==('Netherlands')]) + neth_home"
      ]
    },
    {
      "cell_type": "markdown",
      "metadata": {
        "id": "a92bbxGML-Dp"
      },
      "source": [
        "Next, let's try and figure out **how many games the USA played in the 2014 World Cup**."
      ]
    },
    {
      "cell_type": "code",
      "execution_count": null,
      "metadata": {
        "id": "LpKD5S4HL-Dp",
        "outputId": "a6a494e3-1f04-4aac-b87a-61b659cf61bd"
      },
      "outputs": [
        {
          "data": {
            "text/plain": [
              "5"
            ]
          },
          "execution_count": 13,
          "metadata": {},
          "output_type": "execute_result"
        }
      ],
      "source": [
        "\n",
        "# Number of games the USA played in the 2014 world cup\n",
        "\n",
        "# Mask will return True or False for each row of df\n",
        "usa_2014_mask = (\n",
        "    # USA is home team OR away team\n",
        "    (\n",
        "        (df['Home Team Name'] == 'USA') |\n",
        "        (df['Away Team Name'] == 'USA')\n",
        "    ) &\n",
        "    # AND year is 2014\n",
        "    (df['Year'] == 2014)\n",
        ")\n",
        "\n",
        "# Filter df using mask and find its length\n",
        "len(df[usa_2014_mask])"
      ]
    },
    {
      "cell_type": "markdown",
      "metadata": {
        "id": "1EPAvGt-L-Dq"
      },
      "source": [
        "Now, let's try to find out **how many countries participated in the 1986 World Cup**."
      ]
    },
    {
      "cell_type": "markdown",
      "metadata": {
        "id": "XF81O7BOL-Dq"
      },
      "source": [
        "Hint 1: As a first step, create a new dataset that only contains games in that year.\n",
        "\n",
        "Hint 2: Make sure you don't end up with duplicate country names. Consider using `set()` or `.unique()`."
      ]
    },
    {
      "cell_type": "code",
      "execution_count": null,
      "metadata": {
        "id": "i236uCe6L-Dq",
        "outputId": "ae31673d-1cbb-4c2a-cc09-80f1551a5c8c"
      },
      "outputs": [
        {
          "name": "stdout",
          "output_type": "stream",
          "text": [
            "Total games in 1986: 52\n",
            "\n",
            "Unique countries participating: 24\n",
            "Unique countries participating: 24\n"
          ]
        }
      ],
      "source": [
        "# Number of countries participated in the 1986 world cup\n",
        "\n",
        "# Copy of dataset that is limited to 1986, and only team name cols\n",
        "games_86 = df.loc[df['Year'] == 1986, ['Home Team Name', 'Away Team Name']].copy()\n",
        "print(\"Total games in 1986:\", len(games_86))\n",
        "print()\n",
        "\n",
        "# Converting to Python set approach (some base Python)\n",
        "# Create sets of unique home and away teams\n",
        "home = set(games_86['Home Team Name'])\n",
        "away = set(games_86['Away Team Name'])\n",
        "# Get the length of the union of those sets\n",
        "print(\"Unique countries participating:\", len(home | away))\n",
        "\n",
        "# Melt approach (all pandas)\n",
        "# Use `melt` to stack home and away variables on top of each other\n",
        "# This creates one column \"Home or Away\" with values of either \"Home\n",
        "# Team Name\" or \"Away Team Name\", one column \"Team\" with the team name\n",
        "teams_86 = games_86.melt(var_name = \"Home or Away\", value_name=\"Team\")\n",
        "# Find unique number of teams using \"Team\" column\n",
        "print(\"Unique countries participating:\", len(teams_86[\"Team\"].unique()))"
      ]
    },
    {
      "cell_type": "markdown",
      "metadata": {
        "id": "pni4_tS4L-Dq"
      },
      "source": [
        "## Changing Values and Creating New Columns"
      ]
    },
    {
      "cell_type": "markdown",
      "metadata": {
        "id": "IB8kfUEoL-Dr"
      },
      "source": [
        "In World Cup history, **how many matches had 5 goals or more in total**? Create a column `\"Total Goals\"` to answer this question."
      ]
    },
    {
      "cell_type": "code",
      "execution_count": null,
      "metadata": {
        "id": "AsLh6gKRL-Dr",
        "outputId": "94d53677-6d3b-44f3-969a-f2a2f3abcec0"
      },
      "outputs": [
        {
          "data": {
            "text/plain": [
              "147"
            ]
          },
          "execution_count": 15,
          "metadata": {},
          "output_type": "execute_result"
        }
      ],
      "source": [
        "# Number of matches that had more than 5 goals in total\n",
        "\n",
        "# New column created by summing the other two\n",
        "# We don't need a loop because pandas will automatically create\n",
        "# one and \"broadcast\" each value from the columns being summed\n",
        "df['Total Goals'] = df['Home Team Goals'] + df['Away Team Goals']\n",
        "# Length of df where the new column >= 5\n",
        "len(df[df['Total Goals'] >= 5])"
      ]
    },
    {
      "cell_type": "markdown",
      "metadata": {
        "id": "LEAEDITuL-Dr"
      },
      "source": [
        "Now **create a new column `\"Half-time Goals\"`** in `df` that includes both home and away values."
      ]
    },
    {
      "cell_type": "code",
      "execution_count": null,
      "metadata": {
        "id": "3dgHZkgXL-Dr",
        "outputId": "bdf05740-98c5-4fb5-c8d9-dfe9c8155c5e"
      },
      "outputs": [
        {
          "data": {
            "text/plain": [
              "Index(['Year', 'Datetime', 'Stage', 'Stadium', 'City', 'Home Team Name',\n",
              "       'Home Team Goals', 'Away Team Goals', 'Away Team Name',\n",
              "       'Win conditions', 'Attendance', 'Half-time Home Goals',\n",
              "       'Half-time Away Goals', 'Referee', 'Assistant 1', 'Assistant 2',\n",
              "       'RoundID', 'MatchID', 'Home Team Initials', 'Away Team Initials',\n",
              "       'Total Goals', 'Half-time Goals'],\n",
              "      dtype='object')"
            ]
          },
          "execution_count": 16,
          "metadata": {},
          "output_type": "execute_result"
        }
      ],
      "source": [
        "# Create a new column 'Half-time Goals' in df\n",
        "df['Half-time Goals'] = df['Half-time Home Goals'] + df['Half-time Away Goals']\n",
        "df.columns"
      ]
    },
    {
      "cell_type": "markdown",
      "metadata": {
        "id": "sW14B4cYL-Dr"
      },
      "source": [
        "Run the code below. You'll notice that for Korea, there are records for both North-Korea (Korea DPR) and South-Korea (Korea Republic)."
      ]
    },
    {
      "cell_type": "code",
      "execution_count": null,
      "metadata": {
        "id": "8LK7Tnk9L-Ds",
        "outputId": "03c4155b-2a04-4f6d-d9f8-0df750e478b6"
      },
      "outputs": [
        {
          "data": {
            "text/plain": [
              "179         Korea DPR\n",
              "187         Korea DPR\n",
              "374    Korea Republic\n",
              "386    Korea Republic\n",
              "434    Korea Republic\n",
              "444    Korea Republic\n",
              "480    Korea Republic\n",
              "524    Korea Republic\n",
              "593    Korea Republic\n",
              "609    Korea Republic\n",
              "635    Korea Republic\n",
              "642    Korea Republic\n",
              "655    Korea Republic\n",
              "710    Korea Republic\n",
              "753         Korea DPR\n",
              "802    Korea Republic\n",
              "818    Korea Republic\n",
              "Name: Home Team Name, dtype: object"
            ]
          },
          "execution_count": 17,
          "metadata": {},
          "output_type": "execute_result"
        }
      ],
      "source": [
        "# Print all records containing the string 'Korea'\n",
        "df.loc[df['Home Team Name'].str.contains('Korea'), 'Home Team Name']"
      ]
    },
    {
      "cell_type": "markdown",
      "metadata": {
        "id": "xB8Y5i04L-Ds"
      },
      "source": [
        "Imagine that, for some reason, we simply want Korea listed as one entry, so we want to replace every \"Home Team Name\" and \"Away Team Name\" entry that contains \"Korea\" to simply \"Korea\". In the same way, we want to change the columns \"Home Team Initials\" and \"Away Team Initials\" to NSK (North & South Korea) instead of \"KOR\" and \"PRK\"."
      ]
    },
    {
      "cell_type": "code",
      "execution_count": null,
      "metadata": {
        "id": "n606d7OaL-Ds"
      },
      "outputs": [],
      "source": [
        "# Update the 'Home Team Name' and 'Home Team Initials' columns\n",
        "\n",
        "korea_names = ['Korea DPR', 'Korea Republic']\n",
        "korea_initials = ['KOR', 'PRK']\n",
        "\n",
        "# Home team name\n",
        "df.loc[df['Home Team Name'].isin(korea_names), 'Home Team Name'] = 'Korea'\n",
        "# Away team name\n",
        "df.loc[df['Away Team Name'].isin(korea_names), 'Away Team Name'] = 'Korea'\n",
        "# Home team initials\n",
        "df.loc[df['Home Team Initials'].isin(korea_initials), 'Home Team Initials'] = 'NSK'\n",
        "# Away team initials\n",
        "df.loc[df['Away Team Initials'].isin(korea_initials), 'Away Team Initials'] = 'NSK'"
      ]
    },
    {
      "cell_type": "markdown",
      "metadata": {
        "id": "yBYEn9_vL-Ds"
      },
      "source": [
        "Make sure to verify your answer!"
      ]
    },
    {
      "cell_type": "code",
      "execution_count": null,
      "metadata": {
        "id": "w3shJJJNL-Ds",
        "outputId": "c03b58e1-c5a3-461e-e5ee-0fcf847ab493"
      },
      "outputs": [
        {
          "data": {
            "text/html": [
              "<div>\n",
              "<style scoped>\n",
              "    .dataframe tbody tr th:only-of-type {\n",
              "        vertical-align: middle;\n",
              "    }\n",
              "\n",
              "    .dataframe tbody tr th {\n",
              "        vertical-align: top;\n",
              "    }\n",
              "\n",
              "    .dataframe thead th {\n",
              "        text-align: right;\n",
              "    }\n",
              "</style>\n",
              "<table border=\"1\" class=\"dataframe\">\n",
              "  <thead>\n",
              "    <tr style=\"text-align: right;\">\n",
              "      <th></th>\n",
              "      <th>Home Team Name</th>\n",
              "      <th>Away Team Name</th>\n",
              "      <th>Home Team Initials</th>\n",
              "      <th>Away Team Initials</th>\n",
              "    </tr>\n",
              "  </thead>\n",
              "  <tbody>\n",
              "    <tr>\n",
              "      <th>80</th>\n",
              "      <td>Hungary</td>\n",
              "      <td>Korea</td>\n",
              "      <td>HUN</td>\n",
              "      <td>NSK</td>\n",
              "    </tr>\n",
              "    <tr>\n",
              "      <th>88</th>\n",
              "      <td>Turkey</td>\n",
              "      <td>Korea</td>\n",
              "      <td>TUR</td>\n",
              "      <td>NSK</td>\n",
              "    </tr>\n",
              "    <tr>\n",
              "      <th>171</th>\n",
              "      <td>Soviet Union</td>\n",
              "      <td>Korea</td>\n",
              "      <td>URS</td>\n",
              "      <td>NSK</td>\n",
              "    </tr>\n",
              "    <tr>\n",
              "      <th>179</th>\n",
              "      <td>Korea</td>\n",
              "      <td>Chile</td>\n",
              "      <td>NSK</td>\n",
              "      <td>CHI</td>\n",
              "    </tr>\n",
              "    <tr>\n",
              "      <th>187</th>\n",
              "      <td>Korea</td>\n",
              "      <td>Italy</td>\n",
              "      <td>NSK</td>\n",
              "      <td>ITA</td>\n",
              "    </tr>\n",
              "    <tr>\n",
              "      <th>195</th>\n",
              "      <td>Portugal</td>\n",
              "      <td>Korea</td>\n",
              "      <td>POR</td>\n",
              "      <td>NSK</td>\n",
              "    </tr>\n",
              "    <tr>\n",
              "      <th>364</th>\n",
              "      <td>Argentina</td>\n",
              "      <td>Korea</td>\n",
              "      <td>ARG</td>\n",
              "      <td>NSK</td>\n",
              "    </tr>\n",
              "    <tr>\n",
              "      <th>374</th>\n",
              "      <td>Korea</td>\n",
              "      <td>Bulgaria</td>\n",
              "      <td>NSK</td>\n",
              "      <td>BUL</td>\n",
              "    </tr>\n",
              "    <tr>\n",
              "      <th>386</th>\n",
              "      <td>Korea</td>\n",
              "      <td>Italy</td>\n",
              "      <td>NSK</td>\n",
              "      <td>ITA</td>\n",
              "    </tr>\n",
              "    <tr>\n",
              "      <th>421</th>\n",
              "      <td>Belgium</td>\n",
              "      <td>Korea</td>\n",
              "      <td>BEL</td>\n",
              "      <td>NSK</td>\n",
              "    </tr>\n",
              "    <tr>\n",
              "      <th>434</th>\n",
              "      <td>Korea</td>\n",
              "      <td>Spain</td>\n",
              "      <td>NSK</td>\n",
              "      <td>ESP</td>\n",
              "    </tr>\n",
              "    <tr>\n",
              "      <th>444</th>\n",
              "      <td>Korea</td>\n",
              "      <td>Uruguay</td>\n",
              "      <td>NSK</td>\n",
              "      <td>URU</td>\n",
              "    </tr>\n",
              "    <tr>\n",
              "      <th>464</th>\n",
              "      <td>Spain</td>\n",
              "      <td>Korea</td>\n",
              "      <td>ESP</td>\n",
              "      <td>NSK</td>\n",
              "    </tr>\n",
              "    <tr>\n",
              "      <th>480</th>\n",
              "      <td>Korea</td>\n",
              "      <td>Bolivia</td>\n",
              "      <td>NSK</td>\n",
              "      <td>BOL</td>\n",
              "    </tr>\n",
              "    <tr>\n",
              "      <th>490</th>\n",
              "      <td>Germany</td>\n",
              "      <td>Korea</td>\n",
              "      <td>GER</td>\n",
              "      <td>NSK</td>\n",
              "    </tr>\n",
              "    <tr>\n",
              "      <th>524</th>\n",
              "      <td>Korea</td>\n",
              "      <td>Mexico</td>\n",
              "      <td>NSK</td>\n",
              "      <td>MEX</td>\n",
              "    </tr>\n",
              "    <tr>\n",
              "      <th>542</th>\n",
              "      <td>Netherlands</td>\n",
              "      <td>Korea</td>\n",
              "      <td>NED</td>\n",
              "      <td>NSK</td>\n",
              "    </tr>\n",
              "    <tr>\n",
              "      <th>556</th>\n",
              "      <td>Belgium</td>\n",
              "      <td>Korea</td>\n",
              "      <td>BEL</td>\n",
              "      <td>NSK</td>\n",
              "    </tr>\n",
              "    <tr>\n",
              "      <th>593</th>\n",
              "      <td>Korea</td>\n",
              "      <td>Poland</td>\n",
              "      <td>NSK</td>\n",
              "      <td>POL</td>\n",
              "    </tr>\n",
              "    <tr>\n",
              "      <th>609</th>\n",
              "      <td>Korea</td>\n",
              "      <td>USA</td>\n",
              "      <td>NSK</td>\n",
              "      <td>USA</td>\n",
              "    </tr>\n",
              "    <tr>\n",
              "      <th>625</th>\n",
              "      <td>Portugal</td>\n",
              "      <td>Korea</td>\n",
              "      <td>POR</td>\n",
              "      <td>NSK</td>\n",
              "    </tr>\n",
              "    <tr>\n",
              "      <th>635</th>\n",
              "      <td>Korea</td>\n",
              "      <td>Italy</td>\n",
              "      <td>NSK</td>\n",
              "      <td>ITA</td>\n",
              "    </tr>\n",
              "    <tr>\n",
              "      <th>639</th>\n",
              "      <td>Spain</td>\n",
              "      <td>Korea</td>\n",
              "      <td>ESP</td>\n",
              "      <td>NSK</td>\n",
              "    </tr>\n",
              "    <tr>\n",
              "      <th>640</th>\n",
              "      <td>Germany</td>\n",
              "      <td>Korea</td>\n",
              "      <td>GER</td>\n",
              "      <td>NSK</td>\n",
              "    </tr>\n",
              "    <tr>\n",
              "      <th>642</th>\n",
              "      <td>Korea</td>\n",
              "      <td>Turkey</td>\n",
              "      <td>NSK</td>\n",
              "      <td>TUR</td>\n",
              "    </tr>\n",
              "    <tr>\n",
              "      <th>655</th>\n",
              "      <td>Korea</td>\n",
              "      <td>Togo</td>\n",
              "      <td>NSK</td>\n",
              "      <td>TOG</td>\n",
              "    </tr>\n",
              "    <tr>\n",
              "      <th>672</th>\n",
              "      <td>France</td>\n",
              "      <td>Korea</td>\n",
              "      <td>FRA</td>\n",
              "      <td>NSK</td>\n",
              "    </tr>\n",
              "    <tr>\n",
              "      <th>691</th>\n",
              "      <td>Switzerland</td>\n",
              "      <td>Korea</td>\n",
              "      <td>SUI</td>\n",
              "      <td>NSK</td>\n",
              "    </tr>\n",
              "    <tr>\n",
              "      <th>710</th>\n",
              "      <td>Korea</td>\n",
              "      <td>Greece</td>\n",
              "      <td>NSK</td>\n",
              "      <td>GRE</td>\n",
              "    </tr>\n",
              "    <tr>\n",
              "      <th>721</th>\n",
              "      <td>Brazil</td>\n",
              "      <td>Korea</td>\n",
              "      <td>BRA</td>\n",
              "      <td>NSK</td>\n",
              "    </tr>\n",
              "    <tr>\n",
              "      <th>725</th>\n",
              "      <td>Argentina</td>\n",
              "      <td>Korea</td>\n",
              "      <td>ARG</td>\n",
              "      <td>NSK</td>\n",
              "    </tr>\n",
              "    <tr>\n",
              "      <th>737</th>\n",
              "      <td>Portugal</td>\n",
              "      <td>Korea</td>\n",
              "      <td>POR</td>\n",
              "      <td>NSK</td>\n",
              "    </tr>\n",
              "    <tr>\n",
              "      <th>742</th>\n",
              "      <td>Nigeria</td>\n",
              "      <td>Korea</td>\n",
              "      <td>NGA</td>\n",
              "      <td>NSK</td>\n",
              "    </tr>\n",
              "    <tr>\n",
              "      <th>753</th>\n",
              "      <td>Korea</td>\n",
              "      <td>C�te d'Ivoire</td>\n",
              "      <td>NSK</td>\n",
              "      <td>CIV</td>\n",
              "    </tr>\n",
              "    <tr>\n",
              "      <th>756</th>\n",
              "      <td>Uruguay</td>\n",
              "      <td>Korea</td>\n",
              "      <td>URU</td>\n",
              "      <td>NSK</td>\n",
              "    </tr>\n",
              "    <tr>\n",
              "      <th>788</th>\n",
              "      <td>Russia</td>\n",
              "      <td>Korea</td>\n",
              "      <td>RUS</td>\n",
              "      <td>NSK</td>\n",
              "    </tr>\n",
              "    <tr>\n",
              "      <th>802</th>\n",
              "      <td>Korea</td>\n",
              "      <td>Algeria</td>\n",
              "      <td>NSK</td>\n",
              "      <td>ALG</td>\n",
              "    </tr>\n",
              "    <tr>\n",
              "      <th>818</th>\n",
              "      <td>Korea</td>\n",
              "      <td>Belgium</td>\n",
              "      <td>NSK</td>\n",
              "      <td>BEL</td>\n",
              "    </tr>\n",
              "  </tbody>\n",
              "</table>\n",
              "</div>"
            ],
            "text/plain": [
              "    Home Team Name Away Team Name Home Team Initials Away Team Initials\n",
              "80         Hungary          Korea                HUN                NSK\n",
              "88          Turkey          Korea                TUR                NSK\n",
              "171   Soviet Union          Korea                URS                NSK\n",
              "179          Korea          Chile                NSK                CHI\n",
              "187          Korea          Italy                NSK                ITA\n",
              "195       Portugal          Korea                POR                NSK\n",
              "364      Argentina          Korea                ARG                NSK\n",
              "374          Korea       Bulgaria                NSK                BUL\n",
              "386          Korea          Italy                NSK                ITA\n",
              "421        Belgium          Korea                BEL                NSK\n",
              "434          Korea          Spain                NSK                ESP\n",
              "444          Korea        Uruguay                NSK                URU\n",
              "464          Spain          Korea                ESP                NSK\n",
              "480          Korea        Bolivia                NSK                BOL\n",
              "490        Germany          Korea                GER                NSK\n",
              "524          Korea         Mexico                NSK                MEX\n",
              "542    Netherlands          Korea                NED                NSK\n",
              "556        Belgium          Korea                BEL                NSK\n",
              "593          Korea         Poland                NSK                POL\n",
              "609          Korea            USA                NSK                USA\n",
              "625       Portugal          Korea                POR                NSK\n",
              "635          Korea          Italy                NSK                ITA\n",
              "639          Spain          Korea                ESP                NSK\n",
              "640        Germany          Korea                GER                NSK\n",
              "642          Korea         Turkey                NSK                TUR\n",
              "655          Korea           Togo                NSK                TOG\n",
              "672         France          Korea                FRA                NSK\n",
              "691    Switzerland          Korea                SUI                NSK\n",
              "710          Korea         Greece                NSK                GRE\n",
              "721         Brazil          Korea                BRA                NSK\n",
              "725      Argentina          Korea                ARG                NSK\n",
              "737       Portugal          Korea                POR                NSK\n",
              "742        Nigeria          Korea                NGA                NSK\n",
              "753          Korea  C�te d'Ivoire                NSK                CIV\n",
              "756        Uruguay          Korea                URU                NSK\n",
              "788         Russia          Korea                RUS                NSK\n",
              "802          Korea        Algeria                NSK                ALG\n",
              "818          Korea        Belgium                NSK                BEL"
            ]
          },
          "execution_count": 19,
          "metadata": {},
          "output_type": "execute_result"
        }
      ],
      "source": [
        "# Check the updated columns\n",
        "\n",
        "korea_mask = (\n",
        "    (df['Home Team Name'].str.contains('Korea')) |\n",
        "    (df['Away Team Name'].str.contains('Korea'))\n",
        ")\n",
        "\n",
        "df.loc[korea_mask, ['Home Team Name', 'Away Team Name', 'Home Team Initials', 'Away Team Initials']]"
      ]
    },
    {
      "cell_type": "markdown",
      "metadata": {
        "id": "D3HZW6sQL-Dt"
      },
      "source": [
        "## Summary\n",
        "\n",
        "In this lab, you practiced accessing data within Pandas!"
      ]
    },
    {
      "cell_type": "markdown",
      "metadata": {
        "id": "w44yhDplN6rR"
      },
      "source": [
        "# Importing Data Using Pandas - Lab\n",
        "\n",
        "## Introduction\n",
        "\n",
        "In this lab, you'll get some practice with loading files with summary or metadata, and if you find that easy, the optional \"level up\" content covers loading data from a corrupted csv file!\n",
        "\n",
        "## Objectives\n",
        "You will be able to:\n",
        "\n",
        "- Use pandas to import data from a CSV and and an Excel spreadsheet  \n",
        "\n",
        "##  Loading Files with Summary or Meta Data\n",
        "\n",
        "Load either of the files `'Zipcode_Demos.csv'` or `'Zipcode_Demos.xlsx'`. What's going on with this dataset? Clean it up into a useable format and describe the nuances of how the data is currently formatted.\n",
        "\n",
        "All data files are stored in a folder titled `'Data'`."
      ]
    },
    {
      "cell_type": "code",
      "execution_count": null,
      "metadata": {
        "id": "-n6gJg2KN6rR"
      },
      "outputs": [],
      "source": [
        "# Import pandas using the standard alias\n",
        "import pandas as pd"
      ]
    },
    {
      "cell_type": "code",
      "execution_count": null,
      "metadata": {
        "id": "IPABw0dFN6rR",
        "outputId": "d23fdbb1-258a-428f-f4d9-6dbfe84e9c73"
      },
      "outputs": [
        {
          "data": {
            "text/html": [
              "<div>\n",
              "<style scoped>\n",
              "    .dataframe tbody tr th:only-of-type {\n",
              "        vertical-align: middle;\n",
              "    }\n",
              "\n",
              "    .dataframe tbody tr th {\n",
              "        vertical-align: top;\n",
              "    }\n",
              "\n",
              "    .dataframe thead th {\n",
              "        text-align: right;\n",
              "    }\n",
              "</style>\n",
              "<table border=\"1\" class=\"dataframe\">\n",
              "  <thead>\n",
              "    <tr style=\"text-align: right;\">\n",
              "      <th></th>\n",
              "      <th>0</th>\n",
              "      <th>Average Statistics</th>\n",
              "      <th>Unnamed: 2</th>\n",
              "      <th>Unnamed: 3</th>\n",
              "      <th>Unnamed: 4</th>\n",
              "      <th>Unnamed: 5</th>\n",
              "      <th>Unnamed: 6</th>\n",
              "      <th>Unnamed: 7</th>\n",
              "      <th>Unnamed: 8</th>\n",
              "      <th>Unnamed: 9</th>\n",
              "      <th>...</th>\n",
              "      <th>Unnamed: 37</th>\n",
              "      <th>Unnamed: 38</th>\n",
              "      <th>Unnamed: 39</th>\n",
              "      <th>Unnamed: 40</th>\n",
              "      <th>Unnamed: 41</th>\n",
              "      <th>Unnamed: 42</th>\n",
              "      <th>Unnamed: 43</th>\n",
              "      <th>Unnamed: 44</th>\n",
              "      <th>Unnamed: 45</th>\n",
              "      <th>Unnamed: 46</th>\n",
              "    </tr>\n",
              "  </thead>\n",
              "  <tbody>\n",
              "    <tr>\n",
              "      <th>0</th>\n",
              "      <td>1</td>\n",
              "      <td>NaN</td>\n",
              "      <td>0</td>\n",
              "      <td>NaN</td>\n",
              "      <td>NaN</td>\n",
              "      <td>NaN</td>\n",
              "      <td>NaN</td>\n",
              "      <td>NaN</td>\n",
              "      <td>NaN</td>\n",
              "      <td>NaN</td>\n",
              "      <td>...</td>\n",
              "      <td>NaN</td>\n",
              "      <td>NaN</td>\n",
              "      <td>NaN</td>\n",
              "      <td>NaN</td>\n",
              "      <td>NaN</td>\n",
              "      <td>NaN</td>\n",
              "      <td>NaN</td>\n",
              "      <td>NaN</td>\n",
              "      <td>NaN</td>\n",
              "      <td>NaN</td>\n",
              "    </tr>\n",
              "    <tr>\n",
              "      <th>1</th>\n",
              "      <td>2</td>\n",
              "      <td>JURISDICTION NAME</td>\n",
              "      <td>10005.8</td>\n",
              "      <td>NaN</td>\n",
              "      <td>NaN</td>\n",
              "      <td>NaN</td>\n",
              "      <td>NaN</td>\n",
              "      <td>NaN</td>\n",
              "      <td>NaN</td>\n",
              "      <td>NaN</td>\n",
              "      <td>...</td>\n",
              "      <td>NaN</td>\n",
              "      <td>NaN</td>\n",
              "      <td>NaN</td>\n",
              "      <td>NaN</td>\n",
              "      <td>NaN</td>\n",
              "      <td>NaN</td>\n",
              "      <td>NaN</td>\n",
              "      <td>NaN</td>\n",
              "      <td>NaN</td>\n",
              "      <td>NaN</td>\n",
              "    </tr>\n",
              "    <tr>\n",
              "      <th>2</th>\n",
              "      <td>3</td>\n",
              "      <td>COUNT PARTICIPANTS</td>\n",
              "      <td>9.4</td>\n",
              "      <td>NaN</td>\n",
              "      <td>NaN</td>\n",
              "      <td>NaN</td>\n",
              "      <td>NaN</td>\n",
              "      <td>NaN</td>\n",
              "      <td>NaN</td>\n",
              "      <td>NaN</td>\n",
              "      <td>...</td>\n",
              "      <td>NaN</td>\n",
              "      <td>NaN</td>\n",
              "      <td>NaN</td>\n",
              "      <td>NaN</td>\n",
              "      <td>NaN</td>\n",
              "      <td>NaN</td>\n",
              "      <td>NaN</td>\n",
              "      <td>NaN</td>\n",
              "      <td>NaN</td>\n",
              "      <td>NaN</td>\n",
              "    </tr>\n",
              "    <tr>\n",
              "      <th>3</th>\n",
              "      <td>4</td>\n",
              "      <td>COUNT FEMALE</td>\n",
              "      <td>4.8</td>\n",
              "      <td>NaN</td>\n",
              "      <td>NaN</td>\n",
              "      <td>NaN</td>\n",
              "      <td>NaN</td>\n",
              "      <td>NaN</td>\n",
              "      <td>NaN</td>\n",
              "      <td>NaN</td>\n",
              "      <td>...</td>\n",
              "      <td>NaN</td>\n",
              "      <td>NaN</td>\n",
              "      <td>NaN</td>\n",
              "      <td>NaN</td>\n",
              "      <td>NaN</td>\n",
              "      <td>NaN</td>\n",
              "      <td>NaN</td>\n",
              "      <td>NaN</td>\n",
              "      <td>NaN</td>\n",
              "      <td>NaN</td>\n",
              "    </tr>\n",
              "    <tr>\n",
              "      <th>4</th>\n",
              "      <td>5</td>\n",
              "      <td>PERCENT FEMALE</td>\n",
              "      <td>0.404</td>\n",
              "      <td>NaN</td>\n",
              "      <td>NaN</td>\n",
              "      <td>NaN</td>\n",
              "      <td>NaN</td>\n",
              "      <td>NaN</td>\n",
              "      <td>NaN</td>\n",
              "      <td>NaN</td>\n",
              "      <td>...</td>\n",
              "      <td>NaN</td>\n",
              "      <td>NaN</td>\n",
              "      <td>NaN</td>\n",
              "      <td>NaN</td>\n",
              "      <td>NaN</td>\n",
              "      <td>NaN</td>\n",
              "      <td>NaN</td>\n",
              "      <td>NaN</td>\n",
              "      <td>NaN</td>\n",
              "      <td>NaN</td>\n",
              "    </tr>\n",
              "  </tbody>\n",
              "</table>\n",
              "<p>5 rows × 47 columns</p>\n",
              "</div>"
            ],
            "text/plain": [
              "   0  Average Statistics Unnamed: 2 Unnamed: 3 Unnamed: 4 Unnamed: 5  \\\n",
              "0  1                 NaN          0        NaN        NaN        NaN   \n",
              "1  2   JURISDICTION NAME    10005.8        NaN        NaN        NaN   \n",
              "2  3  COUNT PARTICIPANTS        9.4        NaN        NaN        NaN   \n",
              "3  4        COUNT FEMALE        4.8        NaN        NaN        NaN   \n",
              "4  5      PERCENT FEMALE      0.404        NaN        NaN        NaN   \n",
              "\n",
              "  Unnamed: 6 Unnamed: 7 Unnamed: 8 Unnamed: 9  ... Unnamed: 37 Unnamed: 38  \\\n",
              "0        NaN        NaN        NaN        NaN  ...         NaN         NaN   \n",
              "1        NaN        NaN        NaN        NaN  ...         NaN         NaN   \n",
              "2        NaN        NaN        NaN        NaN  ...         NaN         NaN   \n",
              "3        NaN        NaN        NaN        NaN  ...         NaN         NaN   \n",
              "4        NaN        NaN        NaN        NaN  ...         NaN         NaN   \n",
              "\n",
              "  Unnamed: 39 Unnamed: 40 Unnamed: 41 Unnamed: 42 Unnamed: 43 Unnamed: 44  \\\n",
              "0         NaN         NaN         NaN         NaN         NaN         NaN   \n",
              "1         NaN         NaN         NaN         NaN         NaN         NaN   \n",
              "2         NaN         NaN         NaN         NaN         NaN         NaN   \n",
              "3         NaN         NaN         NaN         NaN         NaN         NaN   \n",
              "4         NaN         NaN         NaN         NaN         NaN         NaN   \n",
              "\n",
              "  Unnamed: 45 Unnamed: 46  \n",
              "0         NaN         NaN  \n",
              "1         NaN         NaN  \n",
              "2         NaN         NaN  \n",
              "3         NaN         NaN  \n",
              "4         NaN         NaN  \n",
              "\n",
              "[5 rows x 47 columns]"
            ]
          },
          "execution_count": 3,
          "metadata": {},
          "output_type": "execute_result"
        }
      ],
      "source": [
        "# Import the file and print the first 5 rows\n",
        "df = pd.read_csv('Data/Zipcode_Demos.csv')\n",
        "df.head()"
      ]
    },
    {
      "cell_type": "code",
      "execution_count": null,
      "metadata": {
        "id": "YXrHbbcoN6rR",
        "outputId": "8ca3c79f-9a27-4076-efe7-6fa37789f747"
      },
      "outputs": [
        {
          "data": {
            "text/html": [
              "<div>\n",
              "<style scoped>\n",
              "    .dataframe tbody tr th:only-of-type {\n",
              "        vertical-align: middle;\n",
              "    }\n",
              "\n",
              "    .dataframe tbody tr th {\n",
              "        vertical-align: top;\n",
              "    }\n",
              "\n",
              "    .dataframe thead th {\n",
              "        text-align: right;\n",
              "    }\n",
              "</style>\n",
              "<table border=\"1\" class=\"dataframe\">\n",
              "  <thead>\n",
              "    <tr style=\"text-align: right;\">\n",
              "      <th></th>\n",
              "      <th>0</th>\n",
              "      <th>Average Statistics</th>\n",
              "      <th>Unnamed: 2</th>\n",
              "      <th>Unnamed: 3</th>\n",
              "      <th>Unnamed: 4</th>\n",
              "      <th>Unnamed: 5</th>\n",
              "      <th>Unnamed: 6</th>\n",
              "      <th>Unnamed: 7</th>\n",
              "      <th>Unnamed: 8</th>\n",
              "      <th>Unnamed: 9</th>\n",
              "      <th>...</th>\n",
              "      <th>Unnamed: 37</th>\n",
              "      <th>Unnamed: 38</th>\n",
              "      <th>Unnamed: 39</th>\n",
              "      <th>Unnamed: 40</th>\n",
              "      <th>Unnamed: 41</th>\n",
              "      <th>Unnamed: 42</th>\n",
              "      <th>Unnamed: 43</th>\n",
              "      <th>Unnamed: 44</th>\n",
              "      <th>Unnamed: 45</th>\n",
              "      <th>Unnamed: 46</th>\n",
              "    </tr>\n",
              "  </thead>\n",
              "  <tbody>\n",
              "    <tr>\n",
              "      <th>52</th>\n",
              "      <td>53</td>\n",
              "      <td>10006</td>\n",
              "      <td>6</td>\n",
              "      <td>2</td>\n",
              "      <td>0.33</td>\n",
              "      <td>4</td>\n",
              "      <td>0.67</td>\n",
              "      <td>0</td>\n",
              "      <td>0</td>\n",
              "      <td>6</td>\n",
              "      <td>...</td>\n",
              "      <td>6</td>\n",
              "      <td>100</td>\n",
              "      <td>0</td>\n",
              "      <td>0</td>\n",
              "      <td>6</td>\n",
              "      <td>1</td>\n",
              "      <td>0</td>\n",
              "      <td>0</td>\n",
              "      <td>6</td>\n",
              "      <td>100</td>\n",
              "    </tr>\n",
              "    <tr>\n",
              "      <th>53</th>\n",
              "      <td>54</td>\n",
              "      <td>10007</td>\n",
              "      <td>1</td>\n",
              "      <td>0</td>\n",
              "      <td>0</td>\n",
              "      <td>1</td>\n",
              "      <td>1</td>\n",
              "      <td>0</td>\n",
              "      <td>0</td>\n",
              "      <td>1</td>\n",
              "      <td>...</td>\n",
              "      <td>1</td>\n",
              "      <td>100</td>\n",
              "      <td>1</td>\n",
              "      <td>1</td>\n",
              "      <td>0</td>\n",
              "      <td>0</td>\n",
              "      <td>0</td>\n",
              "      <td>0</td>\n",
              "      <td>1</td>\n",
              "      <td>100</td>\n",
              "    </tr>\n",
              "    <tr>\n",
              "      <th>54</th>\n",
              "      <td>55</td>\n",
              "      <td>10009</td>\n",
              "      <td>2</td>\n",
              "      <td>0</td>\n",
              "      <td>0</td>\n",
              "      <td>2</td>\n",
              "      <td>1</td>\n",
              "      <td>0</td>\n",
              "      <td>0</td>\n",
              "      <td>2</td>\n",
              "      <td>...</td>\n",
              "      <td>2</td>\n",
              "      <td>100</td>\n",
              "      <td>0</td>\n",
              "      <td>0</td>\n",
              "      <td>2</td>\n",
              "      <td>1</td>\n",
              "      <td>0</td>\n",
              "      <td>0</td>\n",
              "      <td>2</td>\n",
              "      <td>100</td>\n",
              "    </tr>\n",
              "    <tr>\n",
              "      <th>55</th>\n",
              "      <td>56</td>\n",
              "      <td>10010</td>\n",
              "      <td>0</td>\n",
              "      <td>0</td>\n",
              "      <td>0</td>\n",
              "      <td>0</td>\n",
              "      <td>0</td>\n",
              "      <td>0</td>\n",
              "      <td>0</td>\n",
              "      <td>0</td>\n",
              "      <td>...</td>\n",
              "      <td>0</td>\n",
              "      <td>0</td>\n",
              "      <td>0</td>\n",
              "      <td>0</td>\n",
              "      <td>0</td>\n",
              "      <td>0</td>\n",
              "      <td>0</td>\n",
              "      <td>0</td>\n",
              "      <td>0</td>\n",
              "      <td>0</td>\n",
              "    </tr>\n",
              "    <tr>\n",
              "      <th>56</th>\n",
              "      <td>57</td>\n",
              "      <td>10011</td>\n",
              "      <td>3</td>\n",
              "      <td>2</td>\n",
              "      <td>0.67</td>\n",
              "      <td>1</td>\n",
              "      <td>0.33</td>\n",
              "      <td>0</td>\n",
              "      <td>0</td>\n",
              "      <td>3</td>\n",
              "      <td>...</td>\n",
              "      <td>3</td>\n",
              "      <td>100</td>\n",
              "      <td>0</td>\n",
              "      <td>0</td>\n",
              "      <td>3</td>\n",
              "      <td>1</td>\n",
              "      <td>0</td>\n",
              "      <td>0</td>\n",
              "      <td>3</td>\n",
              "      <td>100</td>\n",
              "    </tr>\n",
              "  </tbody>\n",
              "</table>\n",
              "<p>5 rows × 47 columns</p>\n",
              "</div>"
            ],
            "text/plain": [
              "     0 Average Statistics Unnamed: 2 Unnamed: 3 Unnamed: 4 Unnamed: 5  \\\n",
              "52  53              10006          6          2       0.33          4   \n",
              "53  54              10007          1          0          0          1   \n",
              "54  55              10009          2          0          0          2   \n",
              "55  56              10010          0          0          0          0   \n",
              "56  57              10011          3          2       0.67          1   \n",
              "\n",
              "   Unnamed: 6 Unnamed: 7 Unnamed: 8 Unnamed: 9  ... Unnamed: 37 Unnamed: 38  \\\n",
              "52       0.67          0          0          6  ...           6         100   \n",
              "53          1          0          0          1  ...           1         100   \n",
              "54          1          0          0          2  ...           2         100   \n",
              "55          0          0          0          0  ...           0           0   \n",
              "56       0.33          0          0          3  ...           3         100   \n",
              "\n",
              "   Unnamed: 39 Unnamed: 40 Unnamed: 41 Unnamed: 42 Unnamed: 43 Unnamed: 44  \\\n",
              "52           0           0           6           1           0           0   \n",
              "53           1           1           0           0           0           0   \n",
              "54           0           0           2           1           0           0   \n",
              "55           0           0           0           0           0           0   \n",
              "56           0           0           3           1           0           0   \n",
              "\n",
              "   Unnamed: 45 Unnamed: 46  \n",
              "52           6         100  \n",
              "53           1         100  \n",
              "54           2         100  \n",
              "55           0           0  \n",
              "56           3         100  \n",
              "\n",
              "[5 rows x 47 columns]"
            ]
          },
          "execution_count": 4,
          "metadata": {},
          "output_type": "execute_result"
        }
      ],
      "source": [
        "# Print the last 5 rows of df\n",
        "df.tail()"
      ]
    },
    {
      "cell_type": "code",
      "execution_count": null,
      "metadata": {
        "id": "JAN_VcYXN6rS"
      },
      "outputs": [],
      "source": [
        "# Comment: Dataframe is really two table views, one on top of the other.\n",
        "# The first is a summary view of the raw data below.\n",
        "# There is also a blank row at row 1 in the file."
      ]
    },
    {
      "cell_type": "code",
      "execution_count": null,
      "metadata": {
        "id": "IAYSqexSN6rS",
        "outputId": "8fbe3f63-5c9f-4013-95fa-1c0fb3c3c74c"
      },
      "outputs": [
        {
          "name": "stdout",
          "output_type": "stream",
          "text": [
            "On row 1 there are 44 null values. The previous row had 45 null values.\n",
            "On row 46 there are 0 null values. The previous row had 44 null values.\n"
          ]
        }
      ],
      "source": [
        "# Clean up the dataset\n",
        "prev_count = 10**3\n",
        "for row in df.index:\n",
        "    count = 0\n",
        "    for entry in df.iloc[row].isnull():\n",
        "        if entry:\n",
        "            count += 1\n",
        "    if count != prev_count and row!=0:\n",
        "        print('On row {} there are {} null values. The previous row had {} null values.'.format(row, count, prev_count))\n",
        "    prev_count = count"
      ]
    },
    {
      "cell_type": "code",
      "execution_count": null,
      "metadata": {
        "id": "mtu8WEP3N6rS",
        "outputId": "d3221557-1522-4ef8-ea57-eda0a6e139c0"
      },
      "outputs": [
        {
          "data": {
            "text/html": [
              "<div>\n",
              "<style scoped>\n",
              "    .dataframe tbody tr th:only-of-type {\n",
              "        vertical-align: middle;\n",
              "    }\n",
              "\n",
              "    .dataframe tbody tr th {\n",
              "        vertical-align: top;\n",
              "    }\n",
              "\n",
              "    .dataframe thead th {\n",
              "        text-align: right;\n",
              "    }\n",
              "</style>\n",
              "<table border=\"1\" class=\"dataframe\">\n",
              "  <thead>\n",
              "    <tr style=\"text-align: right;\">\n",
              "      <th></th>\n",
              "      <th>0</th>\n",
              "      <th>Average Statistics</th>\n",
              "      <th>Unnamed: 2</th>\n",
              "    </tr>\n",
              "  </thead>\n",
              "  <tbody>\n",
              "    <tr>\n",
              "      <th>0</th>\n",
              "      <td>2</td>\n",
              "      <td>JURISDICTION NAME</td>\n",
              "      <td>10005.800</td>\n",
              "    </tr>\n",
              "    <tr>\n",
              "      <th>1</th>\n",
              "      <td>3</td>\n",
              "      <td>COUNT PARTICIPANTS</td>\n",
              "      <td>9.400</td>\n",
              "    </tr>\n",
              "    <tr>\n",
              "      <th>2</th>\n",
              "      <td>4</td>\n",
              "      <td>COUNT FEMALE</td>\n",
              "      <td>4.800</td>\n",
              "    </tr>\n",
              "    <tr>\n",
              "      <th>3</th>\n",
              "      <td>5</td>\n",
              "      <td>PERCENT FEMALE</td>\n",
              "      <td>0.404</td>\n",
              "    </tr>\n",
              "    <tr>\n",
              "      <th>4</th>\n",
              "      <td>6</td>\n",
              "      <td>COUNT MALE</td>\n",
              "      <td>4.600</td>\n",
              "    </tr>\n",
              "  </tbody>\n",
              "</table>\n",
              "</div>"
            ],
            "text/plain": [
              "   0  Average Statistics  Unnamed: 2\n",
              "0  2   JURISDICTION NAME   10005.800\n",
              "1  3  COUNT PARTICIPANTS       9.400\n",
              "2  4        COUNT FEMALE       4.800\n",
              "3  5      PERCENT FEMALE       0.404\n",
              "4  6          COUNT MALE       4.600"
            ]
          },
          "execution_count": 7,
          "metadata": {},
          "output_type": "execute_result"
        }
      ],
      "source": [
        "# Import the first part of the data\n",
        "df1 = pd.read_csv('Data/Zipcode_Demos.csv', skiprows=[1], nrows=45, usecols=[0, 1, 2])\n",
        "df1.head()"
      ]
    },
    {
      "cell_type": "code",
      "execution_count": null,
      "metadata": {
        "id": "_o4LetAdN6rS",
        "outputId": "94da734b-32c3-42f9-f4e0-b1878bd8019e"
      },
      "outputs": [
        {
          "data": {
            "text/html": [
              "<div>\n",
              "<style scoped>\n",
              "    .dataframe tbody tr th:only-of-type {\n",
              "        vertical-align: middle;\n",
              "    }\n",
              "\n",
              "    .dataframe tbody tr th {\n",
              "        vertical-align: top;\n",
              "    }\n",
              "\n",
              "    .dataframe thead th {\n",
              "        text-align: right;\n",
              "    }\n",
              "</style>\n",
              "<table border=\"1\" class=\"dataframe\">\n",
              "  <thead>\n",
              "    <tr style=\"text-align: right;\">\n",
              "      <th></th>\n",
              "      <th>0</th>\n",
              "      <th>Average Statistics</th>\n",
              "      <th>Unnamed: 2</th>\n",
              "    </tr>\n",
              "  </thead>\n",
              "  <tbody>\n",
              "    <tr>\n",
              "      <th>40</th>\n",
              "      <td>42</td>\n",
              "      <td>COUNT NRECEIVES PUBLIC ASSISTANCE</td>\n",
              "      <td>7.100</td>\n",
              "    </tr>\n",
              "    <tr>\n",
              "      <th>41</th>\n",
              "      <td>43</td>\n",
              "      <td>PERCENT NRECEIVES PUBLIC ASSISTANCE</td>\n",
              "      <td>0.649</td>\n",
              "    </tr>\n",
              "    <tr>\n",
              "      <th>42</th>\n",
              "      <td>44</td>\n",
              "      <td>COUNT PUBLIC ASSISTANCE UNKNOWN</td>\n",
              "      <td>0.000</td>\n",
              "    </tr>\n",
              "    <tr>\n",
              "      <th>43</th>\n",
              "      <td>45</td>\n",
              "      <td>PERCENT PUBLIC ASSISTANCE UNKNOWN</td>\n",
              "      <td>0.000</td>\n",
              "    </tr>\n",
              "    <tr>\n",
              "      <th>44</th>\n",
              "      <td>46</td>\n",
              "      <td>COUNT PUBLIC ASSISTANCE TOTAL</td>\n",
              "      <td>9.400</td>\n",
              "    </tr>\n",
              "  </tbody>\n",
              "</table>\n",
              "</div>"
            ],
            "text/plain": [
              "     0                   Average Statistics  Unnamed: 2\n",
              "40  42    COUNT NRECEIVES PUBLIC ASSISTANCE       7.100\n",
              "41  43  PERCENT NRECEIVES PUBLIC ASSISTANCE       0.649\n",
              "42  44      COUNT PUBLIC ASSISTANCE UNKNOWN       0.000\n",
              "43  45    PERCENT PUBLIC ASSISTANCE UNKNOWN       0.000\n",
              "44  46        COUNT PUBLIC ASSISTANCE TOTAL       9.400"
            ]
          },
          "execution_count": 8,
          "metadata": {},
          "output_type": "execute_result"
        }
      ],
      "source": [
        "# Look at the last five rows\n",
        "df1.tail()"
      ]
    },
    {
      "cell_type": "code",
      "execution_count": null,
      "metadata": {
        "id": "88i96mP8N6rS",
        "outputId": "a970fa79-bad0-4ead-e163-0658cc046fb0"
      },
      "outputs": [
        {
          "data": {
            "text/html": [
              "<div>\n",
              "<style scoped>\n",
              "    .dataframe tbody tr th:only-of-type {\n",
              "        vertical-align: middle;\n",
              "    }\n",
              "\n",
              "    .dataframe tbody tr th {\n",
              "        vertical-align: top;\n",
              "    }\n",
              "\n",
              "    .dataframe thead th {\n",
              "        text-align: right;\n",
              "    }\n",
              "</style>\n",
              "<table border=\"1\" class=\"dataframe\">\n",
              "  <thead>\n",
              "    <tr style=\"text-align: right;\">\n",
              "      <th></th>\n",
              "      <th>47</th>\n",
              "      <th>JURISDICTION NAME</th>\n",
              "      <th>COUNT PARTICIPANTS</th>\n",
              "      <th>COUNT FEMALE</th>\n",
              "      <th>PERCENT FEMALE</th>\n",
              "      <th>COUNT MALE</th>\n",
              "      <th>PERCENT MALE</th>\n",
              "      <th>COUNT GENDER UNKNOWN</th>\n",
              "      <th>PERCENT GENDER UNKNOWN</th>\n",
              "      <th>COUNT GENDER TOTAL</th>\n",
              "      <th>...</th>\n",
              "      <th>COUNT CITIZEN STATUS TOTAL</th>\n",
              "      <th>PERCENT CITIZEN STATUS TOTAL</th>\n",
              "      <th>COUNT RECEIVES PUBLIC ASSISTANCE</th>\n",
              "      <th>PERCENT RECEIVES PUBLIC ASSISTANCE</th>\n",
              "      <th>COUNT NRECEIVES PUBLIC ASSISTANCE</th>\n",
              "      <th>PERCENT NRECEIVES PUBLIC ASSISTANCE</th>\n",
              "      <th>COUNT PUBLIC ASSISTANCE UNKNOWN</th>\n",
              "      <th>PERCENT PUBLIC ASSISTANCE UNKNOWN</th>\n",
              "      <th>COUNT PUBLIC ASSISTANCE TOTAL</th>\n",
              "      <th>PERCENT PUBLIC ASSISTANCE TOTAL</th>\n",
              "    </tr>\n",
              "  </thead>\n",
              "  <tbody>\n",
              "    <tr>\n",
              "      <th>0</th>\n",
              "      <td>48</td>\n",
              "      <td>10001</td>\n",
              "      <td>44</td>\n",
              "      <td>22</td>\n",
              "      <td>0.50</td>\n",
              "      <td>22</td>\n",
              "      <td>0.50</td>\n",
              "      <td>0</td>\n",
              "      <td>0</td>\n",
              "      <td>44</td>\n",
              "      <td>...</td>\n",
              "      <td>44</td>\n",
              "      <td>100</td>\n",
              "      <td>20</td>\n",
              "      <td>0.45</td>\n",
              "      <td>24</td>\n",
              "      <td>0.55</td>\n",
              "      <td>0</td>\n",
              "      <td>0</td>\n",
              "      <td>44</td>\n",
              "      <td>100</td>\n",
              "    </tr>\n",
              "    <tr>\n",
              "      <th>1</th>\n",
              "      <td>49</td>\n",
              "      <td>10002</td>\n",
              "      <td>35</td>\n",
              "      <td>19</td>\n",
              "      <td>0.54</td>\n",
              "      <td>16</td>\n",
              "      <td>0.46</td>\n",
              "      <td>0</td>\n",
              "      <td>0</td>\n",
              "      <td>35</td>\n",
              "      <td>...</td>\n",
              "      <td>35</td>\n",
              "      <td>100</td>\n",
              "      <td>2</td>\n",
              "      <td>0.06</td>\n",
              "      <td>33</td>\n",
              "      <td>0.94</td>\n",
              "      <td>0</td>\n",
              "      <td>0</td>\n",
              "      <td>35</td>\n",
              "      <td>100</td>\n",
              "    </tr>\n",
              "    <tr>\n",
              "      <th>2</th>\n",
              "      <td>50</td>\n",
              "      <td>10003</td>\n",
              "      <td>1</td>\n",
              "      <td>1</td>\n",
              "      <td>1.00</td>\n",
              "      <td>0</td>\n",
              "      <td>0.00</td>\n",
              "      <td>0</td>\n",
              "      <td>0</td>\n",
              "      <td>1</td>\n",
              "      <td>...</td>\n",
              "      <td>1</td>\n",
              "      <td>100</td>\n",
              "      <td>0</td>\n",
              "      <td>0.00</td>\n",
              "      <td>1</td>\n",
              "      <td>1.00</td>\n",
              "      <td>0</td>\n",
              "      <td>0</td>\n",
              "      <td>1</td>\n",
              "      <td>100</td>\n",
              "    </tr>\n",
              "    <tr>\n",
              "      <th>3</th>\n",
              "      <td>51</td>\n",
              "      <td>10004</td>\n",
              "      <td>0</td>\n",
              "      <td>0</td>\n",
              "      <td>0.00</td>\n",
              "      <td>0</td>\n",
              "      <td>0.00</td>\n",
              "      <td>0</td>\n",
              "      <td>0</td>\n",
              "      <td>0</td>\n",
              "      <td>...</td>\n",
              "      <td>0</td>\n",
              "      <td>0</td>\n",
              "      <td>0</td>\n",
              "      <td>0.00</td>\n",
              "      <td>0</td>\n",
              "      <td>0.00</td>\n",
              "      <td>0</td>\n",
              "      <td>0</td>\n",
              "      <td>0</td>\n",
              "      <td>0</td>\n",
              "    </tr>\n",
              "    <tr>\n",
              "      <th>4</th>\n",
              "      <td>52</td>\n",
              "      <td>10005</td>\n",
              "      <td>2</td>\n",
              "      <td>2</td>\n",
              "      <td>1.00</td>\n",
              "      <td>0</td>\n",
              "      <td>0.00</td>\n",
              "      <td>0</td>\n",
              "      <td>0</td>\n",
              "      <td>2</td>\n",
              "      <td>...</td>\n",
              "      <td>2</td>\n",
              "      <td>100</td>\n",
              "      <td>0</td>\n",
              "      <td>0.00</td>\n",
              "      <td>2</td>\n",
              "      <td>1.00</td>\n",
              "      <td>0</td>\n",
              "      <td>0</td>\n",
              "      <td>2</td>\n",
              "      <td>100</td>\n",
              "    </tr>\n",
              "  </tbody>\n",
              "</table>\n",
              "<p>5 rows × 47 columns</p>\n",
              "</div>"
            ],
            "text/plain": [
              "   47  JURISDICTION NAME  COUNT PARTICIPANTS  COUNT FEMALE  PERCENT FEMALE  \\\n",
              "0  48              10001                  44            22            0.50   \n",
              "1  49              10002                  35            19            0.54   \n",
              "2  50              10003                   1             1            1.00   \n",
              "3  51              10004                   0             0            0.00   \n",
              "4  52              10005                   2             2            1.00   \n",
              "\n",
              "   COUNT MALE  PERCENT MALE  COUNT GENDER UNKNOWN  PERCENT GENDER UNKNOWN  \\\n",
              "0          22          0.50                     0                       0   \n",
              "1          16          0.46                     0                       0   \n",
              "2           0          0.00                     0                       0   \n",
              "3           0          0.00                     0                       0   \n",
              "4           0          0.00                     0                       0   \n",
              "\n",
              "   COUNT GENDER TOTAL  ...  COUNT CITIZEN STATUS TOTAL  \\\n",
              "0                  44  ...                          44   \n",
              "1                  35  ...                          35   \n",
              "2                   1  ...                           1   \n",
              "3                   0  ...                           0   \n",
              "4                   2  ...                           2   \n",
              "\n",
              "   PERCENT CITIZEN STATUS TOTAL  COUNT RECEIVES PUBLIC ASSISTANCE  \\\n",
              "0                           100                                20   \n",
              "1                           100                                 2   \n",
              "2                           100                                 0   \n",
              "3                             0                                 0   \n",
              "4                           100                                 0   \n",
              "\n",
              "   PERCENT RECEIVES PUBLIC ASSISTANCE  COUNT NRECEIVES PUBLIC ASSISTANCE  \\\n",
              "0                                0.45                                 24   \n",
              "1                                0.06                                 33   \n",
              "2                                0.00                                  1   \n",
              "3                                0.00                                  0   \n",
              "4                                0.00                                  2   \n",
              "\n",
              "   PERCENT NRECEIVES PUBLIC ASSISTANCE  COUNT PUBLIC ASSISTANCE UNKNOWN  \\\n",
              "0                                 0.55                                0   \n",
              "1                                 0.94                                0   \n",
              "2                                 1.00                                0   \n",
              "3                                 0.00                                0   \n",
              "4                                 1.00                                0   \n",
              "\n",
              "   PERCENT PUBLIC ASSISTANCE UNKNOWN  COUNT PUBLIC ASSISTANCE TOTAL  \\\n",
              "0                                  0                             44   \n",
              "1                                  0                             35   \n",
              "2                                  0                              1   \n",
              "3                                  0                              0   \n",
              "4                                  0                              2   \n",
              "\n",
              "   PERCENT PUBLIC ASSISTANCE TOTAL  \n",
              "0                              100  \n",
              "1                              100  \n",
              "2                              100  \n",
              "3                                0  \n",
              "4                              100  \n",
              "\n",
              "[5 rows x 47 columns]"
            ]
          },
          "execution_count": 9,
          "metadata": {},
          "output_type": "execute_result"
        }
      ],
      "source": [
        "# Import the second part of the data\n",
        "df2 = pd.read_csv('Data/Zipcode_Demos.csv', skiprows=47)\n",
        "df2.head()"
      ]
    },
    {
      "cell_type": "markdown",
      "metadata": {
        "id": "y-lvciTvN6rT"
      },
      "source": [
        "## Level Up (Optional) - Loading Corrupt CSV files\n",
        "\n",
        "Occasionally, you encounter some really ill-formatted data. One example of this can be data that has strings containing commas in a csv file. Under the standard protocol, when this occurs, one is supposed to use quotes to differentiate between the commas denoting fields and the commas within those fields themselves. For example, we could have a table like this:  \n",
        "\n",
        "`ReviewerID,Rating,N_reviews,Review,VenueID\n",
        "123456,4,137,This restaurant was pretty good, we had a great time.,98765`\n",
        "\n",
        "Which should be saved like this if it were a csv (to avoid confusion with the commas in the Review text):\n",
        "`\"ReviewerID\",\"Rating\",\"N_reviews\",\"Review\",\"VenueID\"\n",
        "\"123456\",\"4\",\"137\",\"This restaurant was pretty good, we had a great time.\",\"98765\"`\n",
        "\n",
        "Attempt to import the corrupt file, or at least a small preview of it. It is appropriately titled `'Yelp_Reviews_Corrupt.csv'`. Investigate some of the intricacies of skipping rows to then pass over this error and comment on what you think is going on."
      ]
    },
    {
      "cell_type": "code",
      "execution_count": null,
      "metadata": {
        "id": "tnnjT5ssN6rT",
        "outputId": "0edc0aaf-cc28-4808-d79e-e04e8d4f6b06"
      },
      "outputs": [
        {
          "name": "stdout",
          "output_type": "stream",
          "text": [
            "Error tokenizing data. C error: Expected 10 fields in line 2331, saw 11\n",
            "\n"
          ]
        }
      ],
      "source": [
        "# Your code here\n",
        "try:\n",
        "    df = pd.read_csv('Data/Yelp_Reviews_Corrupt.csv')\n",
        "except Exception as e:\n",
        "    print(e)"
      ]
    },
    {
      "cell_type": "code",
      "execution_count": null,
      "metadata": {
        "id": "9xNeajaNN6rT",
        "outputId": "20fcdf5a-5c9a-441c-dbd7-040820529543"
      },
      "outputs": [
        {
          "name": "stdout",
          "output_type": "stream",
          "text": [
            "First failure at: 1962\n",
            "1961\n"
          ]
        },
        {
          "data": {
            "text/html": [
              "<div>\n",
              "<style scoped>\n",
              "    .dataframe tbody tr th:only-of-type {\n",
              "        vertical-align: middle;\n",
              "    }\n",
              "\n",
              "    .dataframe tbody tr th {\n",
              "        vertical-align: top;\n",
              "    }\n",
              "\n",
              "    .dataframe thead th {\n",
              "        text-align: right;\n",
              "    }\n",
              "</style>\n",
              "<table border=\"1\" class=\"dataframe\">\n",
              "  <thead>\n",
              "    <tr style=\"text-align: right;\">\n",
              "      <th></th>\n",
              "      <th>Unnamed: 0</th>\n",
              "      <th>business_id</th>\n",
              "      <th>cool</th>\n",
              "      <th>date</th>\n",
              "      <th>funny</th>\n",
              "      <th>review_id</th>\n",
              "      <th>stars</th>\n",
              "      <th>text</th>\n",
              "      <th>useful</th>\n",
              "      <th>user_id</th>\n",
              "    </tr>\n",
              "  </thead>\n",
              "  <tbody>\n",
              "    <tr>\n",
              "      <th>0</th>\n",
              "      <td>1</td>\n",
              "      <td>pomGBqfbxcqPv14c3XH-ZQ</td>\n",
              "      <td>0</td>\n",
              "      <td>2012-11-13</td>\n",
              "      <td>0.0</td>\n",
              "      <td>dDl8zu1vWPdKGihJrwQbpw</td>\n",
              "      <td>5.0</td>\n",
              "      <td>I love this place! My fiance And I go here atl...</td>\n",
              "      <td>0.0</td>\n",
              "      <td>msQe1u7Z_XuqjGoqhB0J5g</td>\n",
              "    </tr>\n",
              "    <tr>\n",
              "      <th>1</th>\n",
              "      <td>2</td>\n",
              "      <td>jtQARsP6P-LbkyjbO1qNGg</td>\n",
              "      <td>1</td>\n",
              "      <td>2014-10-23</td>\n",
              "      <td>1.0</td>\n",
              "      <td>LZp4UX5zK3e-c5ZGSeo3kA</td>\n",
              "      <td>1.0</td>\n",
              "      <td>Terrible. Dry corn bread. Rib tips were all fa...</td>\n",
              "      <td>3.0</td>\n",
              "      <td>msQe1u7Z_XuqjGoqhB0J5g</td>\n",
              "    </tr>\n",
              "    <tr>\n",
              "      <th>2</th>\n",
              "      <td>4</td>\n",
              "      <td>Ums3gaP2qM3W1XcA5r6SsQ</td>\n",
              "      <td>0</td>\n",
              "      <td>2014-09-05</td>\n",
              "      <td>0.0</td>\n",
              "      <td>jsDu6QEJHbwP2Blom1PLCA</td>\n",
              "      <td>5.0</td>\n",
              "      <td>Delicious healthy food. The steak is amazing. ...</td>\n",
              "      <td>0.0</td>\n",
              "      <td>msQe1u7Z_XuqjGoqhB0J5g</td>\n",
              "    </tr>\n",
              "    <tr>\n",
              "      <th>3</th>\n",
              "      <td>5</td>\n",
              "      <td>vgfcTvK81oD4r50NMjU2Ag</td>\n",
              "      <td>0</td>\n",
              "      <td>2011-02-25</td>\n",
              "      <td>0.0</td>\n",
              "      <td>pfavA0hr3nyqO61oupj-lA</td>\n",
              "      <td>1.0</td>\n",
              "      <td>This place sucks. The customer service is horr...</td>\n",
              "      <td>2.0</td>\n",
              "      <td>msQe1u7Z_XuqjGoqhB0J5g</td>\n",
              "    </tr>\n",
              "    <tr>\n",
              "      <th>4</th>\n",
              "      <td>10</td>\n",
              "      <td>yFumR3CWzpfvTH2FCthvVw</td>\n",
              "      <td>0</td>\n",
              "      <td>2016-06-15</td>\n",
              "      <td>0.0</td>\n",
              "      <td>STiFMww2z31siPY7BWNC2g</td>\n",
              "      <td>5.0</td>\n",
              "      <td>I have been an Emerald Club member for a numbe...</td>\n",
              "      <td>0.0</td>\n",
              "      <td>TlvV-xJhmh7LCwJYXkV-cg</td>\n",
              "    </tr>\n",
              "  </tbody>\n",
              "</table>\n",
              "</div>"
            ],
            "text/plain": [
              "  Unnamed: 0             business_id cool        date  funny  \\\n",
              "0          1  pomGBqfbxcqPv14c3XH-ZQ    0  2012-11-13    0.0   \n",
              "1          2  jtQARsP6P-LbkyjbO1qNGg    1  2014-10-23    1.0   \n",
              "2          4  Ums3gaP2qM3W1XcA5r6SsQ    0  2014-09-05    0.0   \n",
              "3          5  vgfcTvK81oD4r50NMjU2Ag    0  2011-02-25    0.0   \n",
              "4         10  yFumR3CWzpfvTH2FCthvVw    0  2016-06-15    0.0   \n",
              "\n",
              "                review_id  stars  \\\n",
              "0  dDl8zu1vWPdKGihJrwQbpw    5.0   \n",
              "1  LZp4UX5zK3e-c5ZGSeo3kA    1.0   \n",
              "2  jsDu6QEJHbwP2Blom1PLCA    5.0   \n",
              "3  pfavA0hr3nyqO61oupj-lA    1.0   \n",
              "4  STiFMww2z31siPY7BWNC2g    5.0   \n",
              "\n",
              "                                                text  useful  \\\n",
              "0  I love this place! My fiance And I go here atl...     0.0   \n",
              "1  Terrible. Dry corn bread. Rib tips were all fa...     3.0   \n",
              "2  Delicious healthy food. The steak is amazing. ...     0.0   \n",
              "3  This place sucks. The customer service is horr...     2.0   \n",
              "4  I have been an Emerald Club member for a numbe...     0.0   \n",
              "\n",
              "                  user_id  \n",
              "0  msQe1u7Z_XuqjGoqhB0J5g  \n",
              "1  msQe1u7Z_XuqjGoqhB0J5g  \n",
              "2  msQe1u7Z_XuqjGoqhB0J5g  \n",
              "3  msQe1u7Z_XuqjGoqhB0J5g  \n",
              "4  TlvV-xJhmh7LCwJYXkV-cg  "
            ]
          },
          "execution_count": 12,
          "metadata": {},
          "output_type": "execute_result"
        }
      ],
      "source": [
        "# # Iteration 1\n",
        "for i in range(1500,2000):\n",
        "    try:\n",
        "        df = pd.read_csv('Data/Yelp_Reviews_Corrupt.csv', nrows=i)\n",
        "    except:\n",
        "        print('First failure at: {}'.format(i))\n",
        "        break\n",
        "df1 = pd.read_csv('Data/Yelp_Reviews_Corrupt.csv', nrows=i-1)\n",
        "print(len(df))\n",
        "df1.head()"
      ]
    },
    {
      "cell_type": "code",
      "execution_count": null,
      "metadata": {
        "id": "nj76EG_LN6rT",
        "outputId": "15025ae7-1354-4912-d9e9-5b1ba48cd0b8"
      },
      "outputs": [
        {
          "data": {
            "text/html": [
              "<div>\n",
              "<style scoped>\n",
              "    .dataframe tbody tr th:only-of-type {\n",
              "        vertical-align: middle;\n",
              "    }\n",
              "\n",
              "    .dataframe tbody tr th {\n",
              "        vertical-align: top;\n",
              "    }\n",
              "\n",
              "    .dataframe thead th {\n",
              "        text-align: right;\n",
              "    }\n",
              "</style>\n",
              "<table border=\"1\" class=\"dataframe\">\n",
              "  <thead>\n",
              "    <tr style=\"text-align: right;\">\n",
              "      <th></th>\n",
              "      <th>Unnamed: 0</th>\n",
              "      <th>business_id</th>\n",
              "      <th>cool</th>\n",
              "      <th>date</th>\n",
              "      <th>funny</th>\n",
              "      <th>review_id</th>\n",
              "      <th>stars</th>\n",
              "      <th>text</th>\n",
              "      <th>useful</th>\n",
              "      <th>user_id</th>\n",
              "    </tr>\n",
              "  </thead>\n",
              "  <tbody>\n",
              "    <tr>\n",
              "      <th>1956</th>\n",
              "      <td>4993</td>\n",
              "      <td>u8C8pRvaHXg3PgDrsUHJHQ</td>\n",
              "      <td>0</td>\n",
              "      <td>2016-08-08</td>\n",
              "      <td>0.0</td>\n",
              "      <td>gXmHGBSBBz2-uHdvGf4lZQ</td>\n",
              "      <td>2.0</td>\n",
              "      <td>just went to a retirement party upstairs and t...</td>\n",
              "      <td>1.0</td>\n",
              "      <td>tFa-r1pxZh04FjxNSEQgcQ</td>\n",
              "    </tr>\n",
              "    <tr>\n",
              "      <th>1957</th>\n",
              "      <td>4998</td>\n",
              "      <td>-9nai28tnoylwViuJVrYEQ</td>\n",
              "      <td>0</td>\n",
              "      <td>2015-03-22</td>\n",
              "      <td>0.0</td>\n",
              "      <td>u-zqCN_IXfypJIUzIVUuzw</td>\n",
              "      <td>5.0</td>\n",
              "      <td>Great restaurant and great atmosphere.</td>\n",
              "      <td>NaN</td>\n",
              "      <td>NaN</td>\n",
              "    </tr>\n",
              "    <tr>\n",
              "      <th>1958</th>\n",
              "      <td>I had an awesome great time with friends.</td>\n",
              "      <td>NaN</td>\n",
              "      <td>NaN</td>\n",
              "      <td>NaN</td>\n",
              "      <td>NaN</td>\n",
              "      <td>NaN</td>\n",
              "      <td>NaN</td>\n",
              "      <td>NaN</td>\n",
              "      <td>NaN</td>\n",
              "      <td>NaN</td>\n",
              "    </tr>\n",
              "    <tr>\n",
              "      <th>1959</th>\n",
              "      <td>I loved the tapas and the excellent paella.</td>\n",
              "      <td>NaN</td>\n",
              "      <td>NaN</td>\n",
              "      <td>NaN</td>\n",
              "      <td>NaN</td>\n",
              "      <td>NaN</td>\n",
              "      <td>NaN</td>\n",
              "      <td>NaN</td>\n",
              "      <td>NaN</td>\n",
              "      <td>NaN</td>\n",
              "    </tr>\n",
              "    <tr>\n",
              "      <th>1960</th>\n",
              "      <td>I can't wait to come back soon.</td>\n",
              "      <td>0</td>\n",
              "      <td>otDVyX37h61WEbqPLEjCmQ</td>\n",
              "      <td>NaN</td>\n",
              "      <td>NaN</td>\n",
              "      <td>NaN</td>\n",
              "      <td>NaN</td>\n",
              "      <td>NaN</td>\n",
              "      <td>NaN</td>\n",
              "      <td>NaN</td>\n",
              "    </tr>\n",
              "  </tbody>\n",
              "</table>\n",
              "</div>"
            ],
            "text/plain": [
              "                                       Unnamed: 0             business_id  \\\n",
              "1956                                         4993  u8C8pRvaHXg3PgDrsUHJHQ   \n",
              "1957                                         4998  -9nai28tnoylwViuJVrYEQ   \n",
              "1958    I had an awesome great time with friends.                     NaN   \n",
              "1959  I loved the tapas and the excellent paella.                     NaN   \n",
              "1960              I can't wait to come back soon.                       0   \n",
              "\n",
              "                        cool        date  funny               review_id  \\\n",
              "1956                       0  2016-08-08    0.0  gXmHGBSBBz2-uHdvGf4lZQ   \n",
              "1957                       0  2015-03-22    0.0  u-zqCN_IXfypJIUzIVUuzw   \n",
              "1958                     NaN         NaN    NaN                     NaN   \n",
              "1959                     NaN         NaN    NaN                     NaN   \n",
              "1960  otDVyX37h61WEbqPLEjCmQ         NaN    NaN                     NaN   \n",
              "\n",
              "      stars                                               text  useful  \\\n",
              "1956    2.0  just went to a retirement party upstairs and t...     1.0   \n",
              "1957    5.0             Great restaurant and great atmosphere.     NaN   \n",
              "1958    NaN                                                NaN     NaN   \n",
              "1959    NaN                                                NaN     NaN   \n",
              "1960    NaN                                                NaN     NaN   \n",
              "\n",
              "                     user_id  \n",
              "1956  tFa-r1pxZh04FjxNSEQgcQ  \n",
              "1957                     NaN  \n",
              "1958                     NaN  \n",
              "1959                     NaN  \n",
              "1960                     NaN  "
            ]
          },
          "execution_count": 13,
          "metadata": {},
          "output_type": "execute_result"
        }
      ],
      "source": [
        "df1.tail()"
      ]
    },
    {
      "cell_type": "code",
      "execution_count": null,
      "metadata": {
        "id": "plMuUSo3N6rU",
        "outputId": "c7c9a2b2-ee2c-4156-dd40-d02eb1f7504e"
      },
      "outputs": [
        {
          "name": "stdout",
          "output_type": "stream",
          "text": [
            "498\n"
          ]
        },
        {
          "data": {
            "text/html": [
              "<div>\n",
              "<style scoped>\n",
              "    .dataframe tbody tr th:only-of-type {\n",
              "        vertical-align: middle;\n",
              "    }\n",
              "\n",
              "    .dataframe tbody tr th {\n",
              "        vertical-align: top;\n",
              "    }\n",
              "\n",
              "    .dataframe thead th {\n",
              "        text-align: right;\n",
              "    }\n",
              "</style>\n",
              "<table border=\"1\" class=\"dataframe\">\n",
              "  <thead>\n",
              "    <tr style=\"text-align: right;\">\n",
              "      <th></th>\n",
              "      <th>Unnamed: 0</th>\n",
              "      <th>business_id</th>\n",
              "      <th>cool</th>\n",
              "      <th>date</th>\n",
              "      <th>funny</th>\n",
              "      <th>review_id</th>\n",
              "      <th>stars</th>\n",
              "      <th>text</th>\n",
              "      <th>useful</th>\n",
              "      <th>user_id</th>\n",
              "    </tr>\n",
              "  </thead>\n",
              "  <tbody>\n",
              "    <tr>\n",
              "      <th>0</th>\n",
              "      <td>STAY AWAY FROM THIS PLACE!!!!!!</td>\n",
              "      <td>5</td>\n",
              "      <td>sDofYImMQQmu4Le5G9zmpQ</td>\n",
              "      <td>NaN</td>\n",
              "      <td>NaN</td>\n",
              "      <td>NaN</td>\n",
              "      <td>NaN</td>\n",
              "      <td>NaN</td>\n",
              "      <td>NaN</td>\n",
              "      <td>NaN</td>\n",
              "    </tr>\n",
              "    <tr>\n",
              "      <th>1</th>\n",
              "      <td>3948</td>\n",
              "      <td>GAKFx4jFUtTOTpp_jDJnuA</td>\n",
              "      <td>0</td>\n",
              "      <td>2017-09-01</td>\n",
              "      <td>0</td>\n",
              "      <td>OUZWMw7EgO7D596pUelSlA</td>\n",
              "      <td>5</td>\n",
              "      <td>Nice relaxing atmosphere. Friendly service and...</td>\n",
              "      <td>1</td>\n",
              "      <td>6vJY67yve43Ijvn8RKVUow</td>\n",
              "    </tr>\n",
              "    <tr>\n",
              "      <th>2</th>\n",
              "      <td>3949</td>\n",
              "      <td>0QzCeORfF8EY34UODWRV9A</td>\n",
              "      <td>0</td>\n",
              "      <td>2017-09-03</td>\n",
              "      <td>0</td>\n",
              "      <td>7lbykaWFD8YBwT0mU1Rexw</td>\n",
              "      <td>4</td>\n",
              "      <td>Very pleased with our experience. Great off th...</td>\n",
              "      <td>0</td>\n",
              "      <td>6vJY67yve43Ijvn8RKVUow</td>\n",
              "    </tr>\n",
              "    <tr>\n",
              "      <th>3</th>\n",
              "      <td>3950</td>\n",
              "      <td>tlt8zNrZ6_A3DmXiM-cnBA</td>\n",
              "      <td>0</td>\n",
              "      <td>2016-06-12</td>\n",
              "      <td>0</td>\n",
              "      <td>Nd_soHwCYi8adcNIT2w9LQ</td>\n",
              "      <td>1</td>\n",
              "      <td>Wife went to this location and was horrible. N...</td>\n",
              "      <td>0</td>\n",
              "      <td>S0dnPb1OzaqdBSOxyLr7BQ</td>\n",
              "    </tr>\n",
              "    <tr>\n",
              "      <th>4</th>\n",
              "      <td>3952</td>\n",
              "      <td>XD0LjNuPPwJPsTAHecUh7A</td>\n",
              "      <td>0</td>\n",
              "      <td>2015-08-23</td>\n",
              "      <td>0</td>\n",
              "      <td>FUUTAr5CECrkfRa9Y2-MSg</td>\n",
              "      <td>1</td>\n",
              "      <td>Not baby friendly anymore.</td>\n",
              "      <td>NaN</td>\n",
              "      <td>NaN</td>\n",
              "    </tr>\n",
              "  </tbody>\n",
              "</table>\n",
              "</div>"
            ],
            "text/plain": [
              "                        Unnamed: 0             business_id  \\\n",
              "0  STAY AWAY FROM THIS PLACE!!!!!!                       5   \n",
              "1                             3948  GAKFx4jFUtTOTpp_jDJnuA   \n",
              "2                             3949  0QzCeORfF8EY34UODWRV9A   \n",
              "3                             3950  tlt8zNrZ6_A3DmXiM-cnBA   \n",
              "4                             3952  XD0LjNuPPwJPsTAHecUh7A   \n",
              "\n",
              "                     cool        date funny               review_id stars  \\\n",
              "0  sDofYImMQQmu4Le5G9zmpQ         NaN   NaN                     NaN   NaN   \n",
              "1                       0  2017-09-01     0  OUZWMw7EgO7D596pUelSlA     5   \n",
              "2                       0  2017-09-03     0  7lbykaWFD8YBwT0mU1Rexw     4   \n",
              "3                       0  2016-06-12     0  Nd_soHwCYi8adcNIT2w9LQ     1   \n",
              "4                       0  2015-08-23     0  FUUTAr5CECrkfRa9Y2-MSg     1   \n",
              "\n",
              "                                                text useful  \\\n",
              "0                                                NaN    NaN   \n",
              "1  Nice relaxing atmosphere. Friendly service and...      1   \n",
              "2  Very pleased with our experience. Great off th...      0   \n",
              "3  Wife went to this location and was horrible. N...      0   \n",
              "4                        Not baby friendly anymore.     NaN   \n",
              "\n",
              "                  user_id  \n",
              "0                     NaN  \n",
              "1  6vJY67yve43Ijvn8RKVUow  \n",
              "2  6vJY67yve43Ijvn8RKVUow  \n",
              "3  S0dnPb1OzaqdBSOxyLr7BQ  \n",
              "4                     NaN  "
            ]
          },
          "execution_count": 14,
          "metadata": {},
          "output_type": "execute_result"
        }
      ],
      "source": [
        "# # Iteration 2\n",
        "for i in range(0,500):\n",
        "    try:\n",
        "        temp = pd.read_csv('Data/Yelp_Reviews_Corrupt.csv', skiprows=1962, nrows=i, names=df1.columns)\n",
        "    except:\n",
        "        print('First failure at: {}'.format(i))\n",
        "        break\n",
        "df2 = pd.read_csv('Data/Yelp_Reviews_Corrupt.csv', skiprows=1962, nrows=i-1, names=df1.columns)\n",
        "print(len(df2))\n",
        "df2.head()"
      ]
    },
    {
      "cell_type": "code",
      "execution_count": null,
      "metadata": {
        "id": "I9azZNL1N6rU",
        "outputId": "431ecd6a-7a73-4259-9734-d675848d6189"
      },
      "outputs": [
        {
          "ename": "ParserError",
          "evalue": "Error tokenizing data. C error: Expected 10 fields in line 2331, saw 11\n",
          "output_type": "error",
          "traceback": [
            "\u001b[0;31m---------------------------------------------------------------------------\u001b[0m",
            "\u001b[0;31mParserError\u001b[0m                               Traceback (most recent call last)",
            "\u001b[0;32m<ipython-input-15-d6af0e7ded24>\u001b[0m in \u001b[0;36m<module>\u001b[0;34m()\u001b[0m\n\u001b[1;32m      1\u001b[0m \u001b[0;31m# __SOLUTION__\u001b[0m\u001b[0;34m\u001b[0m\u001b[0;34m\u001b[0m\u001b[0m\n\u001b[0;32m----> 2\u001b[0;31m \u001b[0mtemp\u001b[0m \u001b[0;34m=\u001b[0m \u001b[0mpd\u001b[0m\u001b[0;34m.\u001b[0m\u001b[0mread_csv\u001b[0m\u001b[0;34m(\u001b[0m\u001b[0;34m'Data/Yelp_Reviews_Corrupt.csv'\u001b[0m\u001b[0;34m)\u001b[0m\u001b[0;34m\u001b[0m\u001b[0m\n\u001b[0m\u001b[1;32m      3\u001b[0m \u001b[0mprint\u001b[0m\u001b[0;34m(\u001b[0m\u001b[0mlen\u001b[0m\u001b[0;34m(\u001b[0m\u001b[0mtemp\u001b[0m\u001b[0;34m)\u001b[0m\u001b[0;34m)\u001b[0m\u001b[0;34m\u001b[0m\u001b[0m\n\u001b[1;32m      4\u001b[0m \u001b[0mtemp\u001b[0m\u001b[0;34m.\u001b[0m\u001b[0mhead\u001b[0m\u001b[0;34m(\u001b[0m\u001b[0;34m)\u001b[0m\u001b[0;34m\u001b[0m\u001b[0m\n",
            "\u001b[0;32m~/anaconda3/lib/python3.6/site-packages/pandas/io/parsers.py\u001b[0m in \u001b[0;36mparser_f\u001b[0;34m(filepath_or_buffer, sep, delimiter, header, names, index_col, usecols, squeeze, prefix, mangle_dupe_cols, dtype, engine, converters, true_values, false_values, skipinitialspace, skiprows, skipfooter, nrows, na_values, keep_default_na, na_filter, verbose, skip_blank_lines, parse_dates, infer_datetime_format, keep_date_col, date_parser, dayfirst, cache_dates, iterator, chunksize, compression, thousands, decimal, lineterminator, quotechar, quoting, doublequote, escapechar, comment, encoding, dialect, error_bad_lines, warn_bad_lines, delim_whitespace, low_memory, memory_map, float_precision)\u001b[0m\n\u001b[1;32m    683\u001b[0m         )\n\u001b[1;32m    684\u001b[0m \u001b[0;34m\u001b[0m\u001b[0m\n\u001b[0;32m--> 685\u001b[0;31m         \u001b[0;32mreturn\u001b[0m \u001b[0m_read\u001b[0m\u001b[0;34m(\u001b[0m\u001b[0mfilepath_or_buffer\u001b[0m\u001b[0;34m,\u001b[0m \u001b[0mkwds\u001b[0m\u001b[0;34m)\u001b[0m\u001b[0;34m\u001b[0m\u001b[0m\n\u001b[0m\u001b[1;32m    686\u001b[0m \u001b[0;34m\u001b[0m\u001b[0m\n\u001b[1;32m    687\u001b[0m     \u001b[0mparser_f\u001b[0m\u001b[0;34m.\u001b[0m\u001b[0m__name__\u001b[0m \u001b[0;34m=\u001b[0m \u001b[0mname\u001b[0m\u001b[0;34m\u001b[0m\u001b[0m\n",
            "\u001b[0;32m~/anaconda3/lib/python3.6/site-packages/pandas/io/parsers.py\u001b[0m in \u001b[0;36m_read\u001b[0;34m(filepath_or_buffer, kwds)\u001b[0m\n\u001b[1;32m    461\u001b[0m \u001b[0;34m\u001b[0m\u001b[0m\n\u001b[1;32m    462\u001b[0m     \u001b[0;32mtry\u001b[0m\u001b[0;34m:\u001b[0m\u001b[0;34m\u001b[0m\u001b[0m\n\u001b[0;32m--> 463\u001b[0;31m         \u001b[0mdata\u001b[0m \u001b[0;34m=\u001b[0m \u001b[0mparser\u001b[0m\u001b[0;34m.\u001b[0m\u001b[0mread\u001b[0m\u001b[0;34m(\u001b[0m\u001b[0mnrows\u001b[0m\u001b[0;34m)\u001b[0m\u001b[0;34m\u001b[0m\u001b[0m\n\u001b[0m\u001b[1;32m    464\u001b[0m     \u001b[0;32mfinally\u001b[0m\u001b[0;34m:\u001b[0m\u001b[0;34m\u001b[0m\u001b[0m\n\u001b[1;32m    465\u001b[0m         \u001b[0mparser\u001b[0m\u001b[0;34m.\u001b[0m\u001b[0mclose\u001b[0m\u001b[0;34m(\u001b[0m\u001b[0;34m)\u001b[0m\u001b[0;34m\u001b[0m\u001b[0m\n",
            "\u001b[0;32m~/anaconda3/lib/python3.6/site-packages/pandas/io/parsers.py\u001b[0m in \u001b[0;36mread\u001b[0;34m(self, nrows)\u001b[0m\n\u001b[1;32m   1152\u001b[0m     \u001b[0;32mdef\u001b[0m \u001b[0mread\u001b[0m\u001b[0;34m(\u001b[0m\u001b[0mself\u001b[0m\u001b[0;34m,\u001b[0m \u001b[0mnrows\u001b[0m\u001b[0;34m=\u001b[0m\u001b[0;32mNone\u001b[0m\u001b[0;34m)\u001b[0m\u001b[0;34m:\u001b[0m\u001b[0;34m\u001b[0m\u001b[0m\n\u001b[1;32m   1153\u001b[0m         \u001b[0mnrows\u001b[0m \u001b[0;34m=\u001b[0m \u001b[0m_validate_integer\u001b[0m\u001b[0;34m(\u001b[0m\u001b[0;34m\"nrows\"\u001b[0m\u001b[0;34m,\u001b[0m \u001b[0mnrows\u001b[0m\u001b[0;34m)\u001b[0m\u001b[0;34m\u001b[0m\u001b[0m\n\u001b[0;32m-> 1154\u001b[0;31m         \u001b[0mret\u001b[0m \u001b[0;34m=\u001b[0m \u001b[0mself\u001b[0m\u001b[0;34m.\u001b[0m\u001b[0m_engine\u001b[0m\u001b[0;34m.\u001b[0m\u001b[0mread\u001b[0m\u001b[0;34m(\u001b[0m\u001b[0mnrows\u001b[0m\u001b[0;34m)\u001b[0m\u001b[0;34m\u001b[0m\u001b[0m\n\u001b[0m\u001b[1;32m   1155\u001b[0m \u001b[0;34m\u001b[0m\u001b[0m\n\u001b[1;32m   1156\u001b[0m         \u001b[0;31m# May alter columns / col_dict\u001b[0m\u001b[0;34m\u001b[0m\u001b[0;34m\u001b[0m\u001b[0m\n",
            "\u001b[0;32m~/anaconda3/lib/python3.6/site-packages/pandas/io/parsers.py\u001b[0m in \u001b[0;36mread\u001b[0;34m(self, nrows)\u001b[0m\n\u001b[1;32m   2046\u001b[0m     \u001b[0;32mdef\u001b[0m \u001b[0mread\u001b[0m\u001b[0;34m(\u001b[0m\u001b[0mself\u001b[0m\u001b[0;34m,\u001b[0m \u001b[0mnrows\u001b[0m\u001b[0;34m=\u001b[0m\u001b[0;32mNone\u001b[0m\u001b[0;34m)\u001b[0m\u001b[0;34m:\u001b[0m\u001b[0;34m\u001b[0m\u001b[0m\n\u001b[1;32m   2047\u001b[0m         \u001b[0;32mtry\u001b[0m\u001b[0;34m:\u001b[0m\u001b[0;34m\u001b[0m\u001b[0m\n\u001b[0;32m-> 2048\u001b[0;31m             \u001b[0mdata\u001b[0m \u001b[0;34m=\u001b[0m \u001b[0mself\u001b[0m\u001b[0;34m.\u001b[0m\u001b[0m_reader\u001b[0m\u001b[0;34m.\u001b[0m\u001b[0mread\u001b[0m\u001b[0;34m(\u001b[0m\u001b[0mnrows\u001b[0m\u001b[0;34m)\u001b[0m\u001b[0;34m\u001b[0m\u001b[0m\n\u001b[0m\u001b[1;32m   2049\u001b[0m         \u001b[0;32mexcept\u001b[0m \u001b[0mStopIteration\u001b[0m\u001b[0;34m:\u001b[0m\u001b[0;34m\u001b[0m\u001b[0m\n\u001b[1;32m   2050\u001b[0m             \u001b[0;32mif\u001b[0m \u001b[0mself\u001b[0m\u001b[0;34m.\u001b[0m\u001b[0m_first_chunk\u001b[0m\u001b[0;34m:\u001b[0m\u001b[0;34m\u001b[0m\u001b[0m\n",
            "\u001b[0;32mpandas/_libs/parsers.pyx\u001b[0m in \u001b[0;36mpandas._libs.parsers.TextReader.read\u001b[0;34m()\u001b[0m\n",
            "\u001b[0;32mpandas/_libs/parsers.pyx\u001b[0m in \u001b[0;36mpandas._libs.parsers.TextReader._read_low_memory\u001b[0;34m()\u001b[0m\n",
            "\u001b[0;32mpandas/_libs/parsers.pyx\u001b[0m in \u001b[0;36mpandas._libs.parsers.TextReader._read_rows\u001b[0;34m()\u001b[0m\n",
            "\u001b[0;32mpandas/_libs/parsers.pyx\u001b[0m in \u001b[0;36mpandas._libs.parsers.TextReader._tokenize_rows\u001b[0;34m()\u001b[0m\n",
            "\u001b[0;32mpandas/_libs/parsers.pyx\u001b[0m in \u001b[0;36mpandas._libs.parsers.raise_parser_error\u001b[0;34m()\u001b[0m\n",
            "\u001b[0;31mParserError\u001b[0m: Error tokenizing data. C error: Expected 10 fields in line 2331, saw 11\n"
          ]
        }
      ],
      "source": [
        "temp = pd.read_csv('Data/Yelp_Reviews_Corrupt.csv')\n",
        "print(len(temp))\n",
        "temp.head()"
      ]
    },
    {
      "cell_type": "code",
      "execution_count": null,
      "metadata": {
        "id": "EiJrV0-EN6rU",
        "outputId": "e690aa32-5277-41e2-9d87-af2d599305fd"
      },
      "outputs": [
        {
          "name": "stdout",
          "output_type": "stream",
          "text": [
            "4651\n"
          ]
        },
        {
          "data": {
            "text/html": [
              "<div>\n",
              "<style scoped>\n",
              "    .dataframe tbody tr th:only-of-type {\n",
              "        vertical-align: middle;\n",
              "    }\n",
              "\n",
              "    .dataframe tbody tr th {\n",
              "        vertical-align: top;\n",
              "    }\n",
              "\n",
              "    .dataframe thead th {\n",
              "        text-align: right;\n",
              "    }\n",
              "</style>\n",
              "<table border=\"1\" class=\"dataframe\">\n",
              "  <thead>\n",
              "    <tr style=\"text-align: right;\">\n",
              "      <th></th>\n",
              "      <th>Unnamed: 0</th>\n",
              "      <th>business_id</th>\n",
              "      <th>cool</th>\n",
              "      <th>date</th>\n",
              "      <th>funny</th>\n",
              "      <th>review_id</th>\n",
              "      <th>stars</th>\n",
              "      <th>text</th>\n",
              "      <th>useful</th>\n",
              "      <th>user_id</th>\n",
              "    </tr>\n",
              "  </thead>\n",
              "  <tbody>\n",
              "    <tr>\n",
              "      <th>0</th>\n",
              "      <td>1</td>\n",
              "      <td>pomGBqfbxcqPv14c3XH-ZQ</td>\n",
              "      <td>0</td>\n",
              "      <td>2012-11-13</td>\n",
              "      <td>0</td>\n",
              "      <td>dDl8zu1vWPdKGihJrwQbpw</td>\n",
              "      <td>5</td>\n",
              "      <td>I love this place! My fiance And I go here atl...</td>\n",
              "      <td>0</td>\n",
              "      <td>msQe1u7Z_XuqjGoqhB0J5g</td>\n",
              "    </tr>\n",
              "    <tr>\n",
              "      <th>1</th>\n",
              "      <td>2</td>\n",
              "      <td>jtQARsP6P-LbkyjbO1qNGg</td>\n",
              "      <td>1</td>\n",
              "      <td>2014-10-23</td>\n",
              "      <td>1</td>\n",
              "      <td>LZp4UX5zK3e-c5ZGSeo3kA</td>\n",
              "      <td>1</td>\n",
              "      <td>Terrible. Dry corn bread. Rib tips were all fa...</td>\n",
              "      <td>3</td>\n",
              "      <td>msQe1u7Z_XuqjGoqhB0J5g</td>\n",
              "    </tr>\n",
              "    <tr>\n",
              "      <th>2</th>\n",
              "      <td>4</td>\n",
              "      <td>Ums3gaP2qM3W1XcA5r6SsQ</td>\n",
              "      <td>0</td>\n",
              "      <td>2014-09-05</td>\n",
              "      <td>0</td>\n",
              "      <td>jsDu6QEJHbwP2Blom1PLCA</td>\n",
              "      <td>5</td>\n",
              "      <td>Delicious healthy food. The steak is amazing. ...</td>\n",
              "      <td>0</td>\n",
              "      <td>msQe1u7Z_XuqjGoqhB0J5g</td>\n",
              "    </tr>\n",
              "    <tr>\n",
              "      <th>3</th>\n",
              "      <td>5</td>\n",
              "      <td>vgfcTvK81oD4r50NMjU2Ag</td>\n",
              "      <td>0</td>\n",
              "      <td>2011-02-25</td>\n",
              "      <td>0</td>\n",
              "      <td>pfavA0hr3nyqO61oupj-lA</td>\n",
              "      <td>1</td>\n",
              "      <td>This place sucks. The customer service is horr...</td>\n",
              "      <td>2</td>\n",
              "      <td>msQe1u7Z_XuqjGoqhB0J5g</td>\n",
              "    </tr>\n",
              "    <tr>\n",
              "      <th>4</th>\n",
              "      <td>10</td>\n",
              "      <td>yFumR3CWzpfvTH2FCthvVw</td>\n",
              "      <td>0</td>\n",
              "      <td>2016-06-15</td>\n",
              "      <td>0</td>\n",
              "      <td>STiFMww2z31siPY7BWNC2g</td>\n",
              "      <td>5</td>\n",
              "      <td>I have been an Emerald Club member for a numbe...</td>\n",
              "      <td>0</td>\n",
              "      <td>TlvV-xJhmh7LCwJYXkV-cg</td>\n",
              "    </tr>\n",
              "  </tbody>\n",
              "</table>\n",
              "</div>"
            ],
            "text/plain": [
              "  Unnamed: 0             business_id cool        date funny  \\\n",
              "0          1  pomGBqfbxcqPv14c3XH-ZQ    0  2012-11-13     0   \n",
              "1          2  jtQARsP6P-LbkyjbO1qNGg    1  2014-10-23     1   \n",
              "2          4  Ums3gaP2qM3W1XcA5r6SsQ    0  2014-09-05     0   \n",
              "3          5  vgfcTvK81oD4r50NMjU2Ag    0  2011-02-25     0   \n",
              "4         10  yFumR3CWzpfvTH2FCthvVw    0  2016-06-15     0   \n",
              "\n",
              "                review_id stars  \\\n",
              "0  dDl8zu1vWPdKGihJrwQbpw     5   \n",
              "1  LZp4UX5zK3e-c5ZGSeo3kA     1   \n",
              "2  jsDu6QEJHbwP2Blom1PLCA     5   \n",
              "3  pfavA0hr3nyqO61oupj-lA     1   \n",
              "4  STiFMww2z31siPY7BWNC2g     5   \n",
              "\n",
              "                                                text useful  \\\n",
              "0  I love this place! My fiance And I go here atl...      0   \n",
              "1  Terrible. Dry corn bread. Rib tips were all fa...      3   \n",
              "2  Delicious healthy food. The steak is amazing. ...      0   \n",
              "3  This place sucks. The customer service is horr...      2   \n",
              "4  I have been an Emerald Club member for a numbe...      0   \n",
              "\n",
              "                  user_id  \n",
              "0  msQe1u7Z_XuqjGoqhB0J5g  \n",
              "1  msQe1u7Z_XuqjGoqhB0J5g  \n",
              "2  msQe1u7Z_XuqjGoqhB0J5g  \n",
              "3  msQe1u7Z_XuqjGoqhB0J5g  \n",
              "4  TlvV-xJhmh7LCwJYXkV-cg  "
            ]
          },
          "execution_count": 16,
          "metadata": {},
          "output_type": "execute_result"
        }
      ],
      "source": [
        "temp = pd.read_csv('Data/Yelp_Reviews_Corrupt.csv', names=df1.columns, skiprows=1)\n",
        "print(len(temp))\n",
        "temp.head()"
      ]
    },
    {
      "cell_type": "code",
      "execution_count": null,
      "metadata": {
        "id": "B9a0-JGnN6rU",
        "outputId": "32c71589-d01e-4be5-c360-e7fe942b64d7"
      },
      "outputs": [
        {
          "data": {
            "text/html": [
              "<div>\n",
              "<style scoped>\n",
              "    .dataframe tbody tr th:only-of-type {\n",
              "        vertical-align: middle;\n",
              "    }\n",
              "\n",
              "    .dataframe tbody tr th {\n",
              "        vertical-align: top;\n",
              "    }\n",
              "\n",
              "    .dataframe thead th {\n",
              "        text-align: right;\n",
              "    }\n",
              "</style>\n",
              "<table border=\"1\" class=\"dataframe\">\n",
              "  <thead>\n",
              "    <tr style=\"text-align: right;\">\n",
              "      <th></th>\n",
              "      <th>Unnamed: 0</th>\n",
              "      <th>business_id</th>\n",
              "      <th>cool</th>\n",
              "      <th>date</th>\n",
              "      <th>funny</th>\n",
              "      <th>review_id</th>\n",
              "      <th>stars</th>\n",
              "      <th>text</th>\n",
              "      <th>useful</th>\n",
              "      <th>user_id</th>\n",
              "    </tr>\n",
              "  </thead>\n",
              "  <tbody>\n",
              "    <tr>\n",
              "      <th>0</th>\n",
              "      <td>Cons:</td>\n",
              "      <td>NaN</td>\n",
              "      <td>NaN</td>\n",
              "      <td>NaN</td>\n",
              "      <td>NaN</td>\n",
              "      <td>NaN</td>\n",
              "      <td>NaN</td>\n",
              "      <td>NaN</td>\n",
              "      <td>NaN</td>\n",
              "      <td>NaN</td>\n",
              "    </tr>\n",
              "    <tr>\n",
              "      <th>1</th>\n",
              "      <td>-  Dusty!  Not sure if it's all of Vegas but I...</td>\n",
              "      <td>NaN</td>\n",
              "      <td>NaN</td>\n",
              "      <td>NaN</td>\n",
              "      <td>NaN</td>\n",
              "      <td>NaN</td>\n",
              "      <td>NaN</td>\n",
              "      <td>NaN</td>\n",
              "      <td>NaN</td>\n",
              "      <td>NaN</td>\n",
              "    </tr>\n",
              "    <tr>\n",
              "      <th>2</th>\n",
              "      <td>-  Valet parking: kinda inconvenient when you ...</td>\n",
              "      <td>NaN</td>\n",
              "      <td>NaN</td>\n",
              "      <td>NaN</td>\n",
              "      <td>NaN</td>\n",
              "      <td>NaN</td>\n",
              "      <td>NaN</td>\n",
              "      <td>NaN</td>\n",
              "      <td>NaN</td>\n",
              "      <td>NaN</td>\n",
              "    </tr>\n",
              "    <tr>\n",
              "      <th>3</th>\n",
              "      <td>-  Sofabed is extremely flimsy</td>\n",
              "      <td>if you have more than 2 people</td>\n",
              "      <td>insist on 2 queen beds.  the sofa cushions ar...</td>\n",
              "      <td>NaN</td>\n",
              "      <td>NaN</td>\n",
              "      <td>NaN</td>\n",
              "      <td>NaN</td>\n",
              "      <td>NaN</td>\n",
              "      <td>NaN</td>\n",
              "      <td>NaN</td>\n",
              "    </tr>\n",
              "    <tr>\n",
              "      <th>4</th>\n",
              "      <td>Other points:</td>\n",
              "      <td>NaN</td>\n",
              "      <td>NaN</td>\n",
              "      <td>NaN</td>\n",
              "      <td>NaN</td>\n",
              "      <td>NaN</td>\n",
              "      <td>NaN</td>\n",
              "      <td>NaN</td>\n",
              "      <td>NaN</td>\n",
              "      <td>NaN</td>\n",
              "    </tr>\n",
              "    <tr>\n",
              "      <th>5</th>\n",
              "      <td>*  Should call ahead of time to make sure your...</td>\n",
              "      <td>NaN</td>\n",
              "      <td>NaN</td>\n",
              "      <td>NaN</td>\n",
              "      <td>NaN</td>\n",
              "      <td>NaN</td>\n",
              "      <td>NaN</td>\n",
              "      <td>NaN</td>\n",
              "      <td>NaN</td>\n",
              "      <td>NaN</td>\n",
              "    </tr>\n",
              "    <tr>\n",
              "      <th>6</th>\n",
              "      <td>*  Hotel lobby is extremely small!</td>\n",
              "      <td>NaN</td>\n",
              "      <td>NaN</td>\n",
              "      <td>NaN</td>\n",
              "      <td>NaN</td>\n",
              "      <td>NaN</td>\n",
              "      <td>NaN</td>\n",
              "      <td>NaN</td>\n",
              "      <td>NaN</td>\n",
              "      <td>NaN</td>\n",
              "    </tr>\n",
              "    <tr>\n",
              "      <th>7</th>\n",
              "      <td>*  In-room food service was overpriced (and fo...</td>\n",
              "      <td>NaN</td>\n",
              "      <td>NaN</td>\n",
              "      <td>NaN</td>\n",
              "      <td>NaN</td>\n",
              "      <td>NaN</td>\n",
              "      <td>NaN</td>\n",
              "      <td>NaN</td>\n",
              "      <td>NaN</td>\n",
              "      <td>NaN</td>\n",
              "    </tr>\n",
              "    <tr>\n",
              "      <th>8</th>\n",
              "      <td>*  Don't go to the 7-11</td>\n",
              "      <td>it's shady.  You can shop at the am/pm or the...</td>\n",
              "      <td>NaN</td>\n",
              "      <td>NaN</td>\n",
              "      <td>NaN</td>\n",
              "      <td>NaN</td>\n",
              "      <td>NaN</td>\n",
              "      <td>NaN</td>\n",
              "      <td>NaN</td>\n",
              "      <td>NaN</td>\n",
              "    </tr>\n",
              "    <tr>\n",
              "      <th>9</th>\n",
              "      <td>Overall</td>\n",
              "      <td>it was a good experience for the price we pai...</td>\n",
              "      <td>3</td>\n",
              "      <td>DZYGeWwBRKHgLUSk12sCvA</td>\n",
              "      <td>NaN</td>\n",
              "      <td>NaN</td>\n",
              "      <td>NaN</td>\n",
              "      <td>NaN</td>\n",
              "      <td>NaN</td>\n",
              "      <td>NaN</td>\n",
              "    </tr>\n",
              "    <tr>\n",
              "      <th>10</th>\n",
              "      <td>4058</td>\n",
              "      <td>WPCgtEG-bJt0cZtnM-x7yw</td>\n",
              "      <td>0</td>\n",
              "      <td>2012-02-28</td>\n",
              "      <td>0</td>\n",
              "      <td>igf8qa4uqeApRYwnrmcnWg</td>\n",
              "      <td>5</td>\n",
              "      <td>Loud</td>\n",
              "      <td>fun and full of excitement! This high energy</td>\n",
              "      <td>audience participation show was awesome.  Gre...</td>\n",
              "    </tr>\n",
              "    <tr>\n",
              "      <th>11</th>\n",
              "      <td>1624</td>\n",
              "      <td>T5R6aILLDBnHQvfejY7dgA</td>\n",
              "      <td>1</td>\n",
              "      <td>2012-07-09</td>\n",
              "      <td>0</td>\n",
              "      <td>HjYi1MBvuVf8fVsLeLx1bQ</td>\n",
              "      <td>5</td>\n",
              "      <td>I've gone here since I was 8 or 9 years old. N...</td>\n",
              "      <td>I plan on taking my future children there. I ...</td>\n",
              "      <td>2</td>\n",
              "    </tr>\n",
              "    <tr>\n",
              "      <th>12</th>\n",
              "      <td>4938</td>\n",
              "      <td>53BSdnhzcCBfBH_6TgX63Q</td>\n",
              "      <td>0</td>\n",
              "      <td>2014-08-31</td>\n",
              "      <td>0</td>\n",
              "      <td>hHVBKv4nacYCphHhHt2KIA</td>\n",
              "      <td>5</td>\n",
              "      <td>Very courteous service</td>\n",
              "      <td>very delicious cuisine</td>\n",
              "      <td>and a very phenomenal experience over all. I ...</td>\n",
              "    </tr>\n",
              "    <tr>\n",
              "      <th>13</th>\n",
              "      <td>2897</td>\n",
              "      <td>hOB3NHuF-iVFdEkrA-PUlg</td>\n",
              "      <td>1</td>\n",
              "      <td>2012-02-17</td>\n",
              "      <td>0</td>\n",
              "      <td>acsWXRjRWWKzITQK4KaI4w</td>\n",
              "      <td>4</td>\n",
              "      <td>The Gault is a wonderful destination.  My fian...</td>\n",
              "      <td>but due to the cozy warmth of our home-away-f...</td>\n",
              "      <td>NaN</td>\n",
              "    </tr>\n",
              "    <tr>\n",
              "      <th>14</th>\n",
              "      <td>The room was lovely</td>\n",
              "      <td>we had a loft basic package and really enjoye...</td>\n",
              "      <td>NaN</td>\n",
              "      <td>NaN</td>\n",
              "      <td>NaN</td>\n",
              "      <td>NaN</td>\n",
              "      <td>NaN</td>\n",
              "      <td>NaN</td>\n",
              "      <td>NaN</td>\n",
              "      <td>NaN</td>\n",
              "    </tr>\n",
              "    <tr>\n",
              "      <th>15</th>\n",
              "      <td>We took part in the spa package offered throug...</td>\n",
              "      <td>NaN</td>\n",
              "      <td>NaN</td>\n",
              "      <td>NaN</td>\n",
              "      <td>NaN</td>\n",
              "      <td>NaN</td>\n",
              "      <td>NaN</td>\n",
              "      <td>NaN</td>\n",
              "      <td>NaN</td>\n",
              "      <td>NaN</td>\n",
              "    </tr>\n",
              "    <tr>\n",
              "      <th>16</th>\n",
              "      <td>I emailed the concierge ahead of time to reque...</td>\n",
              "      <td>NaN</td>\n",
              "      <td>NaN</td>\n",
              "      <td>NaN</td>\n",
              "      <td>NaN</td>\n",
              "      <td>NaN</td>\n",
              "      <td>NaN</td>\n",
              "      <td>NaN</td>\n",
              "      <td>NaN</td>\n",
              "      <td>NaN</td>\n",
              "    </tr>\n",
              "    <tr>\n",
              "      <th>17</th>\n",
              "      <td>I've given 4 stars instead of 5 for a couple o...</td>\n",
              "      <td>the breakfast is not included in the room rat...</td>\n",
              "      <td>and the gym is adequate but quite small.</td>\n",
              "      <td>3</td>\n",
              "      <td>gIWWW6w-6P2j-hTH7nantw</td>\n",
              "      <td>NaN</td>\n",
              "      <td>NaN</td>\n",
              "      <td>NaN</td>\n",
              "      <td>NaN</td>\n",
              "      <td>NaN</td>\n",
              "    </tr>\n",
              "    <tr>\n",
              "      <th>18</th>\n",
              "      <td>2422</td>\n",
              "      <td>vwQvDIb_F7AqwCPaQhHrwg</td>\n",
              "      <td>0</td>\n",
              "      <td>2012-10-29</td>\n",
              "      <td>8</td>\n",
              "      <td>iN83pl9IPEo6Ay8g_G5g5g</td>\n",
              "      <td>1</td>\n",
              "      <td>If you are looking for an over-priced dorm lik...</td>\n",
              "      <td>underage drinking</td>\n",
              "      <td>and plenty of side-stepping the puke left in ...</td>\n",
              "    </tr>\n",
              "    <tr>\n",
              "      <th>19</th>\n",
              "      <td>1527</td>\n",
              "      <td>04u-szAykldu-caSDHQaKA</td>\n",
              "      <td>0</td>\n",
              "      <td>2012-02-09</td>\n",
              "      <td>0</td>\n",
              "      <td>VkEeSwaqHgp6VFeANMoFow</td>\n",
              "      <td>4</td>\n",
              "      <td>I have been looking for a good Chinese restrai...</td>\n",
              "      <td>0</td>\n",
              "      <td>iNSL4q8MUvZ1ItVGboPpbQ</td>\n",
              "    </tr>\n",
              "    <tr>\n",
              "      <th>20</th>\n",
              "      <td>4080</td>\n",
              "      <td>EDcZRvERC22Cvw1yi4-VKg</td>\n",
              "      <td>1</td>\n",
              "      <td>2017-12-05</td>\n",
              "      <td>0</td>\n",
              "      <td>tTb_HmUXAj5UwxX6kh8k1w</td>\n",
              "      <td>2</td>\n",
              "      <td>Its was ok. I got the sausage meatballs and Ar...</td>\n",
              "      <td>although the description said square. Friend ...</td>\n",
              "      <td>clean</td>\n",
              "    </tr>\n",
              "    <tr>\n",
              "      <th>21</th>\n",
              "      <td>4237</td>\n",
              "      <td>ZM-ljL_Y6bR4qEYsGHws5A</td>\n",
              "      <td>0</td>\n",
              "      <td>2016-11-05</td>\n",
              "      <td>0</td>\n",
              "      <td>bl6WJnhCl0s1Jd4TUcSX_g</td>\n",
              "      <td>2</td>\n",
              "      <td>Called to see if they had availability and a g...</td>\n",
              "      <td>so come right over.  I said I was a 10 minute...</td>\n",
              "      <td>0</td>\n",
              "    </tr>\n",
              "    <tr>\n",
              "      <th>22</th>\n",
              "      <td>4498</td>\n",
              "      <td>VRTfAP2DjvUYxRY3dw37hA</td>\n",
              "      <td>0</td>\n",
              "      <td>2014-01-08</td>\n",
              "      <td>0</td>\n",
              "      <td>3CYH_03G3ZtIHoA3gIWpLA</td>\n",
              "      <td>4</td>\n",
              "      <td>Luxurious. But of course</td>\n",
              "      <td>you'd expect that from the Bellagio.</td>\n",
              "      <td>NaN</td>\n",
              "    </tr>\n",
              "    <tr>\n",
              "      <th>23</th>\n",
              "      <td>Chi</td>\n",
              "      <td>my pedicurist</td>\n",
              "      <td>was wonderful. Super sweet and very attentive...</td>\n",
              "      <td>it was heavenly. When it was all over</td>\n",
              "      <td>I was kicking myself for not scheduling addit...</td>\n",
              "      <td>NaN</td>\n",
              "      <td>NaN</td>\n",
              "      <td>NaN</td>\n",
              "      <td>NaN</td>\n",
              "      <td>NaN</td>\n",
              "    </tr>\n",
              "    <tr>\n",
              "      <th>24</th>\n",
              "      <td>Four stars instead of five because:</td>\n",
              "      <td>NaN</td>\n",
              "      <td>NaN</td>\n",
              "      <td>NaN</td>\n",
              "      <td>NaN</td>\n",
              "      <td>NaN</td>\n",
              "      <td>NaN</td>\n",
              "      <td>NaN</td>\n",
              "      <td>NaN</td>\n",
              "      <td>NaN</td>\n",
              "    </tr>\n",
              "    <tr>\n",
              "      <th>25</th>\n",
              "      <td>- The ladies in reception were a bit rude</td>\n",
              "      <td>both over the phone and more so in person.</td>\n",
              "      <td>NaN</td>\n",
              "      <td>NaN</td>\n",
              "      <td>NaN</td>\n",
              "      <td>NaN</td>\n",
              "      <td>NaN</td>\n",
              "      <td>NaN</td>\n",
              "      <td>NaN</td>\n",
              "      <td>NaN</td>\n",
              "    </tr>\n",
              "    <tr>\n",
              "      <th>26</th>\n",
              "      <td>- My pedicure only lasted two days! A pedicure...</td>\n",
              "      <td>even 3 weeks without a single chip.</td>\n",
              "      <td>7</td>\n",
              "      <td>ETmpBain2s02PqHGwSr7hQ</td>\n",
              "      <td>NaN</td>\n",
              "      <td>NaN</td>\n",
              "      <td>NaN</td>\n",
              "      <td>NaN</td>\n",
              "      <td>NaN</td>\n",
              "      <td>NaN</td>\n",
              "    </tr>\n",
              "    <tr>\n",
              "      <th>27</th>\n",
              "      <td>2716</td>\n",
              "      <td>4VHp2gei1bpY68ZzEZE9Bg</td>\n",
              "      <td>2</td>\n",
              "      <td>2013-05-22</td>\n",
              "      <td>9</td>\n",
              "      <td>m0eO3358SKkzY7isf6kEpg</td>\n",
              "      <td>1</td>\n",
              "      <td>Not impressed at all. I paid 200 to go up and ...</td>\n",
              "      <td>which was good. Unfortunately</td>\n",
              "      <td>the other 1/2 was spent bad mouthing the comp...</td>\n",
              "    </tr>\n",
              "    <tr>\n",
              "      <th>28</th>\n",
              "      <td>3426</td>\n",
              "      <td>8g3u6g7J93nIOF8owARxew</td>\n",
              "      <td>0</td>\n",
              "      <td>2014-08-13</td>\n",
              "      <td>0</td>\n",
              "      <td>JVwa-qaFERoa2dg0poiBcg</td>\n",
              "      <td>3</td>\n",
              "      <td>If you're looking for a shawarma in this area</td>\n",
              "      <td>this is your only option. Better tasting opti...</td>\n",
              "      <td>NaN</td>\n",
              "    </tr>\n",
              "    <tr>\n",
              "      <th>29</th>\n",
              "      <td>Had the traditional chicken shawarma. one of m...</td>\n",
              "      <td>NaN</td>\n",
              "      <td>NaN</td>\n",
              "      <td>NaN</td>\n",
              "      <td>NaN</td>\n",
              "      <td>NaN</td>\n",
              "      <td>NaN</td>\n",
              "      <td>NaN</td>\n",
              "      <td>NaN</td>\n",
              "      <td>NaN</td>\n",
              "    </tr>\n",
              "    <tr>\n",
              "      <th>...</th>\n",
              "      <td>...</td>\n",
              "      <td>...</td>\n",
              "      <td>...</td>\n",
              "      <td>...</td>\n",
              "      <td>...</td>\n",
              "      <td>...</td>\n",
              "      <td>...</td>\n",
              "      <td>...</td>\n",
              "      <td>...</td>\n",
              "      <td>...</td>\n",
              "    </tr>\n",
              "    <tr>\n",
              "      <th>2552</th>\n",
              "      <td>Starting off with drinks</td>\n",
              "      <td>Bamburger serves beer</td>\n",
              "      <td>wine</td>\n",
              "      <td>and old-fashioned Stewart's soda</td>\n",
              "      <td>but what is a burger joint without milkshakes...</td>\n",
              "      <td>including the usual vanilla and chocolate sus...</td>\n",
              "      <td>as well a special flavour each day for the ni...</td>\n",
              "      <td>NaN</td>\n",
              "      <td>NaN</td>\n",
              "      <td>NaN</td>\n",
              "    </tr>\n",
              "    <tr>\n",
              "      <th>2553</th>\n",
              "      <td>The menu is varied</td>\n",
              "      <td>offering up soup</td>\n",
              "      <td>salads</td>\n",
              "      <td>sandwiches and desserts</td>\n",
              "      <td>as well as a kid's menu</td>\n",
              "      <td>but almost everyone here is in it for the bur...</td>\n",
              "      <td>from the type of bun</td>\n",
              "      <td>burger patty (beef</td>\n",
              "      <td>chicken</td>\n",
              "      <td>turkey</td>\n",
              "    </tr>\n",
              "    <tr>\n",
              "      <th>2554</th>\n",
              "      <td>We went with the Bambamburger ($11.50)</td>\n",
              "      <td>which is 2/3 of a pound of prime ground chuck</td>\n",
              "      <td>and the chicken burger ($9.95) for myself</td>\n",
              "      <td>on whole-wheat buns. Both of us outfitted our...</td>\n",
              "      <td>including mushrooms</td>\n",
              "      <td>onions</td>\n",
              "      <td>garlic mayo and cheese sauce for the Bambambu...</td>\n",
              "      <td>and avocado</td>\n",
              "      <td>chipotle mayo</td>\n",
              "      <td>dill pickles and jalapeno peppers for the chi...</td>\n",
              "    </tr>\n",
              "    <tr>\n",
              "      <th>2555</th>\n",
              "      <td>Bamburger serves up great burgers</td>\n",
              "      <td>fries and shakes at a fairly good price</td>\n",
              "      <td>although if you go a little overboard with th...</td>\n",
              "      <td>you might quickly end up with a $20 burger</td>\n",
              "      <td>without realizing it. The service was friendl...</td>\n",
              "      <td>and the atmosphere was very comfortable and n...</td>\n",
              "      <td>NaN</td>\n",
              "      <td>NaN</td>\n",
              "      <td>NaN</td>\n",
              "      <td>NaN</td>\n",
              "    </tr>\n",
              "    <tr>\n",
              "      <th>2556</th>\n",
              "      <td>If you are hunting for a real deal on a burger</td>\n",
              "      <td>Bamburger might not be what you are looking for</td>\n",
              "      <td>but if you are more on the adventurous side</td>\n",
              "      <td>and want to have fun creating your own burger...</td>\n",
              "      <td>Bamburger will deliver.</td>\n",
              "      <td>8</td>\n",
              "      <td>YHWsLBS8jzZiPjKHMFOaAA</td>\n",
              "      <td>NaN</td>\n",
              "      <td>NaN</td>\n",
              "      <td>NaN</td>\n",
              "    </tr>\n",
              "    <tr>\n",
              "      <th>2557</th>\n",
              "      <td>3225</td>\n",
              "      <td>iyyWYpWm8X-6i7kBR3JHuw</td>\n",
              "      <td>0</td>\n",
              "      <td>2014-01-27</td>\n",
              "      <td>0</td>\n",
              "      <td>yLKMQNn8VE3CEDX-TF5CfA</td>\n",
              "      <td>1</td>\n",
              "      <td>Tried to attend a recent basketball game. Purc...</td>\n",
              "      <td>two parents and two kids. Arrived 45 min earl...</td>\n",
              "      <td>1</td>\n",
              "    </tr>\n",
              "    <tr>\n",
              "      <th>2558</th>\n",
              "      <td>4674</td>\n",
              "      <td>4KfDcE9iU2isFpoaKeDpgw</td>\n",
              "      <td>0</td>\n",
              "      <td>2012-06-14</td>\n",
              "      <td>0</td>\n",
              "      <td>rFH9iSvRmdm5LtDdsYwwpA</td>\n",
              "      <td>5</td>\n",
              "      <td>Great place to take your kids and interesting ...</td>\n",
              "      <td>0</td>\n",
              "      <td>9gYbRvijurhrnC6yPRlaUw</td>\n",
              "    </tr>\n",
              "    <tr>\n",
              "      <th>2559</th>\n",
              "      <td>4719</td>\n",
              "      <td>P4Plzlfm4uJjNmH3wY4W1Q</td>\n",
              "      <td>0</td>\n",
              "      <td>2014-01-14</td>\n",
              "      <td>0</td>\n",
              "      <td>IobIRp1mGJiLg4B6wHAvqQ</td>\n",
              "      <td>2</td>\n",
              "      <td>While I will continue to eat at this establish...</td>\n",
              "      <td>I will only do so because it is the closet Ch...</td>\n",
              "      <td>otherwise I would completely avoid this place...</td>\n",
              "    </tr>\n",
              "    <tr>\n",
              "      <th>2560</th>\n",
              "      <td>3440</td>\n",
              "      <td>nW45ez1L6U4PsYhV1BTrGQ</td>\n",
              "      <td>0</td>\n",
              "      <td>2012-05-19</td>\n",
              "      <td>0</td>\n",
              "      <td>abStF7f3_IyfZmOP82baZQ</td>\n",
              "      <td>5</td>\n",
              "      <td>H&amp;F Jewellery is amazing!</td>\n",
              "      <td>NaN</td>\n",
              "      <td>NaN</td>\n",
              "    </tr>\n",
              "    <tr>\n",
              "      <th>2561</th>\n",
              "      <td>I had given my husband some ideas of engagemen...</td>\n",
              "      <td>a friend of ours recommended H&amp;F.</td>\n",
              "      <td>NaN</td>\n",
              "      <td>NaN</td>\n",
              "      <td>NaN</td>\n",
              "      <td>NaN</td>\n",
              "      <td>NaN</td>\n",
              "      <td>NaN</td>\n",
              "      <td>NaN</td>\n",
              "      <td>NaN</td>\n",
              "    </tr>\n",
              "    <tr>\n",
              "      <th>2562</th>\n",
              "      <td>The customer service here is great - they are ...</td>\n",
              "      <td>attentive</td>\n",
              "      <td>honest and the prices are very reasonable! My...</td>\n",
              "      <td>NaN</td>\n",
              "      <td>NaN</td>\n",
              "      <td>NaN</td>\n",
              "      <td>NaN</td>\n",
              "      <td>NaN</td>\n",
              "      <td>NaN</td>\n",
              "      <td>NaN</td>\n",
              "    </tr>\n",
              "    <tr>\n",
              "      <th>2563</th>\n",
              "      <td>We went back for our wedding bands and I worke...</td>\n",
              "      <td>NaN</td>\n",
              "      <td>NaN</td>\n",
              "      <td>NaN</td>\n",
              "      <td>NaN</td>\n",
              "      <td>NaN</td>\n",
              "      <td>NaN</td>\n",
              "      <td>NaN</td>\n",
              "      <td>NaN</td>\n",
              "      <td>NaN</td>\n",
              "    </tr>\n",
              "    <tr>\n",
              "      <th>2564</th>\n",
              "      <td>We've recommended 5 other friends to H&amp;F - the...</td>\n",
              "      <td>NaN</td>\n",
              "      <td>NaN</td>\n",
              "      <td>NaN</td>\n",
              "      <td>NaN</td>\n",
              "      <td>NaN</td>\n",
              "      <td>NaN</td>\n",
              "      <td>NaN</td>\n",
              "      <td>NaN</td>\n",
              "      <td>NaN</td>\n",
              "    </tr>\n",
              "    <tr>\n",
              "      <th>2565</th>\n",
              "      <td>Go to H&amp;F for all your jewellery needs - you w...</td>\n",
              "      <td>1</td>\n",
              "      <td>PkRFSQgSfca9Tamq7b2LdQ</td>\n",
              "      <td>NaN</td>\n",
              "      <td>NaN</td>\n",
              "      <td>NaN</td>\n",
              "      <td>NaN</td>\n",
              "      <td>NaN</td>\n",
              "      <td>NaN</td>\n",
              "      <td>NaN</td>\n",
              "    </tr>\n",
              "    <tr>\n",
              "      <th>2566</th>\n",
              "      <td>4812</td>\n",
              "      <td>e13SEvJud_vgeDR_doL4sQ</td>\n",
              "      <td>0</td>\n",
              "      <td>2013-03-01</td>\n",
              "      <td>0</td>\n",
              "      <td>lUV1KEm4cl4mluSEFharFQ</td>\n",
              "      <td>4</td>\n",
              "      <td>We loved the food. The service was good and we...</td>\n",
              "      <td>0</td>\n",
              "      <td>NW6gHZ8PlYl1STK1A1Ixeg</td>\n",
              "    </tr>\n",
              "    <tr>\n",
              "      <th>2567</th>\n",
              "      <td>1970</td>\n",
              "      <td>9NBkIExYYz3w9O5JdzDOMA</td>\n",
              "      <td>0</td>\n",
              "      <td>2013-11-03</td>\n",
              "      <td>0</td>\n",
              "      <td>RT20_fUNJJNqMNvvjviNbQ</td>\n",
              "      <td>1</td>\n",
              "      <td>Hit or miss. I used these guys twice in a day ...</td>\n",
              "      <td>no call nothing. So I call the dispatch to le...</td>\n",
              "      <td>$20 to go 4 miles? I'll be renting a car tomo...</td>\n",
              "    </tr>\n",
              "    <tr>\n",
              "      <th>2568</th>\n",
              "      <td>689</td>\n",
              "      <td>BTcY04QFiS1uh-RpkR7rAg</td>\n",
              "      <td>1</td>\n",
              "      <td>2013-06-02</td>\n",
              "      <td>0</td>\n",
              "      <td>6_A58CCY8SHB7r-Wu7-A5g</td>\n",
              "      <td>5</td>\n",
              "      <td>Came here with my 2 year old daughter for our ...</td>\n",
              "      <td>she asked if everything was ok.  We old her w...</td>\n",
              "      <td>great seating!</td>\n",
              "    </tr>\n",
              "    <tr>\n",
              "      <th>2569</th>\n",
              "      <td>4874</td>\n",
              "      <td>t0T_4MM4EUHbCzBTF11FHA</td>\n",
              "      <td>0</td>\n",
              "      <td>2016-08-14</td>\n",
              "      <td>0</td>\n",
              "      <td>KqQwNyfoFiJOw911mrULIg</td>\n",
              "      <td>5</td>\n",
              "      <td>Great little restaurant. Not to many tables an...</td>\n",
              "      <td>which is awesome. We had the Pad Thai and the...</td>\n",
              "      <td>0</td>\n",
              "    </tr>\n",
              "    <tr>\n",
              "      <th>2570</th>\n",
              "      <td>564</td>\n",
              "      <td>5XYR6doRa5Nj1JMfSDei6A</td>\n",
              "      <td>1</td>\n",
              "      <td>2016-06-14</td>\n",
              "      <td>0</td>\n",
              "      <td>xlGJkxoIBl8XH8wVsPZpnw</td>\n",
              "      <td>5</td>\n",
              "      <td>Always great friendly service and fresh baked ...</td>\n",
              "      <td>NaN</td>\n",
              "      <td>NaN</td>\n",
              "    </tr>\n",
              "    <tr>\n",
              "      <th>2571</th>\n",
              "      <td>Highly recommend the custard cakes they are th...</td>\n",
              "      <td>NaN</td>\n",
              "      <td>NaN</td>\n",
              "      <td>NaN</td>\n",
              "      <td>NaN</td>\n",
              "      <td>NaN</td>\n",
              "      <td>NaN</td>\n",
              "      <td>NaN</td>\n",
              "      <td>NaN</td>\n",
              "      <td>NaN</td>\n",
              "    </tr>\n",
              "    <tr>\n",
              "      <th>2572</th>\n",
              "      <td>The rice flour cake is also really good and a ...</td>\n",
              "      <td>NaN</td>\n",
              "      <td>NaN</td>\n",
              "      <td>NaN</td>\n",
              "      <td>NaN</td>\n",
              "      <td>NaN</td>\n",
              "      <td>NaN</td>\n",
              "      <td>NaN</td>\n",
              "      <td>NaN</td>\n",
              "      <td>NaN</td>\n",
              "    </tr>\n",
              "    <tr>\n",
              "      <th>2573</th>\n",
              "      <td>The bean cakes are great here too!  orange</td>\n",
              "      <td>almond</td>\n",
              "      <td>and a few others I have tried are all good.</td>\n",
              "      <td>NaN</td>\n",
              "      <td>NaN</td>\n",
              "      <td>NaN</td>\n",
              "      <td>NaN</td>\n",
              "      <td>NaN</td>\n",
              "      <td>NaN</td>\n",
              "      <td>NaN</td>\n",
              "    </tr>\n",
              "    <tr>\n",
              "      <th>2574</th>\n",
              "      <td>Can't go wrong with Nova Era</td>\n",
              "      <td>0</td>\n",
              "      <td>kBNFdviedCPFWyR-wVaAzw</td>\n",
              "      <td>NaN</td>\n",
              "      <td>NaN</td>\n",
              "      <td>NaN</td>\n",
              "      <td>NaN</td>\n",
              "      <td>NaN</td>\n",
              "      <td>NaN</td>\n",
              "      <td>NaN</td>\n",
              "    </tr>\n",
              "    <tr>\n",
              "      <th>2575</th>\n",
              "      <td>3458</td>\n",
              "      <td>aLcFhMe6DDJ430zelCpd2A</td>\n",
              "      <td>0</td>\n",
              "      <td>2013-10-02</td>\n",
              "      <td>0</td>\n",
              "      <td>kwiEG_KCpDB6aK5fTSM7iw</td>\n",
              "      <td>2</td>\n",
              "      <td>We were expecting amazing Thai food after all ...</td>\n",
              "      <td>NaN</td>\n",
              "      <td>NaN</td>\n",
              "    </tr>\n",
              "    <tr>\n",
              "      <th>2576</th>\n",
              "      <td>This was disappointing.</td>\n",
              "      <td>NaN</td>\n",
              "      <td>NaN</td>\n",
              "      <td>NaN</td>\n",
              "      <td>NaN</td>\n",
              "      <td>NaN</td>\n",
              "      <td>NaN</td>\n",
              "      <td>NaN</td>\n",
              "      <td>NaN</td>\n",
              "      <td>NaN</td>\n",
              "    </tr>\n",
              "    <tr>\n",
              "      <th>2577</th>\n",
              "      <td>First off</td>\n",
              "      <td>it was really awkward sitting on the benches ...</td>\n",
              "      <td>as people walked past us while to wait for ou...</td>\n",
              "      <td>NaN</td>\n",
              "      <td>NaN</td>\n",
              "      <td>NaN</td>\n",
              "      <td>NaN</td>\n",
              "      <td>NaN</td>\n",
              "      <td>NaN</td>\n",
              "      <td>NaN</td>\n",
              "    </tr>\n",
              "    <tr>\n",
              "      <th>2578</th>\n",
              "      <td>Second</td>\n",
              "      <td>when we were seated</td>\n",
              "      <td>it was so loud. It felt like we were in a hig...</td>\n",
              "      <td>NaN</td>\n",
              "      <td>NaN</td>\n",
              "      <td>NaN</td>\n",
              "      <td>NaN</td>\n",
              "      <td>NaN</td>\n",
              "      <td>NaN</td>\n",
              "      <td>NaN</td>\n",
              "    </tr>\n",
              "    <tr>\n",
              "      <th>2579</th>\n",
              "      <td>Finally - Food was mediocre. I was extremely d...</td>\n",
              "      <td>but it wasn't flavourful.</td>\n",
              "      <td>NaN</td>\n",
              "      <td>NaN</td>\n",
              "      <td>NaN</td>\n",
              "      <td>NaN</td>\n",
              "      <td>NaN</td>\n",
              "      <td>NaN</td>\n",
              "      <td>NaN</td>\n",
              "      <td>NaN</td>\n",
              "    </tr>\n",
              "    <tr>\n",
              "      <th>2580</th>\n",
              "      <td>Wasn't worth the hype</td>\n",
              "      <td>unfortunately.</td>\n",
              "      <td>1</td>\n",
              "      <td>PkRFSQgSfca9Tamq7b2LdQ</td>\n",
              "      <td>NaN</td>\n",
              "      <td>NaN</td>\n",
              "      <td>NaN</td>\n",
              "      <td>NaN</td>\n",
              "      <td>NaN</td>\n",
              "      <td>NaN</td>\n",
              "    </tr>\n",
              "    <tr>\n",
              "      <th>2581</th>\n",
              "      <td>4206</td>\n",
              "      <td>WdBWhGe4Siqg3IYTc4_K4A</td>\n",
              "      <td>0</td>\n",
              "      <td>2016-08-15</td>\n",
              "      <td>0</td>\n",
              "      <td>O0ttxNGxHKtD8Cnnwc_j1g</td>\n",
              "      <td>1</td>\n",
              "      <td>Sunday at 8p. Not many people here at all. We ...</td>\n",
              "      <td>and no one came to take our drink order. We w...</td>\n",
              "      <td>0</td>\n",
              "    </tr>\n",
              "  </tbody>\n",
              "</table>\n",
              "<p>2582 rows × 10 columns</p>\n",
              "</div>"
            ],
            "text/plain": [
              "                                             Unnamed: 0  \\\n",
              "0                                                 Cons:   \n",
              "1     -  Dusty!  Not sure if it's all of Vegas but I...   \n",
              "2     -  Valet parking: kinda inconvenient when you ...   \n",
              "3                        -  Sofabed is extremely flimsy   \n",
              "4                                         Other points:   \n",
              "...                                                 ...   \n",
              "2577                                          First off   \n",
              "2578                                             Second   \n",
              "2579  Finally - Food was mediocre. I was extremely d...   \n",
              "2580                              Wasn't worth the hype   \n",
              "2581                                               4206   \n",
              "\n",
              "                                            business_id  \\\n",
              "0                                                   NaN   \n",
              "1                                                   NaN   \n",
              "2                                                   NaN   \n",
              "3                        if you have more than 2 people   \n",
              "4                                                   NaN   \n",
              "...                                                 ...   \n",
              "2577   it was really awkward sitting on the benches ...   \n",
              "2578                                when we were seated   \n",
              "2579                         but it wasn't flavourful.    \n",
              "2580                                     unfortunately.   \n",
              "2581                             WdBWhGe4Siqg3IYTc4_K4A   \n",
              "\n",
              "                                                   cool  \\\n",
              "0                                                   NaN   \n",
              "1                                                   NaN   \n",
              "2                                                   NaN   \n",
              "3      insist on 2 queen beds.  the sofa cushions ar...   \n",
              "4                                                   NaN   \n",
              "...                                                 ...   \n",
              "2577   as people walked past us while to wait for ou...   \n",
              "2578   it was so loud. It felt like we were in a hig...   \n",
              "2579                                                NaN   \n",
              "2580                                                  1   \n",
              "2581                                                  0   \n",
              "\n",
              "                        date funny               review_id stars  \\\n",
              "0                        NaN   NaN                     NaN   NaN   \n",
              "1                        NaN   NaN                     NaN   NaN   \n",
              "2                        NaN   NaN                     NaN   NaN   \n",
              "3                        NaN   NaN                     NaN   NaN   \n",
              "4                        NaN   NaN                     NaN   NaN   \n",
              "...                      ...   ...                     ...   ...   \n",
              "2577                     NaN   NaN                     NaN   NaN   \n",
              "2578                     NaN   NaN                     NaN   NaN   \n",
              "2579                     NaN   NaN                     NaN   NaN   \n",
              "2580  PkRFSQgSfca9Tamq7b2LdQ   NaN                     NaN   NaN   \n",
              "2581              2016-08-15     0  O0ttxNGxHKtD8Cnnwc_j1g     1   \n",
              "\n",
              "                                                   text  \\\n",
              "0                                                   NaN   \n",
              "1                                                   NaN   \n",
              "2                                                   NaN   \n",
              "3                                                   NaN   \n",
              "4                                                   NaN   \n",
              "...                                                 ...   \n",
              "2577                                                NaN   \n",
              "2578                                                NaN   \n",
              "2579                                                NaN   \n",
              "2580                                                NaN   \n",
              "2581  Sunday at 8p. Not many people here at all. We ...   \n",
              "\n",
              "                                                 useful user_id  \n",
              "0                                                   NaN     NaN  \n",
              "1                                                   NaN     NaN  \n",
              "2                                                   NaN     NaN  \n",
              "3                                                   NaN     NaN  \n",
              "4                                                   NaN     NaN  \n",
              "...                                                 ...     ...  \n",
              "2577                                                NaN     NaN  \n",
              "2578                                                NaN     NaN  \n",
              "2579                                                NaN     NaN  \n",
              "2580                                                NaN     NaN  \n",
              "2581   and no one came to take our drink order. We w...       0  \n",
              "\n",
              "[2582 rows x 10 columns]"
            ]
          },
          "execution_count": 17,
          "metadata": {},
          "output_type": "execute_result"
        }
      ],
      "source": [
        "pd.read_csv('Data/Yelp_Reviews_Corrupt.csv', skiprows=len(df1)+len(df2), names=df1.columns)"
      ]
    },
    {
      "cell_type": "markdown",
      "metadata": {
        "id": "lpukOGtkN6rU"
      },
      "source": [
        "## Summary\n",
        "\n",
        "Congratulations, you now practiced your Pandas-importing skills!"
      ]
    },
    {
      "cell_type": "markdown",
      "metadata": {
        "id": "J_lIlN3BN6rV"
      },
      "source": [
        "# Understanding Pandas Series and DataFrames\n",
        "\n",
        "## Introduction\n",
        "\n",
        "In this lesson, we're digging into `Series` and `DataFrames`, the two main data types you'll work with in the pandas library.\n",
        "\n",
        "## Objectives\n",
        "You will be able to:\n",
        "\n",
        "- Use the `.map()` and `.apply()` methods to apply a function to a pandas Series or DataFrame\n",
        "- Perform operations to change the structure of pandas DataFrames\n",
        "- Change the index of a pandas DataFrame\n",
        "- Change data types of columns in pandas DataFrames\n",
        "\n",
        "## Pandas Data Types vs. Base Python Data Types\n",
        "\n",
        "Built-in Python data types such as lists, dictionaries, and sets can be powerful in limited settings, but they often require:\n",
        "\n",
        "* Several lines of \"boilerplate\" code to accomplish common tasks, which opens up the possibility of mistakes\n",
        "* Extra unnecessary memory space for storing data types. For example, if you have a Python `list` of 100 integers, you are also storing the fact that each one is an integer, and you store that same information again if you increase the length of the list by 1\n",
        "\n",
        "Using pandas data types such as Series and DataFrames instead of built-in Python data types can address both of these issues. Series and DataFrames have a range of built-in methods which make standard practices and procedures streamlined. Some of these methods can result in dramatic performance gains. To read more about these methods, make sure to continuously reference the [Pandas documentation](https://pandas.pydata.org/pandas-docs/stable/).\n",
        "\n",
        "With built-in Python types, it is useful to know all of the available methods, since each of them is likely to come up at one point or another, and there aren't that many. **In pandas, by contrast, it is impossible to know every method at any given time, and you should not devote much time to memorization.** We will not deeply explain every pandas method in these upcoming lessons and labs. A critical part of every data scientist's job is to investigate documentation to learn about components of these tools on your own. When you are trying to do something new with your data, there will probably be a pandas method for it, and you'll work over time to get better at finding the appropriate method using the documentation, Google, and StackOverflow.\n",
        "\n",
        "## Setup\n",
        "\n",
        "This MTA turnstile dataset is a great place for us to get our hands dirty wrangling and cleaning some data! Here's the data dictionary if you want to know more about the dataset http://web.mta.info/developers/resources/nyct/turnstile/ts_Field_Description.txt  \n",
        "\n",
        "Let's import the packages we need and load and preview the dataset.\n",
        "\n",
        "### Import `pandas`"
      ]
    },
    {
      "cell_type": "code",
      "execution_count": null,
      "metadata": {
        "id": "Ll1_7P7YN6rV"
      },
      "outputs": [],
      "source": [
        "import pandas as pd"
      ]
    },
    {
      "cell_type": "markdown",
      "metadata": {
        "id": "9UsrhfBkN6rV"
      },
      "source": [
        "### Load and Preview Dataset"
      ]
    },
    {
      "cell_type": "code",
      "execution_count": null,
      "metadata": {
        "id": "fqSt37HWN6rV",
        "outputId": "4dda183e-9efe-422e-b3c0-a4b9e10ae07d"
      },
      "outputs": [
        {
          "data": {
            "text/html": [
              "<div>\n",
              "<style scoped>\n",
              "    .dataframe tbody tr th:only-of-type {\n",
              "        vertical-align: middle;\n",
              "    }\n",
              "\n",
              "    .dataframe tbody tr th {\n",
              "        vertical-align: top;\n",
              "    }\n",
              "\n",
              "    .dataframe thead th {\n",
              "        text-align: right;\n",
              "    }\n",
              "</style>\n",
              "<table border=\"1\" class=\"dataframe\">\n",
              "  <thead>\n",
              "    <tr style=\"text-align: right;\">\n",
              "      <th></th>\n",
              "      <th>C/A</th>\n",
              "      <th>UNIT</th>\n",
              "      <th>SCP</th>\n",
              "      <th>STATION</th>\n",
              "      <th>LINENAME</th>\n",
              "      <th>DIVISION</th>\n",
              "      <th>DATE</th>\n",
              "      <th>TIME</th>\n",
              "      <th>DESC</th>\n",
              "      <th>ENTRIES</th>\n",
              "      <th>EXITS</th>\n",
              "    </tr>\n",
              "  </thead>\n",
              "  <tbody>\n",
              "    <tr>\n",
              "      <th>0</th>\n",
              "      <td>A002</td>\n",
              "      <td>R051</td>\n",
              "      <td>02-00-00</td>\n",
              "      <td>59 ST</td>\n",
              "      <td>NQR456W</td>\n",
              "      <td>BMT</td>\n",
              "      <td>08/25/2018</td>\n",
              "      <td>00:00:00</td>\n",
              "      <td>REGULAR</td>\n",
              "      <td>0006736067</td>\n",
              "      <td>0002283184                                    ...</td>\n",
              "    </tr>\n",
              "    <tr>\n",
              "      <th>1</th>\n",
              "      <td>A002</td>\n",
              "      <td>R051</td>\n",
              "      <td>02-00-00</td>\n",
              "      <td>59 ST</td>\n",
              "      <td>NQR456W</td>\n",
              "      <td>BMT</td>\n",
              "      <td>08/25/2018</td>\n",
              "      <td>04:00:00</td>\n",
              "      <td>REGULAR</td>\n",
              "      <td>0006736087</td>\n",
              "      <td>0002283188                                    ...</td>\n",
              "    </tr>\n",
              "    <tr>\n",
              "      <th>2</th>\n",
              "      <td>A002</td>\n",
              "      <td>R051</td>\n",
              "      <td>02-00-00</td>\n",
              "      <td>59 ST</td>\n",
              "      <td>NQR456W</td>\n",
              "      <td>BMT</td>\n",
              "      <td>08/25/2018</td>\n",
              "      <td>08:00:00</td>\n",
              "      <td>REGULAR</td>\n",
              "      <td>0006736105</td>\n",
              "      <td>0002283229                                    ...</td>\n",
              "    </tr>\n",
              "    <tr>\n",
              "      <th>3</th>\n",
              "      <td>A002</td>\n",
              "      <td>R051</td>\n",
              "      <td>02-00-00</td>\n",
              "      <td>59 ST</td>\n",
              "      <td>NQR456W</td>\n",
              "      <td>BMT</td>\n",
              "      <td>08/25/2018</td>\n",
              "      <td>12:00:00</td>\n",
              "      <td>REGULAR</td>\n",
              "      <td>0006736180</td>\n",
              "      <td>0002283314                                    ...</td>\n",
              "    </tr>\n",
              "    <tr>\n",
              "      <th>4</th>\n",
              "      <td>A002</td>\n",
              "      <td>R051</td>\n",
              "      <td>02-00-00</td>\n",
              "      <td>59 ST</td>\n",
              "      <td>NQR456W</td>\n",
              "      <td>BMT</td>\n",
              "      <td>08/25/2018</td>\n",
              "      <td>16:00:00</td>\n",
              "      <td>REGULAR</td>\n",
              "      <td>0006736349</td>\n",
              "      <td>0002283384                                    ...</td>\n",
              "    </tr>\n",
              "    <tr>\n",
              "      <th>...</th>\n",
              "      <td>...</td>\n",
              "      <td>...</td>\n",
              "      <td>...</td>\n",
              "      <td>...</td>\n",
              "      <td>...</td>\n",
              "      <td>...</td>\n",
              "      <td>...</td>\n",
              "      <td>...</td>\n",
              "      <td>...</td>\n",
              "      <td>...</td>\n",
              "      <td>...</td>\n",
              "    </tr>\n",
              "    <tr>\n",
              "      <th>197620</th>\n",
              "      <td>TRAM2</td>\n",
              "      <td>R469</td>\n",
              "      <td>00-05-01</td>\n",
              "      <td>RIT-ROOSEVELT</td>\n",
              "      <td>R</td>\n",
              "      <td>RIT</td>\n",
              "      <td>08/31/2018</td>\n",
              "      <td>05:00:00</td>\n",
              "      <td>REGULAR</td>\n",
              "      <td>0000005554</td>\n",
              "      <td>0000000348                                    ...</td>\n",
              "    </tr>\n",
              "    <tr>\n",
              "      <th>197621</th>\n",
              "      <td>TRAM2</td>\n",
              "      <td>R469</td>\n",
              "      <td>00-05-01</td>\n",
              "      <td>RIT-ROOSEVELT</td>\n",
              "      <td>R</td>\n",
              "      <td>RIT</td>\n",
              "      <td>08/31/2018</td>\n",
              "      <td>09:00:00</td>\n",
              "      <td>REGULAR</td>\n",
              "      <td>0000005554</td>\n",
              "      <td>0000000348                                    ...</td>\n",
              "    </tr>\n",
              "    <tr>\n",
              "      <th>197622</th>\n",
              "      <td>TRAM2</td>\n",
              "      <td>R469</td>\n",
              "      <td>00-05-01</td>\n",
              "      <td>RIT-ROOSEVELT</td>\n",
              "      <td>R</td>\n",
              "      <td>RIT</td>\n",
              "      <td>08/31/2018</td>\n",
              "      <td>13:00:00</td>\n",
              "      <td>REGULAR</td>\n",
              "      <td>0000005554</td>\n",
              "      <td>0000000348                                    ...</td>\n",
              "    </tr>\n",
              "    <tr>\n",
              "      <th>197623</th>\n",
              "      <td>TRAM2</td>\n",
              "      <td>R469</td>\n",
              "      <td>00-05-01</td>\n",
              "      <td>RIT-ROOSEVELT</td>\n",
              "      <td>R</td>\n",
              "      <td>RIT</td>\n",
              "      <td>08/31/2018</td>\n",
              "      <td>17:00:00</td>\n",
              "      <td>REGULAR</td>\n",
              "      <td>0000005554</td>\n",
              "      <td>0000000348                                    ...</td>\n",
              "    </tr>\n",
              "    <tr>\n",
              "      <th>197624</th>\n",
              "      <td>TRAM2</td>\n",
              "      <td>R469</td>\n",
              "      <td>00-05-01</td>\n",
              "      <td>RIT-ROOSEVELT</td>\n",
              "      <td>R</td>\n",
              "      <td>RIT</td>\n",
              "      <td>08/31/2018</td>\n",
              "      <td>21:00:00</td>\n",
              "      <td>REGULAR</td>\n",
              "      <td>0000005554</td>\n",
              "      <td>0000000348                                    ...</td>\n",
              "    </tr>\n",
              "  </tbody>\n",
              "</table>\n",
              "<p>197625 rows × 11 columns</p>\n",
              "</div>"
            ],
            "text/plain": [
              "          C/A  UNIT       SCP        STATION LINENAME DIVISION        DATE  \\\n",
              "0        A002  R051  02-00-00          59 ST  NQR456W      BMT  08/25/2018   \n",
              "1        A002  R051  02-00-00          59 ST  NQR456W      BMT  08/25/2018   \n",
              "2        A002  R051  02-00-00          59 ST  NQR456W      BMT  08/25/2018   \n",
              "3        A002  R051  02-00-00          59 ST  NQR456W      BMT  08/25/2018   \n",
              "4        A002  R051  02-00-00          59 ST  NQR456W      BMT  08/25/2018   \n",
              "...       ...   ...       ...            ...      ...      ...         ...   \n",
              "197620  TRAM2  R469  00-05-01  RIT-ROOSEVELT        R      RIT  08/31/2018   \n",
              "197621  TRAM2  R469  00-05-01  RIT-ROOSEVELT        R      RIT  08/31/2018   \n",
              "197622  TRAM2  R469  00-05-01  RIT-ROOSEVELT        R      RIT  08/31/2018   \n",
              "197623  TRAM2  R469  00-05-01  RIT-ROOSEVELT        R      RIT  08/31/2018   \n",
              "197624  TRAM2  R469  00-05-01  RIT-ROOSEVELT        R      RIT  08/31/2018   \n",
              "\n",
              "            TIME     DESC     ENTRIES  \\\n",
              "0       00:00:00  REGULAR  0006736067   \n",
              "1       04:00:00  REGULAR  0006736087   \n",
              "2       08:00:00  REGULAR  0006736105   \n",
              "3       12:00:00  REGULAR  0006736180   \n",
              "4       16:00:00  REGULAR  0006736349   \n",
              "...          ...      ...         ...   \n",
              "197620  05:00:00  REGULAR  0000005554   \n",
              "197621  09:00:00  REGULAR  0000005554   \n",
              "197622  13:00:00  REGULAR  0000005554   \n",
              "197623  17:00:00  REGULAR  0000005554   \n",
              "197624  21:00:00  REGULAR  0000005554   \n",
              "\n",
              "       EXITS                                                                 \n",
              "0       0002283184                                    ...                    \n",
              "1       0002283188                                    ...                    \n",
              "2       0002283229                                    ...                    \n",
              "3       0002283314                                    ...                    \n",
              "4       0002283384                                    ...                    \n",
              "...                                                   ...                    \n",
              "197620  0000000348                                    ...                    \n",
              "197621  0000000348                                    ...                    \n",
              "197622  0000000348                                    ...                    \n",
              "197623  0000000348                                    ...                    \n",
              "197624  0000000348                                    ...                    \n",
              "\n",
              "[197625 rows x 11 columns]"
            ]
          },
          "execution_count": 2,
          "metadata": {},
          "output_type": "execute_result"
        }
      ],
      "source": [
        "df = pd.read_csv('turnstile_180901.txt', dtype=str)\n",
        "df"
      ]
    },
    {
      "cell_type": "code",
      "execution_count": null,
      "metadata": {
        "id": "x9HL8guAN6rV",
        "outputId": "b5f09ae1-c987-441a-a6ac-dfab165e420a"
      },
      "outputs": [
        {
          "name": "stdout",
          "output_type": "stream",
          "text": [
            "<class 'pandas.core.frame.DataFrame'>\n",
            "RangeIndex: 197625 entries, 0 to 197624\n",
            "Data columns (total 11 columns):\n",
            " #   Column                                                                Non-Null Count   Dtype \n",
            "---  ------                                                                --------------   ----- \n",
            " 0   C/A                                                                   197625 non-null  object\n",
            " 1   UNIT                                                                  197625 non-null  object\n",
            " 2   SCP                                                                   197625 non-null  object\n",
            " 3   STATION                                                               197625 non-null  object\n",
            " 4   LINENAME                                                              197625 non-null  object\n",
            " 5   DIVISION                                                              197625 non-null  object\n",
            " 6   DATE                                                                  197625 non-null  object\n",
            " 7   TIME                                                                  197625 non-null  object\n",
            " 8   DESC                                                                  197625 non-null  object\n",
            " 9   ENTRIES                                                               197625 non-null  object\n",
            " 10  EXITS                                                                 197625 non-null  object\n",
            "dtypes: object(11)\n",
            "memory usage: 16.6+ MB\n"
          ]
        }
      ],
      "source": [
        "df.info()"
      ]
    },
    {
      "cell_type": "markdown",
      "metadata": {
        "id": "qO3r0ac-N6rV"
      },
      "source": [
        "## Using `.map()` to Transform Values\n",
        "\n",
        "A standard data preparation step you might need to perform is \"cleaning up\" the values of a dataset so they follow your desired format. The `.map()` method is key for this task.\n",
        "\n",
        "### Passing in a Dictionary\n",
        "\n",
        "One of the most straightforward ways to use the `.map()` method on a pandas Series is with a **dictionary of values you want to use to replace other values**.\n",
        "\n",
        "Let's say we want to look at the `DIVISION` column:"
      ]
    },
    {
      "cell_type": "code",
      "execution_count": null,
      "metadata": {
        "id": "m9Puhm6MN6rW",
        "outputId": "02b58aba-a29c-4920-b1ef-9cabc642acf5"
      },
      "outputs": [
        {
          "data": {
            "text/plain": [
              "IRT    72198\n",
              "IND    69274\n",
              "BMT    41727\n",
              "PTH    12788\n",
              "SRT     1386\n",
              "RIT      252\n",
              "Name: DIVISION, dtype: int64"
            ]
          },
          "execution_count": 4,
          "metadata": {},
          "output_type": "execute_result"
        }
      ],
      "source": [
        "df['DIVISION'].value_counts()"
      ]
    },
    {
      "cell_type": "markdown",
      "metadata": {
        "id": "dMh_1F7IN6rW"
      },
      "source": [
        "*If you have not seen `value_counts()` before, this would be a good time to check out the [documentation for it](https://pandas.pydata.org/pandas-docs/stable/reference/api/pandas.Series.value_counts.html)! We use this method very frequently to understand the distribution of categorical data*"
      ]
    },
    {
      "cell_type": "markdown",
      "metadata": {
        "id": "9Q2Ds55ZN6rW"
      },
      "source": [
        "We look up some additional information, and locate the following mappings:\n",
        "\n",
        "| Abbreviation | Full Name                              |\n",
        "| ------------ | -------------------------------------- |\n",
        "| IRT          | Interborough Rapid Transit Company     |\n",
        "| IND          | Independent Subway System              |\n",
        "| BMT          | Brooklyn–Manhattan Transit Corporation |\n",
        "| PTH          | Port Authority Trans-Hudson (PATH)     |\n",
        "| SRT          | Staten Island Rapid Transit            |\n",
        "| RIT          | Roosevelt Island Tram                  |\n",
        "\n",
        "\n",
        "To represent this in Python, let's use a dictionary with the abbreviations as keys and full names as values."
      ]
    },
    {
      "cell_type": "code",
      "execution_count": null,
      "metadata": {
        "id": "MQ8HaWYlN6rW"
      },
      "outputs": [],
      "source": [
        "division_mapping = {\n",
        "    \"IRT\": \"Interborough Rapid Transit Company\",\n",
        "    \"IND\": \"Independent Subway System\",\n",
        "    \"BMT\": \"Brooklyn–Manhattan Transit Corporation\",\n",
        "    \"PTH\": \"Port Authority Trans-Hudson (PATH)\",\n",
        "    \"SRT\": \"Staten Island Rapid Transit\",\n",
        "    \"RIT\": \"Roosevelt Island Tram\"\n",
        "}"
      ]
    },
    {
      "cell_type": "markdown",
      "metadata": {
        "id": "7vJ75EJ6N6rX"
      },
      "source": [
        "Now we can call the `.map()` method to return a Series with the abbreviations transformed into full names:"
      ]
    },
    {
      "cell_type": "code",
      "execution_count": null,
      "metadata": {
        "id": "fID1kou0N6rX",
        "outputId": "0438c811-f9f0-4dd5-fc9d-fbc304f17788"
      },
      "outputs": [
        {
          "data": {
            "text/plain": [
              "0         Brooklyn–Manhattan Transit Corporation\n",
              "1         Brooklyn–Manhattan Transit Corporation\n",
              "2         Brooklyn–Manhattan Transit Corporation\n",
              "3         Brooklyn–Manhattan Transit Corporation\n",
              "4         Brooklyn–Manhattan Transit Corporation\n",
              "                           ...                  \n",
              "197620                     Roosevelt Island Tram\n",
              "197621                     Roosevelt Island Tram\n",
              "197622                     Roosevelt Island Tram\n",
              "197623                     Roosevelt Island Tram\n",
              "197624                     Roosevelt Island Tram\n",
              "Name: DIVISION, Length: 197625, dtype: object"
            ]
          },
          "execution_count": 6,
          "metadata": {},
          "output_type": "execute_result"
        }
      ],
      "source": [
        "df['DIVISION'].map(division_mapping)"
      ]
    },
    {
      "cell_type": "markdown",
      "metadata": {
        "id": "CYcDg5sNN6rX"
      },
      "source": [
        "Let's go ahead and replace the `DIVISION` column in `df` with these new, transformed values:"
      ]
    },
    {
      "cell_type": "code",
      "execution_count": null,
      "metadata": {
        "id": "dggc7lniN6rX",
        "outputId": "cff517bf-da73-4fef-c419-e12a739c072a"
      },
      "outputs": [
        {
          "data": {
            "text/plain": [
              "Interborough Rapid Transit Company        72198\n",
              "Independent Subway System                 69274\n",
              "Brooklyn–Manhattan Transit Corporation    41727\n",
              "Port Authority Trans-Hudson (PATH)        12788\n",
              "Staten Island Rapid Transit                1386\n",
              "Roosevelt Island Tram                       252\n",
              "Name: DIVISION, dtype: int64"
            ]
          },
          "execution_count": 7,
          "metadata": {},
          "output_type": "execute_result"
        }
      ],
      "source": [
        "df['DIVISION'] = df['DIVISION'].map(division_mapping)\n",
        "df['DIVISION'].value_counts()"
      ]
    },
    {
      "cell_type": "markdown",
      "metadata": {
        "id": "o7f6eLHhN6rX"
      },
      "source": [
        "### Passing in a Function\n",
        "\n",
        "Another way to use the `.map()` method is by passing in a function.\n",
        "\n",
        "Let's say we want to look at the `LINENAME` column:"
      ]
    },
    {
      "cell_type": "code",
      "execution_count": null,
      "metadata": {
        "id": "bQ3qwrNCN6rX",
        "outputId": "f31f431d-3319-4615-b69c-55a5c225daef"
      },
      "outputs": [
        {
          "data": {
            "text/plain": [
              "1        24092\n",
              "6        11263\n",
              "7         9562\n",
              "F         7146\n",
              "25        6881\n",
              "         ...  \n",
              "LG         210\n",
              "R2345      210\n",
              "ND         209\n",
              "23ACE      168\n",
              "S2345      168\n",
              "Name: LINENAME, Length: 113, dtype: int64"
            ]
          },
          "execution_count": 8,
          "metadata": {},
          "output_type": "execute_result"
        }
      ],
      "source": [
        "df['LINENAME'].value_counts()"
      ]
    },
    {
      "cell_type": "markdown",
      "metadata": {
        "id": "6_koSG5yN6rY"
      },
      "source": [
        "The `...` in the middle means this is a shortened version of the full value counts. `Length: 113` means there are 113 different categories present in the column.\n",
        "\n",
        "Rather than substituting these values with some other values like we did with `DIVISION`, let's say we want a boolean (`True` or `False`) value representing whether or not the `LINENAME` contains the string `\"N\"` (i.e. whether or not the stop is an N line stop). We can do this with a function.\n",
        "\n",
        "#### Functions in Python Review\n",
        "\n",
        "Let's review how to do this:\n",
        "\n",
        "* In Python, we define a function using the `def` keyword. Afterwards, we give the function a name, followed by parentheses. Any required (or optional) parameters are specified within the parentheses (`()`), just as you would when you call a function.\n",
        "* You then specify the function's behavior using a colon (`:`) and an indentation, much the same way you would a `for` loop or conditional block.\n",
        "* Finally, if you want your function to return something (as with the `str.pop()` method) as opposed to a function that simply does something in the background but returns nothing (such as `list.append()`), you must use the `return` keyword. Note that as soon as a function hits a point in execution where something is returned, the function would terminate and no further commands would be executed. In other words the `return` command both returns a value and forces termination of the function.\n",
        "\n",
        "Let's define a function that takes in a string and returns `True` if that string contains the letter `'N'`, and returns `False` otherwise."
      ]
    },
    {
      "cell_type": "code",
      "execution_count": null,
      "metadata": {
        "id": "x_MpHWs3N6rY"
      },
      "outputs": [],
      "source": [
        "def contains_n(text):\n",
        "    if 'N' in text:\n",
        "        return True\n",
        "    else:\n",
        "        return False\n",
        "\n",
        "# Or the shorter, more pythonic way\n",
        "# (this overwrites the previous function)\n",
        "def contains_n(text):\n",
        "    return 'N' in text"
      ]
    },
    {
      "cell_type": "markdown",
      "metadata": {
        "id": "A65pFzAQN6rY"
      },
      "source": [
        "Then call the `.map()` method and pass in the function:"
      ]
    },
    {
      "cell_type": "code",
      "execution_count": null,
      "metadata": {
        "id": "g3RJIgSDN6rY",
        "outputId": "d1fbbc12-6f61-4e67-fdc9-e0c361592b31"
      },
      "outputs": [
        {
          "data": {
            "text/plain": [
              "0          True\n",
              "1          True\n",
              "2          True\n",
              "3          True\n",
              "4          True\n",
              "          ...  \n",
              "197620    False\n",
              "197621    False\n",
              "197622    False\n",
              "197623    False\n",
              "197624    False\n",
              "Name: LINENAME, Length: 197625, dtype: bool"
            ]
          },
          "execution_count": 10,
          "metadata": {},
          "output_type": "execute_result"
        }
      ],
      "source": [
        "df['LINENAME'].map(contains_n)"
      ]
    },
    {
      "cell_type": "markdown",
      "metadata": {
        "id": "Vd4M9VP4N6rY"
      },
      "source": [
        "Note that for a pandas Series, the `.apply()` method can be used interchangeably with the `.map()` method when a function is provided (with somewhat different implementations \"under the hood\"):"
      ]
    },
    {
      "cell_type": "code",
      "execution_count": null,
      "metadata": {
        "id": "yDWyBVBJN6rY",
        "outputId": "a38121c1-afa1-4e36-dbcc-753c08f13c6a"
      },
      "outputs": [
        {
          "data": {
            "text/plain": [
              "0          True\n",
              "1          True\n",
              "2          True\n",
              "3          True\n",
              "4          True\n",
              "          ...  \n",
              "197620    False\n",
              "197621    False\n",
              "197622    False\n",
              "197623    False\n",
              "197624    False\n",
              "Name: LINENAME, Length: 197625, dtype: bool"
            ]
          },
          "execution_count": 11,
          "metadata": {},
          "output_type": "execute_result"
        }
      ],
      "source": [
        "df['LINENAME'].apply(contains_n)"
      ]
    },
    {
      "cell_type": "markdown",
      "metadata": {
        "id": "NeWSK8rUN6rY"
      },
      "source": [
        "Rather than replacing `LINENAME` in the dataframe, let's create a new column to hold this result:"
      ]
    },
    {
      "cell_type": "code",
      "execution_count": null,
      "metadata": {
        "id": "6HhK3ZfZN6rZ",
        "outputId": "55a5fe39-17b2-4490-c0a5-0645504e05b3"
      },
      "outputs": [
        {
          "data": {
            "text/html": [
              "<div>\n",
              "<style scoped>\n",
              "    .dataframe tbody tr th:only-of-type {\n",
              "        vertical-align: middle;\n",
              "    }\n",
              "\n",
              "    .dataframe tbody tr th {\n",
              "        vertical-align: top;\n",
              "    }\n",
              "\n",
              "    .dataframe thead th {\n",
              "        text-align: right;\n",
              "    }\n",
              "</style>\n",
              "<table border=\"1\" class=\"dataframe\">\n",
              "  <thead>\n",
              "    <tr style=\"text-align: right;\">\n",
              "      <th></th>\n",
              "      <th>C/A</th>\n",
              "      <th>UNIT</th>\n",
              "      <th>SCP</th>\n",
              "      <th>STATION</th>\n",
              "      <th>LINENAME</th>\n",
              "      <th>DIVISION</th>\n",
              "      <th>DATE</th>\n",
              "      <th>TIME</th>\n",
              "      <th>DESC</th>\n",
              "      <th>ENTRIES</th>\n",
              "      <th>EXITS</th>\n",
              "      <th>On_N_Line</th>\n",
              "    </tr>\n",
              "  </thead>\n",
              "  <tbody>\n",
              "    <tr>\n",
              "      <th>0</th>\n",
              "      <td>A002</td>\n",
              "      <td>R051</td>\n",
              "      <td>02-00-00</td>\n",
              "      <td>59 ST</td>\n",
              "      <td>NQR456W</td>\n",
              "      <td>Brooklyn–Manhattan Transit Corporation</td>\n",
              "      <td>08/25/2018</td>\n",
              "      <td>00:00:00</td>\n",
              "      <td>REGULAR</td>\n",
              "      <td>0006736067</td>\n",
              "      <td>0002283184                                    ...</td>\n",
              "      <td>True</td>\n",
              "    </tr>\n",
              "    <tr>\n",
              "      <th>1</th>\n",
              "      <td>A002</td>\n",
              "      <td>R051</td>\n",
              "      <td>02-00-00</td>\n",
              "      <td>59 ST</td>\n",
              "      <td>NQR456W</td>\n",
              "      <td>Brooklyn–Manhattan Transit Corporation</td>\n",
              "      <td>08/25/2018</td>\n",
              "      <td>04:00:00</td>\n",
              "      <td>REGULAR</td>\n",
              "      <td>0006736087</td>\n",
              "      <td>0002283188                                    ...</td>\n",
              "      <td>True</td>\n",
              "    </tr>\n",
              "    <tr>\n",
              "      <th>2</th>\n",
              "      <td>A002</td>\n",
              "      <td>R051</td>\n",
              "      <td>02-00-00</td>\n",
              "      <td>59 ST</td>\n",
              "      <td>NQR456W</td>\n",
              "      <td>Brooklyn–Manhattan Transit Corporation</td>\n",
              "      <td>08/25/2018</td>\n",
              "      <td>08:00:00</td>\n",
              "      <td>REGULAR</td>\n",
              "      <td>0006736105</td>\n",
              "      <td>0002283229                                    ...</td>\n",
              "      <td>True</td>\n",
              "    </tr>\n",
              "    <tr>\n",
              "      <th>3</th>\n",
              "      <td>A002</td>\n",
              "      <td>R051</td>\n",
              "      <td>02-00-00</td>\n",
              "      <td>59 ST</td>\n",
              "      <td>NQR456W</td>\n",
              "      <td>Brooklyn–Manhattan Transit Corporation</td>\n",
              "      <td>08/25/2018</td>\n",
              "      <td>12:00:00</td>\n",
              "      <td>REGULAR</td>\n",
              "      <td>0006736180</td>\n",
              "      <td>0002283314                                    ...</td>\n",
              "      <td>True</td>\n",
              "    </tr>\n",
              "    <tr>\n",
              "      <th>4</th>\n",
              "      <td>A002</td>\n",
              "      <td>R051</td>\n",
              "      <td>02-00-00</td>\n",
              "      <td>59 ST</td>\n",
              "      <td>NQR456W</td>\n",
              "      <td>Brooklyn–Manhattan Transit Corporation</td>\n",
              "      <td>08/25/2018</td>\n",
              "      <td>16:00:00</td>\n",
              "      <td>REGULAR</td>\n",
              "      <td>0006736349</td>\n",
              "      <td>0002283384                                    ...</td>\n",
              "      <td>True</td>\n",
              "    </tr>\n",
              "    <tr>\n",
              "      <th>...</th>\n",
              "      <td>...</td>\n",
              "      <td>...</td>\n",
              "      <td>...</td>\n",
              "      <td>...</td>\n",
              "      <td>...</td>\n",
              "      <td>...</td>\n",
              "      <td>...</td>\n",
              "      <td>...</td>\n",
              "      <td>...</td>\n",
              "      <td>...</td>\n",
              "      <td>...</td>\n",
              "      <td>...</td>\n",
              "    </tr>\n",
              "    <tr>\n",
              "      <th>197620</th>\n",
              "      <td>TRAM2</td>\n",
              "      <td>R469</td>\n",
              "      <td>00-05-01</td>\n",
              "      <td>RIT-ROOSEVELT</td>\n",
              "      <td>R</td>\n",
              "      <td>Roosevelt Island Tram</td>\n",
              "      <td>08/31/2018</td>\n",
              "      <td>05:00:00</td>\n",
              "      <td>REGULAR</td>\n",
              "      <td>0000005554</td>\n",
              "      <td>0000000348                                    ...</td>\n",
              "      <td>False</td>\n",
              "    </tr>\n",
              "    <tr>\n",
              "      <th>197621</th>\n",
              "      <td>TRAM2</td>\n",
              "      <td>R469</td>\n",
              "      <td>00-05-01</td>\n",
              "      <td>RIT-ROOSEVELT</td>\n",
              "      <td>R</td>\n",
              "      <td>Roosevelt Island Tram</td>\n",
              "      <td>08/31/2018</td>\n",
              "      <td>09:00:00</td>\n",
              "      <td>REGULAR</td>\n",
              "      <td>0000005554</td>\n",
              "      <td>0000000348                                    ...</td>\n",
              "      <td>False</td>\n",
              "    </tr>\n",
              "    <tr>\n",
              "      <th>197622</th>\n",
              "      <td>TRAM2</td>\n",
              "      <td>R469</td>\n",
              "      <td>00-05-01</td>\n",
              "      <td>RIT-ROOSEVELT</td>\n",
              "      <td>R</td>\n",
              "      <td>Roosevelt Island Tram</td>\n",
              "      <td>08/31/2018</td>\n",
              "      <td>13:00:00</td>\n",
              "      <td>REGULAR</td>\n",
              "      <td>0000005554</td>\n",
              "      <td>0000000348                                    ...</td>\n",
              "      <td>False</td>\n",
              "    </tr>\n",
              "    <tr>\n",
              "      <th>197623</th>\n",
              "      <td>TRAM2</td>\n",
              "      <td>R469</td>\n",
              "      <td>00-05-01</td>\n",
              "      <td>RIT-ROOSEVELT</td>\n",
              "      <td>R</td>\n",
              "      <td>Roosevelt Island Tram</td>\n",
              "      <td>08/31/2018</td>\n",
              "      <td>17:00:00</td>\n",
              "      <td>REGULAR</td>\n",
              "      <td>0000005554</td>\n",
              "      <td>0000000348                                    ...</td>\n",
              "      <td>False</td>\n",
              "    </tr>\n",
              "    <tr>\n",
              "      <th>197624</th>\n",
              "      <td>TRAM2</td>\n",
              "      <td>R469</td>\n",
              "      <td>00-05-01</td>\n",
              "      <td>RIT-ROOSEVELT</td>\n",
              "      <td>R</td>\n",
              "      <td>Roosevelt Island Tram</td>\n",
              "      <td>08/31/2018</td>\n",
              "      <td>21:00:00</td>\n",
              "      <td>REGULAR</td>\n",
              "      <td>0000005554</td>\n",
              "      <td>0000000348                                    ...</td>\n",
              "      <td>False</td>\n",
              "    </tr>\n",
              "  </tbody>\n",
              "</table>\n",
              "<p>197625 rows × 12 columns</p>\n",
              "</div>"
            ],
            "text/plain": [
              "          C/A  UNIT       SCP        STATION LINENAME  \\\n",
              "0        A002  R051  02-00-00          59 ST  NQR456W   \n",
              "1        A002  R051  02-00-00          59 ST  NQR456W   \n",
              "2        A002  R051  02-00-00          59 ST  NQR456W   \n",
              "3        A002  R051  02-00-00          59 ST  NQR456W   \n",
              "4        A002  R051  02-00-00          59 ST  NQR456W   \n",
              "...       ...   ...       ...            ...      ...   \n",
              "197620  TRAM2  R469  00-05-01  RIT-ROOSEVELT        R   \n",
              "197621  TRAM2  R469  00-05-01  RIT-ROOSEVELT        R   \n",
              "197622  TRAM2  R469  00-05-01  RIT-ROOSEVELT        R   \n",
              "197623  TRAM2  R469  00-05-01  RIT-ROOSEVELT        R   \n",
              "197624  TRAM2  R469  00-05-01  RIT-ROOSEVELT        R   \n",
              "\n",
              "                                      DIVISION        DATE      TIME     DESC  \\\n",
              "0       Brooklyn–Manhattan Transit Corporation  08/25/2018  00:00:00  REGULAR   \n",
              "1       Brooklyn–Manhattan Transit Corporation  08/25/2018  04:00:00  REGULAR   \n",
              "2       Brooklyn–Manhattan Transit Corporation  08/25/2018  08:00:00  REGULAR   \n",
              "3       Brooklyn–Manhattan Transit Corporation  08/25/2018  12:00:00  REGULAR   \n",
              "4       Brooklyn–Manhattan Transit Corporation  08/25/2018  16:00:00  REGULAR   \n",
              "...                                        ...         ...       ...      ...   \n",
              "197620                   Roosevelt Island Tram  08/31/2018  05:00:00  REGULAR   \n",
              "197621                   Roosevelt Island Tram  08/31/2018  09:00:00  REGULAR   \n",
              "197622                   Roosevelt Island Tram  08/31/2018  13:00:00  REGULAR   \n",
              "197623                   Roosevelt Island Tram  08/31/2018  17:00:00  REGULAR   \n",
              "197624                   Roosevelt Island Tram  08/31/2018  21:00:00  REGULAR   \n",
              "\n",
              "           ENTRIES  \\\n",
              "0       0006736067   \n",
              "1       0006736087   \n",
              "2       0006736105   \n",
              "3       0006736180   \n",
              "4       0006736349   \n",
              "...            ...   \n",
              "197620  0000005554   \n",
              "197621  0000005554   \n",
              "197622  0000005554   \n",
              "197623  0000005554   \n",
              "197624  0000005554   \n",
              "\n",
              "       EXITS                                                                 \\\n",
              "0       0002283184                                    ...                     \n",
              "1       0002283188                                    ...                     \n",
              "2       0002283229                                    ...                     \n",
              "3       0002283314                                    ...                     \n",
              "4       0002283384                                    ...                     \n",
              "...                                                   ...                     \n",
              "197620  0000000348                                    ...                     \n",
              "197621  0000000348                                    ...                     \n",
              "197622  0000000348                                    ...                     \n",
              "197623  0000000348                                    ...                     \n",
              "197624  0000000348                                    ...                     \n",
              "\n",
              "        On_N_Line  \n",
              "0            True  \n",
              "1            True  \n",
              "2            True  \n",
              "3            True  \n",
              "4            True  \n",
              "...           ...  \n",
              "197620      False  \n",
              "197621      False  \n",
              "197622      False  \n",
              "197623      False  \n",
              "197624      False  \n",
              "\n",
              "[197625 rows x 12 columns]"
            ]
          },
          "execution_count": 12,
          "metadata": {},
          "output_type": "execute_result"
        }
      ],
      "source": [
        "df['On_N_Line'] = df['LINENAME'].map(contains_n)\n",
        "df"
      ]
    },
    {
      "cell_type": "code",
      "execution_count": null,
      "metadata": {
        "id": "JP1fwnkfN6rZ",
        "outputId": "4a9b7cb5-8cb4-4233-dc83-443de475b33c"
      },
      "outputs": [
        {
          "data": {
            "text/plain": [
              "False    0.870441\n",
              "True     0.129559\n",
              "Name: On_N_Line, dtype: float64"
            ]
          },
          "execution_count": 13,
          "metadata": {},
          "output_type": "execute_result"
        }
      ],
      "source": [
        "df['On_N_Line'].value_counts(normalize=True)"
      ]
    },
    {
      "cell_type": "markdown",
      "metadata": {
        "id": "DagBP49gN6rZ"
      },
      "source": [
        "#### Functions + `.map()` Explanation\n",
        "\n",
        "Above we used the `.map()` method for Pandas series ([documentation here](https://pandas.pydata.org/docs/reference/api/pandas.Series.map.html)). This allows us to pass a function that will be applied to each and every data entry within the series. This line of Python code:\n",
        "\n",
        "```python\n",
        "df['On_N_Line'] = df['LINENAME'].map(contains_n)\n",
        "```\n",
        "\n",
        "Is essentially the equivalent of this:\n",
        "\n",
        "```python\n",
        "# Create an empty list\n",
        "on_n_line = []\n",
        "# Loop over every row in the dataframe\n",
        "for _, row in df.iterrows():\n",
        "    # Call the function to see if LINENAME contains N\n",
        "    row_contains_n = contains_n(row['LINENAME'])\n",
        "    # Append this result to a list\n",
        "    on_n_line.append(row_contains_n)\n",
        "# Add this list to the dataframe as a new column\n",
        "df['On_N_Line'] = on_n_line\n",
        "```\n",
        "\n",
        "Note that the above snippet is much more complicated than the `.map()` syntax AND the code would run more slowly because it is less efficient. **If you ever find yourself trying to write a `for` loop that loops over all rows in a DataFrame, you are probably doing it wrong!**\n",
        "\n",
        "As shorthand, since this function is only one line we could also pass a lambda function to determine whether or not each row was on the N line or not, rather than declaring a separate function:\n",
        "\n",
        "```python\n",
        "df['On_N_Line'] = df['LINENAME'].map(lambda x: 'N' in x)\n",
        "```\n",
        "\n",
        "This is shorter and equivalent to the functions defined above. Lambda functions are often more convenient, but have less functionality than defining functions explicitly.\n",
        "\n",
        "### Vectorized Pandas Logic for N Line\n",
        "\n",
        "**Even better than using `.map()` with a custom function is using one of the highly efficient methods built into pandas**. These will exist for most common tasks, and checking whether a string contains another string is no exception. The best way to make the `On_N_Line` column is actually using `pandas.Series.str.contains` ([documentation here](https://pandas.pydata.org/docs/reference/api/pandas.Series.str.contains.html)):\n",
        "\n",
        "```python\n",
        "df['On_N_Line'] = df['LINENAME'].str.contains('N', regex=False)\n",
        "```\n",
        "\n",
        "Sometimes, like with this example, the naming is slightly different between base Python and pandas. In base Python we ask whether one string is `in` another, whereas in pandas we ask whether one `.contains` another. Try browsing the available methods on the left side menu of the pandas documentation to find what you're looking for in cases like this.\n",
        "\n",
        "Whether you use `.map()` or `.str.contains()` will matter more as the dataframe size increases. If you are working with a relatively small dataframe, you may have an easier time if you focus on figuring out something that *works* rather than worrying too much about finding the optimal technique."
      ]
    },
    {
      "cell_type": "markdown",
      "metadata": {
        "id": "URQJgx_FN6rZ"
      },
      "source": [
        "## Transforming Columns\n",
        "\n",
        "### Cleaning Column Names\n",
        "\n",
        "Sometimes, you have messy column names. Let's look at what we currently have:"
      ]
    },
    {
      "cell_type": "code",
      "execution_count": null,
      "metadata": {
        "id": "nup1kmyWN6rZ",
        "outputId": "d8aa9b3a-ef0d-4db1-974f-0f05fb5eb4c7"
      },
      "outputs": [
        {
          "data": {
            "text/plain": [
              "Index(['C/A', 'UNIT', 'SCP', 'STATION', 'LINENAME', 'DIVISION', 'DATE', 'TIME',\n",
              "       'DESC', 'ENTRIES',\n",
              "       'EXITS                                                               ',\n",
              "       'On_N_Line'],\n",
              "      dtype='object')"
            ]
          },
          "execution_count": 14,
          "metadata": {},
          "output_type": "execute_result"
        }
      ],
      "source": [
        "df.columns"
      ]
    },
    {
      "cell_type": "markdown",
      "metadata": {
        "id": "QtPTGZd3N6ra"
      },
      "source": [
        "You might notice that the `EXITS` column has a lot of annoying whitespace following it.\n",
        "\n",
        "We can quickly use a list comprehension to clean up all of the column names."
      ]
    },
    {
      "cell_type": "code",
      "execution_count": null,
      "metadata": {
        "id": "zB6P1ZJgN6ra",
        "outputId": "290699f3-faa6-448c-dfc2-5e5fa16556e8"
      },
      "outputs": [
        {
          "data": {
            "text/plain": [
              "['C/A',\n",
              " 'UNIT',\n",
              " 'SCP',\n",
              " 'STATION',\n",
              " 'LINENAME',\n",
              " 'DIVISION',\n",
              " 'DATE',\n",
              " 'TIME',\n",
              " 'DESC',\n",
              " 'ENTRIES',\n",
              " 'EXITS',\n",
              " 'On_N_Line']"
            ]
          },
          "execution_count": 15,
          "metadata": {},
          "output_type": "execute_result"
        }
      ],
      "source": [
        "[col.strip() for col in df.columns]"
      ]
    },
    {
      "cell_type": "markdown",
      "metadata": {
        "id": "jfv3maNjN6ra"
      },
      "source": [
        "Because there are relatively few column names, a list comprehension like that is usually sufficient. However you can use similar techniques to the ones described above if you need to:"
      ]
    },
    {
      "cell_type": "code",
      "execution_count": null,
      "metadata": {
        "id": "k3TPJv4TN6ra",
        "outputId": "188e2593-320b-4d3f-a3de-50b09b069624"
      },
      "outputs": [
        {
          "data": {
            "text/plain": [
              "Index(['C/A', 'UNIT', 'SCP', 'STATION', 'LINENAME', 'DIVISION', 'DATE', 'TIME',\n",
              "       'DESC', 'ENTRIES', 'EXITS', 'On_N_Line'],\n",
              "      dtype='object')"
            ]
          },
          "execution_count": 16,
          "metadata": {},
          "output_type": "execute_result"
        }
      ],
      "source": [
        "df.columns.str.strip()"
      ]
    },
    {
      "cell_type": "code",
      "execution_count": null,
      "metadata": {
        "id": "aoEc0HFDN6ra",
        "outputId": "826316e4-7d2d-4974-f592-76edd80efa39"
      },
      "outputs": [
        {
          "data": {
            "text/plain": [
              "Index(['C/A', 'UNIT', 'SCP', 'STATION', 'LINENAME', 'DIVISION', 'DATE', 'TIME',\n",
              "       'DESC', 'ENTRIES', 'EXITS', 'On_N_Line'],\n",
              "      dtype='object')"
            ]
          },
          "execution_count": 17,
          "metadata": {},
          "output_type": "execute_result"
        }
      ],
      "source": [
        "df.columns.map(lambda col: col.strip())"
      ]
    },
    {
      "cell_type": "markdown",
      "metadata": {
        "id": "YpQcVFPhN6ra"
      },
      "source": [
        "Note that none of these have actually modified the columns so far:"
      ]
    },
    {
      "cell_type": "code",
      "execution_count": null,
      "metadata": {
        "id": "BvHApFkPN6rb",
        "outputId": "f51edc5b-f731-4a8c-86f6-daea1f88b491"
      },
      "outputs": [
        {
          "data": {
            "text/plain": [
              "Index(['C/A', 'UNIT', 'SCP', 'STATION', 'LINENAME', 'DIVISION', 'DATE', 'TIME',\n",
              "       'DESC', 'ENTRIES',\n",
              "       'EXITS                                                               ',\n",
              "       'On_N_Line'],\n",
              "      dtype='object')"
            ]
          },
          "execution_count": 18,
          "metadata": {},
          "output_type": "execute_result"
        }
      ],
      "source": [
        "df.columns"
      ]
    },
    {
      "cell_type": "markdown",
      "metadata": {
        "id": "lRQUTjMwN6rb"
      },
      "source": [
        "We need to reassign `df.columns` for this to happen:"
      ]
    },
    {
      "cell_type": "code",
      "execution_count": null,
      "metadata": {
        "id": "k_1nMcbFN6rb",
        "outputId": "08d713da-6ac7-4892-b501-9454b6067a54"
      },
      "outputs": [
        {
          "data": {
            "text/plain": [
              "Index(['C/A', 'UNIT', 'SCP', 'STATION', 'LINENAME', 'DIVISION', 'DATE', 'TIME',\n",
              "       'DESC', 'ENTRIES', 'EXITS', 'On_N_Line'],\n",
              "      dtype='object')"
            ]
          },
          "execution_count": 19,
          "metadata": {},
          "output_type": "execute_result"
        }
      ],
      "source": [
        "# Even though this is assigning a list of strings, it\n",
        "# will be cast to an Index automatically\n",
        "df.columns = [col.strip() for col in df.columns]\n",
        "df.columns"
      ]
    },
    {
      "cell_type": "markdown",
      "metadata": {
        "id": "NqLNhlGmN6rb"
      },
      "source": [
        "### Renaming Columns\n",
        "\n",
        "You can also rename columns using dictionaries. Unlike `.map()`, which will replace values with NaN if they do not have an associated key in the dictionary, `.rename()` will only replace values that appear in the dictionary. This is useful if you only want to replace some values.\n",
        "\n",
        "Let's say we want to rename `C/A` to `CONTROL_AREA` (the data dictionary indicates that this is what it stands for)."
      ]
    },
    {
      "cell_type": "code",
      "execution_count": null,
      "metadata": {
        "id": "2X9OzwKzN6rb",
        "outputId": "d9812d1b-ab3b-4bd3-ed6a-6cb4aed5e7a5"
      },
      "outputs": [
        {
          "data": {
            "text/html": [
              "<div>\n",
              "<style scoped>\n",
              "    .dataframe tbody tr th:only-of-type {\n",
              "        vertical-align: middle;\n",
              "    }\n",
              "\n",
              "    .dataframe tbody tr th {\n",
              "        vertical-align: top;\n",
              "    }\n",
              "\n",
              "    .dataframe thead th {\n",
              "        text-align: right;\n",
              "    }\n",
              "</style>\n",
              "<table border=\"1\" class=\"dataframe\">\n",
              "  <thead>\n",
              "    <tr style=\"text-align: right;\">\n",
              "      <th></th>\n",
              "      <th>CONTROL_AREA</th>\n",
              "      <th>UNIT</th>\n",
              "      <th>SCP</th>\n",
              "      <th>STATION</th>\n",
              "      <th>LINENAME</th>\n",
              "      <th>DIVISION</th>\n",
              "      <th>DATE</th>\n",
              "      <th>TIME</th>\n",
              "      <th>DESC</th>\n",
              "      <th>ENTRIES</th>\n",
              "      <th>EXITS</th>\n",
              "      <th>On_N_Line</th>\n",
              "    </tr>\n",
              "  </thead>\n",
              "  <tbody>\n",
              "    <tr>\n",
              "      <th>0</th>\n",
              "      <td>A002</td>\n",
              "      <td>R051</td>\n",
              "      <td>02-00-00</td>\n",
              "      <td>59 ST</td>\n",
              "      <td>NQR456W</td>\n",
              "      <td>Brooklyn–Manhattan Transit Corporation</td>\n",
              "      <td>08/25/2018</td>\n",
              "      <td>00:00:00</td>\n",
              "      <td>REGULAR</td>\n",
              "      <td>0006736067</td>\n",
              "      <td>0002283184                                    ...</td>\n",
              "      <td>True</td>\n",
              "    </tr>\n",
              "    <tr>\n",
              "      <th>1</th>\n",
              "      <td>A002</td>\n",
              "      <td>R051</td>\n",
              "      <td>02-00-00</td>\n",
              "      <td>59 ST</td>\n",
              "      <td>NQR456W</td>\n",
              "      <td>Brooklyn–Manhattan Transit Corporation</td>\n",
              "      <td>08/25/2018</td>\n",
              "      <td>04:00:00</td>\n",
              "      <td>REGULAR</td>\n",
              "      <td>0006736087</td>\n",
              "      <td>0002283188                                    ...</td>\n",
              "      <td>True</td>\n",
              "    </tr>\n",
              "    <tr>\n",
              "      <th>2</th>\n",
              "      <td>A002</td>\n",
              "      <td>R051</td>\n",
              "      <td>02-00-00</td>\n",
              "      <td>59 ST</td>\n",
              "      <td>NQR456W</td>\n",
              "      <td>Brooklyn–Manhattan Transit Corporation</td>\n",
              "      <td>08/25/2018</td>\n",
              "      <td>08:00:00</td>\n",
              "      <td>REGULAR</td>\n",
              "      <td>0006736105</td>\n",
              "      <td>0002283229                                    ...</td>\n",
              "      <td>True</td>\n",
              "    </tr>\n",
              "    <tr>\n",
              "      <th>3</th>\n",
              "      <td>A002</td>\n",
              "      <td>R051</td>\n",
              "      <td>02-00-00</td>\n",
              "      <td>59 ST</td>\n",
              "      <td>NQR456W</td>\n",
              "      <td>Brooklyn–Manhattan Transit Corporation</td>\n",
              "      <td>08/25/2018</td>\n",
              "      <td>12:00:00</td>\n",
              "      <td>REGULAR</td>\n",
              "      <td>0006736180</td>\n",
              "      <td>0002283314                                    ...</td>\n",
              "      <td>True</td>\n",
              "    </tr>\n",
              "    <tr>\n",
              "      <th>4</th>\n",
              "      <td>A002</td>\n",
              "      <td>R051</td>\n",
              "      <td>02-00-00</td>\n",
              "      <td>59 ST</td>\n",
              "      <td>NQR456W</td>\n",
              "      <td>Brooklyn–Manhattan Transit Corporation</td>\n",
              "      <td>08/25/2018</td>\n",
              "      <td>16:00:00</td>\n",
              "      <td>REGULAR</td>\n",
              "      <td>0006736349</td>\n",
              "      <td>0002283384                                    ...</td>\n",
              "      <td>True</td>\n",
              "    </tr>\n",
              "    <tr>\n",
              "      <th>...</th>\n",
              "      <td>...</td>\n",
              "      <td>...</td>\n",
              "      <td>...</td>\n",
              "      <td>...</td>\n",
              "      <td>...</td>\n",
              "      <td>...</td>\n",
              "      <td>...</td>\n",
              "      <td>...</td>\n",
              "      <td>...</td>\n",
              "      <td>...</td>\n",
              "      <td>...</td>\n",
              "      <td>...</td>\n",
              "    </tr>\n",
              "    <tr>\n",
              "      <th>197620</th>\n",
              "      <td>TRAM2</td>\n",
              "      <td>R469</td>\n",
              "      <td>00-05-01</td>\n",
              "      <td>RIT-ROOSEVELT</td>\n",
              "      <td>R</td>\n",
              "      <td>Roosevelt Island Tram</td>\n",
              "      <td>08/31/2018</td>\n",
              "      <td>05:00:00</td>\n",
              "      <td>REGULAR</td>\n",
              "      <td>0000005554</td>\n",
              "      <td>0000000348                                    ...</td>\n",
              "      <td>False</td>\n",
              "    </tr>\n",
              "    <tr>\n",
              "      <th>197621</th>\n",
              "      <td>TRAM2</td>\n",
              "      <td>R469</td>\n",
              "      <td>00-05-01</td>\n",
              "      <td>RIT-ROOSEVELT</td>\n",
              "      <td>R</td>\n",
              "      <td>Roosevelt Island Tram</td>\n",
              "      <td>08/31/2018</td>\n",
              "      <td>09:00:00</td>\n",
              "      <td>REGULAR</td>\n",
              "      <td>0000005554</td>\n",
              "      <td>0000000348                                    ...</td>\n",
              "      <td>False</td>\n",
              "    </tr>\n",
              "    <tr>\n",
              "      <th>197622</th>\n",
              "      <td>TRAM2</td>\n",
              "      <td>R469</td>\n",
              "      <td>00-05-01</td>\n",
              "      <td>RIT-ROOSEVELT</td>\n",
              "      <td>R</td>\n",
              "      <td>Roosevelt Island Tram</td>\n",
              "      <td>08/31/2018</td>\n",
              "      <td>13:00:00</td>\n",
              "      <td>REGULAR</td>\n",
              "      <td>0000005554</td>\n",
              "      <td>0000000348                                    ...</td>\n",
              "      <td>False</td>\n",
              "    </tr>\n",
              "    <tr>\n",
              "      <th>197623</th>\n",
              "      <td>TRAM2</td>\n",
              "      <td>R469</td>\n",
              "      <td>00-05-01</td>\n",
              "      <td>RIT-ROOSEVELT</td>\n",
              "      <td>R</td>\n",
              "      <td>Roosevelt Island Tram</td>\n",
              "      <td>08/31/2018</td>\n",
              "      <td>17:00:00</td>\n",
              "      <td>REGULAR</td>\n",
              "      <td>0000005554</td>\n",
              "      <td>0000000348                                    ...</td>\n",
              "      <td>False</td>\n",
              "    </tr>\n",
              "    <tr>\n",
              "      <th>197624</th>\n",
              "      <td>TRAM2</td>\n",
              "      <td>R469</td>\n",
              "      <td>00-05-01</td>\n",
              "      <td>RIT-ROOSEVELT</td>\n",
              "      <td>R</td>\n",
              "      <td>Roosevelt Island Tram</td>\n",
              "      <td>08/31/2018</td>\n",
              "      <td>21:00:00</td>\n",
              "      <td>REGULAR</td>\n",
              "      <td>0000005554</td>\n",
              "      <td>0000000348                                    ...</td>\n",
              "      <td>False</td>\n",
              "    </tr>\n",
              "  </tbody>\n",
              "</table>\n",
              "<p>197625 rows × 12 columns</p>\n",
              "</div>"
            ],
            "text/plain": [
              "       CONTROL_AREA  UNIT       SCP        STATION LINENAME  \\\n",
              "0              A002  R051  02-00-00          59 ST  NQR456W   \n",
              "1              A002  R051  02-00-00          59 ST  NQR456W   \n",
              "2              A002  R051  02-00-00          59 ST  NQR456W   \n",
              "3              A002  R051  02-00-00          59 ST  NQR456W   \n",
              "4              A002  R051  02-00-00          59 ST  NQR456W   \n",
              "...             ...   ...       ...            ...      ...   \n",
              "197620        TRAM2  R469  00-05-01  RIT-ROOSEVELT        R   \n",
              "197621        TRAM2  R469  00-05-01  RIT-ROOSEVELT        R   \n",
              "197622        TRAM2  R469  00-05-01  RIT-ROOSEVELT        R   \n",
              "197623        TRAM2  R469  00-05-01  RIT-ROOSEVELT        R   \n",
              "197624        TRAM2  R469  00-05-01  RIT-ROOSEVELT        R   \n",
              "\n",
              "                                      DIVISION        DATE      TIME     DESC  \\\n",
              "0       Brooklyn–Manhattan Transit Corporation  08/25/2018  00:00:00  REGULAR   \n",
              "1       Brooklyn–Manhattan Transit Corporation  08/25/2018  04:00:00  REGULAR   \n",
              "2       Brooklyn–Manhattan Transit Corporation  08/25/2018  08:00:00  REGULAR   \n",
              "3       Brooklyn–Manhattan Transit Corporation  08/25/2018  12:00:00  REGULAR   \n",
              "4       Brooklyn–Manhattan Transit Corporation  08/25/2018  16:00:00  REGULAR   \n",
              "...                                        ...         ...       ...      ...   \n",
              "197620                   Roosevelt Island Tram  08/31/2018  05:00:00  REGULAR   \n",
              "197621                   Roosevelt Island Tram  08/31/2018  09:00:00  REGULAR   \n",
              "197622                   Roosevelt Island Tram  08/31/2018  13:00:00  REGULAR   \n",
              "197623                   Roosevelt Island Tram  08/31/2018  17:00:00  REGULAR   \n",
              "197624                   Roosevelt Island Tram  08/31/2018  21:00:00  REGULAR   \n",
              "\n",
              "           ENTRIES                                              EXITS  \\\n",
              "0       0006736067  0002283184                                    ...   \n",
              "1       0006736087  0002283188                                    ...   \n",
              "2       0006736105  0002283229                                    ...   \n",
              "3       0006736180  0002283314                                    ...   \n",
              "4       0006736349  0002283384                                    ...   \n",
              "...            ...                                                ...   \n",
              "197620  0000005554  0000000348                                    ...   \n",
              "197621  0000005554  0000000348                                    ...   \n",
              "197622  0000005554  0000000348                                    ...   \n",
              "197623  0000005554  0000000348                                    ...   \n",
              "197624  0000005554  0000000348                                    ...   \n",
              "\n",
              "        On_N_Line  \n",
              "0            True  \n",
              "1            True  \n",
              "2            True  \n",
              "3            True  \n",
              "4            True  \n",
              "...           ...  \n",
              "197620      False  \n",
              "197621      False  \n",
              "197622      False  \n",
              "197623      False  \n",
              "197624      False  \n",
              "\n",
              "[197625 rows x 12 columns]"
            ]
          },
          "execution_count": 20,
          "metadata": {},
          "output_type": "execute_result"
        }
      ],
      "source": [
        "df.rename(columns={'C/A' : 'CONTROL_AREA'})"
      ]
    },
    {
      "cell_type": "markdown",
      "metadata": {
        "id": "reWB5HPON6rb"
      },
      "source": [
        "Again, note that the dataframe was not automatically transformed by doing this. If we look at it now, `C/A` is still there:"
      ]
    },
    {
      "cell_type": "code",
      "execution_count": null,
      "metadata": {
        "id": "7MTBI9eDN6rb",
        "outputId": "ed5578cf-e5dd-482c-9aac-7749b54dff76"
      },
      "outputs": [
        {
          "data": {
            "text/html": [
              "<div>\n",
              "<style scoped>\n",
              "    .dataframe tbody tr th:only-of-type {\n",
              "        vertical-align: middle;\n",
              "    }\n",
              "\n",
              "    .dataframe tbody tr th {\n",
              "        vertical-align: top;\n",
              "    }\n",
              "\n",
              "    .dataframe thead th {\n",
              "        text-align: right;\n",
              "    }\n",
              "</style>\n",
              "<table border=\"1\" class=\"dataframe\">\n",
              "  <thead>\n",
              "    <tr style=\"text-align: right;\">\n",
              "      <th></th>\n",
              "      <th>C/A</th>\n",
              "      <th>UNIT</th>\n",
              "      <th>SCP</th>\n",
              "      <th>STATION</th>\n",
              "      <th>LINENAME</th>\n",
              "      <th>DIVISION</th>\n",
              "      <th>DATE</th>\n",
              "      <th>TIME</th>\n",
              "      <th>DESC</th>\n",
              "      <th>ENTRIES</th>\n",
              "      <th>EXITS</th>\n",
              "      <th>On_N_Line</th>\n",
              "    </tr>\n",
              "  </thead>\n",
              "  <tbody>\n",
              "    <tr>\n",
              "      <th>0</th>\n",
              "      <td>A002</td>\n",
              "      <td>R051</td>\n",
              "      <td>02-00-00</td>\n",
              "      <td>59 ST</td>\n",
              "      <td>NQR456W</td>\n",
              "      <td>Brooklyn–Manhattan Transit Corporation</td>\n",
              "      <td>08/25/2018</td>\n",
              "      <td>00:00:00</td>\n",
              "      <td>REGULAR</td>\n",
              "      <td>0006736067</td>\n",
              "      <td>0002283184                                    ...</td>\n",
              "      <td>True</td>\n",
              "    </tr>\n",
              "    <tr>\n",
              "      <th>1</th>\n",
              "      <td>A002</td>\n",
              "      <td>R051</td>\n",
              "      <td>02-00-00</td>\n",
              "      <td>59 ST</td>\n",
              "      <td>NQR456W</td>\n",
              "      <td>Brooklyn–Manhattan Transit Corporation</td>\n",
              "      <td>08/25/2018</td>\n",
              "      <td>04:00:00</td>\n",
              "      <td>REGULAR</td>\n",
              "      <td>0006736087</td>\n",
              "      <td>0002283188                                    ...</td>\n",
              "      <td>True</td>\n",
              "    </tr>\n",
              "    <tr>\n",
              "      <th>2</th>\n",
              "      <td>A002</td>\n",
              "      <td>R051</td>\n",
              "      <td>02-00-00</td>\n",
              "      <td>59 ST</td>\n",
              "      <td>NQR456W</td>\n",
              "      <td>Brooklyn–Manhattan Transit Corporation</td>\n",
              "      <td>08/25/2018</td>\n",
              "      <td>08:00:00</td>\n",
              "      <td>REGULAR</td>\n",
              "      <td>0006736105</td>\n",
              "      <td>0002283229                                    ...</td>\n",
              "      <td>True</td>\n",
              "    </tr>\n",
              "    <tr>\n",
              "      <th>3</th>\n",
              "      <td>A002</td>\n",
              "      <td>R051</td>\n",
              "      <td>02-00-00</td>\n",
              "      <td>59 ST</td>\n",
              "      <td>NQR456W</td>\n",
              "      <td>Brooklyn–Manhattan Transit Corporation</td>\n",
              "      <td>08/25/2018</td>\n",
              "      <td>12:00:00</td>\n",
              "      <td>REGULAR</td>\n",
              "      <td>0006736180</td>\n",
              "      <td>0002283314                                    ...</td>\n",
              "      <td>True</td>\n",
              "    </tr>\n",
              "    <tr>\n",
              "      <th>4</th>\n",
              "      <td>A002</td>\n",
              "      <td>R051</td>\n",
              "      <td>02-00-00</td>\n",
              "      <td>59 ST</td>\n",
              "      <td>NQR456W</td>\n",
              "      <td>Brooklyn–Manhattan Transit Corporation</td>\n",
              "      <td>08/25/2018</td>\n",
              "      <td>16:00:00</td>\n",
              "      <td>REGULAR</td>\n",
              "      <td>0006736349</td>\n",
              "      <td>0002283384                                    ...</td>\n",
              "      <td>True</td>\n",
              "    </tr>\n",
              "    <tr>\n",
              "      <th>...</th>\n",
              "      <td>...</td>\n",
              "      <td>...</td>\n",
              "      <td>...</td>\n",
              "      <td>...</td>\n",
              "      <td>...</td>\n",
              "      <td>...</td>\n",
              "      <td>...</td>\n",
              "      <td>...</td>\n",
              "      <td>...</td>\n",
              "      <td>...</td>\n",
              "      <td>...</td>\n",
              "      <td>...</td>\n",
              "    </tr>\n",
              "    <tr>\n",
              "      <th>197620</th>\n",
              "      <td>TRAM2</td>\n",
              "      <td>R469</td>\n",
              "      <td>00-05-01</td>\n",
              "      <td>RIT-ROOSEVELT</td>\n",
              "      <td>R</td>\n",
              "      <td>Roosevelt Island Tram</td>\n",
              "      <td>08/31/2018</td>\n",
              "      <td>05:00:00</td>\n",
              "      <td>REGULAR</td>\n",
              "      <td>0000005554</td>\n",
              "      <td>0000000348                                    ...</td>\n",
              "      <td>False</td>\n",
              "    </tr>\n",
              "    <tr>\n",
              "      <th>197621</th>\n",
              "      <td>TRAM2</td>\n",
              "      <td>R469</td>\n",
              "      <td>00-05-01</td>\n",
              "      <td>RIT-ROOSEVELT</td>\n",
              "      <td>R</td>\n",
              "      <td>Roosevelt Island Tram</td>\n",
              "      <td>08/31/2018</td>\n",
              "      <td>09:00:00</td>\n",
              "      <td>REGULAR</td>\n",
              "      <td>0000005554</td>\n",
              "      <td>0000000348                                    ...</td>\n",
              "      <td>False</td>\n",
              "    </tr>\n",
              "    <tr>\n",
              "      <th>197622</th>\n",
              "      <td>TRAM2</td>\n",
              "      <td>R469</td>\n",
              "      <td>00-05-01</td>\n",
              "      <td>RIT-ROOSEVELT</td>\n",
              "      <td>R</td>\n",
              "      <td>Roosevelt Island Tram</td>\n",
              "      <td>08/31/2018</td>\n",
              "      <td>13:00:00</td>\n",
              "      <td>REGULAR</td>\n",
              "      <td>0000005554</td>\n",
              "      <td>0000000348                                    ...</td>\n",
              "      <td>False</td>\n",
              "    </tr>\n",
              "    <tr>\n",
              "      <th>197623</th>\n",
              "      <td>TRAM2</td>\n",
              "      <td>R469</td>\n",
              "      <td>00-05-01</td>\n",
              "      <td>RIT-ROOSEVELT</td>\n",
              "      <td>R</td>\n",
              "      <td>Roosevelt Island Tram</td>\n",
              "      <td>08/31/2018</td>\n",
              "      <td>17:00:00</td>\n",
              "      <td>REGULAR</td>\n",
              "      <td>0000005554</td>\n",
              "      <td>0000000348                                    ...</td>\n",
              "      <td>False</td>\n",
              "    </tr>\n",
              "    <tr>\n",
              "      <th>197624</th>\n",
              "      <td>TRAM2</td>\n",
              "      <td>R469</td>\n",
              "      <td>00-05-01</td>\n",
              "      <td>RIT-ROOSEVELT</td>\n",
              "      <td>R</td>\n",
              "      <td>Roosevelt Island Tram</td>\n",
              "      <td>08/31/2018</td>\n",
              "      <td>21:00:00</td>\n",
              "      <td>REGULAR</td>\n",
              "      <td>0000005554</td>\n",
              "      <td>0000000348                                    ...</td>\n",
              "      <td>False</td>\n",
              "    </tr>\n",
              "  </tbody>\n",
              "</table>\n",
              "<p>197625 rows × 12 columns</p>\n",
              "</div>"
            ],
            "text/plain": [
              "          C/A  UNIT       SCP        STATION LINENAME  \\\n",
              "0        A002  R051  02-00-00          59 ST  NQR456W   \n",
              "1        A002  R051  02-00-00          59 ST  NQR456W   \n",
              "2        A002  R051  02-00-00          59 ST  NQR456W   \n",
              "3        A002  R051  02-00-00          59 ST  NQR456W   \n",
              "4        A002  R051  02-00-00          59 ST  NQR456W   \n",
              "...       ...   ...       ...            ...      ...   \n",
              "197620  TRAM2  R469  00-05-01  RIT-ROOSEVELT        R   \n",
              "197621  TRAM2  R469  00-05-01  RIT-ROOSEVELT        R   \n",
              "197622  TRAM2  R469  00-05-01  RIT-ROOSEVELT        R   \n",
              "197623  TRAM2  R469  00-05-01  RIT-ROOSEVELT        R   \n",
              "197624  TRAM2  R469  00-05-01  RIT-ROOSEVELT        R   \n",
              "\n",
              "                                      DIVISION        DATE      TIME     DESC  \\\n",
              "0       Brooklyn–Manhattan Transit Corporation  08/25/2018  00:00:00  REGULAR   \n",
              "1       Brooklyn–Manhattan Transit Corporation  08/25/2018  04:00:00  REGULAR   \n",
              "2       Brooklyn–Manhattan Transit Corporation  08/25/2018  08:00:00  REGULAR   \n",
              "3       Brooklyn–Manhattan Transit Corporation  08/25/2018  12:00:00  REGULAR   \n",
              "4       Brooklyn–Manhattan Transit Corporation  08/25/2018  16:00:00  REGULAR   \n",
              "...                                        ...         ...       ...      ...   \n",
              "197620                   Roosevelt Island Tram  08/31/2018  05:00:00  REGULAR   \n",
              "197621                   Roosevelt Island Tram  08/31/2018  09:00:00  REGULAR   \n",
              "197622                   Roosevelt Island Tram  08/31/2018  13:00:00  REGULAR   \n",
              "197623                   Roosevelt Island Tram  08/31/2018  17:00:00  REGULAR   \n",
              "197624                   Roosevelt Island Tram  08/31/2018  21:00:00  REGULAR   \n",
              "\n",
              "           ENTRIES                                              EXITS  \\\n",
              "0       0006736067  0002283184                                    ...   \n",
              "1       0006736087  0002283188                                    ...   \n",
              "2       0006736105  0002283229                                    ...   \n",
              "3       0006736180  0002283314                                    ...   \n",
              "4       0006736349  0002283384                                    ...   \n",
              "...            ...                                                ...   \n",
              "197620  0000005554  0000000348                                    ...   \n",
              "197621  0000005554  0000000348                                    ...   \n",
              "197622  0000005554  0000000348                                    ...   \n",
              "197623  0000005554  0000000348                                    ...   \n",
              "197624  0000005554  0000000348                                    ...   \n",
              "\n",
              "        On_N_Line  \n",
              "0            True  \n",
              "1            True  \n",
              "2            True  \n",
              "3            True  \n",
              "4            True  \n",
              "...           ...  \n",
              "197620      False  \n",
              "197621      False  \n",
              "197622      False  \n",
              "197623      False  \n",
              "197624      False  \n",
              "\n",
              "[197625 rows x 12 columns]"
            ]
          },
          "execution_count": 21,
          "metadata": {},
          "output_type": "execute_result"
        }
      ],
      "source": [
        "df"
      ]
    },
    {
      "cell_type": "markdown",
      "metadata": {
        "id": "VwzaaFySN6rc"
      },
      "source": [
        "If we want the change to \"stick\", one way to do that is to use `inplace=True`:"
      ]
    },
    {
      "cell_type": "code",
      "execution_count": null,
      "metadata": {
        "id": "9RHv-ZNuN6rc"
      },
      "outputs": [],
      "source": [
        "df.rename(columns={'C/A' : 'CONTROL_AREA'}, inplace=True)"
      ]
    },
    {
      "cell_type": "markdown",
      "metadata": {
        "id": "6P3vZFV9N6rc"
      },
      "source": [
        "Now the value has actually been changed:"
      ]
    },
    {
      "cell_type": "code",
      "execution_count": null,
      "metadata": {
        "id": "3-ezjBSqN6rc",
        "outputId": "63a8d283-3d0b-4fa4-edf0-e644cc8dcb9d"
      },
      "outputs": [
        {
          "data": {
            "text/html": [
              "<div>\n",
              "<style scoped>\n",
              "    .dataframe tbody tr th:only-of-type {\n",
              "        vertical-align: middle;\n",
              "    }\n",
              "\n",
              "    .dataframe tbody tr th {\n",
              "        vertical-align: top;\n",
              "    }\n",
              "\n",
              "    .dataframe thead th {\n",
              "        text-align: right;\n",
              "    }\n",
              "</style>\n",
              "<table border=\"1\" class=\"dataframe\">\n",
              "  <thead>\n",
              "    <tr style=\"text-align: right;\">\n",
              "      <th></th>\n",
              "      <th>CONTROL_AREA</th>\n",
              "      <th>UNIT</th>\n",
              "      <th>SCP</th>\n",
              "      <th>STATION</th>\n",
              "      <th>LINENAME</th>\n",
              "      <th>DIVISION</th>\n",
              "      <th>DATE</th>\n",
              "      <th>TIME</th>\n",
              "      <th>DESC</th>\n",
              "      <th>ENTRIES</th>\n",
              "      <th>EXITS</th>\n",
              "      <th>On_N_Line</th>\n",
              "    </tr>\n",
              "  </thead>\n",
              "  <tbody>\n",
              "    <tr>\n",
              "      <th>0</th>\n",
              "      <td>A002</td>\n",
              "      <td>R051</td>\n",
              "      <td>02-00-00</td>\n",
              "      <td>59 ST</td>\n",
              "      <td>NQR456W</td>\n",
              "      <td>Brooklyn–Manhattan Transit Corporation</td>\n",
              "      <td>08/25/2018</td>\n",
              "      <td>00:00:00</td>\n",
              "      <td>REGULAR</td>\n",
              "      <td>0006736067</td>\n",
              "      <td>0002283184                                    ...</td>\n",
              "      <td>True</td>\n",
              "    </tr>\n",
              "    <tr>\n",
              "      <th>1</th>\n",
              "      <td>A002</td>\n",
              "      <td>R051</td>\n",
              "      <td>02-00-00</td>\n",
              "      <td>59 ST</td>\n",
              "      <td>NQR456W</td>\n",
              "      <td>Brooklyn–Manhattan Transit Corporation</td>\n",
              "      <td>08/25/2018</td>\n",
              "      <td>04:00:00</td>\n",
              "      <td>REGULAR</td>\n",
              "      <td>0006736087</td>\n",
              "      <td>0002283188                                    ...</td>\n",
              "      <td>True</td>\n",
              "    </tr>\n",
              "    <tr>\n",
              "      <th>2</th>\n",
              "      <td>A002</td>\n",
              "      <td>R051</td>\n",
              "      <td>02-00-00</td>\n",
              "      <td>59 ST</td>\n",
              "      <td>NQR456W</td>\n",
              "      <td>Brooklyn–Manhattan Transit Corporation</td>\n",
              "      <td>08/25/2018</td>\n",
              "      <td>08:00:00</td>\n",
              "      <td>REGULAR</td>\n",
              "      <td>0006736105</td>\n",
              "      <td>0002283229                                    ...</td>\n",
              "      <td>True</td>\n",
              "    </tr>\n",
              "    <tr>\n",
              "      <th>3</th>\n",
              "      <td>A002</td>\n",
              "      <td>R051</td>\n",
              "      <td>02-00-00</td>\n",
              "      <td>59 ST</td>\n",
              "      <td>NQR456W</td>\n",
              "      <td>Brooklyn–Manhattan Transit Corporation</td>\n",
              "      <td>08/25/2018</td>\n",
              "      <td>12:00:00</td>\n",
              "      <td>REGULAR</td>\n",
              "      <td>0006736180</td>\n",
              "      <td>0002283314                                    ...</td>\n",
              "      <td>True</td>\n",
              "    </tr>\n",
              "    <tr>\n",
              "      <th>4</th>\n",
              "      <td>A002</td>\n",
              "      <td>R051</td>\n",
              "      <td>02-00-00</td>\n",
              "      <td>59 ST</td>\n",
              "      <td>NQR456W</td>\n",
              "      <td>Brooklyn–Manhattan Transit Corporation</td>\n",
              "      <td>08/25/2018</td>\n",
              "      <td>16:00:00</td>\n",
              "      <td>REGULAR</td>\n",
              "      <td>0006736349</td>\n",
              "      <td>0002283384                                    ...</td>\n",
              "      <td>True</td>\n",
              "    </tr>\n",
              "    <tr>\n",
              "      <th>...</th>\n",
              "      <td>...</td>\n",
              "      <td>...</td>\n",
              "      <td>...</td>\n",
              "      <td>...</td>\n",
              "      <td>...</td>\n",
              "      <td>...</td>\n",
              "      <td>...</td>\n",
              "      <td>...</td>\n",
              "      <td>...</td>\n",
              "      <td>...</td>\n",
              "      <td>...</td>\n",
              "      <td>...</td>\n",
              "    </tr>\n",
              "    <tr>\n",
              "      <th>197620</th>\n",
              "      <td>TRAM2</td>\n",
              "      <td>R469</td>\n",
              "      <td>00-05-01</td>\n",
              "      <td>RIT-ROOSEVELT</td>\n",
              "      <td>R</td>\n",
              "      <td>Roosevelt Island Tram</td>\n",
              "      <td>08/31/2018</td>\n",
              "      <td>05:00:00</td>\n",
              "      <td>REGULAR</td>\n",
              "      <td>0000005554</td>\n",
              "      <td>0000000348                                    ...</td>\n",
              "      <td>False</td>\n",
              "    </tr>\n",
              "    <tr>\n",
              "      <th>197621</th>\n",
              "      <td>TRAM2</td>\n",
              "      <td>R469</td>\n",
              "      <td>00-05-01</td>\n",
              "      <td>RIT-ROOSEVELT</td>\n",
              "      <td>R</td>\n",
              "      <td>Roosevelt Island Tram</td>\n",
              "      <td>08/31/2018</td>\n",
              "      <td>09:00:00</td>\n",
              "      <td>REGULAR</td>\n",
              "      <td>0000005554</td>\n",
              "      <td>0000000348                                    ...</td>\n",
              "      <td>False</td>\n",
              "    </tr>\n",
              "    <tr>\n",
              "      <th>197622</th>\n",
              "      <td>TRAM2</td>\n",
              "      <td>R469</td>\n",
              "      <td>00-05-01</td>\n",
              "      <td>RIT-ROOSEVELT</td>\n",
              "      <td>R</td>\n",
              "      <td>Roosevelt Island Tram</td>\n",
              "      <td>08/31/2018</td>\n",
              "      <td>13:00:00</td>\n",
              "      <td>REGULAR</td>\n",
              "      <td>0000005554</td>\n",
              "      <td>0000000348                                    ...</td>\n",
              "      <td>False</td>\n",
              "    </tr>\n",
              "    <tr>\n",
              "      <th>197623</th>\n",
              "      <td>TRAM2</td>\n",
              "      <td>R469</td>\n",
              "      <td>00-05-01</td>\n",
              "      <td>RIT-ROOSEVELT</td>\n",
              "      <td>R</td>\n",
              "      <td>Roosevelt Island Tram</td>\n",
              "      <td>08/31/2018</td>\n",
              "      <td>17:00:00</td>\n",
              "      <td>REGULAR</td>\n",
              "      <td>0000005554</td>\n",
              "      <td>0000000348                                    ...</td>\n",
              "      <td>False</td>\n",
              "    </tr>\n",
              "    <tr>\n",
              "      <th>197624</th>\n",
              "      <td>TRAM2</td>\n",
              "      <td>R469</td>\n",
              "      <td>00-05-01</td>\n",
              "      <td>RIT-ROOSEVELT</td>\n",
              "      <td>R</td>\n",
              "      <td>Roosevelt Island Tram</td>\n",
              "      <td>08/31/2018</td>\n",
              "      <td>21:00:00</td>\n",
              "      <td>REGULAR</td>\n",
              "      <td>0000005554</td>\n",
              "      <td>0000000348                                    ...</td>\n",
              "      <td>False</td>\n",
              "    </tr>\n",
              "  </tbody>\n",
              "</table>\n",
              "<p>197625 rows × 12 columns</p>\n",
              "</div>"
            ],
            "text/plain": [
              "       CONTROL_AREA  UNIT       SCP        STATION LINENAME  \\\n",
              "0              A002  R051  02-00-00          59 ST  NQR456W   \n",
              "1              A002  R051  02-00-00          59 ST  NQR456W   \n",
              "2              A002  R051  02-00-00          59 ST  NQR456W   \n",
              "3              A002  R051  02-00-00          59 ST  NQR456W   \n",
              "4              A002  R051  02-00-00          59 ST  NQR456W   \n",
              "...             ...   ...       ...            ...      ...   \n",
              "197620        TRAM2  R469  00-05-01  RIT-ROOSEVELT        R   \n",
              "197621        TRAM2  R469  00-05-01  RIT-ROOSEVELT        R   \n",
              "197622        TRAM2  R469  00-05-01  RIT-ROOSEVELT        R   \n",
              "197623        TRAM2  R469  00-05-01  RIT-ROOSEVELT        R   \n",
              "197624        TRAM2  R469  00-05-01  RIT-ROOSEVELT        R   \n",
              "\n",
              "                                      DIVISION        DATE      TIME     DESC  \\\n",
              "0       Brooklyn–Manhattan Transit Corporation  08/25/2018  00:00:00  REGULAR   \n",
              "1       Brooklyn–Manhattan Transit Corporation  08/25/2018  04:00:00  REGULAR   \n",
              "2       Brooklyn–Manhattan Transit Corporation  08/25/2018  08:00:00  REGULAR   \n",
              "3       Brooklyn–Manhattan Transit Corporation  08/25/2018  12:00:00  REGULAR   \n",
              "4       Brooklyn–Manhattan Transit Corporation  08/25/2018  16:00:00  REGULAR   \n",
              "...                                        ...         ...       ...      ...   \n",
              "197620                   Roosevelt Island Tram  08/31/2018  05:00:00  REGULAR   \n",
              "197621                   Roosevelt Island Tram  08/31/2018  09:00:00  REGULAR   \n",
              "197622                   Roosevelt Island Tram  08/31/2018  13:00:00  REGULAR   \n",
              "197623                   Roosevelt Island Tram  08/31/2018  17:00:00  REGULAR   \n",
              "197624                   Roosevelt Island Tram  08/31/2018  21:00:00  REGULAR   \n",
              "\n",
              "           ENTRIES                                              EXITS  \\\n",
              "0       0006736067  0002283184                                    ...   \n",
              "1       0006736087  0002283188                                    ...   \n",
              "2       0006736105  0002283229                                    ...   \n",
              "3       0006736180  0002283314                                    ...   \n",
              "4       0006736349  0002283384                                    ...   \n",
              "...            ...                                                ...   \n",
              "197620  0000005554  0000000348                                    ...   \n",
              "197621  0000005554  0000000348                                    ...   \n",
              "197622  0000005554  0000000348                                    ...   \n",
              "197623  0000005554  0000000348                                    ...   \n",
              "197624  0000005554  0000000348                                    ...   \n",
              "\n",
              "        On_N_Line  \n",
              "0            True  \n",
              "1            True  \n",
              "2            True  \n",
              "3            True  \n",
              "4            True  \n",
              "...           ...  \n",
              "197620      False  \n",
              "197621      False  \n",
              "197622      False  \n",
              "197623      False  \n",
              "197624      False  \n",
              "\n",
              "[197625 rows x 12 columns]"
            ]
          },
          "execution_count": 23,
          "metadata": {},
          "output_type": "execute_result"
        }
      ],
      "source": [
        "df"
      ]
    },
    {
      "cell_type": "markdown",
      "metadata": {
        "id": "yU2_dn2nN6rc"
      },
      "source": [
        "Note that this behavior (not changing the contents of the dataframe unless you use `inplace=True` or reassign the variable) is not a mistake or oversight in pandas. It is a useful feature that lets you preview the outcome of an operation before permanently applying it! This is especially important if you are dropping data or transforming it in a way that is not reversible."
      ]
    },
    {
      "cell_type": "markdown",
      "metadata": {
        "id": "0CY97jhXN6rc"
      },
      "source": [
        "### Dropping Columns\n",
        "\n",
        "Let's say we have determined that the `DESC` column doesn't matter. We can test out dropping it like this:"
      ]
    },
    {
      "cell_type": "code",
      "execution_count": null,
      "metadata": {
        "id": "28eMrq4NN6rc",
        "outputId": "7c012db1-24d8-4f13-dd63-fed01e3b8d7d"
      },
      "outputs": [
        {
          "data": {
            "text/html": [
              "<div>\n",
              "<style scoped>\n",
              "    .dataframe tbody tr th:only-of-type {\n",
              "        vertical-align: middle;\n",
              "    }\n",
              "\n",
              "    .dataframe tbody tr th {\n",
              "        vertical-align: top;\n",
              "    }\n",
              "\n",
              "    .dataframe thead th {\n",
              "        text-align: right;\n",
              "    }\n",
              "</style>\n",
              "<table border=\"1\" class=\"dataframe\">\n",
              "  <thead>\n",
              "    <tr style=\"text-align: right;\">\n",
              "      <th></th>\n",
              "      <th>CONTROL_AREA</th>\n",
              "      <th>UNIT</th>\n",
              "      <th>SCP</th>\n",
              "      <th>STATION</th>\n",
              "      <th>LINENAME</th>\n",
              "      <th>DIVISION</th>\n",
              "      <th>DATE</th>\n",
              "      <th>TIME</th>\n",
              "      <th>ENTRIES</th>\n",
              "      <th>EXITS</th>\n",
              "      <th>On_N_Line</th>\n",
              "    </tr>\n",
              "  </thead>\n",
              "  <tbody>\n",
              "    <tr>\n",
              "      <th>0</th>\n",
              "      <td>A002</td>\n",
              "      <td>R051</td>\n",
              "      <td>02-00-00</td>\n",
              "      <td>59 ST</td>\n",
              "      <td>NQR456W</td>\n",
              "      <td>Brooklyn–Manhattan Transit Corporation</td>\n",
              "      <td>08/25/2018</td>\n",
              "      <td>00:00:00</td>\n",
              "      <td>0006736067</td>\n",
              "      <td>0002283184                                    ...</td>\n",
              "      <td>True</td>\n",
              "    </tr>\n",
              "    <tr>\n",
              "      <th>1</th>\n",
              "      <td>A002</td>\n",
              "      <td>R051</td>\n",
              "      <td>02-00-00</td>\n",
              "      <td>59 ST</td>\n",
              "      <td>NQR456W</td>\n",
              "      <td>Brooklyn–Manhattan Transit Corporation</td>\n",
              "      <td>08/25/2018</td>\n",
              "      <td>04:00:00</td>\n",
              "      <td>0006736087</td>\n",
              "      <td>0002283188                                    ...</td>\n",
              "      <td>True</td>\n",
              "    </tr>\n",
              "    <tr>\n",
              "      <th>2</th>\n",
              "      <td>A002</td>\n",
              "      <td>R051</td>\n",
              "      <td>02-00-00</td>\n",
              "      <td>59 ST</td>\n",
              "      <td>NQR456W</td>\n",
              "      <td>Brooklyn–Manhattan Transit Corporation</td>\n",
              "      <td>08/25/2018</td>\n",
              "      <td>08:00:00</td>\n",
              "      <td>0006736105</td>\n",
              "      <td>0002283229                                    ...</td>\n",
              "      <td>True</td>\n",
              "    </tr>\n",
              "    <tr>\n",
              "      <th>3</th>\n",
              "      <td>A002</td>\n",
              "      <td>R051</td>\n",
              "      <td>02-00-00</td>\n",
              "      <td>59 ST</td>\n",
              "      <td>NQR456W</td>\n",
              "      <td>Brooklyn–Manhattan Transit Corporation</td>\n",
              "      <td>08/25/2018</td>\n",
              "      <td>12:00:00</td>\n",
              "      <td>0006736180</td>\n",
              "      <td>0002283314                                    ...</td>\n",
              "      <td>True</td>\n",
              "    </tr>\n",
              "    <tr>\n",
              "      <th>4</th>\n",
              "      <td>A002</td>\n",
              "      <td>R051</td>\n",
              "      <td>02-00-00</td>\n",
              "      <td>59 ST</td>\n",
              "      <td>NQR456W</td>\n",
              "      <td>Brooklyn–Manhattan Transit Corporation</td>\n",
              "      <td>08/25/2018</td>\n",
              "      <td>16:00:00</td>\n",
              "      <td>0006736349</td>\n",
              "      <td>0002283384                                    ...</td>\n",
              "      <td>True</td>\n",
              "    </tr>\n",
              "    <tr>\n",
              "      <th>...</th>\n",
              "      <td>...</td>\n",
              "      <td>...</td>\n",
              "      <td>...</td>\n",
              "      <td>...</td>\n",
              "      <td>...</td>\n",
              "      <td>...</td>\n",
              "      <td>...</td>\n",
              "      <td>...</td>\n",
              "      <td>...</td>\n",
              "      <td>...</td>\n",
              "      <td>...</td>\n",
              "    </tr>\n",
              "    <tr>\n",
              "      <th>197620</th>\n",
              "      <td>TRAM2</td>\n",
              "      <td>R469</td>\n",
              "      <td>00-05-01</td>\n",
              "      <td>RIT-ROOSEVELT</td>\n",
              "      <td>R</td>\n",
              "      <td>Roosevelt Island Tram</td>\n",
              "      <td>08/31/2018</td>\n",
              "      <td>05:00:00</td>\n",
              "      <td>0000005554</td>\n",
              "      <td>0000000348                                    ...</td>\n",
              "      <td>False</td>\n",
              "    </tr>\n",
              "    <tr>\n",
              "      <th>197621</th>\n",
              "      <td>TRAM2</td>\n",
              "      <td>R469</td>\n",
              "      <td>00-05-01</td>\n",
              "      <td>RIT-ROOSEVELT</td>\n",
              "      <td>R</td>\n",
              "      <td>Roosevelt Island Tram</td>\n",
              "      <td>08/31/2018</td>\n",
              "      <td>09:00:00</td>\n",
              "      <td>0000005554</td>\n",
              "      <td>0000000348                                    ...</td>\n",
              "      <td>False</td>\n",
              "    </tr>\n",
              "    <tr>\n",
              "      <th>197622</th>\n",
              "      <td>TRAM2</td>\n",
              "      <td>R469</td>\n",
              "      <td>00-05-01</td>\n",
              "      <td>RIT-ROOSEVELT</td>\n",
              "      <td>R</td>\n",
              "      <td>Roosevelt Island Tram</td>\n",
              "      <td>08/31/2018</td>\n",
              "      <td>13:00:00</td>\n",
              "      <td>0000005554</td>\n",
              "      <td>0000000348                                    ...</td>\n",
              "      <td>False</td>\n",
              "    </tr>\n",
              "    <tr>\n",
              "      <th>197623</th>\n",
              "      <td>TRAM2</td>\n",
              "      <td>R469</td>\n",
              "      <td>00-05-01</td>\n",
              "      <td>RIT-ROOSEVELT</td>\n",
              "      <td>R</td>\n",
              "      <td>Roosevelt Island Tram</td>\n",
              "      <td>08/31/2018</td>\n",
              "      <td>17:00:00</td>\n",
              "      <td>0000005554</td>\n",
              "      <td>0000000348                                    ...</td>\n",
              "      <td>False</td>\n",
              "    </tr>\n",
              "    <tr>\n",
              "      <th>197624</th>\n",
              "      <td>TRAM2</td>\n",
              "      <td>R469</td>\n",
              "      <td>00-05-01</td>\n",
              "      <td>RIT-ROOSEVELT</td>\n",
              "      <td>R</td>\n",
              "      <td>Roosevelt Island Tram</td>\n",
              "      <td>08/31/2018</td>\n",
              "      <td>21:00:00</td>\n",
              "      <td>0000005554</td>\n",
              "      <td>0000000348                                    ...</td>\n",
              "      <td>False</td>\n",
              "    </tr>\n",
              "  </tbody>\n",
              "</table>\n",
              "<p>197625 rows × 11 columns</p>\n",
              "</div>"
            ],
            "text/plain": [
              "       CONTROL_AREA  UNIT       SCP        STATION LINENAME  \\\n",
              "0              A002  R051  02-00-00          59 ST  NQR456W   \n",
              "1              A002  R051  02-00-00          59 ST  NQR456W   \n",
              "2              A002  R051  02-00-00          59 ST  NQR456W   \n",
              "3              A002  R051  02-00-00          59 ST  NQR456W   \n",
              "4              A002  R051  02-00-00          59 ST  NQR456W   \n",
              "...             ...   ...       ...            ...      ...   \n",
              "197620        TRAM2  R469  00-05-01  RIT-ROOSEVELT        R   \n",
              "197621        TRAM2  R469  00-05-01  RIT-ROOSEVELT        R   \n",
              "197622        TRAM2  R469  00-05-01  RIT-ROOSEVELT        R   \n",
              "197623        TRAM2  R469  00-05-01  RIT-ROOSEVELT        R   \n",
              "197624        TRAM2  R469  00-05-01  RIT-ROOSEVELT        R   \n",
              "\n",
              "                                      DIVISION        DATE      TIME  \\\n",
              "0       Brooklyn–Manhattan Transit Corporation  08/25/2018  00:00:00   \n",
              "1       Brooklyn–Manhattan Transit Corporation  08/25/2018  04:00:00   \n",
              "2       Brooklyn–Manhattan Transit Corporation  08/25/2018  08:00:00   \n",
              "3       Brooklyn–Manhattan Transit Corporation  08/25/2018  12:00:00   \n",
              "4       Brooklyn–Manhattan Transit Corporation  08/25/2018  16:00:00   \n",
              "...                                        ...         ...       ...   \n",
              "197620                   Roosevelt Island Tram  08/31/2018  05:00:00   \n",
              "197621                   Roosevelt Island Tram  08/31/2018  09:00:00   \n",
              "197622                   Roosevelt Island Tram  08/31/2018  13:00:00   \n",
              "197623                   Roosevelt Island Tram  08/31/2018  17:00:00   \n",
              "197624                   Roosevelt Island Tram  08/31/2018  21:00:00   \n",
              "\n",
              "           ENTRIES                                              EXITS  \\\n",
              "0       0006736067  0002283184                                    ...   \n",
              "1       0006736087  0002283188                                    ...   \n",
              "2       0006736105  0002283229                                    ...   \n",
              "3       0006736180  0002283314                                    ...   \n",
              "4       0006736349  0002283384                                    ...   \n",
              "...            ...                                                ...   \n",
              "197620  0000005554  0000000348                                    ...   \n",
              "197621  0000005554  0000000348                                    ...   \n",
              "197622  0000005554  0000000348                                    ...   \n",
              "197623  0000005554  0000000348                                    ...   \n",
              "197624  0000005554  0000000348                                    ...   \n",
              "\n",
              "        On_N_Line  \n",
              "0            True  \n",
              "1            True  \n",
              "2            True  \n",
              "3            True  \n",
              "4            True  \n",
              "...           ...  \n",
              "197620      False  \n",
              "197621      False  \n",
              "197622      False  \n",
              "197623      False  \n",
              "197624      False  \n",
              "\n",
              "[197625 rows x 11 columns]"
            ]
          },
          "execution_count": 24,
          "metadata": {},
          "output_type": "execute_result"
        }
      ],
      "source": [
        "df.drop('DESC', axis=1)"
      ]
    },
    {
      "cell_type": "markdown",
      "metadata": {
        "id": "Xw_D0jrQN6rc"
      },
      "source": [
        "Note the `axis=1` argument. By default, `df.drop()` tries to drop rows (`axis=0`) with the specified index, e.g.:"
      ]
    },
    {
      "cell_type": "code",
      "execution_count": null,
      "metadata": {
        "id": "1-_fHkcTN6rd",
        "outputId": "55491cfb-27f6-4044-ac36-c254f28d8703"
      },
      "outputs": [
        {
          "data": {
            "text/html": [
              "<div>\n",
              "<style scoped>\n",
              "    .dataframe tbody tr th:only-of-type {\n",
              "        vertical-align: middle;\n",
              "    }\n",
              "\n",
              "    .dataframe tbody tr th {\n",
              "        vertical-align: top;\n",
              "    }\n",
              "\n",
              "    .dataframe thead th {\n",
              "        text-align: right;\n",
              "    }\n",
              "</style>\n",
              "<table border=\"1\" class=\"dataframe\">\n",
              "  <thead>\n",
              "    <tr style=\"text-align: right;\">\n",
              "      <th></th>\n",
              "      <th>CONTROL_AREA</th>\n",
              "      <th>UNIT</th>\n",
              "      <th>SCP</th>\n",
              "      <th>STATION</th>\n",
              "      <th>LINENAME</th>\n",
              "      <th>DIVISION</th>\n",
              "      <th>DATE</th>\n",
              "      <th>TIME</th>\n",
              "      <th>DESC</th>\n",
              "      <th>ENTRIES</th>\n",
              "      <th>EXITS</th>\n",
              "      <th>On_N_Line</th>\n",
              "    </tr>\n",
              "  </thead>\n",
              "  <tbody>\n",
              "    <tr>\n",
              "      <th>0</th>\n",
              "      <td>A002</td>\n",
              "      <td>R051</td>\n",
              "      <td>02-00-00</td>\n",
              "      <td>59 ST</td>\n",
              "      <td>NQR456W</td>\n",
              "      <td>Brooklyn–Manhattan Transit Corporation</td>\n",
              "      <td>08/25/2018</td>\n",
              "      <td>00:00:00</td>\n",
              "      <td>REGULAR</td>\n",
              "      <td>0006736067</td>\n",
              "      <td>0002283184                                    ...</td>\n",
              "      <td>True</td>\n",
              "    </tr>\n",
              "    <tr>\n",
              "      <th>1</th>\n",
              "      <td>A002</td>\n",
              "      <td>R051</td>\n",
              "      <td>02-00-00</td>\n",
              "      <td>59 ST</td>\n",
              "      <td>NQR456W</td>\n",
              "      <td>Brooklyn–Manhattan Transit Corporation</td>\n",
              "      <td>08/25/2018</td>\n",
              "      <td>04:00:00</td>\n",
              "      <td>REGULAR</td>\n",
              "      <td>0006736087</td>\n",
              "      <td>0002283188                                    ...</td>\n",
              "      <td>True</td>\n",
              "    </tr>\n",
              "    <tr>\n",
              "      <th>2</th>\n",
              "      <td>A002</td>\n",
              "      <td>R051</td>\n",
              "      <td>02-00-00</td>\n",
              "      <td>59 ST</td>\n",
              "      <td>NQR456W</td>\n",
              "      <td>Brooklyn–Manhattan Transit Corporation</td>\n",
              "      <td>08/25/2018</td>\n",
              "      <td>08:00:00</td>\n",
              "      <td>REGULAR</td>\n",
              "      <td>0006736105</td>\n",
              "      <td>0002283229                                    ...</td>\n",
              "      <td>True</td>\n",
              "    </tr>\n",
              "    <tr>\n",
              "      <th>4</th>\n",
              "      <td>A002</td>\n",
              "      <td>R051</td>\n",
              "      <td>02-00-00</td>\n",
              "      <td>59 ST</td>\n",
              "      <td>NQR456W</td>\n",
              "      <td>Brooklyn–Manhattan Transit Corporation</td>\n",
              "      <td>08/25/2018</td>\n",
              "      <td>16:00:00</td>\n",
              "      <td>REGULAR</td>\n",
              "      <td>0006736349</td>\n",
              "      <td>0002283384                                    ...</td>\n",
              "      <td>True</td>\n",
              "    </tr>\n",
              "    <tr>\n",
              "      <th>5</th>\n",
              "      <td>A002</td>\n",
              "      <td>R051</td>\n",
              "      <td>02-00-00</td>\n",
              "      <td>59 ST</td>\n",
              "      <td>NQR456W</td>\n",
              "      <td>Brooklyn–Manhattan Transit Corporation</td>\n",
              "      <td>08/25/2018</td>\n",
              "      <td>20:00:00</td>\n",
              "      <td>REGULAR</td>\n",
              "      <td>0006736562</td>\n",
              "      <td>0002283425                                    ...</td>\n",
              "      <td>True</td>\n",
              "    </tr>\n",
              "  </tbody>\n",
              "</table>\n",
              "</div>"
            ],
            "text/plain": [
              "  CONTROL_AREA  UNIT       SCP STATION LINENAME  \\\n",
              "0         A002  R051  02-00-00   59 ST  NQR456W   \n",
              "1         A002  R051  02-00-00   59 ST  NQR456W   \n",
              "2         A002  R051  02-00-00   59 ST  NQR456W   \n",
              "4         A002  R051  02-00-00   59 ST  NQR456W   \n",
              "5         A002  R051  02-00-00   59 ST  NQR456W   \n",
              "\n",
              "                                 DIVISION        DATE      TIME     DESC  \\\n",
              "0  Brooklyn–Manhattan Transit Corporation  08/25/2018  00:00:00  REGULAR   \n",
              "1  Brooklyn–Manhattan Transit Corporation  08/25/2018  04:00:00  REGULAR   \n",
              "2  Brooklyn–Manhattan Transit Corporation  08/25/2018  08:00:00  REGULAR   \n",
              "4  Brooklyn–Manhattan Transit Corporation  08/25/2018  16:00:00  REGULAR   \n",
              "5  Brooklyn–Manhattan Transit Corporation  08/25/2018  20:00:00  REGULAR   \n",
              "\n",
              "      ENTRIES                                              EXITS  On_N_Line  \n",
              "0  0006736067  0002283184                                    ...       True  \n",
              "1  0006736087  0002283188                                    ...       True  \n",
              "2  0006736105  0002283229                                    ...       True  \n",
              "4  0006736349  0002283384                                    ...       True  \n",
              "5  0006736562  0002283425                                    ...       True  "
            ]
          },
          "execution_count": 25,
          "metadata": {},
          "output_type": "execute_result"
        }
      ],
      "source": [
        "df.drop(3).head()"
      ]
    },
    {
      "cell_type": "markdown",
      "metadata": {
        "id": "dnHTQbAZN6rd"
      },
      "source": [
        "If you are trying to drop a column and you forget the `axis=1`, you'll get an error message like this:"
      ]
    },
    {
      "cell_type": "code",
      "execution_count": null,
      "metadata": {
        "id": "kYMsCARZN6rd",
        "outputId": "416b425f-3a95-4c24-ee24-f9790832340d"
      },
      "outputs": [
        {
          "ename": "KeyError",
          "evalue": "\"['DESC'] not found in axis\"",
          "output_type": "error",
          "traceback": [
            "\u001b[0;31m---------------------------------------------------------------------------\u001b[0m",
            "\u001b[0;31mKeyError\u001b[0m                                  Traceback (most recent call last)",
            "\u001b[0;32m<ipython-input-26-5e67d3b7434b>\u001b[0m in \u001b[0;36m<module>\u001b[0;34m\u001b[0m\n\u001b[0;32m----> 1\u001b[0;31m \u001b[0mdf\u001b[0m\u001b[0;34m.\u001b[0m\u001b[0mdrop\u001b[0m\u001b[0;34m(\u001b[0m\u001b[0;34m'DESC'\u001b[0m\u001b[0;34m)\u001b[0m\u001b[0;34m\u001b[0m\u001b[0;34m\u001b[0m\u001b[0m\n\u001b[0m",
            "\u001b[0;32m//anaconda3/envs/learn-env/lib/python3.8/site-packages/pandas/core/frame.py\u001b[0m in \u001b[0;36mdrop\u001b[0;34m(self, labels, axis, index, columns, level, inplace, errors)\u001b[0m\n\u001b[1;32m   4161\u001b[0m                 \u001b[0mweight\u001b[0m  \u001b[0;36m1.0\u001b[0m     \u001b[0;36m0.8\u001b[0m\u001b[0;34m\u001b[0m\u001b[0;34m\u001b[0m\u001b[0m\n\u001b[1;32m   4162\u001b[0m         \"\"\"\n\u001b[0;32m-> 4163\u001b[0;31m         return super().drop(\n\u001b[0m\u001b[1;32m   4164\u001b[0m             \u001b[0mlabels\u001b[0m\u001b[0;34m=\u001b[0m\u001b[0mlabels\u001b[0m\u001b[0;34m,\u001b[0m\u001b[0;34m\u001b[0m\u001b[0;34m\u001b[0m\u001b[0m\n\u001b[1;32m   4165\u001b[0m             \u001b[0maxis\u001b[0m\u001b[0;34m=\u001b[0m\u001b[0maxis\u001b[0m\u001b[0;34m,\u001b[0m\u001b[0;34m\u001b[0m\u001b[0;34m\u001b[0m\u001b[0m\n",
            "\u001b[0;32m//anaconda3/envs/learn-env/lib/python3.8/site-packages/pandas/core/generic.py\u001b[0m in \u001b[0;36mdrop\u001b[0;34m(self, labels, axis, index, columns, level, inplace, errors)\u001b[0m\n\u001b[1;32m   3885\u001b[0m         \u001b[0;32mfor\u001b[0m \u001b[0maxis\u001b[0m\u001b[0;34m,\u001b[0m \u001b[0mlabels\u001b[0m \u001b[0;32min\u001b[0m \u001b[0maxes\u001b[0m\u001b[0;34m.\u001b[0m\u001b[0mitems\u001b[0m\u001b[0;34m(\u001b[0m\u001b[0;34m)\u001b[0m\u001b[0;34m:\u001b[0m\u001b[0;34m\u001b[0m\u001b[0;34m\u001b[0m\u001b[0m\n\u001b[1;32m   3886\u001b[0m             \u001b[0;32mif\u001b[0m \u001b[0mlabels\u001b[0m \u001b[0;32mis\u001b[0m \u001b[0;32mnot\u001b[0m \u001b[0;32mNone\u001b[0m\u001b[0;34m:\u001b[0m\u001b[0;34m\u001b[0m\u001b[0;34m\u001b[0m\u001b[0m\n\u001b[0;32m-> 3887\u001b[0;31m                 \u001b[0mobj\u001b[0m \u001b[0;34m=\u001b[0m \u001b[0mobj\u001b[0m\u001b[0;34m.\u001b[0m\u001b[0m_drop_axis\u001b[0m\u001b[0;34m(\u001b[0m\u001b[0mlabels\u001b[0m\u001b[0;34m,\u001b[0m \u001b[0maxis\u001b[0m\u001b[0;34m,\u001b[0m \u001b[0mlevel\u001b[0m\u001b[0;34m=\u001b[0m\u001b[0mlevel\u001b[0m\u001b[0;34m,\u001b[0m \u001b[0merrors\u001b[0m\u001b[0;34m=\u001b[0m\u001b[0merrors\u001b[0m\u001b[0;34m)\u001b[0m\u001b[0;34m\u001b[0m\u001b[0;34m\u001b[0m\u001b[0m\n\u001b[0m\u001b[1;32m   3888\u001b[0m \u001b[0;34m\u001b[0m\u001b[0m\n\u001b[1;32m   3889\u001b[0m         \u001b[0;32mif\u001b[0m \u001b[0minplace\u001b[0m\u001b[0;34m:\u001b[0m\u001b[0;34m\u001b[0m\u001b[0;34m\u001b[0m\u001b[0m\n",
            "\u001b[0;32m//anaconda3/envs/learn-env/lib/python3.8/site-packages/pandas/core/generic.py\u001b[0m in \u001b[0;36m_drop_axis\u001b[0;34m(self, labels, axis, level, errors)\u001b[0m\n\u001b[1;32m   3919\u001b[0m                 \u001b[0mnew_axis\u001b[0m \u001b[0;34m=\u001b[0m \u001b[0maxis\u001b[0m\u001b[0;34m.\u001b[0m\u001b[0mdrop\u001b[0m\u001b[0;34m(\u001b[0m\u001b[0mlabels\u001b[0m\u001b[0;34m,\u001b[0m \u001b[0mlevel\u001b[0m\u001b[0;34m=\u001b[0m\u001b[0mlevel\u001b[0m\u001b[0;34m,\u001b[0m \u001b[0merrors\u001b[0m\u001b[0;34m=\u001b[0m\u001b[0merrors\u001b[0m\u001b[0;34m)\u001b[0m\u001b[0;34m\u001b[0m\u001b[0;34m\u001b[0m\u001b[0m\n\u001b[1;32m   3920\u001b[0m             \u001b[0;32melse\u001b[0m\u001b[0;34m:\u001b[0m\u001b[0;34m\u001b[0m\u001b[0;34m\u001b[0m\u001b[0m\n\u001b[0;32m-> 3921\u001b[0;31m                 \u001b[0mnew_axis\u001b[0m \u001b[0;34m=\u001b[0m \u001b[0maxis\u001b[0m\u001b[0;34m.\u001b[0m\u001b[0mdrop\u001b[0m\u001b[0;34m(\u001b[0m\u001b[0mlabels\u001b[0m\u001b[0;34m,\u001b[0m \u001b[0merrors\u001b[0m\u001b[0;34m=\u001b[0m\u001b[0merrors\u001b[0m\u001b[0;34m)\u001b[0m\u001b[0;34m\u001b[0m\u001b[0;34m\u001b[0m\u001b[0m\n\u001b[0m\u001b[1;32m   3922\u001b[0m             \u001b[0mresult\u001b[0m \u001b[0;34m=\u001b[0m \u001b[0mself\u001b[0m\u001b[0;34m.\u001b[0m\u001b[0mreindex\u001b[0m\u001b[0;34m(\u001b[0m\u001b[0;34m**\u001b[0m\u001b[0;34m{\u001b[0m\u001b[0maxis_name\u001b[0m\u001b[0;34m:\u001b[0m \u001b[0mnew_axis\u001b[0m\u001b[0;34m}\u001b[0m\u001b[0;34m)\u001b[0m\u001b[0;34m\u001b[0m\u001b[0;34m\u001b[0m\u001b[0m\n\u001b[1;32m   3923\u001b[0m \u001b[0;34m\u001b[0m\u001b[0m\n",
            "\u001b[0;32m//anaconda3/envs/learn-env/lib/python3.8/site-packages/pandas/core/indexes/base.py\u001b[0m in \u001b[0;36mdrop\u001b[0;34m(self, labels, errors)\u001b[0m\n\u001b[1;32m   5280\u001b[0m         \u001b[0;32mif\u001b[0m \u001b[0mmask\u001b[0m\u001b[0;34m.\u001b[0m\u001b[0many\u001b[0m\u001b[0;34m(\u001b[0m\u001b[0;34m)\u001b[0m\u001b[0;34m:\u001b[0m\u001b[0;34m\u001b[0m\u001b[0;34m\u001b[0m\u001b[0m\n\u001b[1;32m   5281\u001b[0m             \u001b[0;32mif\u001b[0m \u001b[0merrors\u001b[0m \u001b[0;34m!=\u001b[0m \u001b[0;34m\"ignore\"\u001b[0m\u001b[0;34m:\u001b[0m\u001b[0;34m\u001b[0m\u001b[0;34m\u001b[0m\u001b[0m\n\u001b[0;32m-> 5282\u001b[0;31m                 \u001b[0;32mraise\u001b[0m \u001b[0mKeyError\u001b[0m\u001b[0;34m(\u001b[0m\u001b[0;34mf\"{labels[mask]} not found in axis\"\u001b[0m\u001b[0;34m)\u001b[0m\u001b[0;34m\u001b[0m\u001b[0;34m\u001b[0m\u001b[0m\n\u001b[0m\u001b[1;32m   5283\u001b[0m             \u001b[0mindexer\u001b[0m \u001b[0;34m=\u001b[0m \u001b[0mindexer\u001b[0m\u001b[0;34m[\u001b[0m\u001b[0;34m~\u001b[0m\u001b[0mmask\u001b[0m\u001b[0;34m]\u001b[0m\u001b[0;34m\u001b[0m\u001b[0;34m\u001b[0m\u001b[0m\n\u001b[1;32m   5284\u001b[0m         \u001b[0;32mreturn\u001b[0m \u001b[0mself\u001b[0m\u001b[0;34m.\u001b[0m\u001b[0mdelete\u001b[0m\u001b[0;34m(\u001b[0m\u001b[0mindexer\u001b[0m\u001b[0;34m)\u001b[0m\u001b[0;34m\u001b[0m\u001b[0;34m\u001b[0m\u001b[0m\n",
            "\u001b[0;31mKeyError\u001b[0m: \"['DESC'] not found in axis\""
          ]
        }
      ],
      "source": [
        "df.drop('DESC')"
      ]
    },
    {
      "cell_type": "markdown",
      "metadata": {
        "id": "470MS1FjN6rd"
      },
      "source": [
        "Let's go ahead and permanently drop that column:"
      ]
    },
    {
      "cell_type": "code",
      "execution_count": null,
      "metadata": {
        "id": "9L9oRcA7N6rd",
        "outputId": "61557c68-4fcf-4ccf-b95a-d4c59220337e"
      },
      "outputs": [
        {
          "data": {
            "text/html": [
              "<div>\n",
              "<style scoped>\n",
              "    .dataframe tbody tr th:only-of-type {\n",
              "        vertical-align: middle;\n",
              "    }\n",
              "\n",
              "    .dataframe tbody tr th {\n",
              "        vertical-align: top;\n",
              "    }\n",
              "\n",
              "    .dataframe thead th {\n",
              "        text-align: right;\n",
              "    }\n",
              "</style>\n",
              "<table border=\"1\" class=\"dataframe\">\n",
              "  <thead>\n",
              "    <tr style=\"text-align: right;\">\n",
              "      <th></th>\n",
              "      <th>CONTROL_AREA</th>\n",
              "      <th>UNIT</th>\n",
              "      <th>SCP</th>\n",
              "      <th>STATION</th>\n",
              "      <th>LINENAME</th>\n",
              "      <th>DIVISION</th>\n",
              "      <th>DATE</th>\n",
              "      <th>TIME</th>\n",
              "      <th>ENTRIES</th>\n",
              "      <th>EXITS</th>\n",
              "      <th>On_N_Line</th>\n",
              "    </tr>\n",
              "  </thead>\n",
              "  <tbody>\n",
              "    <tr>\n",
              "      <th>0</th>\n",
              "      <td>A002</td>\n",
              "      <td>R051</td>\n",
              "      <td>02-00-00</td>\n",
              "      <td>59 ST</td>\n",
              "      <td>NQR456W</td>\n",
              "      <td>Brooklyn–Manhattan Transit Corporation</td>\n",
              "      <td>08/25/2018</td>\n",
              "      <td>00:00:00</td>\n",
              "      <td>0006736067</td>\n",
              "      <td>0002283184                                    ...</td>\n",
              "      <td>True</td>\n",
              "    </tr>\n",
              "    <tr>\n",
              "      <th>1</th>\n",
              "      <td>A002</td>\n",
              "      <td>R051</td>\n",
              "      <td>02-00-00</td>\n",
              "      <td>59 ST</td>\n",
              "      <td>NQR456W</td>\n",
              "      <td>Brooklyn–Manhattan Transit Corporation</td>\n",
              "      <td>08/25/2018</td>\n",
              "      <td>04:00:00</td>\n",
              "      <td>0006736087</td>\n",
              "      <td>0002283188                                    ...</td>\n",
              "      <td>True</td>\n",
              "    </tr>\n",
              "    <tr>\n",
              "      <th>2</th>\n",
              "      <td>A002</td>\n",
              "      <td>R051</td>\n",
              "      <td>02-00-00</td>\n",
              "      <td>59 ST</td>\n",
              "      <td>NQR456W</td>\n",
              "      <td>Brooklyn–Manhattan Transit Corporation</td>\n",
              "      <td>08/25/2018</td>\n",
              "      <td>08:00:00</td>\n",
              "      <td>0006736105</td>\n",
              "      <td>0002283229                                    ...</td>\n",
              "      <td>True</td>\n",
              "    </tr>\n",
              "    <tr>\n",
              "      <th>3</th>\n",
              "      <td>A002</td>\n",
              "      <td>R051</td>\n",
              "      <td>02-00-00</td>\n",
              "      <td>59 ST</td>\n",
              "      <td>NQR456W</td>\n",
              "      <td>Brooklyn–Manhattan Transit Corporation</td>\n",
              "      <td>08/25/2018</td>\n",
              "      <td>12:00:00</td>\n",
              "      <td>0006736180</td>\n",
              "      <td>0002283314                                    ...</td>\n",
              "      <td>True</td>\n",
              "    </tr>\n",
              "    <tr>\n",
              "      <th>4</th>\n",
              "      <td>A002</td>\n",
              "      <td>R051</td>\n",
              "      <td>02-00-00</td>\n",
              "      <td>59 ST</td>\n",
              "      <td>NQR456W</td>\n",
              "      <td>Brooklyn–Manhattan Transit Corporation</td>\n",
              "      <td>08/25/2018</td>\n",
              "      <td>16:00:00</td>\n",
              "      <td>0006736349</td>\n",
              "      <td>0002283384                                    ...</td>\n",
              "      <td>True</td>\n",
              "    </tr>\n",
              "  </tbody>\n",
              "</table>\n",
              "</div>"
            ],
            "text/plain": [
              "  CONTROL_AREA  UNIT       SCP STATION LINENAME  \\\n",
              "0         A002  R051  02-00-00   59 ST  NQR456W   \n",
              "1         A002  R051  02-00-00   59 ST  NQR456W   \n",
              "2         A002  R051  02-00-00   59 ST  NQR456W   \n",
              "3         A002  R051  02-00-00   59 ST  NQR456W   \n",
              "4         A002  R051  02-00-00   59 ST  NQR456W   \n",
              "\n",
              "                                 DIVISION        DATE      TIME     ENTRIES  \\\n",
              "0  Brooklyn–Manhattan Transit Corporation  08/25/2018  00:00:00  0006736067   \n",
              "1  Brooklyn–Manhattan Transit Corporation  08/25/2018  04:00:00  0006736087   \n",
              "2  Brooklyn–Manhattan Transit Corporation  08/25/2018  08:00:00  0006736105   \n",
              "3  Brooklyn–Manhattan Transit Corporation  08/25/2018  12:00:00  0006736180   \n",
              "4  Brooklyn–Manhattan Transit Corporation  08/25/2018  16:00:00  0006736349   \n",
              "\n",
              "                                               EXITS  On_N_Line  \n",
              "0  0002283184                                    ...       True  \n",
              "1  0002283188                                    ...       True  \n",
              "2  0002283229                                    ...       True  \n",
              "3  0002283314                                    ...       True  \n",
              "4  0002283384                                    ...       True  "
            ]
          },
          "execution_count": 27,
          "metadata": {},
          "output_type": "execute_result"
        }
      ],
      "source": [
        "df = df.drop('DESC', axis=1)\n",
        "df.head()"
      ]
    },
    {
      "cell_type": "markdown",
      "metadata": {
        "id": "6NcxwIHRN6rd"
      },
      "source": [
        "### Changing Column Types\n",
        "\n",
        "Another common data munging technique can be reformatting column types. We first previewed column types above using the `df.info()` method, which we'll repeat here."
      ]
    },
    {
      "cell_type": "code",
      "execution_count": null,
      "metadata": {
        "id": "9J_5Hk-LN6re",
        "outputId": "d1f477a4-9c40-4e18-e6d6-a1d0ee5f197b"
      },
      "outputs": [
        {
          "name": "stdout",
          "output_type": "stream",
          "text": [
            "<class 'pandas.core.frame.DataFrame'>\n",
            "RangeIndex: 197625 entries, 0 to 197624\n",
            "Data columns (total 11 columns):\n",
            " #   Column        Non-Null Count   Dtype \n",
            "---  ------        --------------   ----- \n",
            " 0   CONTROL_AREA  197625 non-null  object\n",
            " 1   UNIT          197625 non-null  object\n",
            " 2   SCP           197625 non-null  object\n",
            " 3   STATION       197625 non-null  object\n",
            " 4   LINENAME      197625 non-null  object\n",
            " 5   DIVISION      197625 non-null  object\n",
            " 6   DATE          197625 non-null  object\n",
            " 7   TIME          197625 non-null  object\n",
            " 8   ENTRIES       197625 non-null  object\n",
            " 9   EXITS         197625 non-null  object\n",
            " 10  On_N_Line     197625 non-null  bool  \n",
            "dtypes: bool(1), object(10)\n",
            "memory usage: 15.3+ MB\n"
          ]
        }
      ],
      "source": [
        "df.info()"
      ]
    },
    {
      "cell_type": "markdown",
      "metadata": {
        "id": "rbtojKBxN6re"
      },
      "source": [
        "We can also check the data type of an individual column, rather than listing all of them:"
      ]
    },
    {
      "cell_type": "code",
      "execution_count": null,
      "metadata": {
        "id": "MUsFNtJaN6re",
        "outputId": "ab469d5e-9410-4df4-ffe2-18209c42abb6"
      },
      "outputs": [
        {
          "name": "stdout",
          "output_type": "stream",
          "text": [
            "object\n"
          ]
        }
      ],
      "source": [
        "print(df['ENTRIES'].dtype)"
      ]
    },
    {
      "cell_type": "markdown",
      "metadata": {
        "id": "rOlzjZdMN6re"
      },
      "source": [
        "In this case we specified `dtype=str` when we opened the file, telling pandas to treat all of the columns as strings initially. So currently every column except for `On_N_Line` is dtype `object`.\n",
        "\n",
        "A common transformation needed is converting numbers stored as text (dtype `object`) to *float* or *integer* representations.\n",
        "\n",
        "Let's look more closely at `ENTRIES`:"
      ]
    },
    {
      "cell_type": "code",
      "execution_count": null,
      "metadata": {
        "id": "PN7m6NKCN6re",
        "outputId": "4994b90f-52e5-4449-f4a0-9db5bdc85e14"
      },
      "outputs": [
        {
          "data": {
            "text/plain": [
              "0    0006736067\n",
              "1    0006736087\n",
              "2    0006736105\n",
              "3    0006736180\n",
              "4    0006736349\n",
              "5    0006736562\n",
              "Name: ENTRIES, dtype: object"
            ]
          },
          "execution_count": 30,
          "metadata": {},
          "output_type": "execute_result"
        }
      ],
      "source": [
        "df.loc[:5, 'ENTRIES']"
      ]
    },
    {
      "cell_type": "markdown",
      "metadata": {
        "id": "hXuABzQ2N6re"
      },
      "source": [
        "Those seem like integers. Let's try converting the type:"
      ]
    },
    {
      "cell_type": "code",
      "execution_count": null,
      "metadata": {
        "id": "bzpvjMVyN6re",
        "outputId": "4b4c73fd-d9b4-4c0c-919d-800fd49c9217"
      },
      "outputs": [
        {
          "data": {
            "text/plain": [
              "0    6736067\n",
              "1    6736087\n",
              "2    6736105\n",
              "3    6736180\n",
              "4    6736349\n",
              "5    6736562\n",
              "Name: ENTRIES, dtype: int64"
            ]
          },
          "execution_count": 31,
          "metadata": {},
          "output_type": "execute_result"
        }
      ],
      "source": [
        "df.loc[:5, 'ENTRIES'].astype(int)"
      ]
    },
    {
      "cell_type": "markdown",
      "metadata": {
        "id": "OX8k5q28N6rf"
      },
      "source": [
        "Note that again, we could use `.map()` instead:"
      ]
    },
    {
      "cell_type": "code",
      "execution_count": null,
      "metadata": {
        "id": "gWxKRxhdN6rf",
        "outputId": "2c7187aa-086f-4795-92c9-bd80c2bffcb6"
      },
      "outputs": [
        {
          "data": {
            "text/plain": [
              "0    6736067\n",
              "1    6736087\n",
              "2    6736105\n",
              "3    6736180\n",
              "4    6736349\n",
              "5    6736562\n",
              "Name: ENTRIES, dtype: int64"
            ]
          },
          "execution_count": 32,
          "metadata": {},
          "output_type": "execute_result"
        }
      ],
      "source": [
        "# int is a built-in function, so we do not\n",
        "# need to declare a helper function here\n",
        "df.loc[:5, 'ENTRIES'].map(int)"
      ]
    },
    {
      "cell_type": "markdown",
      "metadata": {
        "id": "T1sOdTbkN6rf"
      },
      "source": [
        "That looks good, so let's change the type of that column:"
      ]
    },
    {
      "cell_type": "code",
      "execution_count": null,
      "metadata": {
        "id": "VR3Jku_ZN6rf"
      },
      "outputs": [],
      "source": [
        "df['ENTRIES'] = df['ENTRIES'].astype(int)"
      ]
    },
    {
      "cell_type": "code",
      "execution_count": null,
      "metadata": {
        "id": "TcM7qmpIN6rf",
        "outputId": "7f8eef30-e691-4878-dd8d-cec6b64f5e48"
      },
      "outputs": [
        {
          "name": "stdout",
          "output_type": "stream",
          "text": [
            "<class 'pandas.core.frame.DataFrame'>\n",
            "RangeIndex: 197625 entries, 0 to 197624\n",
            "Data columns (total 11 columns):\n",
            " #   Column        Non-Null Count   Dtype \n",
            "---  ------        --------------   ----- \n",
            " 0   CONTROL_AREA  197625 non-null  object\n",
            " 1   UNIT          197625 non-null  object\n",
            " 2   SCP           197625 non-null  object\n",
            " 3   STATION       197625 non-null  object\n",
            " 4   LINENAME      197625 non-null  object\n",
            " 5   DIVISION      197625 non-null  object\n",
            " 6   DATE          197625 non-null  object\n",
            " 7   TIME          197625 non-null  object\n",
            " 8   ENTRIES       197625 non-null  int64 \n",
            " 9   EXITS         197625 non-null  object\n",
            " 10  On_N_Line     197625 non-null  bool  \n",
            "dtypes: bool(1), int64(1), object(9)\n",
            "memory usage: 15.3+ MB\n"
          ]
        }
      ],
      "source": [
        "df.info()"
      ]
    },
    {
      "cell_type": "markdown",
      "metadata": {
        "id": "1aeUT3RmN6rf"
      },
      "source": [
        "Attempting to convert a string column to int or float will produce errors if there are actually non-numeric characters. For example, `LINENAME`:"
      ]
    },
    {
      "cell_type": "code",
      "execution_count": null,
      "metadata": {
        "id": "jbTVkzOiN6rg",
        "outputId": "d360649a-c980-4fe8-a66e-b6fa5c922692"
      },
      "outputs": [
        {
          "ename": "ValueError",
          "evalue": "invalid literal for int() with base 10: 'NQR456W'",
          "output_type": "error",
          "traceback": [
            "\u001b[0;31m---------------------------------------------------------------------------\u001b[0m",
            "\u001b[0;31mValueError\u001b[0m                                Traceback (most recent call last)",
            "\u001b[0;32m<ipython-input-35-606443ef165a>\u001b[0m in \u001b[0;36m<module>\u001b[0;34m\u001b[0m\n\u001b[0;32m----> 1\u001b[0;31m \u001b[0mdf\u001b[0m\u001b[0;34m[\u001b[0m\u001b[0;34m'LINENAME'\u001b[0m\u001b[0;34m]\u001b[0m \u001b[0;34m=\u001b[0m \u001b[0mdf\u001b[0m\u001b[0;34m[\u001b[0m\u001b[0;34m'LINENAME'\u001b[0m\u001b[0;34m]\u001b[0m\u001b[0;34m.\u001b[0m\u001b[0mastype\u001b[0m\u001b[0;34m(\u001b[0m\u001b[0mint\u001b[0m\u001b[0;34m)\u001b[0m\u001b[0;34m\u001b[0m\u001b[0;34m\u001b[0m\u001b[0m\n\u001b[0m",
            "\u001b[0;32m//anaconda3/envs/learn-env/lib/python3.8/site-packages/pandas/core/generic.py\u001b[0m in \u001b[0;36mastype\u001b[0;34m(self, dtype, copy, errors)\u001b[0m\n\u001b[1;32m   5544\u001b[0m         \u001b[0;32melse\u001b[0m\u001b[0;34m:\u001b[0m\u001b[0;34m\u001b[0m\u001b[0;34m\u001b[0m\u001b[0m\n\u001b[1;32m   5545\u001b[0m             \u001b[0;31m# else, only a single dtype is given\u001b[0m\u001b[0;34m\u001b[0m\u001b[0;34m\u001b[0m\u001b[0;34m\u001b[0m\u001b[0m\n\u001b[0;32m-> 5546\u001b[0;31m             \u001b[0mnew_data\u001b[0m \u001b[0;34m=\u001b[0m \u001b[0mself\u001b[0m\u001b[0;34m.\u001b[0m\u001b[0m_mgr\u001b[0m\u001b[0;34m.\u001b[0m\u001b[0mastype\u001b[0m\u001b[0;34m(\u001b[0m\u001b[0mdtype\u001b[0m\u001b[0;34m=\u001b[0m\u001b[0mdtype\u001b[0m\u001b[0;34m,\u001b[0m \u001b[0mcopy\u001b[0m\u001b[0;34m=\u001b[0m\u001b[0mcopy\u001b[0m\u001b[0;34m,\u001b[0m \u001b[0merrors\u001b[0m\u001b[0;34m=\u001b[0m\u001b[0merrors\u001b[0m\u001b[0;34m,\u001b[0m\u001b[0;34m)\u001b[0m\u001b[0;34m\u001b[0m\u001b[0;34m\u001b[0m\u001b[0m\n\u001b[0m\u001b[1;32m   5547\u001b[0m             \u001b[0;32mreturn\u001b[0m \u001b[0mself\u001b[0m\u001b[0;34m.\u001b[0m\u001b[0m_constructor\u001b[0m\u001b[0;34m(\u001b[0m\u001b[0mnew_data\u001b[0m\u001b[0;34m)\u001b[0m\u001b[0;34m.\u001b[0m\u001b[0m__finalize__\u001b[0m\u001b[0;34m(\u001b[0m\u001b[0mself\u001b[0m\u001b[0;34m,\u001b[0m \u001b[0mmethod\u001b[0m\u001b[0;34m=\u001b[0m\u001b[0;34m\"astype\"\u001b[0m\u001b[0;34m)\u001b[0m\u001b[0;34m\u001b[0m\u001b[0;34m\u001b[0m\u001b[0m\n\u001b[1;32m   5548\u001b[0m \u001b[0;34m\u001b[0m\u001b[0m\n",
            "\u001b[0;32m//anaconda3/envs/learn-env/lib/python3.8/site-packages/pandas/core/internals/managers.py\u001b[0m in \u001b[0;36mastype\u001b[0;34m(self, dtype, copy, errors)\u001b[0m\n\u001b[1;32m    593\u001b[0m         \u001b[0mself\u001b[0m\u001b[0;34m,\u001b[0m \u001b[0mdtype\u001b[0m\u001b[0;34m,\u001b[0m \u001b[0mcopy\u001b[0m\u001b[0;34m:\u001b[0m \u001b[0mbool\u001b[0m \u001b[0;34m=\u001b[0m \u001b[0;32mFalse\u001b[0m\u001b[0;34m,\u001b[0m \u001b[0merrors\u001b[0m\u001b[0;34m:\u001b[0m \u001b[0mstr\u001b[0m \u001b[0;34m=\u001b[0m \u001b[0;34m\"raise\"\u001b[0m\u001b[0;34m\u001b[0m\u001b[0;34m\u001b[0m\u001b[0m\n\u001b[1;32m    594\u001b[0m     ) -> \"BlockManager\":\n\u001b[0;32m--> 595\u001b[0;31m         \u001b[0;32mreturn\u001b[0m \u001b[0mself\u001b[0m\u001b[0;34m.\u001b[0m\u001b[0mapply\u001b[0m\u001b[0;34m(\u001b[0m\u001b[0;34m\"astype\"\u001b[0m\u001b[0;34m,\u001b[0m \u001b[0mdtype\u001b[0m\u001b[0;34m=\u001b[0m\u001b[0mdtype\u001b[0m\u001b[0;34m,\u001b[0m \u001b[0mcopy\u001b[0m\u001b[0;34m=\u001b[0m\u001b[0mcopy\u001b[0m\u001b[0;34m,\u001b[0m \u001b[0merrors\u001b[0m\u001b[0;34m=\u001b[0m\u001b[0merrors\u001b[0m\u001b[0;34m)\u001b[0m\u001b[0;34m\u001b[0m\u001b[0;34m\u001b[0m\u001b[0m\n\u001b[0m\u001b[1;32m    596\u001b[0m \u001b[0;34m\u001b[0m\u001b[0m\n\u001b[1;32m    597\u001b[0m     def convert(\n",
            "\u001b[0;32m//anaconda3/envs/learn-env/lib/python3.8/site-packages/pandas/core/internals/managers.py\u001b[0m in \u001b[0;36mapply\u001b[0;34m(self, f, align_keys, **kwargs)\u001b[0m\n\u001b[1;32m    404\u001b[0m                 \u001b[0mapplied\u001b[0m \u001b[0;34m=\u001b[0m \u001b[0mb\u001b[0m\u001b[0;34m.\u001b[0m\u001b[0mapply\u001b[0m\u001b[0;34m(\u001b[0m\u001b[0mf\u001b[0m\u001b[0;34m,\u001b[0m \u001b[0;34m**\u001b[0m\u001b[0mkwargs\u001b[0m\u001b[0;34m)\u001b[0m\u001b[0;34m\u001b[0m\u001b[0;34m\u001b[0m\u001b[0m\n\u001b[1;32m    405\u001b[0m             \u001b[0;32melse\u001b[0m\u001b[0;34m:\u001b[0m\u001b[0;34m\u001b[0m\u001b[0;34m\u001b[0m\u001b[0m\n\u001b[0;32m--> 406\u001b[0;31m                 \u001b[0mapplied\u001b[0m \u001b[0;34m=\u001b[0m \u001b[0mgetattr\u001b[0m\u001b[0;34m(\u001b[0m\u001b[0mb\u001b[0m\u001b[0;34m,\u001b[0m \u001b[0mf\u001b[0m\u001b[0;34m)\u001b[0m\u001b[0;34m(\u001b[0m\u001b[0;34m**\u001b[0m\u001b[0mkwargs\u001b[0m\u001b[0;34m)\u001b[0m\u001b[0;34m\u001b[0m\u001b[0;34m\u001b[0m\u001b[0m\n\u001b[0m\u001b[1;32m    407\u001b[0m             \u001b[0mresult_blocks\u001b[0m \u001b[0;34m=\u001b[0m \u001b[0m_extend_blocks\u001b[0m\u001b[0;34m(\u001b[0m\u001b[0mapplied\u001b[0m\u001b[0;34m,\u001b[0m \u001b[0mresult_blocks\u001b[0m\u001b[0;34m)\u001b[0m\u001b[0;34m\u001b[0m\u001b[0;34m\u001b[0m\u001b[0m\n\u001b[1;32m    408\u001b[0m \u001b[0;34m\u001b[0m\u001b[0m\n",
            "\u001b[0;32m//anaconda3/envs/learn-env/lib/python3.8/site-packages/pandas/core/internals/blocks.py\u001b[0m in \u001b[0;36mastype\u001b[0;34m(self, dtype, copy, errors)\u001b[0m\n\u001b[1;32m    593\u001b[0m             \u001b[0mvals1d\u001b[0m \u001b[0;34m=\u001b[0m \u001b[0mvalues\u001b[0m\u001b[0;34m.\u001b[0m\u001b[0mravel\u001b[0m\u001b[0;34m(\u001b[0m\u001b[0;34m)\u001b[0m\u001b[0;34m\u001b[0m\u001b[0;34m\u001b[0m\u001b[0m\n\u001b[1;32m    594\u001b[0m             \u001b[0;32mtry\u001b[0m\u001b[0;34m:\u001b[0m\u001b[0;34m\u001b[0m\u001b[0;34m\u001b[0m\u001b[0m\n\u001b[0;32m--> 595\u001b[0;31m                 \u001b[0mvalues\u001b[0m \u001b[0;34m=\u001b[0m \u001b[0mastype_nansafe\u001b[0m\u001b[0;34m(\u001b[0m\u001b[0mvals1d\u001b[0m\u001b[0;34m,\u001b[0m \u001b[0mdtype\u001b[0m\u001b[0;34m,\u001b[0m \u001b[0mcopy\u001b[0m\u001b[0;34m=\u001b[0m\u001b[0;32mTrue\u001b[0m\u001b[0;34m)\u001b[0m\u001b[0;34m\u001b[0m\u001b[0;34m\u001b[0m\u001b[0m\n\u001b[0m\u001b[1;32m    596\u001b[0m             \u001b[0;32mexcept\u001b[0m \u001b[0;34m(\u001b[0m\u001b[0mValueError\u001b[0m\u001b[0;34m,\u001b[0m \u001b[0mTypeError\u001b[0m\u001b[0;34m)\u001b[0m\u001b[0;34m:\u001b[0m\u001b[0;34m\u001b[0m\u001b[0;34m\u001b[0m\u001b[0m\n\u001b[1;32m    597\u001b[0m                 \u001b[0;31m# e.g. astype_nansafe can fail on object-dtype of strings\u001b[0m\u001b[0;34m\u001b[0m\u001b[0;34m\u001b[0m\u001b[0;34m\u001b[0m\u001b[0m\n",
            "\u001b[0;32m//anaconda3/envs/learn-env/lib/python3.8/site-packages/pandas/core/dtypes/cast.py\u001b[0m in \u001b[0;36mastype_nansafe\u001b[0;34m(arr, dtype, copy, skipna)\u001b[0m\n\u001b[1;32m    970\u001b[0m         \u001b[0;31m# work around NumPy brokenness, #1987\u001b[0m\u001b[0;34m\u001b[0m\u001b[0;34m\u001b[0m\u001b[0;34m\u001b[0m\u001b[0m\n\u001b[1;32m    971\u001b[0m         \u001b[0;32mif\u001b[0m \u001b[0mnp\u001b[0m\u001b[0;34m.\u001b[0m\u001b[0missubdtype\u001b[0m\u001b[0;34m(\u001b[0m\u001b[0mdtype\u001b[0m\u001b[0;34m.\u001b[0m\u001b[0mtype\u001b[0m\u001b[0;34m,\u001b[0m \u001b[0mnp\u001b[0m\u001b[0;34m.\u001b[0m\u001b[0minteger\u001b[0m\u001b[0;34m)\u001b[0m\u001b[0;34m:\u001b[0m\u001b[0;34m\u001b[0m\u001b[0;34m\u001b[0m\u001b[0m\n\u001b[0;32m--> 972\u001b[0;31m             \u001b[0;32mreturn\u001b[0m \u001b[0mlib\u001b[0m\u001b[0;34m.\u001b[0m\u001b[0mastype_intsafe\u001b[0m\u001b[0;34m(\u001b[0m\u001b[0marr\u001b[0m\u001b[0;34m.\u001b[0m\u001b[0mravel\u001b[0m\u001b[0;34m(\u001b[0m\u001b[0;34m)\u001b[0m\u001b[0;34m,\u001b[0m \u001b[0mdtype\u001b[0m\u001b[0;34m)\u001b[0m\u001b[0;34m.\u001b[0m\u001b[0mreshape\u001b[0m\u001b[0;34m(\u001b[0m\u001b[0marr\u001b[0m\u001b[0;34m.\u001b[0m\u001b[0mshape\u001b[0m\u001b[0;34m)\u001b[0m\u001b[0;34m\u001b[0m\u001b[0;34m\u001b[0m\u001b[0m\n\u001b[0m\u001b[1;32m    973\u001b[0m \u001b[0;34m\u001b[0m\u001b[0m\n\u001b[1;32m    974\u001b[0m         \u001b[0;31m# if we have a datetime/timedelta array of objects\u001b[0m\u001b[0;34m\u001b[0m\u001b[0;34m\u001b[0m\u001b[0;34m\u001b[0m\u001b[0m\n",
            "\u001b[0;32mpandas/_libs/lib.pyx\u001b[0m in \u001b[0;36mpandas._libs.lib.astype_intsafe\u001b[0;34m()\u001b[0m\n",
            "\u001b[0;31mValueError\u001b[0m: invalid literal for int() with base 10: 'NQR456W'"
          ]
        }
      ],
      "source": [
        "df['LINENAME'] = df['LINENAME'].astype(int)"
      ]
    },
    {
      "cell_type": "markdown",
      "metadata": {
        "id": "obdeOJUHN6rg"
      },
      "source": [
        "## Converting Dates\n",
        "\n",
        "A slightly more complicated data type transformation is creating *date* or *datetime* objects. These are pandas data types that have useful information such as being able to quickly calculate the time between two days, or extracting the day of the week from a given date. However, if we look at our current date column, we will notice it is simply a dtype `object` (all strings)."
      ]
    },
    {
      "cell_type": "code",
      "execution_count": null,
      "metadata": {
        "id": "3vr6X0MdN6rg",
        "outputId": "85a3aaef-93ee-454b-c56b-e13a9deeec4a"
      },
      "outputs": [
        {
          "data": {
            "text/plain": [
              "0    08/25/2018\n",
              "1    08/25/2018\n",
              "2    08/25/2018\n",
              "3    08/25/2018\n",
              "4    08/25/2018\n",
              "Name: DATE, dtype: object"
            ]
          },
          "execution_count": 36,
          "metadata": {},
          "output_type": "execute_result"
        }
      ],
      "source": [
        "df['DATE'].head()"
      ]
    },
    {
      "cell_type": "markdown",
      "metadata": {
        "id": "IZeBgmibN6rg"
      },
      "source": [
        "### `pd.to_datetime()`\n",
        "\n",
        "This is the handiest of methods when converting strings to datetime objects.\n",
        "\n",
        "Often you can simply pass the series into this function, but it is good practice to preview the results first to prevent overwriting data if some error occurs."
      ]
    },
    {
      "cell_type": "code",
      "execution_count": null,
      "metadata": {
        "id": "RirD2o16N6rg",
        "outputId": "bf0da905-7e64-4617-89fd-58f3cd560d82"
      },
      "outputs": [
        {
          "data": {
            "text/plain": [
              "0   2018-08-25\n",
              "1   2018-08-25\n",
              "2   2018-08-25\n",
              "3   2018-08-25\n",
              "4   2018-08-25\n",
              "Name: DATE, dtype: datetime64[ns]"
            ]
          },
          "execution_count": 37,
          "metadata": {},
          "output_type": "execute_result"
        }
      ],
      "source": [
        "pd.to_datetime(df['DATE']).head()"
      ]
    },
    {
      "cell_type": "markdown",
      "metadata": {
        "id": "x_vKDHNZN6rh"
      },
      "source": [
        "That worked!\n",
        "\n",
        "Note that the `dtype` has changed from `object` to `datetime64[ns]`.\n",
        "\n",
        "Sometimes the above won't work and you'll have to explicitly pass an argument describing how the date is formatted.  \n",
        "To do that, you have to use some datetime codes. Here's a preview of some of the most common ones:  \n",
        "<img src=\"images/strftime_codes.png\" width=600>"
      ]
    },
    {
      "cell_type": "markdown",
      "metadata": {
        "id": "Z7E_8o2eN6rh"
      },
      "source": [
        "To explicitly pass formatting parameters, start by previewing your dates to understand their current format as strings."
      ]
    },
    {
      "cell_type": "code",
      "execution_count": null,
      "metadata": {
        "id": "wy2UgSBgN6rh",
        "outputId": "7f81f29c-32a0-4760-be5e-65365aa65d6e"
      },
      "outputs": [
        {
          "data": {
            "text/plain": [
              "'08/25/2018'"
            ]
          },
          "execution_count": 38,
          "metadata": {},
          "output_type": "execute_result"
        }
      ],
      "source": [
        "# Selecting just the first date entry\n",
        "df['DATE'].iloc[0]"
      ]
    },
    {
      "cell_type": "markdown",
      "metadata": {
        "id": "3R_CF5haN6rh"
      },
      "source": [
        "Based on that, it looks like we have:\n",
        "\n",
        "* `08`: a month code with zero padding. So that's `%m` in the table above\n",
        "* `/`: a delimiter\n",
        "* `25`: a day of the month. It's not clear that it's zero-padded but we'll go ahead and say it's a `%d` in the table above\n",
        "* `/`: another delimiter\n",
        "* `2018`: a year with the century (it would just be `18` without the century). So that's `%Y` in the table above\n",
        "\n",
        "All together, `%m` + `/` + `%d` + `/` + `%Y` = `%m/%d/%Y`, so we'll use that as the format."
      ]
    },
    {
      "cell_type": "code",
      "execution_count": null,
      "metadata": {
        "scrolled": true,
        "id": "XJUNvGUlN6rh",
        "outputId": "64ede61f-7c8d-4f97-d4bd-8d1b0bc45f2e"
      },
      "outputs": [
        {
          "data": {
            "text/plain": [
              "0   2018-08-25\n",
              "1   2018-08-25\n",
              "2   2018-08-25\n",
              "3   2018-08-25\n",
              "4   2018-08-25\n",
              "Name: DATE, dtype: datetime64[ns]"
            ]
          },
          "execution_count": 39,
          "metadata": {},
          "output_type": "execute_result"
        }
      ],
      "source": [
        "pd.to_datetime(df['DATE'], format='%m/%d/%Y').head()"
      ]
    },
    {
      "cell_type": "markdown",
      "metadata": {
        "id": "JNB6bzWvN6rh"
      },
      "source": [
        "This has the equivalent behavior for this particular dataset as when we skipped the `format` argument, since pandas was able to detect the format correctly, automatically.\n",
        "\n",
        "Now let's actually change the whole dataframe's `DATE` to a datetime (skipping the format since we didn't actually need it here):"
      ]
    },
    {
      "cell_type": "code",
      "execution_count": null,
      "metadata": {
        "id": "v3wx7TjfN6rh",
        "outputId": "2d89643e-e2df-42f3-c65c-db44f1d80fdd"
      },
      "outputs": [
        {
          "data": {
            "text/html": [
              "<div>\n",
              "<style scoped>\n",
              "    .dataframe tbody tr th:only-of-type {\n",
              "        vertical-align: middle;\n",
              "    }\n",
              "\n",
              "    .dataframe tbody tr th {\n",
              "        vertical-align: top;\n",
              "    }\n",
              "\n",
              "    .dataframe thead th {\n",
              "        text-align: right;\n",
              "    }\n",
              "</style>\n",
              "<table border=\"1\" class=\"dataframe\">\n",
              "  <thead>\n",
              "    <tr style=\"text-align: right;\">\n",
              "      <th></th>\n",
              "      <th>CONTROL_AREA</th>\n",
              "      <th>UNIT</th>\n",
              "      <th>SCP</th>\n",
              "      <th>STATION</th>\n",
              "      <th>LINENAME</th>\n",
              "      <th>DIVISION</th>\n",
              "      <th>DATE</th>\n",
              "      <th>TIME</th>\n",
              "      <th>ENTRIES</th>\n",
              "      <th>EXITS</th>\n",
              "      <th>On_N_Line</th>\n",
              "    </tr>\n",
              "  </thead>\n",
              "  <tbody>\n",
              "    <tr>\n",
              "      <th>0</th>\n",
              "      <td>A002</td>\n",
              "      <td>R051</td>\n",
              "      <td>02-00-00</td>\n",
              "      <td>59 ST</td>\n",
              "      <td>NQR456W</td>\n",
              "      <td>Brooklyn–Manhattan Transit Corporation</td>\n",
              "      <td>2018-08-25</td>\n",
              "      <td>00:00:00</td>\n",
              "      <td>6736067</td>\n",
              "      <td>0002283184                                    ...</td>\n",
              "      <td>True</td>\n",
              "    </tr>\n",
              "    <tr>\n",
              "      <th>1</th>\n",
              "      <td>A002</td>\n",
              "      <td>R051</td>\n",
              "      <td>02-00-00</td>\n",
              "      <td>59 ST</td>\n",
              "      <td>NQR456W</td>\n",
              "      <td>Brooklyn–Manhattan Transit Corporation</td>\n",
              "      <td>2018-08-25</td>\n",
              "      <td>04:00:00</td>\n",
              "      <td>6736087</td>\n",
              "      <td>0002283188                                    ...</td>\n",
              "      <td>True</td>\n",
              "    </tr>\n",
              "  </tbody>\n",
              "</table>\n",
              "</div>"
            ],
            "text/plain": [
              "  CONTROL_AREA  UNIT       SCP STATION LINENAME  \\\n",
              "0         A002  R051  02-00-00   59 ST  NQR456W   \n",
              "1         A002  R051  02-00-00   59 ST  NQR456W   \n",
              "\n",
              "                                 DIVISION       DATE      TIME  ENTRIES  \\\n",
              "0  Brooklyn–Manhattan Transit Corporation 2018-08-25  00:00:00  6736067   \n",
              "1  Brooklyn–Manhattan Transit Corporation 2018-08-25  04:00:00  6736087   \n",
              "\n",
              "                                               EXITS  On_N_Line  \n",
              "0  0002283184                                    ...       True  \n",
              "1  0002283188                                    ...       True  "
            ]
          },
          "execution_count": 40,
          "metadata": {},
          "output_type": "execute_result"
        }
      ],
      "source": [
        "df['DATE'] = pd.to_datetime(df['DATE'])\n",
        "df.head(2)"
      ]
    },
    {
      "cell_type": "code",
      "execution_count": null,
      "metadata": {
        "id": "QaAg7vYFN6rh",
        "outputId": "78e8c10a-e012-4ff0-8dbe-b694f18fbcd6"
      },
      "outputs": [
        {
          "data": {
            "text/plain": [
              "91546    2018-08-30\n",
              "75472    2018-08-31\n",
              "151239   2018-08-30\n",
              "77535    2018-08-25\n",
              "73591    2018-08-27\n",
              "10204    2018-08-28\n",
              "51946    2018-08-27\n",
              "129569   2018-08-26\n",
              "10655    2018-08-25\n",
              "11334    2018-08-30\n",
              "Name: DATE, dtype: datetime64[ns]"
            ]
          },
          "execution_count": 41,
          "metadata": {},
          "output_type": "execute_result"
        }
      ],
      "source": [
        "# Make a sample of rows so we can see various dates\n",
        "date_sample = df['DATE'].sample(n=10, random_state=0)\n",
        "date_sample"
      ]
    },
    {
      "cell_type": "markdown",
      "metadata": {
        "id": "NhZPa5ZCN6ri"
      },
      "source": [
        "### Applying Datetime Methods\n",
        "\n",
        "Now that we have converted the `DATE` field to a datetime object we can use some handy built-in methods.\n",
        "\n",
        "For example, finding the name of the day of the week:"
      ]
    },
    {
      "cell_type": "code",
      "execution_count": null,
      "metadata": {
        "id": "qEmyY6WcN6ri",
        "outputId": "058d9278-19e0-4a91-f04c-ff19ebe0c822"
      },
      "outputs": [
        {
          "data": {
            "text/plain": [
              "91546     Thursday\n",
              "75472       Friday\n",
              "151239    Thursday\n",
              "77535     Saturday\n",
              "73591       Monday\n",
              "10204      Tuesday\n",
              "51946       Monday\n",
              "129569      Sunday\n",
              "10655     Saturday\n",
              "11334     Thursday\n",
              "Name: DATE, dtype: object"
            ]
          },
          "execution_count": 42,
          "metadata": {},
          "output_type": "execute_result"
        }
      ],
      "source": [
        "# .dt stores all the pandas datetime methods (only works for datetime columns)\n",
        "date_sample.dt.day_name()"
      ]
    },
    {
      "cell_type": "markdown",
      "metadata": {
        "id": "9EqMavcpN6ri"
      },
      "source": [
        "Or, rounding to the nearest 7 days:"
      ]
    },
    {
      "cell_type": "code",
      "execution_count": null,
      "metadata": {
        "id": "0Ni3Xx0wN6ri",
        "outputId": "1237d6c9-1056-41b7-927a-1ff59afbe49e"
      },
      "outputs": [
        {
          "data": {
            "text/plain": [
              "91546    2018-08-30\n",
              "75472    2018-08-30\n",
              "151239   2018-08-30\n",
              "77535    2018-08-23\n",
              "73591    2018-08-30\n",
              "10204    2018-08-30\n",
              "51946    2018-08-30\n",
              "129569   2018-08-23\n",
              "10655    2018-08-23\n",
              "11334    2018-08-30\n",
              "Name: DATE, dtype: datetime64[ns]"
            ]
          },
          "execution_count": 43,
          "metadata": {},
          "output_type": "execute_result"
        }
      ],
      "source": [
        "date_sample.dt.round('7D')"
      ]
    },
    {
      "cell_type": "markdown",
      "metadata": {
        "id": "1lG6gk3nN6ri"
      },
      "source": [
        "## Setting a New Index\n",
        "\n",
        "It can also be helpful to set one of the columns as the index of the DataFrame, such as when graphing."
      ]
    },
    {
      "cell_type": "code",
      "execution_count": null,
      "metadata": {
        "id": "13nI_CerN6ri",
        "outputId": "968e8307-5818-416e-86eb-a50eadf39237"
      },
      "outputs": [
        {
          "data": {
            "text/html": [
              "<div>\n",
              "<style scoped>\n",
              "    .dataframe tbody tr th:only-of-type {\n",
              "        vertical-align: middle;\n",
              "    }\n",
              "\n",
              "    .dataframe tbody tr th {\n",
              "        vertical-align: top;\n",
              "    }\n",
              "\n",
              "    .dataframe thead th {\n",
              "        text-align: right;\n",
              "    }\n",
              "</style>\n",
              "<table border=\"1\" class=\"dataframe\">\n",
              "  <thead>\n",
              "    <tr style=\"text-align: right;\">\n",
              "      <th></th>\n",
              "      <th>CONTROL_AREA</th>\n",
              "      <th>UNIT</th>\n",
              "      <th>SCP</th>\n",
              "      <th>STATION</th>\n",
              "      <th>LINENAME</th>\n",
              "      <th>DIVISION</th>\n",
              "      <th>TIME</th>\n",
              "      <th>ENTRIES</th>\n",
              "      <th>EXITS</th>\n",
              "      <th>On_N_Line</th>\n",
              "    </tr>\n",
              "    <tr>\n",
              "      <th>DATE</th>\n",
              "      <th></th>\n",
              "      <th></th>\n",
              "      <th></th>\n",
              "      <th></th>\n",
              "      <th></th>\n",
              "      <th></th>\n",
              "      <th></th>\n",
              "      <th></th>\n",
              "      <th></th>\n",
              "      <th></th>\n",
              "    </tr>\n",
              "  </thead>\n",
              "  <tbody>\n",
              "    <tr>\n",
              "      <th>2018-08-25</th>\n",
              "      <td>A002</td>\n",
              "      <td>R051</td>\n",
              "      <td>02-00-00</td>\n",
              "      <td>59 ST</td>\n",
              "      <td>NQR456W</td>\n",
              "      <td>Brooklyn–Manhattan Transit Corporation</td>\n",
              "      <td>00:00:00</td>\n",
              "      <td>6736067</td>\n",
              "      <td>0002283184                                    ...</td>\n",
              "      <td>True</td>\n",
              "    </tr>\n",
              "    <tr>\n",
              "      <th>2018-08-25</th>\n",
              "      <td>A002</td>\n",
              "      <td>R051</td>\n",
              "      <td>02-00-00</td>\n",
              "      <td>59 ST</td>\n",
              "      <td>NQR456W</td>\n",
              "      <td>Brooklyn–Manhattan Transit Corporation</td>\n",
              "      <td>04:00:00</td>\n",
              "      <td>6736087</td>\n",
              "      <td>0002283188                                    ...</td>\n",
              "      <td>True</td>\n",
              "    </tr>\n",
              "    <tr>\n",
              "      <th>2018-08-25</th>\n",
              "      <td>A002</td>\n",
              "      <td>R051</td>\n",
              "      <td>02-00-00</td>\n",
              "      <td>59 ST</td>\n",
              "      <td>NQR456W</td>\n",
              "      <td>Brooklyn–Manhattan Transit Corporation</td>\n",
              "      <td>08:00:00</td>\n",
              "      <td>6736105</td>\n",
              "      <td>0002283229                                    ...</td>\n",
              "      <td>True</td>\n",
              "    </tr>\n",
              "    <tr>\n",
              "      <th>2018-08-25</th>\n",
              "      <td>A002</td>\n",
              "      <td>R051</td>\n",
              "      <td>02-00-00</td>\n",
              "      <td>59 ST</td>\n",
              "      <td>NQR456W</td>\n",
              "      <td>Brooklyn–Manhattan Transit Corporation</td>\n",
              "      <td>12:00:00</td>\n",
              "      <td>6736180</td>\n",
              "      <td>0002283314                                    ...</td>\n",
              "      <td>True</td>\n",
              "    </tr>\n",
              "    <tr>\n",
              "      <th>2018-08-25</th>\n",
              "      <td>A002</td>\n",
              "      <td>R051</td>\n",
              "      <td>02-00-00</td>\n",
              "      <td>59 ST</td>\n",
              "      <td>NQR456W</td>\n",
              "      <td>Brooklyn–Manhattan Transit Corporation</td>\n",
              "      <td>16:00:00</td>\n",
              "      <td>6736349</td>\n",
              "      <td>0002283384                                    ...</td>\n",
              "      <td>True</td>\n",
              "    </tr>\n",
              "  </tbody>\n",
              "</table>\n",
              "</div>"
            ],
            "text/plain": [
              "           CONTROL_AREA  UNIT       SCP STATION LINENAME  \\\n",
              "DATE                                                       \n",
              "2018-08-25         A002  R051  02-00-00   59 ST  NQR456W   \n",
              "2018-08-25         A002  R051  02-00-00   59 ST  NQR456W   \n",
              "2018-08-25         A002  R051  02-00-00   59 ST  NQR456W   \n",
              "2018-08-25         A002  R051  02-00-00   59 ST  NQR456W   \n",
              "2018-08-25         A002  R051  02-00-00   59 ST  NQR456W   \n",
              "\n",
              "                                          DIVISION      TIME  ENTRIES  \\\n",
              "DATE                                                                    \n",
              "2018-08-25  Brooklyn–Manhattan Transit Corporation  00:00:00  6736067   \n",
              "2018-08-25  Brooklyn–Manhattan Transit Corporation  04:00:00  6736087   \n",
              "2018-08-25  Brooklyn–Manhattan Transit Corporation  08:00:00  6736105   \n",
              "2018-08-25  Brooklyn–Manhattan Transit Corporation  12:00:00  6736180   \n",
              "2018-08-25  Brooklyn–Manhattan Transit Corporation  16:00:00  6736349   \n",
              "\n",
              "                                                        EXITS  On_N_Line  \n",
              "DATE                                                                      \n",
              "2018-08-25  0002283184                                    ...       True  \n",
              "2018-08-25  0002283188                                    ...       True  \n",
              "2018-08-25  0002283229                                    ...       True  \n",
              "2018-08-25  0002283314                                    ...       True  \n",
              "2018-08-25  0002283384                                    ...       True  "
            ]
          },
          "execution_count": 44,
          "metadata": {},
          "output_type": "execute_result"
        }
      ],
      "source": [
        "df = df.set_index('DATE')\n",
        "df.head()"
      ]
    },
    {
      "cell_type": "markdown",
      "metadata": {
        "id": "5jH_IEfIN6rj"
      },
      "source": [
        "Or the opposite, resetting the index so that the current index becomes a column and a new index is created:"
      ]
    },
    {
      "cell_type": "code",
      "execution_count": null,
      "metadata": {
        "id": "r2wlI6zzN6rj",
        "outputId": "77db8ed8-1d08-4f75-b71b-b898b465696e"
      },
      "outputs": [
        {
          "data": {
            "text/html": [
              "<div>\n",
              "<style scoped>\n",
              "    .dataframe tbody tr th:only-of-type {\n",
              "        vertical-align: middle;\n",
              "    }\n",
              "\n",
              "    .dataframe tbody tr th {\n",
              "        vertical-align: top;\n",
              "    }\n",
              "\n",
              "    .dataframe thead th {\n",
              "        text-align: right;\n",
              "    }\n",
              "</style>\n",
              "<table border=\"1\" class=\"dataframe\">\n",
              "  <thead>\n",
              "    <tr style=\"text-align: right;\">\n",
              "      <th></th>\n",
              "      <th>DATE</th>\n",
              "      <th>CONTROL_AREA</th>\n",
              "      <th>UNIT</th>\n",
              "      <th>SCP</th>\n",
              "      <th>STATION</th>\n",
              "      <th>LINENAME</th>\n",
              "      <th>DIVISION</th>\n",
              "      <th>TIME</th>\n",
              "      <th>ENTRIES</th>\n",
              "      <th>EXITS</th>\n",
              "      <th>On_N_Line</th>\n",
              "    </tr>\n",
              "  </thead>\n",
              "  <tbody>\n",
              "    <tr>\n",
              "      <th>0</th>\n",
              "      <td>2018-08-25</td>\n",
              "      <td>A002</td>\n",
              "      <td>R051</td>\n",
              "      <td>02-00-00</td>\n",
              "      <td>59 ST</td>\n",
              "      <td>NQR456W</td>\n",
              "      <td>Brooklyn–Manhattan Transit Corporation</td>\n",
              "      <td>00:00:00</td>\n",
              "      <td>6736067</td>\n",
              "      <td>0002283184                                    ...</td>\n",
              "      <td>True</td>\n",
              "    </tr>\n",
              "    <tr>\n",
              "      <th>1</th>\n",
              "      <td>2018-08-25</td>\n",
              "      <td>A002</td>\n",
              "      <td>R051</td>\n",
              "      <td>02-00-00</td>\n",
              "      <td>59 ST</td>\n",
              "      <td>NQR456W</td>\n",
              "      <td>Brooklyn–Manhattan Transit Corporation</td>\n",
              "      <td>04:00:00</td>\n",
              "      <td>6736087</td>\n",
              "      <td>0002283188                                    ...</td>\n",
              "      <td>True</td>\n",
              "    </tr>\n",
              "    <tr>\n",
              "      <th>2</th>\n",
              "      <td>2018-08-25</td>\n",
              "      <td>A002</td>\n",
              "      <td>R051</td>\n",
              "      <td>02-00-00</td>\n",
              "      <td>59 ST</td>\n",
              "      <td>NQR456W</td>\n",
              "      <td>Brooklyn–Manhattan Transit Corporation</td>\n",
              "      <td>08:00:00</td>\n",
              "      <td>6736105</td>\n",
              "      <td>0002283229                                    ...</td>\n",
              "      <td>True</td>\n",
              "    </tr>\n",
              "    <tr>\n",
              "      <th>3</th>\n",
              "      <td>2018-08-25</td>\n",
              "      <td>A002</td>\n",
              "      <td>R051</td>\n",
              "      <td>02-00-00</td>\n",
              "      <td>59 ST</td>\n",
              "      <td>NQR456W</td>\n",
              "      <td>Brooklyn–Manhattan Transit Corporation</td>\n",
              "      <td>12:00:00</td>\n",
              "      <td>6736180</td>\n",
              "      <td>0002283314                                    ...</td>\n",
              "      <td>True</td>\n",
              "    </tr>\n",
              "    <tr>\n",
              "      <th>4</th>\n",
              "      <td>2018-08-25</td>\n",
              "      <td>A002</td>\n",
              "      <td>R051</td>\n",
              "      <td>02-00-00</td>\n",
              "      <td>59 ST</td>\n",
              "      <td>NQR456W</td>\n",
              "      <td>Brooklyn–Manhattan Transit Corporation</td>\n",
              "      <td>16:00:00</td>\n",
              "      <td>6736349</td>\n",
              "      <td>0002283384                                    ...</td>\n",
              "      <td>True</td>\n",
              "    </tr>\n",
              "    <tr>\n",
              "      <th>...</th>\n",
              "      <td>...</td>\n",
              "      <td>...</td>\n",
              "      <td>...</td>\n",
              "      <td>...</td>\n",
              "      <td>...</td>\n",
              "      <td>...</td>\n",
              "      <td>...</td>\n",
              "      <td>...</td>\n",
              "      <td>...</td>\n",
              "      <td>...</td>\n",
              "      <td>...</td>\n",
              "    </tr>\n",
              "    <tr>\n",
              "      <th>197620</th>\n",
              "      <td>2018-08-31</td>\n",
              "      <td>TRAM2</td>\n",
              "      <td>R469</td>\n",
              "      <td>00-05-01</td>\n",
              "      <td>RIT-ROOSEVELT</td>\n",
              "      <td>R</td>\n",
              "      <td>Roosevelt Island Tram</td>\n",
              "      <td>05:00:00</td>\n",
              "      <td>5554</td>\n",
              "      <td>0000000348                                    ...</td>\n",
              "      <td>False</td>\n",
              "    </tr>\n",
              "    <tr>\n",
              "      <th>197621</th>\n",
              "      <td>2018-08-31</td>\n",
              "      <td>TRAM2</td>\n",
              "      <td>R469</td>\n",
              "      <td>00-05-01</td>\n",
              "      <td>RIT-ROOSEVELT</td>\n",
              "      <td>R</td>\n",
              "      <td>Roosevelt Island Tram</td>\n",
              "      <td>09:00:00</td>\n",
              "      <td>5554</td>\n",
              "      <td>0000000348                                    ...</td>\n",
              "      <td>False</td>\n",
              "    </tr>\n",
              "    <tr>\n",
              "      <th>197622</th>\n",
              "      <td>2018-08-31</td>\n",
              "      <td>TRAM2</td>\n",
              "      <td>R469</td>\n",
              "      <td>00-05-01</td>\n",
              "      <td>RIT-ROOSEVELT</td>\n",
              "      <td>R</td>\n",
              "      <td>Roosevelt Island Tram</td>\n",
              "      <td>13:00:00</td>\n",
              "      <td>5554</td>\n",
              "      <td>0000000348                                    ...</td>\n",
              "      <td>False</td>\n",
              "    </tr>\n",
              "    <tr>\n",
              "      <th>197623</th>\n",
              "      <td>2018-08-31</td>\n",
              "      <td>TRAM2</td>\n",
              "      <td>R469</td>\n",
              "      <td>00-05-01</td>\n",
              "      <td>RIT-ROOSEVELT</td>\n",
              "      <td>R</td>\n",
              "      <td>Roosevelt Island Tram</td>\n",
              "      <td>17:00:00</td>\n",
              "      <td>5554</td>\n",
              "      <td>0000000348                                    ...</td>\n",
              "      <td>False</td>\n",
              "    </tr>\n",
              "    <tr>\n",
              "      <th>197624</th>\n",
              "      <td>2018-08-31</td>\n",
              "      <td>TRAM2</td>\n",
              "      <td>R469</td>\n",
              "      <td>00-05-01</td>\n",
              "      <td>RIT-ROOSEVELT</td>\n",
              "      <td>R</td>\n",
              "      <td>Roosevelt Island Tram</td>\n",
              "      <td>21:00:00</td>\n",
              "      <td>5554</td>\n",
              "      <td>0000000348                                    ...</td>\n",
              "      <td>False</td>\n",
              "    </tr>\n",
              "  </tbody>\n",
              "</table>\n",
              "<p>197625 rows × 11 columns</p>\n",
              "</div>"
            ],
            "text/plain": [
              "             DATE CONTROL_AREA  UNIT       SCP        STATION LINENAME  \\\n",
              "0      2018-08-25         A002  R051  02-00-00          59 ST  NQR456W   \n",
              "1      2018-08-25         A002  R051  02-00-00          59 ST  NQR456W   \n",
              "2      2018-08-25         A002  R051  02-00-00          59 ST  NQR456W   \n",
              "3      2018-08-25         A002  R051  02-00-00          59 ST  NQR456W   \n",
              "4      2018-08-25         A002  R051  02-00-00          59 ST  NQR456W   \n",
              "...           ...          ...   ...       ...            ...      ...   \n",
              "197620 2018-08-31        TRAM2  R469  00-05-01  RIT-ROOSEVELT        R   \n",
              "197621 2018-08-31        TRAM2  R469  00-05-01  RIT-ROOSEVELT        R   \n",
              "197622 2018-08-31        TRAM2  R469  00-05-01  RIT-ROOSEVELT        R   \n",
              "197623 2018-08-31        TRAM2  R469  00-05-01  RIT-ROOSEVELT        R   \n",
              "197624 2018-08-31        TRAM2  R469  00-05-01  RIT-ROOSEVELT        R   \n",
              "\n",
              "                                      DIVISION      TIME  ENTRIES  \\\n",
              "0       Brooklyn–Manhattan Transit Corporation  00:00:00  6736067   \n",
              "1       Brooklyn–Manhattan Transit Corporation  04:00:00  6736087   \n",
              "2       Brooklyn–Manhattan Transit Corporation  08:00:00  6736105   \n",
              "3       Brooklyn–Manhattan Transit Corporation  12:00:00  6736180   \n",
              "4       Brooklyn–Manhattan Transit Corporation  16:00:00  6736349   \n",
              "...                                        ...       ...      ...   \n",
              "197620                   Roosevelt Island Tram  05:00:00     5554   \n",
              "197621                   Roosevelt Island Tram  09:00:00     5554   \n",
              "197622                   Roosevelt Island Tram  13:00:00     5554   \n",
              "197623                   Roosevelt Island Tram  17:00:00     5554   \n",
              "197624                   Roosevelt Island Tram  21:00:00     5554   \n",
              "\n",
              "                                                    EXITS  On_N_Line  \n",
              "0       0002283184                                    ...       True  \n",
              "1       0002283188                                    ...       True  \n",
              "2       0002283229                                    ...       True  \n",
              "3       0002283314                                    ...       True  \n",
              "4       0002283384                                    ...       True  \n",
              "...                                                   ...        ...  \n",
              "197620  0000000348                                    ...      False  \n",
              "197621  0000000348                                    ...      False  \n",
              "197622  0000000348                                    ...      False  \n",
              "197623  0000000348                                    ...      False  \n",
              "197624  0000000348                                    ...      False  \n",
              "\n",
              "[197625 rows x 11 columns]"
            ]
          },
          "execution_count": 45,
          "metadata": {},
          "output_type": "execute_result"
        }
      ],
      "source": [
        "df.reset_index()"
      ]
    },
    {
      "cell_type": "markdown",
      "metadata": {
        "id": "ieB7XATqN6rj"
      },
      "source": [
        "## Summary\n",
        "\n",
        "We've seen in this lesson the differences between Pandas (Series and DataFrames) and base Python (Dictionaries and Lists) data types. Then we walked through transforming the values in a pandas Series, modifying the columns of a pandas DataFrame, and finally modifying the DataFrame index."
      ]
    },
    {
      "cell_type": "markdown",
      "metadata": {
        "id": "wUbTKXsZN6rj"
      },
      "source": [
        "# Statistical Methods in Pandas"
      ]
    },
    {
      "cell_type": "markdown",
      "metadata": {
        "id": "ubRMeo-HN6rj"
      },
      "source": [
        "## Introduction\n",
        "\n",
        "In this lesson, you'll learn how to use some of the key summary statistics methods in Pandas."
      ]
    },
    {
      "cell_type": "markdown",
      "metadata": {
        "id": "2voi56QAN6rj"
      },
      "source": [
        "## Objectives:\n",
        "\n",
        "You will be able to:\n",
        "\n",
        "- Calculate summary statistics for a series and DataFrame\n",
        "- Use the `.apply()` or `.applymap()` methods to apply a function to a pandas series or DataFrame  \n",
        "\n",
        "\n",
        "## Getting DataFrame-Level Summary Statistics\n",
        "\n",
        "When working with a new dataset, the first step is always to begin to understand what makes up that dataset. The Pandas DataFrame class contains two built-in methods that make this very easy for us.\n",
        "\n",
        "### Using `df.info()`\n",
        "\n",
        "The `df.info()` method provides us with summary **_metadata_** about our DataFrame -- that is, it gives us data about our dataset, such as how many rows and columns it contains, and what data types they are stored as.  Let's demonstrate this by reading in the Titanic dataset and calling the `.info()` method on the DataFrame."
      ]
    },
    {
      "cell_type": "code",
      "execution_count": null,
      "metadata": {
        "id": "lGmWdSYmN6rj",
        "outputId": "b9c98252-ab62-4935-8bbf-f122cdf178c3"
      },
      "outputs": [
        {
          "name": "stdout",
          "output_type": "stream",
          "text": [
            "<class 'pandas.core.frame.DataFrame'>\n",
            "Int64Index: 891 entries, 0 to 890\n",
            "Data columns (total 12 columns):\n",
            "PassengerId    891 non-null int64\n",
            "Survived       891 non-null int64\n",
            "Pclass         891 non-null object\n",
            "Name           891 non-null object\n",
            "Sex            891 non-null object\n",
            "Age            714 non-null float64\n",
            "SibSp          891 non-null int64\n",
            "Parch          891 non-null int64\n",
            "Ticket         891 non-null object\n",
            "Fare           891 non-null float64\n",
            "Cabin          204 non-null object\n",
            "Embarked       889 non-null object\n",
            "dtypes: float64(2), int64(4), object(6)\n",
            "memory usage: 90.5+ KB\n"
          ]
        }
      ],
      "source": [
        "import pandas as pd\n",
        "df = pd.read_csv('titanic.csv', index_col=0)\n",
        "df.info()"
      ]
    },
    {
      "cell_type": "markdown",
      "metadata": {
        "id": "gvMZ3HwBN6rj"
      },
      "source": [
        "As we can see from the output above, the `.info()` method provides us with great information about the characteristics of the DataFrame, without telling us anything about the data it actually contains.\n",
        "\n",
        "Examine the output above, and take note of the important things it tells us about the DataFrame, such as:\n",
        "\n",
        "* The number of columns and rows in the DataFrame\n",
        "* The data type of the data each column contains\n",
        "* How many values each column contains (NaNs are not counted)\n",
        "* The memory footprint of the DataFrame\n",
        "\n",
        "This sort of information about a dataset is called **_metadata_**, since it's data about our data.\n",
        "\n",
        "\n",
        "### Using `.describe()`\n",
        "\n",
        "The next step in Exploratory Data Analysis (EDA) is usually to dig into the summary statistics of the dataset, and get a feel for the data each column contains.  Rather than force us to deal with the tedium of doing this individually for every column, Pandas DataFrames provide the handy `df.describe()` method which calculates the basic summary statistics for each column for us automatically.\n",
        "\n",
        "See the example in the cell below."
      ]
    },
    {
      "cell_type": "code",
      "execution_count": null,
      "metadata": {
        "id": "UgEsFlTXN6rk",
        "outputId": "42ee0c73-1ce1-4319-adf4-0f77ee825fb3"
      },
      "outputs": [
        {
          "data": {
            "text/html": [
              "<div>\n",
              "<style scoped>\n",
              "    .dataframe tbody tr th:only-of-type {\n",
              "        vertical-align: middle;\n",
              "    }\n",
              "\n",
              "    .dataframe tbody tr th {\n",
              "        vertical-align: top;\n",
              "    }\n",
              "\n",
              "    .dataframe thead th {\n",
              "        text-align: right;\n",
              "    }\n",
              "</style>\n",
              "<table border=\"1\" class=\"dataframe\">\n",
              "  <thead>\n",
              "    <tr style=\"text-align: right;\">\n",
              "      <th></th>\n",
              "      <th>PassengerId</th>\n",
              "      <th>Survived</th>\n",
              "      <th>Age</th>\n",
              "      <th>SibSp</th>\n",
              "      <th>Parch</th>\n",
              "      <th>Fare</th>\n",
              "    </tr>\n",
              "  </thead>\n",
              "  <tbody>\n",
              "    <tr>\n",
              "      <th>count</th>\n",
              "      <td>891.000000</td>\n",
              "      <td>891.000000</td>\n",
              "      <td>714.000000</td>\n",
              "      <td>891.000000</td>\n",
              "      <td>891.000000</td>\n",
              "      <td>891.000000</td>\n",
              "    </tr>\n",
              "    <tr>\n",
              "      <th>mean</th>\n",
              "      <td>446.000000</td>\n",
              "      <td>0.383838</td>\n",
              "      <td>29.699118</td>\n",
              "      <td>0.523008</td>\n",
              "      <td>0.381594</td>\n",
              "      <td>32.204208</td>\n",
              "    </tr>\n",
              "    <tr>\n",
              "      <th>std</th>\n",
              "      <td>257.353842</td>\n",
              "      <td>0.486592</td>\n",
              "      <td>14.526497</td>\n",
              "      <td>1.102743</td>\n",
              "      <td>0.806057</td>\n",
              "      <td>49.693429</td>\n",
              "    </tr>\n",
              "    <tr>\n",
              "      <th>min</th>\n",
              "      <td>1.000000</td>\n",
              "      <td>0.000000</td>\n",
              "      <td>0.420000</td>\n",
              "      <td>0.000000</td>\n",
              "      <td>0.000000</td>\n",
              "      <td>0.000000</td>\n",
              "    </tr>\n",
              "    <tr>\n",
              "      <th>25%</th>\n",
              "      <td>223.500000</td>\n",
              "      <td>0.000000</td>\n",
              "      <td>20.125000</td>\n",
              "      <td>0.000000</td>\n",
              "      <td>0.000000</td>\n",
              "      <td>7.910400</td>\n",
              "    </tr>\n",
              "    <tr>\n",
              "      <th>50%</th>\n",
              "      <td>446.000000</td>\n",
              "      <td>0.000000</td>\n",
              "      <td>28.000000</td>\n",
              "      <td>0.000000</td>\n",
              "      <td>0.000000</td>\n",
              "      <td>14.454200</td>\n",
              "    </tr>\n",
              "    <tr>\n",
              "      <th>75%</th>\n",
              "      <td>668.500000</td>\n",
              "      <td>1.000000</td>\n",
              "      <td>38.000000</td>\n",
              "      <td>1.000000</td>\n",
              "      <td>0.000000</td>\n",
              "      <td>31.000000</td>\n",
              "    </tr>\n",
              "    <tr>\n",
              "      <th>max</th>\n",
              "      <td>891.000000</td>\n",
              "      <td>1.000000</td>\n",
              "      <td>80.000000</td>\n",
              "      <td>8.000000</td>\n",
              "      <td>6.000000</td>\n",
              "      <td>512.329200</td>\n",
              "    </tr>\n",
              "  </tbody>\n",
              "</table>\n",
              "</div>"
            ],
            "text/plain": [
              "       PassengerId    Survived         Age       SibSp       Parch        Fare\n",
              "count   891.000000  891.000000  714.000000  891.000000  891.000000  891.000000\n",
              "mean    446.000000    0.383838   29.699118    0.523008    0.381594   32.204208\n",
              "std     257.353842    0.486592   14.526497    1.102743    0.806057   49.693429\n",
              "min       1.000000    0.000000    0.420000    0.000000    0.000000    0.000000\n",
              "25%     223.500000    0.000000   20.125000    0.000000    0.000000    7.910400\n",
              "50%     446.000000    0.000000   28.000000    0.000000    0.000000   14.454200\n",
              "75%     668.500000    1.000000   38.000000    1.000000    0.000000   31.000000\n",
              "max     891.000000    1.000000   80.000000    8.000000    6.000000  512.329200"
            ]
          },
          "execution_count": 2,
          "metadata": {},
          "output_type": "execute_result"
        }
      ],
      "source": [
        "df.describe()"
      ]
    },
    {
      "cell_type": "markdown",
      "metadata": {
        "id": "JOBubxiEN6rk"
      },
      "source": [
        "As we can see, the output of the `.describe()` method is very handy, and gives us relevant information such as:\n",
        "\n",
        "* a `count` of the number of values in each column, making it identify columns with missing values\n",
        "* The mean and standard deviation of each column\n",
        "* The minimum and maximum values found in each column\n",
        "* The median (50%) and quartile values (25% & 75%) for each column\n",
        "\n",
        "Use the `.describe()` method to quickly help you get a feel for your datasets when you start the Exploratory Data Analysis process.\n",
        "\n",
        "\n",
        "## Calculating Individual Column Statistics\n",
        "\n",
        "\n",
        "If we need to calculate individual statistics about a column, we can also do this easily.  Pandas DataFrames and Series objects come with a plethora of built-in methods to instantly calculate summary statistics for us.\n",
        "\n",
        "See the code blocks below for examples:"
      ]
    },
    {
      "cell_type": "code",
      "execution_count": null,
      "metadata": {
        "id": "MVO2Uze8N6rk",
        "outputId": "c5eb2e81-c29f-47c1-9af2-3f4db4b95c09"
      },
      "outputs": [
        {
          "data": {
            "text/plain": [
              "PassengerId    446.000000\n",
              "Survived         0.383838\n",
              "Age             29.699118\n",
              "SibSp            0.523008\n",
              "Parch            0.381594\n",
              "Fare            32.204208\n",
              "dtype: float64"
            ]
          },
          "execution_count": 3,
          "metadata": {},
          "output_type": "execute_result"
        }
      ],
      "source": [
        "# Get the mean of every numeric column at once\n",
        "df.mean()"
      ]
    },
    {
      "cell_type": "code",
      "execution_count": null,
      "metadata": {
        "id": "E89FWho2N6rk",
        "outputId": "157319f9-48d4-4f6a-b1bf-a4930c7f5224"
      },
      "outputs": [
        {
          "data": {
            "text/plain": [
              "32.2042079685746"
            ]
          },
          "execution_count": 4,
          "metadata": {},
          "output_type": "execute_result"
        }
      ],
      "source": [
        "# Get the mean of a specific column\n",
        "df['Fare'].mean()"
      ]
    },
    {
      "cell_type": "code",
      "execution_count": null,
      "metadata": {
        "id": "58ZzwE0-N6rk",
        "outputId": "88fb224a-74f8-4492-a80c-9b1061fece14"
      },
      "outputs": [
        {
          "data": {
            "text/plain": [
              "50.0"
            ]
          },
          "execution_count": 5,
          "metadata": {},
          "output_type": "execute_result"
        }
      ],
      "source": [
        "# Get the value for 90% quantile for a specific column\n",
        "df['Age'].quantile(.9)"
      ]
    },
    {
      "cell_type": "code",
      "execution_count": null,
      "metadata": {
        "id": "ZoMuCeXwN6rk",
        "outputId": "181e0883-9d72-4d3a-eae2-c5c9b4023431"
      },
      "outputs": [
        {
          "data": {
            "text/plain": [
              "28.0"
            ]
          },
          "execution_count": 6,
          "metadata": {},
          "output_type": "execute_result"
        }
      ],
      "source": [
        "# Get the median value for a specific column\n",
        "df['Age'].median()"
      ]
    },
    {
      "cell_type": "markdown",
      "metadata": {
        "id": "8_10Zi-NN6rl"
      },
      "source": [
        "There are many different statistical methods built into Pandas DataFrames -- these are just a few! We will not list all of them, but here are some common ones you'll probably make use of early and often:\n",
        "\n",
        "* `.mode()` -- the mode of the column\n",
        "* `.count()` -- the count of the total number of entries in a column\n",
        "* `.std()` --  the standard deviation for the column\n",
        "* `.var()` -- the variance for the column  \n",
        "* `.sum()` -- the sum of all values in the column\n",
        "* `.cumsum()` -- the cumulative sum, where each cell index contains the sum of all indices lower than, and including, itself.\n",
        "\n",
        "\n",
        "### Summary Statistics for Categorical Columns\n",
        "\n",
        "Obviously, we cannot calculate most summary statistics on columns that contain non-numeric data -- there's no way for us to find the mean of the letters in the `Embarked` column, for instance.  However, there are some summary statistics we can use to help us better understand our categorical columns.\n",
        "\n",
        "See the examples in the cell below:"
      ]
    },
    {
      "cell_type": "code",
      "execution_count": null,
      "metadata": {
        "id": "m1H2jQFgN6rl",
        "outputId": "908502bb-7a28-4a48-e529-93991332c581"
      },
      "outputs": [
        {
          "data": {
            "text/plain": [
              "array(['S', 'C', 'Q', nan], dtype=object)"
            ]
          },
          "execution_count": 7,
          "metadata": {},
          "output_type": "execute_result"
        }
      ],
      "source": [
        "df['Embarked'].unique()"
      ]
    },
    {
      "cell_type": "code",
      "execution_count": null,
      "metadata": {
        "id": "usbRNDNoN6rl",
        "outputId": "f036b731-523d-4b5d-9a82-b5fd0745dfb8"
      },
      "outputs": [
        {
          "data": {
            "text/plain": [
              "S    644\n",
              "C    168\n",
              "Q     77\n",
              "Name: Embarked, dtype: int64"
            ]
          },
          "execution_count": 8,
          "metadata": {},
          "output_type": "execute_result"
        }
      ],
      "source": [
        "df['Embarked'].value_counts()"
      ]
    },
    {
      "cell_type": "markdown",
      "metadata": {
        "id": "iUF9P0RwN6rl"
      },
      "source": [
        "These methods are extremely useful when dealing with categorical data!\n",
        "\n",
        "`.unique()` shows us all the unique values contained in the column.\n",
        "\n",
        "`.value_counts()` shows us a count for how many times each unique value is present in a dataset, giving us a feel for the distribution of values in the column.\n",
        "\n",
        "### Calculating on the Fly with `.apply()` and `.applymap()`\n",
        "\n",
        "Sometimes, we'll need to make changes to our dataset, or to compute functions on our data that aren't built-in to Pandas.  We can do this by passing lambda values into the `apply()` method when working with Pandas series, and the `.applymap()` method when working with Pandas DataFrames.\n",
        "\n",
        "Note that both of these do not mutate the original dataset -- instead, they return a copy of the Series or DataFrame containing the result.\n",
        "\n",
        "See the example in the cell below:"
      ]
    },
    {
      "cell_type": "code",
      "execution_count": null,
      "metadata": {
        "id": "EMvXDdehN6rl",
        "outputId": "e2061094-e097-4163-8e82-e9e2015dfe0d"
      },
      "outputs": [
        {
          "name": "stdout",
          "output_type": "stream",
          "text": [
            "<class 'pandas.core.frame.DataFrame'>\n",
            "Int64Index: 891 entries, 0 to 890\n",
            "Data columns (total 12 columns):\n",
            "PassengerId    891 non-null object\n",
            "Survived       891 non-null object\n",
            "Pclass         891 non-null object\n",
            "Name           891 non-null object\n",
            "Sex            891 non-null object\n",
            "Age            891 non-null object\n",
            "SibSp          891 non-null object\n",
            "Parch          891 non-null object\n",
            "Ticket         891 non-null object\n",
            "Fare           891 non-null object\n",
            "Cabin          891 non-null object\n",
            "Embarked       891 non-null object\n",
            "dtypes: object(12)\n",
            "memory usage: 90.5+ KB\n"
          ]
        }
      ],
      "source": [
        "# Quick function to convert every value in the DataFrame to a string\n",
        "string_df = df.applymap(lambda x: str(x))\n",
        "string_df.info()"
      ]
    },
    {
      "cell_type": "code",
      "execution_count": null,
      "metadata": {
        "id": "4uCCwaAgN6rm",
        "outputId": "d13e366d-f965-43ae-9866-5f68310efa78"
      },
      "outputs": [
        {
          "data": {
            "text/plain": [
              "0     484.0\n",
              "1    1444.0\n",
              "2     676.0\n",
              "3    1225.0\n",
              "4    1225.0\n",
              "Name: Age, dtype: float64"
            ]
          },
          "metadata": {},
          "output_type": "display_data"
        },
        {
          "data": {
            "text/plain": [
              "0    22.0\n",
              "1    38.0\n",
              "2    26.0\n",
              "3    35.0\n",
              "4    35.0\n",
              "Name: Age, dtype: float64"
            ]
          },
          "execution_count": 10,
          "metadata": {},
          "output_type": "execute_result"
        }
      ],
      "source": [
        "# Let's quickly square every value in the Age column\n",
        "display(df['Age'].apply(lambda x: x**2).head())\n",
        "\n",
        "# Note that the original data in the age column has not changed\n",
        "df['Age'].head()"
      ]
    },
    {
      "cell_type": "markdown",
      "metadata": {
        "id": "kbywnKkLN6rm"
      },
      "source": [
        "## Summary\n",
        "\n",
        "In this lesson, you learned how to:\n",
        "\n",
        "* Understand and use the `df.describe()` and `df.info()` summary statistics methods\n",
        "* Use built-in Pandas methods for calculating summary statistics\n",
        "* Apply a function to every element in a Series or DataFrame using `s.apply()` and `df.applymap()`"
      ]
    },
    {
      "cell_type": "markdown",
      "metadata": {
        "id": "x7DnYoimN6rm"
      },
      "source": [
        "# Statistical Methods in Pandas - Lab"
      ]
    },
    {
      "cell_type": "markdown",
      "metadata": {
        "id": "Jw32H9U6N6rm"
      },
      "source": [
        "## Introduction\n",
        "\n",
        "In this lab you'll get some hands-on experience using some of the key summary statistics methods in Pandas."
      ]
    },
    {
      "cell_type": "markdown",
      "metadata": {
        "id": "788yxR4QN6rm"
      },
      "source": [
        "## Objectives\n",
        "You will be able to:\n",
        "\n",
        "- Calculate summary statistics for a series and DataFrame\n",
        "- Use the `.apply()` or `.applymap()` methods to apply a function to a pandas series or DataFrame  \n",
        "\n",
        "\n",
        "## Getting Started\n",
        "\n",
        "For this lab, we'll be working with a dataset containing information on various lego datasets. You will find this dataset in the file `'lego_sets.csv'`.   \n",
        "\n",
        "In the cell below:\n",
        "\n",
        "- Import Pandas and set the standard alias of `pd`\n",
        "- Import the `'lego_sets.csv'` dataset\n",
        "- Display the first five rows of the DataFrame to get a feel for what we'll be working with"
      ]
    },
    {
      "cell_type": "code",
      "execution_count": null,
      "metadata": {
        "id": "8XhUx8JgN6rm",
        "outputId": "1f4b08e3-1fb4-4a1a-ebf8-4c89a2a7b863"
      },
      "outputs": [
        {
          "data": {
            "text/html": [
              "<div>\n",
              "<style scoped>\n",
              "    .dataframe tbody tr th:only-of-type {\n",
              "        vertical-align: middle;\n",
              "    }\n",
              "\n",
              "    .dataframe tbody tr th {\n",
              "        vertical-align: top;\n",
              "    }\n",
              "\n",
              "    .dataframe thead th {\n",
              "        text-align: right;\n",
              "    }\n",
              "</style>\n",
              "<table border=\"1\" class=\"dataframe\">\n",
              "  <thead>\n",
              "    <tr style=\"text-align: right;\">\n",
              "      <th></th>\n",
              "      <th>ages</th>\n",
              "      <th>list_price</th>\n",
              "      <th>num_reviews</th>\n",
              "      <th>piece_count</th>\n",
              "      <th>play_star_rating</th>\n",
              "      <th>prod_desc</th>\n",
              "      <th>prod_id</th>\n",
              "      <th>prod_long_desc</th>\n",
              "      <th>review_difficulty</th>\n",
              "      <th>set_name</th>\n",
              "      <th>star_rating</th>\n",
              "      <th>theme_name</th>\n",
              "      <th>val_star_rating</th>\n",
              "      <th>country</th>\n",
              "    </tr>\n",
              "  </thead>\n",
              "  <tbody>\n",
              "    <tr>\n",
              "      <th>0</th>\n",
              "      <td>6-12</td>\n",
              "      <td>29.99</td>\n",
              "      <td>2.0</td>\n",
              "      <td>277.0</td>\n",
              "      <td>4.0</td>\n",
              "      <td>Catapult into action and take back the eggs fr...</td>\n",
              "      <td>75823.0</td>\n",
              "      <td>Use the staircase catapult to launch Red into ...</td>\n",
              "      <td>Average</td>\n",
              "      <td>Bird Island Egg Heist</td>\n",
              "      <td>4.5</td>\n",
              "      <td>Angry Birds™</td>\n",
              "      <td>4.0</td>\n",
              "      <td>US</td>\n",
              "    </tr>\n",
              "    <tr>\n",
              "      <th>1</th>\n",
              "      <td>6-12</td>\n",
              "      <td>19.99</td>\n",
              "      <td>2.0</td>\n",
              "      <td>168.0</td>\n",
              "      <td>4.0</td>\n",
              "      <td>Launch a flying attack and rescue the eggs fro...</td>\n",
              "      <td>75822.0</td>\n",
              "      <td>Pilot Pig has taken off from Bird Island with ...</td>\n",
              "      <td>Easy</td>\n",
              "      <td>Piggy Plane Attack</td>\n",
              "      <td>5.0</td>\n",
              "      <td>Angry Birds™</td>\n",
              "      <td>4.0</td>\n",
              "      <td>US</td>\n",
              "    </tr>\n",
              "    <tr>\n",
              "      <th>2</th>\n",
              "      <td>6-12</td>\n",
              "      <td>12.99</td>\n",
              "      <td>11.0</td>\n",
              "      <td>74.0</td>\n",
              "      <td>4.3</td>\n",
              "      <td>Chase the piggy with lightning-fast Chuck and ...</td>\n",
              "      <td>75821.0</td>\n",
              "      <td>Pitch speedy bird Chuck against the Piggy Car....</td>\n",
              "      <td>Easy</td>\n",
              "      <td>Piggy Car Escape</td>\n",
              "      <td>4.3</td>\n",
              "      <td>Angry Birds™</td>\n",
              "      <td>4.1</td>\n",
              "      <td>US</td>\n",
              "    </tr>\n",
              "    <tr>\n",
              "      <th>3</th>\n",
              "      <td>12+</td>\n",
              "      <td>99.99</td>\n",
              "      <td>23.0</td>\n",
              "      <td>1032.0</td>\n",
              "      <td>3.6</td>\n",
              "      <td>Explore the architecture of the United States ...</td>\n",
              "      <td>21030.0</td>\n",
              "      <td>Discover the architectural secrets of the icon...</td>\n",
              "      <td>Average</td>\n",
              "      <td>United States Capitol Building</td>\n",
              "      <td>4.6</td>\n",
              "      <td>Architecture</td>\n",
              "      <td>4.3</td>\n",
              "      <td>US</td>\n",
              "    </tr>\n",
              "    <tr>\n",
              "      <th>4</th>\n",
              "      <td>12+</td>\n",
              "      <td>79.99</td>\n",
              "      <td>14.0</td>\n",
              "      <td>744.0</td>\n",
              "      <td>3.2</td>\n",
              "      <td>Recreate the Solomon R. Guggenheim Museum® wit...</td>\n",
              "      <td>21035.0</td>\n",
              "      <td>Discover the architectural secrets of Frank Ll...</td>\n",
              "      <td>Challenging</td>\n",
              "      <td>Solomon R. Guggenheim Museum®</td>\n",
              "      <td>4.6</td>\n",
              "      <td>Architecture</td>\n",
              "      <td>4.1</td>\n",
              "      <td>US</td>\n",
              "    </tr>\n",
              "  </tbody>\n",
              "</table>\n",
              "</div>"
            ],
            "text/plain": [
              "   ages  list_price  num_reviews  piece_count  play_star_rating  \\\n",
              "0  6-12       29.99          2.0        277.0               4.0   \n",
              "1  6-12       19.99          2.0        168.0               4.0   \n",
              "2  6-12       12.99         11.0         74.0               4.3   \n",
              "3   12+       99.99         23.0       1032.0               3.6   \n",
              "4   12+       79.99         14.0        744.0               3.2   \n",
              "\n",
              "                                           prod_desc  prod_id  \\\n",
              "0  Catapult into action and take back the eggs fr...  75823.0   \n",
              "1  Launch a flying attack and rescue the eggs fro...  75822.0   \n",
              "2  Chase the piggy with lightning-fast Chuck and ...  75821.0   \n",
              "3  Explore the architecture of the United States ...  21030.0   \n",
              "4  Recreate the Solomon R. Guggenheim Museum® wit...  21035.0   \n",
              "\n",
              "                                      prod_long_desc review_difficulty  \\\n",
              "0  Use the staircase catapult to launch Red into ...           Average   \n",
              "1  Pilot Pig has taken off from Bird Island with ...              Easy   \n",
              "2  Pitch speedy bird Chuck against the Piggy Car....              Easy   \n",
              "3  Discover the architectural secrets of the icon...           Average   \n",
              "4  Discover the architectural secrets of Frank Ll...       Challenging   \n",
              "\n",
              "                         set_name  star_rating    theme_name  val_star_rating  \\\n",
              "0           Bird Island Egg Heist          4.5  Angry Birds™              4.0   \n",
              "1              Piggy Plane Attack          5.0  Angry Birds™              4.0   \n",
              "2                Piggy Car Escape          4.3  Angry Birds™              4.1   \n",
              "3  United States Capitol Building          4.6  Architecture              4.3   \n",
              "4   Solomon R. Guggenheim Museum®          4.6  Architecture              4.1   \n",
              "\n",
              "  country  \n",
              "0      US  \n",
              "1      US  \n",
              "2      US  \n",
              "3      US  \n",
              "4      US  "
            ]
          },
          "execution_count": 1,
          "metadata": {},
          "output_type": "execute_result"
        }
      ],
      "source": [
        "# Import pandas\n",
        "import pandas as pd\n",
        "\n",
        "# Import the 'lego_sets.csv' dataset\n",
        "df = pd.read_csv('lego_sets.csv')\n",
        "\n",
        "# Print the first five rows of DataFrame\n",
        "df.head()"
      ]
    },
    {
      "cell_type": "markdown",
      "metadata": {
        "id": "z_M62zLcN6rm"
      },
      "source": [
        "## Getting DataFrame-Level Statistics\n",
        "\n",
        "We'll begin by getting some overall summary statistics on the dataset. There are two ways we'll get this information -- `.info()` and `.describe()`.\n",
        "\n",
        "The `.info()` method provides us metadata on the DataFrame itself. This allows us to answer questions such as:\n",
        "\n",
        "* What data type does each column contain?\n",
        "* How many rows are in my dataset?\n",
        "* How many total non-missing values does each column contain?\n",
        "* How much memory does the DataFrame take up?\n",
        "\n",
        "In the cell below, call our DataFrame's `.info()` method."
      ]
    },
    {
      "cell_type": "code",
      "execution_count": null,
      "metadata": {
        "id": "I2wdiBjHN6rn",
        "outputId": "e0a27153-148d-4403-c00f-bf49251e6332"
      },
      "outputs": [
        {
          "name": "stdout",
          "output_type": "stream",
          "text": [
            "<class 'pandas.core.frame.DataFrame'>\n",
            "RangeIndex: 12261 entries, 0 to 12260\n",
            "Data columns (total 14 columns):\n",
            "ages                 12261 non-null object\n",
            "list_price           12261 non-null float64\n",
            "num_reviews          10641 non-null float64\n",
            "piece_count          12261 non-null float64\n",
            "play_star_rating     10486 non-null float64\n",
            "prod_desc            11884 non-null object\n",
            "prod_id              12261 non-null float64\n",
            "prod_long_desc       12261 non-null object\n",
            "review_difficulty    10206 non-null object\n",
            "set_name             12261 non-null object\n",
            "star_rating          10641 non-null float64\n",
            "theme_name           12258 non-null object\n",
            "val_star_rating      10466 non-null float64\n",
            "country              12261 non-null object\n",
            "dtypes: float64(7), object(7)\n",
            "memory usage: 1.3+ MB\n"
          ]
        }
      ],
      "source": [
        "# Call the .info() method\n",
        "df.info()"
      ]
    },
    {
      "cell_type": "markdown",
      "metadata": {
        "id": "dTq_GpotN6rn"
      },
      "source": [
        "#### Interpreting the Results\n",
        "\n",
        "Read the output above, and then answer the following questions:\n",
        "\n",
        "- How many total rows are in this DataFrame?  \n",
        "- How many columns contain numeric data?\n",
        "- How many contain categorical data?\n",
        "- Identify at least 3 columns that contain missing values.\n",
        "\n",
        "Write your answer below this line:\n",
        "________________________________________________________________________________________________________________________________"
      ]
    },
    {
      "cell_type": "code",
      "execution_count": null,
      "metadata": {
        "id": "g0lN9Fm4N6rn"
      },
      "outputs": [],
      "source": [
        "\n",
        "\n",
        "# There are 12261 rows in this dataset.\n",
        "\n",
        "# There are 14 columns in the dataset.\n",
        "\n",
        "# There are 7 columns with numeric features as indicated by the 'float64' datatype.\n",
        "\n",
        "# There are 7 columns with categorical features as indicated by the 'object' datatype.\n",
        "\n",
        "# num_review, play_star_rating, review_difficulty, prod_desc, star_rating, theme_name (in a few cases)\n",
        "# and val_star_rating all clearly have null values."
      ]
    },
    {
      "cell_type": "markdown",
      "metadata": {
        "id": "eNddKl9rN6rn"
      },
      "source": [
        "Whereas `.info()` provides statistics about the DataFrame itself, `.describe()` returns output containing basic summary statistics about the data contained with the DataFrame.  \n",
        "\n",
        "In the cell below, call the DataFrame's `.describe()` method."
      ]
    },
    {
      "cell_type": "code",
      "execution_count": null,
      "metadata": {
        "id": "E3Bn2cXjN6rn",
        "outputId": "fe107986-bf67-40f7-d6f6-3655fd082e38"
      },
      "outputs": [
        {
          "data": {
            "text/html": [
              "<div>\n",
              "<style scoped>\n",
              "    .dataframe tbody tr th:only-of-type {\n",
              "        vertical-align: middle;\n",
              "    }\n",
              "\n",
              "    .dataframe tbody tr th {\n",
              "        vertical-align: top;\n",
              "    }\n",
              "\n",
              "    .dataframe thead th {\n",
              "        text-align: right;\n",
              "    }\n",
              "</style>\n",
              "<table border=\"1\" class=\"dataframe\">\n",
              "  <thead>\n",
              "    <tr style=\"text-align: right;\">\n",
              "      <th></th>\n",
              "      <th>list_price</th>\n",
              "      <th>num_reviews</th>\n",
              "      <th>piece_count</th>\n",
              "      <th>play_star_rating</th>\n",
              "      <th>prod_id</th>\n",
              "      <th>star_rating</th>\n",
              "      <th>val_star_rating</th>\n",
              "    </tr>\n",
              "  </thead>\n",
              "  <tbody>\n",
              "    <tr>\n",
              "      <th>count</th>\n",
              "      <td>12261.000000</td>\n",
              "      <td>10641.000000</td>\n",
              "      <td>12261.000000</td>\n",
              "      <td>10486.000000</td>\n",
              "      <td>1.226100e+04</td>\n",
              "      <td>10641.000000</td>\n",
              "      <td>10466.000000</td>\n",
              "    </tr>\n",
              "    <tr>\n",
              "      <th>mean</th>\n",
              "      <td>65.141998</td>\n",
              "      <td>16.826238</td>\n",
              "      <td>493.405921</td>\n",
              "      <td>4.337641</td>\n",
              "      <td>5.983675e+04</td>\n",
              "      <td>4.514134</td>\n",
              "      <td>4.228960</td>\n",
              "    </tr>\n",
              "    <tr>\n",
              "      <th>std</th>\n",
              "      <td>91.980429</td>\n",
              "      <td>36.368984</td>\n",
              "      <td>825.364580</td>\n",
              "      <td>0.652051</td>\n",
              "      <td>1.638115e+05</td>\n",
              "      <td>0.518865</td>\n",
              "      <td>0.660282</td>\n",
              "    </tr>\n",
              "    <tr>\n",
              "      <th>min</th>\n",
              "      <td>2.272400</td>\n",
              "      <td>1.000000</td>\n",
              "      <td>1.000000</td>\n",
              "      <td>1.000000</td>\n",
              "      <td>6.300000e+02</td>\n",
              "      <td>1.800000</td>\n",
              "      <td>1.000000</td>\n",
              "    </tr>\n",
              "    <tr>\n",
              "      <th>25%</th>\n",
              "      <td>19.990000</td>\n",
              "      <td>2.000000</td>\n",
              "      <td>97.000000</td>\n",
              "      <td>4.000000</td>\n",
              "      <td>2.103400e+04</td>\n",
              "      <td>4.300000</td>\n",
              "      <td>4.000000</td>\n",
              "    </tr>\n",
              "    <tr>\n",
              "      <th>50%</th>\n",
              "      <td>36.587800</td>\n",
              "      <td>6.000000</td>\n",
              "      <td>216.000000</td>\n",
              "      <td>4.500000</td>\n",
              "      <td>4.206900e+04</td>\n",
              "      <td>4.700000</td>\n",
              "      <td>4.300000</td>\n",
              "    </tr>\n",
              "    <tr>\n",
              "      <th>75%</th>\n",
              "      <td>70.192200</td>\n",
              "      <td>13.000000</td>\n",
              "      <td>544.000000</td>\n",
              "      <td>4.800000</td>\n",
              "      <td>7.092200e+04</td>\n",
              "      <td>5.000000</td>\n",
              "      <td>4.700000</td>\n",
              "    </tr>\n",
              "    <tr>\n",
              "      <th>max</th>\n",
              "      <td>1104.870000</td>\n",
              "      <td>367.000000</td>\n",
              "      <td>7541.000000</td>\n",
              "      <td>5.000000</td>\n",
              "      <td>2.000431e+06</td>\n",
              "      <td>5.000000</td>\n",
              "      <td>5.000000</td>\n",
              "    </tr>\n",
              "  </tbody>\n",
              "</table>\n",
              "</div>"
            ],
            "text/plain": [
              "         list_price   num_reviews   piece_count  play_star_rating  \\\n",
              "count  12261.000000  10641.000000  12261.000000      10486.000000   \n",
              "mean      65.141998     16.826238    493.405921          4.337641   \n",
              "std       91.980429     36.368984    825.364580          0.652051   \n",
              "min        2.272400      1.000000      1.000000          1.000000   \n",
              "25%       19.990000      2.000000     97.000000          4.000000   \n",
              "50%       36.587800      6.000000    216.000000          4.500000   \n",
              "75%       70.192200     13.000000    544.000000          4.800000   \n",
              "max     1104.870000    367.000000   7541.000000          5.000000   \n",
              "\n",
              "            prod_id   star_rating  val_star_rating  \n",
              "count  1.226100e+04  10641.000000     10466.000000  \n",
              "mean   5.983675e+04      4.514134         4.228960  \n",
              "std    1.638115e+05      0.518865         0.660282  \n",
              "min    6.300000e+02      1.800000         1.000000  \n",
              "25%    2.103400e+04      4.300000         4.000000  \n",
              "50%    4.206900e+04      4.700000         4.300000  \n",
              "75%    7.092200e+04      5.000000         4.700000  \n",
              "max    2.000431e+06      5.000000         5.000000  "
            ]
          },
          "execution_count": 4,
          "metadata": {},
          "output_type": "execute_result"
        }
      ],
      "source": [
        "# Call the .describe() method\n",
        "df.describe()"
      ]
    },
    {
      "cell_type": "markdown",
      "metadata": {
        "id": "6a_z-XdtN6rn"
      },
      "source": [
        "#### Interpreting the Results\n",
        "\n",
        "The output contains descriptive statistics corresponding to the columns. Use these to answer the following questions:\n",
        "\n",
        "- How much is the standard deviation for `piece count`?\n",
        "- How many pieces are in the largest lego set?\n",
        "- How many in the smallest lego set? What is the median `val_star_rating`?\n",
        "\n",
        "________________________________________________________________________________________________________________________________"
      ]
    },
    {
      "cell_type": "code",
      "execution_count": null,
      "metadata": {
        "id": "dgxb_0wIN6rn"
      },
      "outputs": [],
      "source": [
        "\n",
        "\n",
        "# The standard deviation for piece coiunt is 825.36 (rounded to 2 places).\n",
        "\n",
        "# The largest lego set has 7,541 pieces.\n",
        "\n",
        "# The smallest lego set has a single piece. Can you really call that a set?\n",
        "\n",
        "# The median 'val_star_rating' is 4.3. (Labelled as the 50th percentile in the summary table.)\n"
      ]
    },
    {
      "cell_type": "markdown",
      "metadata": {
        "id": "ly1dv62jN6rn"
      },
      "source": [
        "## Getting Summary Statistics\n",
        "\n",
        "Pandas also allows us to easily compute individual summary statistics using built-in methods.  Next, we'll get some practice using these methods.\n",
        "\n",
        "In the cell below, compute the median value of the `star_rating` column."
      ]
    },
    {
      "cell_type": "code",
      "execution_count": null,
      "metadata": {
        "id": "lgLltLUTN6ro",
        "outputId": "bcc6fa53-c44e-4bf7-f6d1-493b42e16861"
      },
      "outputs": [
        {
          "data": {
            "text/plain": [
              "4.7"
            ]
          },
          "execution_count": 6,
          "metadata": {},
          "output_type": "execute_result"
        }
      ],
      "source": [
        "# Calculate the median of the star_rating column\n",
        "df['star_rating'].median()"
      ]
    },
    {
      "cell_type": "markdown",
      "metadata": {
        "id": "0rh9gQufN6ro"
      },
      "source": [
        "Next, get a count of the total number of unique values in `play_star_rating`."
      ]
    },
    {
      "cell_type": "code",
      "execution_count": null,
      "metadata": {
        "id": "QKPQePhkN6ro",
        "outputId": "32b84340-dcc2-4777-f360-286fa18a2c57"
      },
      "outputs": [
        {
          "data": {
            "text/plain": [
              "30"
            ]
          },
          "execution_count": 7,
          "metadata": {},
          "output_type": "execute_result"
        }
      ],
      "source": [
        "# Print the number of unique values in play_star_rating\n",
        "df['play_star_rating'].nunique()"
      ]
    },
    {
      "cell_type": "markdown",
      "metadata": {
        "id": "hs6yAG5ZN6ro"
      },
      "source": [
        "Now, compute the standard deviation of the `list_price` column."
      ]
    },
    {
      "cell_type": "code",
      "execution_count": null,
      "metadata": {
        "id": "H-HuskhpN6ro",
        "outputId": "fc877dd6-b25d-412a-e436-f51504018dd6"
      },
      "outputs": [
        {
          "data": {
            "text/plain": [
              "91.9804293059252"
            ]
          },
          "execution_count": 8,
          "metadata": {},
          "output_type": "execute_result"
        }
      ],
      "source": [
        "# Calculate the standard deviation of the list_price column\n",
        "df.list_price.std()"
      ]
    },
    {
      "cell_type": "markdown",
      "metadata": {
        "id": "C6xnvQNAN6ro"
      },
      "source": [
        "If we bought every single lego set in this dataset, how many pieces would we have?  \n",
        "\n",
        "> **Note**: If you truly want to answer this accurately, and are up for the challenge, remove duplicate lego-set entries before summing the pieces. That is, many of the lego sets are listed multiple times in the dataset above, depending on the country where it is being sold and other unique parameters. If you're stuck, just practice calculating the total number of pieces in the dataset for now."
      ]
    },
    {
      "cell_type": "code",
      "execution_count": null,
      "metadata": {
        "id": "OYY9nCjaN6ro",
        "outputId": "743337c5-8e86-486c-9aaf-b44a1b644e14"
      },
      "outputs": [
        {
          "data": {
            "text/plain": [
              "319071.0"
            ]
          },
          "execution_count": 9,
          "metadata": {},
          "output_type": "execute_result"
        }
      ],
      "source": [
        "# Total number of pieces across all unique Lego sets\n",
        "df.drop_duplicates(subset='prod_id')['piece_count'].sum()\n",
        "\n",
        "# If you're simply calculating the sum of a column\n",
        "# df['piece_count'].sum()"
      ]
    },
    {
      "cell_type": "markdown",
      "metadata": {
        "id": "goJM1HTcN6rp"
      },
      "source": [
        "Now, let's try getting the value for the 90% quantile for all numerical columns.  Do this in the cell below."
      ]
    },
    {
      "cell_type": "code",
      "execution_count": null,
      "metadata": {
        "id": "euuiiUrXN6rp",
        "outputId": "d36df505-fe5b-4c42-daa4-9ff6e54c802d"
      },
      "outputs": [
        {
          "data": {
            "text/plain": [
              "list_price            136.2971\n",
              "num_reviews            38.0000\n",
              "piece_count          1077.0000\n",
              "play_star_rating        5.0000\n",
              "prod_id             75531.0000\n",
              "star_rating             5.0000\n",
              "val_star_rating         5.0000\n",
              "Name: 0.9, dtype: float64"
            ]
          },
          "execution_count": 10,
          "metadata": {},
          "output_type": "execute_result"
        }
      ],
      "source": [
        "# Get the 90% quantile for all numerical columns\n",
        "df.quantile(q=.9)"
      ]
    },
    {
      "cell_type": "markdown",
      "metadata": {
        "id": "vnGw1YVNN6rp"
      },
      "source": [
        "## Getting Summary Statistics on Categorical Data\n",
        "\n",
        "For obvious reasons, most of the methods we've used so far only work with numerical data -- there's no way to calculate the standard deviation of a column containing string values. However, there are some things that we can discover about columns containing categorical data.\n",
        "\n",
        "In the cell below, print the unique values contained within the `review_difficulty` column."
      ]
    },
    {
      "cell_type": "code",
      "execution_count": null,
      "metadata": {
        "id": "ZvltUgd6N6rp",
        "outputId": "b7d9a35e-e0b0-44be-d42c-326c46b4a889"
      },
      "outputs": [
        {
          "data": {
            "text/plain": [
              "array(['Average', 'Easy', 'Challenging', 'Very Easy', nan,\n",
              "       'Very Challenging'], dtype=object)"
            ]
          },
          "execution_count": 11,
          "metadata": {},
          "output_type": "execute_result"
        }
      ],
      "source": [
        "# Print the unique values in the review_difficulty column\n",
        "df['review_difficulty'].unique()"
      ]
    },
    {
      "cell_type": "markdown",
      "metadata": {
        "id": "v4_uE5_FN6rp"
      },
      "source": [
        "Now, let's get the `value_counts()` for this column, to see how common each is."
      ]
    },
    {
      "cell_type": "code",
      "execution_count": null,
      "metadata": {
        "id": "Iu76YEW_N6rp",
        "outputId": "4b81ffae-9146-4a68-96d3-77da013458d9"
      },
      "outputs": [
        {
          "name": "stdout",
          "output_type": "stream",
          "text": [
            "Easy                4236\n",
            "Average             3765\n",
            "Very Easy           1139\n",
            "Challenging         1058\n",
            "Very Challenging       8\n",
            "Name: review_difficulty, dtype: int64\n"
          ]
        },
        {
          "data": {
            "text/plain": [
              "Easy                0.415050\n",
              "Average             0.368901\n",
              "Very Easy           0.111601\n",
              "Challenging         0.103665\n",
              "Very Challenging    0.000784\n",
              "Name: review_difficulty, dtype: float64"
            ]
          },
          "execution_count": 12,
          "metadata": {},
          "output_type": "execute_result"
        }
      ],
      "source": [
        "# Get the value_counts() of the review_difficulty column\n",
        "print(df['review_difficulty'].value_counts())\n",
        "\n",
        "# Alternatively normalized value counts\n",
        "df['review_difficulty'].value_counts(normalize=True)"
      ]
    },
    {
      "cell_type": "markdown",
      "metadata": {
        "id": "dXRlTB6jN6rp"
      },
      "source": [
        "As you can see, these provide us quick and easy ways to get information on columns containing categorical information.  \n",
        "\n",
        "\n",
        "## Using `.applymap()`\n",
        "\n",
        "When working with pandas DataFrames, we can quickly compute functions on the data contained by using the `.applymap()` method and passing in a lambda function.\n",
        "\n",
        "For instance, we can use `applymap()` to return a version of the DataFrame where every value has been converted to a string.\n",
        "\n",
        "In the cell below:\n",
        "\n",
        "* Call the DataFrame's `.applymap()` method and pass in `lambda x: str(x)`  \n",
        "* Call the new `string_df` object's `.info()` method to confirm that everything has been cast to a string"
      ]
    },
    {
      "cell_type": "code",
      "execution_count": null,
      "metadata": {
        "id": "P_Nm-AcQN6rq",
        "outputId": "045b62f6-83d1-4b85-bf39-2c90265e2143"
      },
      "outputs": [
        {
          "name": "stdout",
          "output_type": "stream",
          "text": [
            "<class 'pandas.core.frame.DataFrame'>\n",
            "RangeIndex: 12261 entries, 0 to 12260\n",
            "Data columns (total 14 columns):\n",
            "ages                 12261 non-null object\n",
            "list_price           12261 non-null object\n",
            "num_reviews          12261 non-null object\n",
            "piece_count          12261 non-null object\n",
            "play_star_rating     12261 non-null object\n",
            "prod_desc            12261 non-null object\n",
            "prod_id              12261 non-null object\n",
            "prod_long_desc       12261 non-null object\n",
            "review_difficulty    12261 non-null object\n",
            "set_name             12261 non-null object\n",
            "star_rating          12261 non-null object\n",
            "theme_name           12261 non-null object\n",
            "val_star_rating      12261 non-null object\n",
            "country              12261 non-null object\n",
            "dtypes: object(14)\n",
            "memory usage: 1.3+ MB\n"
          ]
        }
      ],
      "source": [
        "# Call the .applymap() method\n",
        "string_df = df.applymap(lambda x: str(x))\n",
        "\n",
        "# Call the .info() method\n",
        "string_df.info()"
      ]
    },
    {
      "cell_type": "markdown",
      "metadata": {
        "id": "gwoxMub5N6rq"
      },
      "source": [
        "Note that everything -- even the `NaN` values, have been cast to a string in the example above.\n",
        "\n",
        "Note that for Pandas Series objects (such as a single column in a DataFrame), we can do the same thing using the `.apply()` method.  \n",
        "\n",
        "This is just one example of how we can quickly compute custom functions on our DataFrame -- this will become especially useful when we learn how to **_normalize_** our datasets in a later section!\n",
        "\n",
        "## Summary\n",
        "\n",
        "In this lab, we learned how to:\n",
        "\n",
        "* Use the `df.describe()` and `df.info()` summary statistics methods\n",
        "* Use built-in Pandas methods for calculating summary statistics\n",
        "* Apply a function to every element in a DataFrame"
      ]
    }
  ],
  "metadata": {
    "kernelspec": {
      "display_name": "Python 3",
      "name": "python3"
    },
    "language_info": {
      "name": "python"
    },
    "colab": {
      "provenance": [],
      "include_colab_link": true
    }
  },
  "nbformat": 4,
  "nbformat_minor": 0
}