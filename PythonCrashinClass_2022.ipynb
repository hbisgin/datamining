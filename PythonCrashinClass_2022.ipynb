{
  "nbformat": 4,
  "nbformat_minor": 0,
  "metadata": {
    "colab": {
      "provenance": [],
      "collapsed_sections": [
        "vwSzg9cBR9nW",
        "y0PC_Of_cSYr",
        "CixoalmlcY3n",
        "wOCgGRIVcafF",
        "veGzv1Bflwbh",
        "ejSEVDTVmgWb",
        "QA_Ci9K9nLMU",
        "HOOzV8Nanw_u",
        "G3dnZGxQo0lD",
        "KEIYqObKpWRF",
        "zim-DY3ipkTP",
        "ertX6G2kqOGh",
        "ZjcnYeXcrKEG",
        "Plr5et12xxXI",
        "eR1_w-qUyfjp",
        "YTjvm_OcYrO_",
        "3m3HfLahZGbn",
        "pevAhQr6ZLh-"
      ],
      "mount_file_id": "1n1vAZpcF1-KHhhf_J_n--yaVgU4D3uZJ",
      "authorship_tag": "ABX9TyPZotjzjReebYDETRGitsIY",
      "include_colab_link": true
    },
    "kernelspec": {
      "name": "python3",
      "display_name": "Python 3"
    },
    "language_info": {
      "name": "python"
    }
  },
  "cells": [
    {
      "cell_type": "markdown",
      "metadata": {
        "id": "view-in-github",
        "colab_type": "text"
      },
      "source": [
        "<a href=\"https://colab.research.google.com/github/hbisgin/datamining/blob/main/PythonCrashinClass_2022.ipynb\" target=\"_parent\"><img src=\"https://colab.research.google.com/assets/colab-badge.svg\" alt=\"Open In Colab\"/></a>"
      ]
    },
    {
      "cell_type": "markdown",
      "source": [
        "#A crash course on Python.\n",
        "\n",
        "Scripts and notes are derived from:\n",
        "\n",
        "An Introduction To Scripting in Python 3\n",
        "By __[Hans van der Kwast](http://www.linkedin.com/in/jvdkwast)__<br>\n",
        "__[IHE Delft Institute for Water Education](http://www.un-ihe.org)__<br>\n",
        "\n",
        "This Jupyter Notebook has been developed based on \"A Beginner's Python Tutorial\" by Steven Thurlow. The original material has been ported to Python 3."
      ],
      "metadata": {
        "id": "ASY1_4cPriZY"
      }
    },
    {
      "cell_type": "markdown",
      "source": [
        "# Very simple 'programs'\n",
        "## Running Python from the command line\n",
        "In order to test pieces of code we can run Python from the command line. In this Jupyter Notebook we are going to simulate this. You can type the commands in the fields and execute them.<br>\n",
        "In the field type:<br>\n",
        "```python\n",
        "print('Hello, World')\n",
        "```\n",
        "Then press `<shift> + <return>` to execute the command."
      ],
      "metadata": {
        "id": "ju0SQETBQrZW"
      }
    },
    {
      "cell_type": "code",
      "execution_count": null,
      "metadata": {
        "id": "2TwU8pgUQFWP"
      },
      "outputs": [],
      "source": []
    },
    {
      "cell_type": "markdown",
      "source": [
        "What happened?\n",
        "\n",
        "You just created a program, that prints the words 'Hello, World'. The Python environment that you are in immediately compiles whatever you have typed in. This is useful for testing things, e.g. define a few variables, and then test to see if a certain line will work. That will come in a later lesson, though."
      ],
      "metadata": {
        "id": "8V1hTycCQylz"
      }
    },
    {
      "cell_type": "markdown",
      "source": [
        "## Math in Python\n",
        "Type<br>\n",
        "```python\n",
        "1 + 1\n",
        "```\n",
        "and execute the code."
      ],
      "metadata": {
        "id": "hgd7bdD9Q6KG"
      }
    },
    {
      "cell_type": "code",
      "source": [],
      "metadata": {
        "id": "RmzEtkuAQ_QC",
        "colab": {
          "base_uri": "https://localhost:8080/"
        },
        "outputId": "9ee5dcdc-ab61-4e9a-e2d1-865f3e5cc6df"
      },
      "execution_count": null,
      "outputs": [
        {
          "output_type": "execute_result",
          "data": {
            "text/plain": [
              "10"
            ]
          },
          "metadata": {},
          "execution_count": 6
        }
      ]
    },
    {
      "cell_type": "markdown",
      "source": [
        "Type<br>\n",
        "```python\n",
        "print('1 + 2 is an addition')\n",
        "```"
      ],
      "metadata": {
        "id": "A-r-XntERFbh"
      }
    },
    {
      "cell_type": "code",
      "source": [
        "print(\"5\")"
      ],
      "metadata": {
        "id": "JVHuBxBNRL_a",
        "colab": {
          "base_uri": "https://localhost:8080/"
        },
        "outputId": "abb8af2d-1b6a-49f8-f91f-f954fcc740bc"
      },
      "execution_count": null,
      "outputs": [
        {
          "output_type": "stream",
          "name": "stdout",
          "text": [
            "5\n"
          ]
        }
      ]
    },
    {
      "cell_type": "markdown",
      "source": [
        "You see that the `print` statement writes something on the screen.\n",
        "\n",
        "Try this:\n",
        "```python\n",
        "print('one kilobyte is 2^10 bytes, or', 2 ** 10, 'bytes')\n",
        "```"
      ],
      "metadata": {
        "id": "qBl2moQ6RQpc"
      }
    },
    {
      "cell_type": "code",
      "source": [
        "print(\"Halil\", 302)\n",
        "print(\"Halil\" + str(302) )"
      ],
      "metadata": {
        "id": "if37kXRzRReP",
        "colab": {
          "base_uri": "https://localhost:8080/"
        },
        "outputId": "3c5aeb4e-7e07-4c97-e33f-5af7ea7b6cb2"
      },
      "execution_count": null,
      "outputs": [
        {
          "output_type": "stream",
          "name": "stdout",
          "text": [
            "Halil 302\n",
            "Halil302\n"
          ]
        }
      ]
    },
    {
      "cell_type": "markdown",
      "source": [
        "## Comments, Please\n",
        "The final thing you'll need to know to move on to multi-line programs is the comment. Type the following (and yes, the output is shown):\n",
        "```python\n",
        "# I am a comment. Fear my wrath!\n",
        "```"
      ],
      "metadata": {
        "id": "wlak-odeRc5h"
      }
    },
    {
      "cell_type": "markdown",
      "source": [
        "## Variables\n",
        "Now let's start introducing variables. Variables store a value, that can be looked at or changed at a later time. Let's make a program that uses variables:"
      ],
      "metadata": {
        "id": "0GAAR4QYRujk"
      }
    },
    {
      "cell_type": "code",
      "source": [
        "#variables demonstrated\n",
        "print(\"This program is a demo of variables\")\n",
        "v = 1\n",
        "print(\"The value of v is now\", v)\n",
        "v = v + 1\n",
        "print(\"v now equals itself plus one, making it worth\", v)\n",
        "v = 51\n",
        "print(\"v can store any numerical value, to be used elsewhere.\")\n",
        "print(\"for example, in a sentence. v is now worth\", v)\n",
        "print(\"v times 5 equals\", v * 5)\n",
        "print(\"but v still only remains\", v)\n",
        "print(\"to make v five times bigger, you would have to type v = v * 5\")\n",
        "v = v * 5\n",
        "print(\"there you go, now v equals\", v, \"and not\", v / 5)"
      ],
      "metadata": {
        "id": "Mrays52IRv1H"
      },
      "execution_count": null,
      "outputs": []
    },
    {
      "cell_type": "markdown",
      "source": [
        "Run the script and try to understand the results."
      ],
      "metadata": {
        "id": "IPoP5j3qR1HN"
      }
    },
    {
      "cell_type": "markdown",
      "source": [
        "Note that we can also write `v = v + 1` as `v += 1`. This can be used for all operators (e.g. `-=`, `*=`,`/=`). Try it in the code above.\n",
        "\n",
        "It is good practice to use lowercase or camelCase for variables. Don't use special characters and don't start with a number!"
      ],
      "metadata": {
        "id": "zjq0RieRR1nm"
      }
    },
    {
      "cell_type": "code",
      "source": [
        "count = 1\n",
        "count+=1 #dount use this: count++\n",
        "print(count)"
      ],
      "metadata": {
        "colab": {
          "base_uri": "https://localhost:8080/"
        },
        "id": "J3vBeE9gRF6v",
        "outputId": "b06299cd-af88-41a2-fc42-39412dca7765"
      },
      "execution_count": null,
      "outputs": [
        {
          "output_type": "stream",
          "name": "stdout",
          "text": [
            "2\n"
          ]
        }
      ]
    },
    {
      "cell_type": "markdown",
      "source": [
        "## Strings\n",
        "As you can see, variables store values, for use at a later time. You can change them at any time. You can put in more than numbers, though. Variables can hold things like text. A variable that holds text is called a string. Try this program:"
      ],
      "metadata": {
        "id": "vwSzg9cBR9nW"
      }
    },
    {
      "cell_type": "code",
      "source": [
        "#giving variables text, and adding text.\n",
        "word1 = \"Good\"\n",
        "word2 = \"morning\"\n",
        "word3 = \"to you too!\"\n",
        "print(word1, word2)\n",
        "sentence = word1 + \" \" + word2 + \" \" + word3\n",
        "print(sentence)"
      ],
      "metadata": {
        "id": "kSyu6omuR--y",
        "colab": {
          "base_uri": "https://localhost:8080/"
        },
        "outputId": "2d512d0d-66ef-4e0b-b68c-e9702769d5d0"
      },
      "execution_count": null,
      "outputs": [
        {
          "output_type": "stream",
          "name": "stdout",
          "text": [
            "Good morning\n",
            "Good morning to you too!\n"
          ]
        }
      ]
    },
    {
      "cell_type": "markdown",
      "source": [
        "As you see, the variables above were holding text. Variable names can also be longer than one letter - here, we had `word1`, `word2`, and `word3`. As you can also see, strings can be added together to make longer words or sentences. However, it doesn't add spaces in between the words - hence me putting in the `\" \"` things (there is one space between those).\n",
        "\n",
        "Often we need to manipulate strings. For example if we want to edit file names or make selections from text. Strings are similar to `lists` that you will learn later. So similar operations (called *list slicing*) apply to strings.\n",
        "\n",
        "Try the following code and explain what it does:"
      ],
      "metadata": {
        "id": "UlPiP5tXSD6c"
      }
    },
    {
      "cell_type": "code",
      "source": [
        "text = \"abcdefghij\"\n",
        "len(text)"
      ],
      "metadata": {
        "id": "ee3NBiblSIqw",
        "colab": {
          "base_uri": "https://localhost:8080/"
        },
        "outputId": "c807e798-31bb-4437-95f0-fe06f2c58134"
      },
      "execution_count": null,
      "outputs": [
        {
          "output_type": "execute_result",
          "data": {
            "text/plain": [
              "10"
            ]
          },
          "metadata": {},
          "execution_count": 13
        }
      ]
    },
    {
      "cell_type": "markdown",
      "source": [
        "Yes, it shows us the amount of characters in a string.\n",
        "\n",
        "Now try this:"
      ],
      "metadata": {
        "id": "T9u87ualSPXQ"
      }
    },
    {
      "cell_type": "code",
      "source": [
        "print(text[4])"
      ],
      "metadata": {
        "id": "gRre9hrHSP7h",
        "colab": {
          "base_uri": "https://localhost:8080/"
        },
        "outputId": "caf0c584-6496-496e-acea-e546844c0615"
      },
      "execution_count": null,
      "outputs": [
        {
          "output_type": "stream",
          "name": "stdout",
          "text": [
            "e\n"
          ]
        }
      ]
    },
    {
      "cell_type": "markdown",
      "source": [
        "Here we want to print the character at position 4. Note that the first character \"a\" is at position 0! So position 4 gives us back \"e\".\n",
        "\n",
        "Now try:"
      ],
      "metadata": {
        "id": "wvd6Wq3VSZXh"
      }
    },
    {
      "cell_type": "code",
      "source": [
        "print(text[:4]) #range(4)"
      ],
      "metadata": {
        "id": "oNG2zvwVSXrR",
        "colab": {
          "base_uri": "https://localhost:8080/"
        },
        "outputId": "df38a108-cdce-4118-d65c-434bb34199c4"
      },
      "execution_count": null,
      "outputs": [
        {
          "output_type": "stream",
          "name": "stdout",
          "text": [
            "abcd\n"
          ]
        }
      ]
    },
    {
      "cell_type": "code",
      "source": [
        "print(text[4:])"
      ],
      "metadata": {
        "id": "qP0XApWCSe1m",
        "colab": {
          "base_uri": "https://localhost:8080/"
        },
        "outputId": "2db4a14e-f1ff-47a9-dd4d-9f81df147bb2"
      },
      "execution_count": null,
      "outputs": [
        {
          "output_type": "stream",
          "name": "stdout",
          "text": [
            "efghij\n"
          ]
        }
      ]
    },
    {
      "cell_type": "markdown",
      "source": [
        "Here you see that `[:4]` selects characters 0,1,2,3, which is \"abcd\". With `[4:]` we start with position 4 (counting from 0!) until the end of the string, which results in \"efghij\".\n",
        "\n",
        "We can also specify a range. Try this:"
      ],
      "metadata": {
        "id": "d_XDeDJ5Skt6"
      }
    },
    {
      "cell_type": "code",
      "source": [
        "print(text[4:8])"
      ],
      "metadata": {
        "colab": {
          "base_uri": "https://localhost:8080/"
        },
        "id": "lE2ddvIUSo9h",
        "outputId": "64bef41f-e12c-4bf2-b26c-36d28015cdc5"
      },
      "execution_count": null,
      "outputs": [
        {
          "output_type": "stream",
          "name": "stdout",
          "text": [
            "efgh\n"
          ]
        }
      ]
    },
    {
      "cell_type": "markdown",
      "source": [
        "Was it what you expected?\n",
        "With ranges, the maximum value is not included in the selection.\n",
        "\n",
        "We still have the variable `sentence` available. Write code below to select the second word of the sentence using the correct range."
      ],
      "metadata": {
        "id": "VZ99_2LZS43y"
      }
    },
    {
      "cell_type": "markdown",
      "source": [
        "Now try this:"
      ],
      "metadata": {
        "id": "albdAnHXStId"
      }
    },
    {
      "cell_type": "code",
      "source": [
        "print(text[-2])"
      ],
      "metadata": {
        "id": "HLFQENDXSxmC"
      },
      "execution_count": null,
      "outputs": []
    },
    {
      "cell_type": "markdown",
      "source": [
        "What did it do?\n",
        "\n",
        "Right, you have selected the second character from the right! Note that here we start counting with -1 for the first character on the right.\n",
        "\n",
        "Try this:"
      ],
      "metadata": {
        "id": "XLnYiAEnTG9T"
      }
    },
    {
      "cell_type": "code",
      "source": [
        "print(text[-4:])"
      ],
      "metadata": {
        "id": "Tt9cYav3TLLv",
        "colab": {
          "base_uri": "https://localhost:8080/"
        },
        "outputId": "4472e790-46aa-4b4a-fc29-d68e026ed3eb"
      },
      "execution_count": null,
      "outputs": [
        {
          "output_type": "stream",
          "name": "stdout",
          "text": [
            "ghij\n"
          ]
        }
      ]
    },
    {
      "cell_type": "markdown",
      "source": [
        "In human language: start with the 4th character from the right and give me all characters from that position to the end of the string.\n",
        "\n",
        "Now try this and find out what it does:"
      ],
      "metadata": {
        "id": "CFfnMZwdTPIA"
      }
    },
    {
      "cell_type": "code",
      "source": [
        "print(text[::2])"
      ],
      "metadata": {
        "colab": {
          "base_uri": "https://localhost:8080/"
        },
        "id": "bunUT8I0TQEb",
        "outputId": "603401a1-2eee-4a70-9682-01ac0480c985"
      },
      "execution_count": null,
      "outputs": [
        {
          "output_type": "stream",
          "name": "stdout",
          "text": [
            "acegi\n"
          ]
        }
      ]
    },
    {
      "cell_type": "markdown",
      "source": [
        "We can also add the results of the *list slicing* to variables and insert this into strings using the format operation:"
      ],
      "metadata": {
        "id": "VN_QxlHNTWQ5"
      }
    },
    {
      "cell_type": "code",
      "source": [
        "nrOfCharacters = len(sentence)\n",
        "lastWord = sentence[-4:-1]\n",
        "print(\"The sentence has {} characters and the last word is: {}\".format(nrOfCharacters,lastWord))"
      ],
      "metadata": {
        "id": "fKIBTk7ZTmL7",
        "colab": {
          "base_uri": "https://localhost:8080/"
        },
        "outputId": "c55736dc-9761-4b6c-c173-0663f535ebc0"
      },
      "execution_count": null,
      "outputs": [
        {
          "output_type": "stream",
          "name": "stdout",
          "text": [
            "The sentence has 24 characters and the last word is: too\n"
          ]
        }
      ]
    },
    {
      "cell_type": "markdown",
      "source": [
        "\n",
        "So you can easily insert variables at the places of the accolades (`{}`). They will be substituted in the same order of the variables in `.format()`\n",
        "\n",
        "This can also be written as:"
      ],
      "metadata": {
        "id": "Ai_2Ne-NT7cH"
      }
    },
    {
      "cell_type": "code",
      "source": [
        "print(f\"The sentence has {nrOfCharacters} characters and the last word is: {lastWord}\")"
      ],
      "metadata": {
        "id": "uWGxYtV-TXNY"
      },
      "execution_count": null,
      "outputs": []
    },
    {
      "cell_type": "markdown",
      "source": [
        "Besides list slicing there are also other operations that we can apply to strings. We can count the number of occurences of a specific character in a string:"
      ],
      "metadata": {
        "id": "j9VBrDLgUFbr"
      }
    },
    {
      "cell_type": "code",
      "source": [
        "print(sentence.count('o'))"
      ],
      "metadata": {
        "id": "RkS4K9IVUGcT",
        "colab": {
          "base_uri": "https://localhost:8080/"
        },
        "outputId": "b4b4cac4-ac13-4835-f22b-4c5893948fd5"
      },
      "execution_count": null,
      "outputs": [
        {
          "output_type": "stream",
          "name": "stdout",
          "text": [
            "7\n"
          ]
        }
      ]
    },
    {
      "cell_type": "markdown",
      "source": [
        "We can also find the position of character:"
      ],
      "metadata": {
        "id": "ExwlkF15UQnX"
      }
    },
    {
      "cell_type": "code",
      "source": [
        "print(text.find('e'))\n",
        "sometext = \"Hey you, how are you doing?\"\n",
        "print(sometext.rfind(\"you\"))"
      ],
      "metadata": {
        "colab": {
          "base_uri": "https://localhost:8080/"
        },
        "id": "vJmvz0BPURf1",
        "outputId": "bd520c96-7323-4c4d-f376-a65783149572"
      },
      "execution_count": null,
      "outputs": [
        {
          "output_type": "stream",
          "name": "stdout",
          "text": [
            "4\n",
            "17\n"
          ]
        }
      ]
    },
    {
      "cell_type": "markdown",
      "source": [
        "`rfind` returns the lasts occurance of a string. So in `sometext` we have the word \"you\" twice. `rfind` returns `17` meaning that the last time that it found \"you\" is starting at position 17 (counting from 0).\n",
        "\n",
        "There are a few other useful string operations. Run the code below and will be obvious what it does:"
      ],
      "metadata": {
        "id": "zuy37lgtUg4J"
      }
    },
    {
      "cell_type": "code",
      "source": [
        "# Changes the string to upper case\n",
        "sometext=\"UM, Flint!, Go Blue?\"\n",
        "print(sometext.upper())\n",
        "\n",
        "# Splits the string on a character and returns it as list items. You'll learn about lists later\n",
        "print(sometext.split(\",\"))\n",
        "\n",
        "# Replaces strings\n",
        "print(sometext.replace(\"?\",\"!\"))"
      ],
      "metadata": {
        "id": "I82ClH7GUh7u",
        "colab": {
          "base_uri": "https://localhost:8080/"
        },
        "outputId": "04fee374-581d-49c7-ef54-0548a08a3924"
      },
      "execution_count": null,
      "outputs": [
        {
          "output_type": "stream",
          "name": "stdout",
          "text": [
            "UM, FLINT!, GO BLUE?\n",
            "['UM', ' Flint!', ' Go Blue?']\n",
            "UM, Flint!, Go Blue!\n"
          ]
        }
      ]
    },
    {
      "cell_type": "markdown",
      "source": [
        "There are also some special characters:\n",
        "\n",
        "`\\n` jumps to a new line\n",
        "\n",
        "`\\` is an escape character. You can put it before another character that has a meaning in the code and is not considered a string. This is often used to have strings with backslashes for file names on Windows (e.g. `\"C:\\\\folder\\\\filename.txt\"`). Because `\\` is already an escape character we need to use it twice to escape the escape character!\n",
        "\n",
        "Examples:"
      ],
      "metadata": {
        "id": "8ID0ob3uUq_z"
      }
    },
    {
      "cell_type": "code",
      "source": [
        "print(\"This is a very long sentence and I want to split it into two lines.\")\n",
        "print(\"This is a very long sentence\\nand I want to split it into two lines.\")\n",
        "\n",
        "print(\"This sentence contains a quote and I don't want the string to end (yet)\\\"\")"
      ],
      "metadata": {
        "id": "DvRIRO8iUqqB"
      },
      "execution_count": null,
      "outputs": []
    },
    {
      "cell_type": "markdown",
      "source": [
        "# Loops, Loops, Loops, Loops...\n",
        "##  Introduction\n",
        "(Our final lesson before we get into interacting with human input. Can't wait, can you?)\n",
        "\n",
        "Just imagine you needed a program to do something 20 times. What would you do? You could copy and paste the code 20 times, and have a virtually unreadable program, not to mention slow and pointless. Or, you could tell the computer to repeat a bit of code between point A and point B, until the time comes that you need it to stop. Such a thing is called a loop.\n",
        "\n",
        "## The 'While' loop\n",
        "The following are examples of a type of loop, called the 'while' loop:"
      ],
      "metadata": {
        "id": "OlSCMohibnrc"
      }
    },
    {
      "cell_type": "code",
      "source": [
        "a = 0\n",
        "while a < 10:\n",
        "    a = a + 1\n",
        "    print(a)"
      ],
      "metadata": {
        "id": "To3aOeOwbwTY",
        "colab": {
          "base_uri": "https://localhost:8080/"
        },
        "outputId": "d05afaf2-e690-4d7e-adab-984d69569dbf"
      },
      "execution_count": null,
      "outputs": [
        {
          "output_type": "stream",
          "name": "stdout",
          "text": [
            "1\n",
            "2\n",
            "3\n",
            "4\n",
            "5\n",
            "6\n",
            "7\n",
            "8\n",
            "9\n",
            "10\n"
          ]
        }
      ]
    },
    {
      "cell_type": "markdown",
      "source": [
        "How does this program work? Lets go through it in English:\n",
        "```\n",
        "'a' now equals 0\n",
        "As long as 'a' is less than 10, do the following:\n",
        "   Make 'a' one larger than what it already is.\n",
        "   Print on-screen what 'a' is now worth.\n",
        "```"
      ],
      "metadata": {
        "id": "7ZOOo_anb0sB"
      }
    },
    {
      "cell_type": "markdown",
      "source": [
        "What does this do? Let's go through what the computer would be 'thinking' when it is in the 'while' loop:"
      ],
      "metadata": {
        "id": "Gtl-gP-eb543"
      }
    },
    {
      "cell_type": "markdown",
      "source": [
        "```\n",
        "#JUST GLANCE OVER THIS QUICKLY\n",
        "#(It looks fancy, but is really simple)\n",
        "Is 'a' less than 10? YES (its 0)\n",
        "Make 'a' one larger (now 1)\n",
        "print on-screen what 'a' is (1)\n",
        "\n",
        "Is 'a' less than 10? YES (its 1)\n",
        "Make 'a' one larger (now 2)\n",
        "print on-screen what 'a' is (2)\n",
        "\n",
        "Is 'a' less than 10? YES (its 2)\n",
        "Make 'a' one larger (now 3)\n",
        "print on-screen what 'a' is (3)\n",
        "\n",
        "Is 'a' less than 10? YES (its 3)\n",
        "Make 'a' one larger (now 4)\n",
        "print on-screen what 'a' is (4)\n",
        "\n",
        "Is 'a' less than 10? YES (its 4)\n",
        "Make 'a' one larger (now 5)\n",
        "print on-screen what 'a' is (5)\n",
        "\n",
        "Is 'a' less than 10? YES (its 5)\n",
        "Make 'a' one larger (now 6)\n",
        "print on-screen what 'a' is (6)\n",
        "\n",
        "Is 'a' less than 10? YES (its 6)\n",
        "Make 'a' one larger (now 7)\n",
        "print on-screen what 'a' is (7)\n",
        "\n",
        "Is 'a' less than 10? YES (are you still here?)\n",
        "Make 'a' one larger (now 8)\n",
        "print on-screen what 'a' is (8)\n",
        "\n",
        "Is 'a' less than 10? YES (its 8)\n",
        "Make 'a' one larger (now 9)\n",
        "print on-screen what 'a' is (9)\n",
        "\n",
        "Is 'a' less than 10? YES (its 9)\n",
        "Make 'a' one larger (now 10)\n",
        "print on-screen what 'a' is (10)\n",
        "\n",
        "Is 'a' less than 10? NO (its 10, therefore isn't less than 10)\n",
        "Don't do the loop\n",
        "There's no code left to do, so the program ends\n",
        "```"
      ],
      "metadata": {
        "id": "1jpvpofkb9ha"
      }
    },
    {
      "cell_type": "markdown",
      "source": [
        "So in short, try to think of it that way when you write 'while' loops. This is how you write them, by the way (syntax):\n",
        "```\n",
        "while {condition that the loop continues}:\n",
        "    {what to do in the loop}\n",
        "    {have it indented, usually four spaces}\n",
        "the code here is not looped\n",
        "because it isn't indented\n",
        "```"
      ],
      "metadata": {
        "id": "avF5X06vcC_1"
      }
    },
    {
      "cell_type": "markdown",
      "source": [
        "Now try to understand this example and run to see if it is what you expected."
      ],
      "metadata": {
        "id": "Ark5PpOHcHVm"
      }
    },
    {
      "cell_type": "code",
      "source": [
        "x = 10\n",
        "while x != 0:\n",
        "    print(x)\n",
        "    x = x - 1\n",
        "    print(\"wow, we've counted x down, and now it equals\", x) #1\n",
        "\n",
        "print(\"And now the loop has ended.\") #2"
      ],
      "metadata": {
        "id": "H2aV95FZcInO",
        "colab": {
          "base_uri": "https://localhost:8080/"
        },
        "outputId": "7ef4c657-3340-48c8-d82e-6936af91bb7e"
      },
      "execution_count": null,
      "outputs": [
        {
          "output_type": "stream",
          "name": "stdout",
          "text": [
            "10\n",
            "wow, we've counted x down, and now it equals 9\n",
            "9\n",
            "wow, we've counted x down, and now it equals 8\n",
            "8\n",
            "wow, we've counted x down, and now it equals 7\n",
            "7\n",
            "wow, we've counted x down, and now it equals 6\n",
            "6\n",
            "wow, we've counted x down, and now it equals 5\n",
            "5\n",
            "wow, we've counted x down, and now it equals 4\n",
            "4\n",
            "wow, we've counted x down, and now it equals 3\n",
            "3\n",
            "wow, we've counted x down, and now it equals 2\n",
            "2\n",
            "wow, we've counted x down, and now it equals 1\n",
            "1\n",
            "wow, we've counted x down, and now it equals 0\n",
            "And now the loop has ended.\n"
          ]
        }
      ]
    },
    {
      "cell_type": "markdown",
      "source": [
        "## Boolean Expressions (Boolen... what?!?)\n",
        "What do you type in the area marked `{conditions that the loop continues}`? The answer is a boolean expression.<br>\n",
        "What? A forgotten concept for the non-math people here. Never mind, boolean expression just means a question that can be answered with a TRUE or FALSE response. For example, if you wanted to say your age is the same as the person next to you, you would type:\n",
        "\n",
        "`My age == the age of the person next to me`\n",
        "\n",
        "And the statement would be TRUE. If you were younger than the person opposite, you'd say:\n",
        "`My age < the age of the person opposite me`\n",
        "\n",
        "And the statement would be TRUE. If, however, you were to say the following, and the person opposite of you was younger than you:\n",
        "\n",
        "`My age < the age of the person opposite me`\n",
        "\n",
        "The statement would be FALSE - the truth is that it is the other way around. This is how a loop thinks - if the expression is true, keep looping. If it is false, don't loop. With this in mind, let's have a look at the operators (symbols that represent an action) that are involved in boolean expressions:<br>\n",
        "\n",
        "| Expression | Function  |\n",
        "|   :---:    |   :---:   |\n",
        "|    `<`     | Less than |\n",
        "| `<=` | Less than or equal to |\n",
        "| `>` | Greater than |\n",
        "| `>=` | Greater than or equal to |\n",
        "| `!=` | Not equal to |\n",
        "| `<>` | Not equal to (alternate) |\n",
        "| `==` | Equal to |\n",
        "\n",
        "Don't get `=` and `==` mixed up - the `=` operator makes what is on the left equal to what is on the right. the `==` operator says whether the thing on the left is the same as what is on the right, and returns True or False.\n",
        "\n",
        "\n"
      ],
      "metadata": {
        "id": "y0PC_Of_cSYr"
      }
    },
    {
      "cell_type": "markdown",
      "source": [
        "## Conditional Statements\n",
        "OK! We've (hopefully) covered 'while' loops. Now let's look at something a little different - conditionals.<br>\n",
        "Conditionals are where a section of code is only run if certain conditions are met. This is similar to the 'while' loop you just wrote, which only runs when x doesn't equal 0. However, Conditionals are only run once. The most common conditional in any program language, is the 'if' statement. Here is how it works:<br>\n",
        "```\n",
        "if {conditions to be met}:\n",
        "    {do this}\n",
        "    {and this}\n",
        "    {and this}\n",
        "{but this happens regardless}\n",
        "{because it isn't indented}\n",
        "```\n",
        "<br>\n",
        "Now some examples in Python:"
      ],
      "metadata": {
        "id": "CixoalmlcY3n"
      }
    },
    {
      "cell_type": "code",
      "source": [
        "#EXAMPLE 1\n",
        "y = 1\n",
        "if y == 1:\n",
        "    print(\"y still equals 1, I was just checking\")"
      ],
      "metadata": {
        "id": "l6njqirXcdAw",
        "colab": {
          "base_uri": "https://localhost:8080/"
        },
        "outputId": "bec8ab94-34c7-45b8-c4f2-82cc0ca55adc"
      },
      "execution_count": null,
      "outputs": [
        {
          "output_type": "stream",
          "name": "stdout",
          "text": [
            "y still equals 1, I was just checking\n"
          ]
        }
      ]
    },
    {
      "cell_type": "code",
      "source": [
        "#EXAMPLE 2\n",
        "print(\"We will show the even numbers up to 20\")\n",
        "n = 1\n",
        "while n <= 20: #col\n",
        "    if n % 2 == 0:\n",
        "        print(n)\n",
        "    n = n + 1 #1\n",
        "print(\"there, done.\")"
      ],
      "metadata": {
        "id": "ELNdW0eLceH_",
        "colab": {
          "base_uri": "https://localhost:8080/"
        },
        "outputId": "93391ecf-517b-4440-f6cd-c4fdca2ed577"
      },
      "execution_count": null,
      "outputs": [
        {
          "output_type": "stream",
          "name": "stdout",
          "text": [
            "We will show the even numbers up to 20\n",
            "2\n",
            "4\n",
            "6\n",
            "8\n",
            "10\n",
            "12\n",
            "14\n",
            "16\n",
            "18\n",
            "20\n",
            "there, done.\n"
          ]
        }
      ]
    },
    {
      "cell_type": "markdown",
      "source": [
        "Example 2 there looks tricky. But all we have done is run an `if` statement every time the `while` loop runs. Remember that the `%` just means the remainder from a division - just checking that there is nothing left over if the number is divided by two - showing it is even. If it is even, it prints what `n` is."
      ],
      "metadata": {
        "id": "QS8cZDtHcku4"
      }
    },
    {
      "cell_type": "markdown",
      "source": [
        "## `else` and `elif` - When it Ain't True\n",
        "There are many ways you can use the `if` statement to deal with situations where your boolean expression ends up FALSE. They are `else` and `elif`.<br>\n",
        "`else` simply tells the computer what to do if the conditions of `if` aren't met. For example, read the following:"
      ],
      "metadata": {
        "id": "wOCgGRIVcafF"
      }
    },
    {
      "cell_type": "code",
      "source": [
        "a = 1\n",
        "if a > 5:\n",
        "    print(\"This shouldn't happen.\")\n",
        "else:\n",
        "    print(\"This should happen.\")"
      ],
      "metadata": {
        "id": "wx_K_m2jlSak",
        "colab": {
          "base_uri": "https://localhost:8080/"
        },
        "outputId": "21921039-fe2f-4cb5-9026-0cbe659fd490"
      },
      "execution_count": null,
      "outputs": [
        {
          "output_type": "stream",
          "name": "stdout",
          "text": [
            "This should happen.\n"
          ]
        }
      ]
    },
    {
      "cell_type": "markdown",
      "source": [
        "`a` is not greater than five, therefore what is under `else` is done.\n",
        "\n",
        "`elif` is just a shortened way of saying `else if`. When the `if` statement fails to be true, `elif` will do what is under it IF the conditions are met. For example:"
      ],
      "metadata": {
        "id": "SUzWBARwlPcK"
      }
    },
    {
      "cell_type": "code",
      "source": [
        "z = 4\n",
        "if z > 70:\n",
        "    print(\"Something is very wrong\")\n",
        "elif z < 7:\n",
        "    print(\"This is normal\")"
      ],
      "metadata": {
        "id": "mavFOe3LlqVx"
      },
      "execution_count": null,
      "outputs": []
    },
    {
      "cell_type": "markdown",
      "source": [
        "The `if` statement, along with `else` and `elif` follow this form:\n",
        "```Python\n",
        "if {conditions}:\n",
        "    {run this code}\n",
        "elif {conditions}:\n",
        "    {run this code}\n",
        "elif {conditions}:\n",
        "    {run this code}\n",
        "else:\n",
        "    {run this code}\n",
        "#You can have as many or as little elif statements as you need\n",
        "#anywhere from zero to the sky.\n",
        "#You can have at most one else statement\n",
        "#and only after all other ifs and elifs.\n",
        "```"
      ],
      "metadata": {
        "id": "g4Wai_RLlXeC"
      }
    },
    {
      "cell_type": "markdown",
      "source": [
        "***One of the most important points to remember is that you MUST have a colon `:` at the end of every line with an `if`, `elif`, `else` or `while` in it.***"
      ],
      "metadata": {
        "id": "igA85qy3lzrv"
      }
    },
    {
      "cell_type": "markdown",
      "source": [
        "## Indentation\n",
        "One other point is that the code to be executed if the conditions are met, MUST BE INDENTED. That means that if you want to loop the next five lines with a `while` loop, you must put a set number of spaces at the beginning of each of the next five lines. This is good programming practice in any language, but Python requires that you do it. Here is an example of both of the above points:"
      ],
      "metadata": {
        "id": "veGzv1Bflwbh"
      }
    },
    {
      "cell_type": "code",
      "source": [
        "a = 10\n",
        "while a > 0:\n",
        "    print(a)\n",
        "    if a > 5:\n",
        "        print(\"Big number!\")\n",
        "    elif a % 2 != 0:\n",
        "        print(\"This is an odd number\")\n",
        "        print(\"It isn't greater than five, either\")\n",
        "    else:\n",
        "        print(\"this number isn't greater than 5\")\n",
        "        print(\"nor is it odd\")\n",
        "        print(\"feeling special?\")\n",
        "    a = a - 1\n",
        "    print(\"we just made 'a' one less than what it was!\")\n",
        "    print(\"and unless a is not greater than 0, we'll do the loop again.\")\n",
        "print(\"well, it seems as if 'a' is now no bigger than 0!\")\n",
        "print(\"the loop is now over, and without furthur adue, so is this program!\")"
      ],
      "metadata": {
        "id": "2Bj7V9TNmCw8",
        "colab": {
          "base_uri": "https://localhost:8080/"
        },
        "outputId": "580f796c-86ff-4782-abe2-b80b751a1152"
      },
      "execution_count": null,
      "outputs": [
        {
          "output_type": "stream",
          "name": "stdout",
          "text": [
            "10\n",
            "Big number!\n",
            "we just made 'a' one less than what it was!\n",
            "and unless a is not greater than 0, we'll do the loop again.\n",
            "9\n",
            "Big number!\n",
            "we just made 'a' one less than what it was!\n",
            "and unless a is not greater than 0, we'll do the loop again.\n",
            "8\n",
            "Big number!\n",
            "we just made 'a' one less than what it was!\n",
            "and unless a is not greater than 0, we'll do the loop again.\n",
            "7\n",
            "Big number!\n",
            "we just made 'a' one less than what it was!\n",
            "and unless a is not greater than 0, we'll do the loop again.\n",
            "6\n",
            "Big number!\n",
            "we just made 'a' one less than what it was!\n",
            "and unless a is not greater than 0, we'll do the loop again.\n",
            "5\n",
            "This is an odd number\n",
            "It isn't greater than five, either\n",
            "we just made 'a' one less than what it was!\n",
            "and unless a is not greater than 0, we'll do the loop again.\n",
            "4\n",
            "this number isn't greater than 5\n",
            "nor is it odd\n",
            "feeling special?\n",
            "we just made 'a' one less than what it was!\n",
            "and unless a is not greater than 0, we'll do the loop again.\n",
            "3\n",
            "This is an odd number\n",
            "It isn't greater than five, either\n",
            "we just made 'a' one less than what it was!\n",
            "and unless a is not greater than 0, we'll do the loop again.\n",
            "2\n",
            "this number isn't greater than 5\n",
            "nor is it odd\n",
            "feeling special?\n",
            "we just made 'a' one less than what it was!\n",
            "and unless a is not greater than 0, we'll do the loop again.\n",
            "1\n",
            "This is an odd number\n",
            "It isn't greater than five, either\n",
            "we just made 'a' one less than what it was!\n",
            "and unless a is not greater than 0, we'll do the loop again.\n",
            "well, it seems as if 'a' is now no bigger than 0!\n",
            "the loop is now over, and without furthur adue, so is this program!\n"
          ]
        }
      ]
    },
    {
      "cell_type": "markdown",
      "source": [
        "Notice the three levels of indents there:\n",
        "1.\tEach line in the first level starts with no spaces. It is the main program, and will always execute.\n",
        "2.\tEach line in the second level starts with four spaces. When there is an `if` or loop on the first level, everything on the second level after that will be looped/'ifed', until a new line starts back on the first level again.\n",
        "3.\tEach line in the third level starts with eight spaces. When there is an `if` or loop on the second level, everything on the third level after that will be looped/'ifed', until a new line starts back on the second level again.\n",
        "4.\tThis goes on infinitely, until the person writing the program has an internal brain explosion, and cannot understand anything he/she has written."
      ],
      "metadata": {
        "id": "57bQFjXZmKNZ"
      }
    },
    {
      "cell_type": "markdown",
      "source": [
        "# Functions\n",
        "## Introduction\n",
        "Last lesson I said that we would delve into purposeful programming. That involves user input, and user input requires a thing called functions.\n",
        "\n",
        "What are functions? Well, in effect, functions are little self-contained programs that perform a specific task, which you can incorporate into your own, larger programs. After you have created a function, you can use it at any time, in any place. This saves you the time and effort of having to retell the computer what to do every time it does a common task, for example getting the user to type something in.\n",
        "\n",
        "## Using a Function\n",
        "Python has lots of pre-made functions, that you can use right now, simply by 'calling' them. 'Calling' a function involves you giving a function input, and it will return a value (like a variable would) as output. Don't understand? Here is the general form that calling a function takes:<br>\n",
        "`function_name(parameters)`\n",
        "\n",
        "See? Easy.\n",
        "\n",
        "- `Function_name` identifies which function it is you want to use (You'd figure...). For example, the function `raw_input`, which will be the first function that we will use.\n",
        "- `Parameters` are the values you pass to the function to tell it what is should do, and how to do it... for example, if a function multiplied any given number by five, the stuff in parameters tells the function which number it should multiply by five. Put the number 70 into parameters, and the function will do 70 x 5."
      ],
      "metadata": {
        "id": "CAcqOphYmX1B"
      }
    },
    {
      "cell_type": "markdown",
      "source": [
        "## Parameters and Returned Values - Communicating with Functions\n",
        "Well, that's all well and good that the program can multiply a number by five, but what does it have to show for it? A warm fuzzy feeling? Your program needs to see the results of what happened, to see what 70 x 5 is, or to see if there is a problem somewhere (like you gave it a letter instead of a number). So how does a function show what is does?\n",
        "\n",
        "Well, in effect, when a computer runs a function, it doesn't actually see the function name, but the result of what the function did. Variables do the exact same thing - the computer doesn't see the variable name, it sees the value that the variable holds. Let's call this program that multiplied any number by five, `multiply()`. You put the number you want multiplied in the brackets. So if you typed this:\n",
        "\n",
        "`a = multiply(70)`\n",
        "\n",
        "The computer would actually see this:\n",
        "\n",
        "`a = 350`\n",
        "\n",
        "Note: don't bother typing in this code - `multiply()` isn't a real function, unless you create it.\n",
        "\n",
        "The function ran itself, then returned a number to the main program, based on what parameters it was given.\n",
        "\n",
        "Now let's try this with a real function, and see what it does. The function is called `input`, and asks the user to type in something. It then turns it into a string of text. Try the code below:"
      ],
      "metadata": {
        "id": "ejSEVDTVmgWb"
      }
    },
    {
      "cell_type": "code",
      "source": [
        "# this line makes 'a' equal to whatever you type in\n",
        "a = input(\"Type in something, and it will be repeated on screen: \")\n",
        "# this line prints what 'a' is now worth\n",
        "print(a)"
      ],
      "metadata": {
        "id": "Ty9OZyozmtqm",
        "colab": {
          "base_uri": "https://localhost:8080/"
        },
        "outputId": "32b1ef8d-c8c0-4630-c380-af1ec0aca7ea"
      },
      "execution_count": null,
      "outputs": [
        {
          "output_type": "stream",
          "name": "stdout",
          "text": [
            "Type in something, and it will be repeated on screen: Halil\n",
            "Halil\n"
          ]
        }
      ]
    },
    {
      "cell_type": "markdown",
      "source": [
        "Say in the above program, you typed in `hello` when it asked you to type something in. To the computer, this program would look like this:\n",
        "\n",
        "```Python\n",
        "a = \"hello\"\n",
        "print(\"hello\")\n",
        "```"
      ],
      "metadata": {
        "id": "2bGrejWYm5Lb"
      }
    },
    {
      "cell_type": "markdown",
      "source": [
        "## Define Your Own Functions\n",
        "Well, it is all well and good that you can use other people's functions, but what if you want to write your own functions, to save time, and maybe use them in other programs? This is where the `def` operator comes in. (An operator is just something that tells Python what to do, e.g. the `+` operator tells Python to add things, the `if` operator tells Python to do something if conditions are met.)\n",
        "\n",
        "This is how the `def` operator works:\n",
        "\n",
        "```\n",
        "def function_name(parameter_1,parameter_2):\n",
        "    {this is the code in the function}\n",
        "    {more code}\n",
        "    {more code}\n",
        "    return {value to return to the main program}\n",
        "{this code isn't in the function}\n",
        "{because it isn't indented}\n",
        "#remember to put a colon \":\" at the end\n",
        "#of the line that starts with 'def'\n",
        "```\n"
      ],
      "metadata": {
        "id": "QA_Ci9K9nLMU"
      }
    },
    {
      "cell_type": "markdown",
      "source": [
        "`function_name` is the name of the function. You write the code that is in the function below that line, and have it indented. (We will worry about `parameter_1` and `parameter_2` later, for now imagine there is nothing between the parentheses.\n",
        "\n",
        "Functions run completely independent of the main program. Remember when I said that when the computer comes to a function, it doesn't see the function, but a value, that the function returns? Here's the quote:\n",
        "\n",
        "To the computer, the variable 'a' doesn't look like 'a' - it looks like the value that is stored inside it. Functions are similar - to the main program (that is, the program that is running the function), they look like the value of what they give in return of running."
      ],
      "metadata": {
        "id": "Ni7w8PB1nQmE"
      }
    },
    {
      "cell_type": "markdown",
      "source": [
        "A function is like a miniature program that some parameters are given to - it then runs itself, and then returns a value. Your main program sees only the returned value. If that function flew to the moon and back, and then at the end had:\n",
        "\n",
        "`return \"hello\"`\n",
        "\n",
        "then all your program would see is the string `\"hello\"`, where the name of the function was. It would have no idea what else the program did.\n",
        "\n",
        "Because it is a separate program, a function doesn't see any of the variables that are in your main program, and your main program doesn't see any of the variables that are in a function. For example, here is a function that prints the words `\"hello\"` onscreen, and then returns the number `'1234'` to the main program:"
      ],
      "metadata": {
        "id": "1fAG_izlnU03"
      }
    },
    {
      "cell_type": "code",
      "source": [
        "# Below is the function\n",
        "def hello():\n",
        "    print(\"hello\")\n",
        "    return 1234\n",
        "\n",
        "# And here is the function being used\n",
        "print(hello())"
      ],
      "metadata": {
        "id": "nO-oCwICnZ_a"
      },
      "execution_count": null,
      "outputs": []
    },
    {
      "cell_type": "markdown",
      "source": [
        "So what happened?\n",
        "1.\twhen `def hello()` was run, a function called `hello` was created\n",
        "2.\tWhen the line `print(hello())` was run, the function `hello` was executed (The code inside it was run)\n",
        "3.\tThe function `hello` printed `\"hello\"` onscreen, then returned the number `1234` back to the main program\n",
        "4.\tThe main program now sees the line as `print(\"1234\")` and as a result, printed `1234`"
      ],
      "metadata": {
        "id": "voKnbeOqnlM0"
      }
    },
    {
      "cell_type": "markdown",
      "source": [
        "That accounts for everything that happened. Remember, that the main program had NO IDEA that the words `hello` were printed onscreen. All it saw was `1234`, and printed that onscreen."
      ],
      "metadata": {
        "id": "znwavaFUnsP7"
      }
    },
    {
      "cell_type": "markdown",
      "source": [
        "## Passing Parameters to functions\n",
        "There is one more thing we will cover in this (monstrously huge) lesson - passing parameters to a function. Think back to how we defined functions:<br>\n",
        "```\n",
        "def function_name(parameter_1,parameter_2):\n",
        "    {this is the code in the function}\n",
        "    {more code}\n",
        "    {more code}\n",
        "    return {value (e.g. text or number) to return to the main program}\n",
        "```\n",
        "\n",
        "Where `parameter_1` and `parameter_2` are (between the parentheses), you put the names of variables that you want to put the parameters into. Put as many as you need, just have them seperated by commas. When you run a function, the first value you put inside the parentheses would go into the variable where `parameter_1` is. The second one (after the first comma) would go to the variable where `parameter_2` is. This goes on for however many parameters there are in the function (from zero, to the sky). For example:"
      ],
      "metadata": {
        "id": "HOOzV8Nanw_u"
      }
    },
    {
      "cell_type": "code",
      "source": [
        "def funnyfunction(first_word,second_word,third_word):\n",
        "    print(\"The word created is: \" + first_word + second_word + third_word)\n",
        "    return first_word + second_word + third_word"
      ],
      "metadata": {
        "id": "gdnculV3n08I"
      },
      "execution_count": null,
      "outputs": []
    },
    {
      "cell_type": "markdown",
      "source": [
        "When you run the function above, you would type in something like this: `funnyfunction(\"meat\",\"eater\",\"man\")`. The first value (that is, \"meat\") would be put into the variable called first_word. The second value inside the brackets (that is, \"eater\") would be put into the variable called second_word, and so on. This is how values are passed from the main program to functions - inside the parentheses, after the function name.\n",
        "\n",
        "Add a new line to the script above that invokes the function."
      ],
      "metadata": {
        "id": "HwLOYqZJn6pl"
      }
    },
    {
      "cell_type": "markdown",
      "source": [
        "Let's write a function which average two numbers. Please use the cell below:"
      ],
      "metadata": {
        "id": "JKpP_tVen708"
      }
    },
    {
      "cell_type": "code",
      "source": [
        "#please define your function\n",
        "def average(num1, num2):\n",
        "    return (num1+num2)/2\n",
        "\n",
        "print(average(3,5))"
      ],
      "metadata": {
        "id": "eN9Sz2qloDfj",
        "colab": {
          "base_uri": "https://localhost:8080/"
        },
        "outputId": "14609e12-ab1c-4a20-b21c-0fbf6cfcfeb1"
      },
      "execution_count": null,
      "outputs": [
        {
          "output_type": "stream",
          "name": "stdout",
          "text": [
            "4.0\n"
          ]
        }
      ]
    },
    {
      "cell_type": "markdown",
      "source": [
        "## Tricky Ways You Can Pass Parameters\n",
        "Finally, as a bit of an interlude, I will explain what the line `add(eval(input(\"Add this: \")),eval(input(\"to this: \")))` means.\n",
        "\n",
        "I wanted to fit everything onto one line, with as few variables as possible. Remember what functions look like to the main program? Whatever value they return. If the numbers you passed to the add() function were 2 and 30, the main program would see this:\n",
        "\n",
        "`add(2,30)`\n",
        "\n",
        "The add program would then run, adding 2 and 30, then printing the result. The add program has no `return` operator - it doesn't return anything to the main program. It simply adds two numbers and prints them onscreen, and the main program doesn't see anything of it.\n",
        "\n",
        "Instead of `(eval(input(\"Add this: \")),eval(input(\"to this: \")))` as the parameters for the add program you could have variables. E.g.\n",
        "\n",
        "```\n",
        "num1 = 45\n",
        "num2 = 7\n",
        "add(num1,num2)\n",
        "```\n",
        "\n",
        "For the above, remember that the function you are passing the variables to cannot change the variables themselves - they are simply used as values. You could even put the values straight into the function:\n",
        "\n",
        "`add(45,7)`\n",
        "\n",
        "This is because the only thing the function sees are the values that are passed on as parameters. Those values are put into the variables that are mentioned when `add` is defined (the line `def add(a,b)`). The function then uses those parameters to do its job.\n",
        "\n",
        "In short:\n",
        "* The only thing functions see of the main program is the parameters that are passed to it\n",
        "* The only thing the main program sees of functions is the returned value that it passes back"
      ],
      "metadata": {
        "id": "G3dnZGxQo0lD"
      }
    },
    {
      "cell_type": "code",
      "source": [
        "average(eval(input(\"Add this: \")),eval(input(\"to this: \")))"
      ],
      "metadata": {
        "colab": {
          "base_uri": "https://localhost:8080/"
        },
        "id": "e8WtD8mvXCnm",
        "outputId": "704c22ed-6a89-4e3c-935d-4007a8366cf8"
      },
      "execution_count": null,
      "outputs": [
        {
          "name": "stdout",
          "output_type": "stream",
          "text": [
            "Add this: 4\n",
            "to this: 8\n"
          ]
        },
        {
          "output_type": "execute_result",
          "data": {
            "text/plain": [
              "6.0"
            ]
          },
          "metadata": {},
          "execution_count": 33
        }
      ]
    },
    {
      "cell_type": "markdown",
      "source": [
        "# Tuples, Lists, and Dictionaries\n",
        "## Introduction\n",
        "Think about it - variables store one bit of information. They may regurgitate (just not on the carpet...) that information at any point, and their bit of information can be changed at any time. Variables are great at what they do - storing a piece of information that may change over time.\n",
        "\n",
        "But what if you need to store a long list of information, which doesn't change over time? Say, for example, the names of the months of the year. Or maybe a long list of information that does change over time? Say, for example, the names of all your cats. You might get new cats, some may die, some may become your dinner (we should trade recipies!). What about a phone book? For that you need to do a bit of referencing - you would have a list of names, and attached to each of those names, a phone number. How would you do that?"
      ],
      "metadata": {
        "id": "pNLfvsmxpK9m"
      }
    },
    {
      "cell_type": "markdown",
      "source": [
        "## The Solution - Lists, Tuples, and Dictionaries\n",
        "For these three problems, Python uses three different solutions - Tuples, Lists, and Dictionaries:\n",
        "* **Tuples** are just like lists, but you can't change their values. The values that you give it first up, are the values that you are stuck with for the rest of the program. Again, each value is numbered starting from zero, for easy reference. Example: the names of the months of the year.\n",
        "\n",
        "* **Lists** are what they seem - a list of values. Each one of them is numbered, starting from zero - the first one is numbered zero, the second 1, the third 2, etc. You can remove values from the list, and add new values to the end. Example: Your many cats' names.\n",
        "\n",
        "* **Dictionaries** are similar to what their name suggests - a dictionary. In a dictionary, you have an 'index' of words, and for each of them a definition. In Python, the word is called a 'key', and the definition a 'value'. The values in a dictionary aren't numbered - they aren't in any specific order, either - the key does the same thing. You can add, remove, and modify the values in dictionaries. Example: telephone book."
      ],
      "metadata": {
        "id": "KEIYqObKpWRF"
      }
    },
    {
      "cell_type": "markdown",
      "source": [
        "### Tuples\n",
        "Tuples are pretty easy to make. You give your tuple a name, then after that the list of values it will carry. For example, the months of the year:"
      ],
      "metadata": {
        "id": "zim-DY3ipkTP"
      }
    },
    {
      "cell_type": "code",
      "source": [
        "months = ('January','February','March','April','May','June',\\\n",
        "'July','August','September','October','November','  December')\n",
        "months[0]"
      ],
      "metadata": {
        "id": "6o84Kx8lpwLR",
        "colab": {
          "base_uri": "https://localhost:8080/",
          "height": 35
        },
        "outputId": "b2449182-fd60-4a37-af41-addf24756834"
      },
      "execution_count": null,
      "outputs": [
        {
          "output_type": "execute_result",
          "data": {
            "application/vnd.google.colaboratory.intrinsic+json": {
              "type": "string"
            },
            "text/plain": [
              "'January'"
            ]
          },
          "metadata": {},
          "execution_count": 35
        }
      ]
    },
    {
      "cell_type": "markdown",
      "source": [
        "* Note that the `\\` thingy at the end of the first line carries over that line of code to the next line. It is useful way of making big lines more readable.\n",
        "* Technically you don't have to put those parentheses there (the `(` and `)` thingies) but it stops Python from getting things confused.\n",
        "* You may have spaces after the commas if you feel it necessary - it doesn't really matter"
      ],
      "metadata": {
        "id": "so-iaizCprus"
      }
    },
    {
      "cell_type": "markdown",
      "source": [
        "Python then organises those values in a handy, numbered index - starting from zero, in the order that you entered them in. It would be organised like this:<br>\n",
        "\n",
        "| Index | Value |\n",
        "| :---: | :---: |\n",
        "| 0 | January |\n",
        "| 1 | February |\n",
        "| 2 | March |\n",
        "| 3 | April |\n",
        "| 4 | May |\n",
        "| 5 | June |\n",
        "| 6 | July |\n",
        "| 7 | August |\n",
        "| 8 | September |\n",
        "| 9 | October |\n",
        "| 10 | November |\n",
        "| 11 | December |\n",
        "And that is tuples! Really easy..."
      ],
      "metadata": {
        "id": "3_CHcZolp1v9"
      }
    },
    {
      "cell_type": "markdown",
      "source": [
        "### Lists\n",
        "Lists are extremely similar to tuples. Lists are modifiable (or 'mutable', as a programmer may say), so their values can be changed. Most of the time we use lists, not tuples, because we want to easily change the values of things if we need to.\n",
        "\n",
        "Lists are defined very similarly to tuples. Say you have FIVE cats, called Tom, Snappy, Kitty, Jessie and Chester. To put them in a list, you would do this:<br>"
      ],
      "metadata": {
        "id": "ertX6G2kqOGh"
      }
    },
    {
      "cell_type": "code",
      "source": [
        "cats = ['Tom', 'Snappy', 'Kitty', 'Jessie', 'Chester']"
      ],
      "metadata": {
        "id": "hhC1zzz5qXjl"
      },
      "execution_count": null,
      "outputs": []
    },
    {
      "cell_type": "markdown",
      "source": [
        "As you see, the code is exactly the same as a tuple, EXCEPT that all the values are put between square brackets, not parentheses. Again, you don't have to have spaces after the comma.\n",
        "\n",
        "You recall values from lists exactly the same as you do with tuples. For example, to print the name of your 3rd cat you would do this:"
      ],
      "metadata": {
        "id": "xjnE98JcqdKn"
      }
    },
    {
      "cell_type": "code",
      "source": [
        "print(cats[2])"
      ],
      "metadata": {
        "id": "E-dGC5VyqsgJ",
        "colab": {
          "base_uri": "https://localhost:8080/"
        },
        "outputId": "5a3310b5-7046-48fd-8fbf-7c45636dd524"
      },
      "execution_count": null,
      "outputs": [
        {
          "output_type": "stream",
          "name": "stdout",
          "text": [
            "Kitty\n"
          ]
        }
      ]
    },
    {
      "cell_type": "markdown",
      "source": [
        "You can also recall a range of examples, like above, for example - `cats[0:2]` would recall your 1st and 2nd cats. Try it in the field above.\n",
        "\n",
        "Where lists come into their own is how they can be modified. To add a value to a list, you use the `append()` function. Let's say you got a new cat called Catherine. To add her to the list you'd do this:"
      ],
      "metadata": {
        "id": "c2UrtI0Kqta_"
      }
    },
    {
      "cell_type": "code",
      "source": [
        "cats.append('Catherine')\n",
        "cats.append('Daisy')\n",
        "print(cats)"
      ],
      "metadata": {
        "id": "FW9MZY0HqzCy",
        "colab": {
          "base_uri": "https://localhost:8080/"
        },
        "outputId": "e47a25f9-eb9b-44ef-a38b-a284b5468253"
      },
      "execution_count": null,
      "outputs": [
        {
          "output_type": "stream",
          "name": "stdout",
          "text": [
            "['Tom', 'Snappy', 'Kitty', 'Jessie', 'Chester', 'Catherine', 'Daisy']\n"
          ]
        }
      ]
    },
    {
      "cell_type": "code",
      "source": [
        "#Remove your 2nd cat, Snappy. Woe is you.\n",
        "del cats[1]\n",
        "print(cats)"
      ],
      "metadata": {
        "id": "-ghpAOw_q-WJ",
        "colab": {
          "base_uri": "https://localhost:8080/"
        },
        "outputId": "2cd15a7f-9efb-4d0b-b274-ad542fd2cdb8"
      },
      "execution_count": null,
      "outputs": [
        {
          "output_type": "stream",
          "name": "stdout",
          "text": [
            "['Tom', 'Kitty', 'Jessie', 'Chester', 'Catherine', 'Daisy']\n"
          ]
        }
      ]
    },
    {
      "cell_type": "markdown",
      "source": [
        "# A quick interruption - For Loop\n",
        "\n",
        "## The `for` Loop\n",
        "Basically, the `for` loop does something for every value in a list. The way it is set out is a little confusing, but otherwise is very basic. Here is an example of it in code:"
      ],
      "metadata": {
        "id": "Zj1mI85RvVr3"
      }
    },
    {
      "cell_type": "code",
      "source": [
        "# Example 'for' loop\n",
        "# First, create a list to loop through:\n",
        "newList = [45, 'eat me', 90210, \"The day has come, the walrus said, \\\n",
        "to speak of many things\", -67]\n",
        "\n",
        "for i in range(5):\n",
        "    print(cats[i])\n",
        "\n",
        "# create the loop:\n",
        "# Goes through newList, and sequentially puts each bit of information\n",
        "# into the variable value, and runs the loop\n",
        "for value in newList:\n",
        "    print(value)"
      ],
      "metadata": {
        "id": "vnTOgsC6wOLj",
        "colab": {
          "base_uri": "https://localhost:8080/"
        },
        "outputId": "3729472b-47fd-44a2-cb24-85f297508e61"
      },
      "execution_count": null,
      "outputs": [
        {
          "output_type": "stream",
          "name": "stdout",
          "text": [
            "Tom\n",
            "Kitty\n",
            "Jessie\n",
            "Chester\n",
            "Catherine\n",
            "45\n",
            "eat me\n",
            "90210\n",
            "The day has come, the walrus said, to speak of many things\n",
            "-67\n"
          ]
        }
      ]
    },
    {
      "cell_type": "markdown",
      "source": [
        "As you see, when the loop executes, it runs through all of the values in the list mentioned after `in`. It then puts them into `value`, and executes through the loop, each time with value being worth something different. Let's see it again, in a classic cheerleading call that we all know:"
      ],
      "metadata": {
        "id": "44-ZN66swSbI"
      }
    },
    {
      "cell_type": "code",
      "source": [
        "# cheerleading program\n",
        "word = input(\"Who do you go for? \")\n",
        "\n",
        "for letter in word:\n",
        "    call = \"Gimme a \" + letter + \"!\"\n",
        "    print(call)\n",
        "    print(letter + \"!\")\n",
        "\n",
        "print(\"What does that spell?\")\n",
        "print(word + \"!\")\n",
        "\n",
        "print(word[2])"
      ],
      "metadata": {
        "id": "tTgjoESlwRe1",
        "colab": {
          "base_uri": "https://localhost:8080/"
        },
        "outputId": "8d7d912e-7f2b-4e08-c0a2-2bc76a937911"
      },
      "execution_count": null,
      "outputs": [
        {
          "output_type": "stream",
          "name": "stdout",
          "text": [
            "Who do you go for? UMFLINT\n",
            "Gimme a U!\n",
            "U!\n",
            "Gimme a M!\n",
            "M!\n",
            "Gimme a F!\n",
            "F!\n",
            "Gimme a L!\n",
            "L!\n",
            "Gimme a I!\n",
            "I!\n",
            "Gimme a N!\n",
            "N!\n",
            "Gimme a T!\n",
            "T!\n",
            "What does that spell?\n",
            "UMFLINT!\n",
            "F\n"
          ]
        }
      ]
    },
    {
      "cell_type": "markdown",
      "source": [
        "A couple of things you've just learnt:\n",
        "* As you see, strings (remember - strings are lines of text) are just lists with lots of characters.\n",
        "* The program went through each of the letters (or values) in word, and it printed them onscreen.<br>"
      ],
      "metadata": {
        "id": "A3okIamPwbxQ"
      }
    },
    {
      "cell_type": "markdown",
      "source": [
        "### Dictionaries\n",
        "Okay, so there is more to life than the names of your cats. You need to call your sister, mother, son, the fruit man, and anyone else who needs to know that their favourite cat is dead. For that you need a telephone book.\n",
        "\n",
        "Now, the lists we've used above aren't really suitable for a telephone book. You need to know a number based on someone's name - not the other way around, like what we did with the cats. In the examples of months and cats, we gave the computer a number, and it gave us a name. This time we want to give the computer a name, and it gives us a number. For this we need *Dictionaries*.\n",
        "\n",
        "So how do we make a dictionary? Put away your binding equipment, it isn't that advanced.\n",
        "Remember, dictionaries have keys, and values. In a phone book, you have people's names, then their numbers. See a similarity?\n",
        "\n",
        "When you initially create a dictionary, it is very much like making a tuple or list. Tuples have `(` and `)` things, lists have `[` and `]` things. Guess what! Dictionaries have `{` and `}` things - curly braces. Here is an example below, showing a dictionary with four phone numbers in it:"
      ],
      "metadata": {
        "id": "ZjcnYeXcrKEG"
      }
    },
    {
      "cell_type": "code",
      "source": [
        "#Make the phone book:\n",
        "# da = {k1:v1, k2:v2, k3:v3}, da[0]-wrong, d[k1]\n",
        "phonebook = {'Andrew Parson':8806336, \\\n",
        "'Emily Everett':6784346, 'Peter Power':7658344, \\\n",
        "'Lewis Lame':1122345}\n",
        "\n",
        "print(phonebook['Lewis Lame']) #when accessing I use [ ]\n",
        "\n",
        "phonebook['Lewis Lame'] = 8107623374\n",
        "\n",
        "\n",
        "print(phonebook['Lewis Lame']) #when accessing I use [ ]\n",
        "\n"
      ],
      "metadata": {
        "colab": {
          "base_uri": "https://localhost:8080/"
        },
        "id": "8hchNaCpswav",
        "outputId": "113c26ba-3d58-4fb3-b8cb-289f6a9136cf"
      },
      "execution_count": null,
      "outputs": [
        {
          "output_type": "stream",
          "name": "stdout",
          "text": [
            "1122345\n",
            "8107623374\n"
          ]
        }
      ]
    },
    {
      "cell_type": "markdown",
      "source": [
        "When you run it you see that Lewis Lame's number is printed onscreen. Notice how instead of identifying the value by a number, like in the cats and months examples, we identify the value, using another value - in this case the person's name.\n",
        "\n",
        "Ok, you've created a new phone book. Now you want to add new numbers to the book. What do you do? A very simple line of code:"
      ],
      "metadata": {
        "id": "ROKsyMzBszzm"
      }
    },
    {
      "cell_type": "code",
      "source": [
        "#Add the person 'Gingerbread Man' to the phonebook:\n",
        "\n",
        "phonebook['Gingerbread Man'] = 1234567\n",
        "\n",
        "# Didn't think I would give you\n",
        "# my real number now, would I?"
      ],
      "metadata": {
        "id": "bznUTwbUs20V"
      },
      "execution_count": null,
      "outputs": []
    },
    {
      "cell_type": "code",
      "source": [
        "#check the content\n",
        "for key, value in phonebook.items():\n",
        "    print(key, value)"
      ],
      "metadata": {
        "id": "VmbiBQ0StKyc",
        "colab": {
          "base_uri": "https://localhost:8080/"
        },
        "outputId": "8bbf5bf8-3bd3-4a1c-f969-1c3f50b324b4"
      },
      "execution_count": null,
      "outputs": [
        {
          "output_type": "stream",
          "name": "stdout",
          "text": [
            "Andrew Parson 8806336\n",
            "Emily Everett 6784346\n",
            "Peter Power 7658344\n",
            "Lewis Lame 8107623374\n",
            "Gingerbread Man 1234567\n"
          ]
        }
      ]
    },
    {
      "cell_type": "markdown",
      "source": [
        "You delete entries in a dictionary just like in a list. Let's say Andrew Parson is your neighbour, and shot your cat. You never want to talk to him again, and therefore don't need his number. Just like in a list, you'd do this:"
      ],
      "metadata": {
        "id": "g7uBw2n5tAYh"
      }
    },
    {
      "cell_type": "code",
      "source": [
        "del phonebook['Andrew Parson']"
      ],
      "metadata": {
        "id": "2W_RGikltBsM"
      },
      "execution_count": null,
      "outputs": []
    },
    {
      "cell_type": "markdown",
      "source": [
        "Remember that append function that we used with the list? Well, there are quite a few of those that can be used with dictionaries. Below, I will write you a program, and it will incorporate some of those functions in. It will have comments along the way explaining what it does. Experiment as much as you like with it."
      ],
      "metadata": {
        "id": "1QQV4Navtz_h"
      }
    },
    {
      "cell_type": "code",
      "source": [
        "#A few examples of a dictionary\n",
        "\n",
        "#First we define the dictionary\n",
        "#it will have nothing in it this time\n",
        "ages = {} #how to create an empty string\n",
        "\n",
        "salaries = [] #this would become a list\n",
        "\n",
        "#Add a couple of names to the dictionary\n",
        "ages['Sue'] = 23\n",
        "ages['Peter'] = 19\n",
        "ages['Andrew'] = 78\n",
        "ages['Karren'] = 45\n",
        "\n",
        "#Use an 'if' statement to find a key in the list.\n",
        "#Remember - this is how 'if' statements work -\n",
        "#they run if something is true\n",
        "#and they don't when something is false.\n",
        "if 'Sue' in ages:\n",
        "    print(\"Sue is in the dictionary. She is\", \\\n",
        "ages['Sue'], \"years old\")\n",
        "\n",
        "else:\n",
        "    print(\"Sue is not in the dictionary\")\n",
        "\n",
        "#Use the function keys() -\n",
        "#This function returns a list\n",
        "#of all the names of the keys.\n",
        "#E.g.\n",
        "print(\"The following people are in the dictionary:\")\n",
        "print(ages.keys())\n",
        "\n",
        "#You could use this function to\n",
        "#put all the key names in a list:\n",
        "keys = ages.keys()\n",
        "\n",
        "#You can also get a list\n",
        "#of all the values in a dictionary.\n",
        "#You use the values() function:\n",
        "print(\"People are aged the following:\", \\\n",
        "ages.values())\n",
        "\n",
        "#Put it in a list:\n",
        "values = ages.values()\n",
        "\n",
        "#You can sort lists, with the sorted() function\n",
        "#It will sort all values in a list\n",
        "#alphabetically, numerically, etc...\n",
        "#You can't sort dictionaries -\n",
        "#they are in no particular order\n",
        "print(keys)\n",
        "sortedkeys = sorted(keys)\n",
        "print(sortedkeys)\n",
        "\n",
        "print(values)\n",
        "sortedvalues = sorted(values)\n",
        "print(sortedvalues)\n",
        "\n",
        "#You can find the number of entries\n",
        "#with the len() function:\n",
        "print(\"The dictionary has\", \\\n",
        "len(ages), \"entries in it\")"
      ],
      "metadata": {
        "id": "nGa7Xv3itvht",
        "colab": {
          "base_uri": "https://localhost:8080/"
        },
        "outputId": "6751e8dc-9dc1-4409-98b5-38f5d8f56329"
      },
      "execution_count": null,
      "outputs": [
        {
          "output_type": "stream",
          "name": "stdout",
          "text": [
            "Sue is in the dictionary. She is 23 years old\n",
            "The following people are in the dictionary:\n",
            "dict_keys(['Sue', 'Peter', 'Andrew', 'Karren'])\n",
            "People are aged the following: dict_values([23, 19, 78, 45])\n",
            "dict_keys(['Sue', 'Peter', 'Andrew', 'Karren'])\n",
            "['Andrew', 'Karren', 'Peter', 'Sue']\n",
            "dict_values([23, 19, 78, 45])\n",
            "[19, 23, 45, 78]\n",
            "The dictionary has 4 entries in it\n"
          ]
        }
      ]
    },
    {
      "cell_type": "markdown",
      "source": [
        "# Modules\n",
        "## Introduction\n",
        "(You can also define classes in Python, but to create a moduble you don't have to have classes)\n",
        "\n",
        "As you may know, classes are neat combinations of variables and functions in a nice, neat package. Programming lingo calls this feature encapsulation, but regardless of what it is called, it's a really cool feature for keeping things together so the code can be used in many instances in lots of places. Of course, you've got to ask, \"how do I get my classes to many places, in many programs?\". The answer is to put them into a module, to be imported into other programs."
      ],
      "metadata": {
        "id": "wtP4JUoFxbMU"
      }
    },
    {
      "cell_type": "markdown",
      "source": [
        "## Module? What's a Module?\n",
        "A module is a Python file that (generally) has only definitions of variables, functions, and classes. For example, a module might look like this, which we store in a file `moduletest.py`:\n",
        "```Python\n",
        "### EXAMPLE PYTHON MODULE\n",
        "# Define some variables:\n",
        "numberone = 1\n",
        "ageofqueen = 78\n",
        "\n",
        "# define some functions\n",
        "def printhello():\n",
        "    print(\"hello\")\n",
        "    \n",
        "def timesfour(input):\n",
        "    print(eval(input) * 4)\n",
        "    \n",
        "# define a class\n",
        "class Piano:\n",
        "    def __init__(self):\n",
        "        self.type = input(\"What type of piano? \")\n",
        "        self.height = input(\"What height (in feet)? \")\n",
        "        self.price = input(\"How much did it cost? \")\n",
        "        self.age = input(\"How old is it (in years)? \")\n",
        "\n",
        "    def printdetails(self):\n",
        "        print(\"This piano is a/an \" + self.height + \" foot\", end=\" \")\n",
        "        print(self.type, \"piano, \" + self.age, \"years old and costing\\\n",
        "         \" + self.price + \" dollars.\")\n",
        "```\n",
        "\n",
        "As you see, a module looks pretty much like your normal Python program.\n",
        "\n",
        "So what do we do with a module? We `import` bits of it (or all of it) into other programs.\n",
        "\n",
        "To import all the variables, functions and classes from `moduletest.py` into another program you are writing, we use the `import` operator. For example, to import `moduletest.py` into your main program (`mainprogram.py`), you would have this:\n",
        "\n",
        "```Python\n",
        "### mainprogam.py\n",
        "### IMPORTS ANOTHER MODULE\n",
        "import moduletest\n",
        "```\n",
        "\n",
        "This assumes that the module is in the same directory as `mainprogram.py`, or is a default module that comes with Python. You leave out the `.py` at the end of the file name - it is ignored. You normally put all `import` statements at the beginning of the Python file, but technically they can be anywhere. In order to use the items in the module in your main program, you use the following:\n",
        "\n",
        "```Python\n",
        "### USING AN IMPORTED MODULE\n",
        "# Use the form modulename.itemname\n",
        "# Examples:\n",
        "print(moduletest.ageofqueen)\n",
        "cfcpiano = moduletest.Piano()\n",
        "cfcpiano.printdetails()\n",
        "```\n",
        "\n",
        "As you see, the modules that you import act very much like the classes  - anything inside them must be preceded with `modulename.` for it to work."
      ],
      "metadata": {
        "id": "Plr5et12xxXI"
      }
    },
    {
      "cell_type": "markdown",
      "source": [
        "## More module thingummyjigs (in lack of a better title)\n",
        "Wish you could get rid of the `modulename.` part that you have to put before every item you use from a module? No? Never?\n",
        "\n",
        "One way to avoid this hassle is to import only the wanted objects from the module. To do this, you use the `from` operator. You use it in the form of `from modulename import itemname`. Here is an example:\n",
        "\n",
        "```Python\n",
        "### IMPORT ITEMS DIRECTLY INTO YOUR PROGRAM\n",
        "\n",
        "# import them\n",
        "from moduletest import ageofqueen\n",
        "from moduletest import printhello\n",
        "\n",
        "# now try using them\n",
        "print(ageofqueen)\n",
        "printhello()\n",
        "```\n",
        "\n",
        "What is the point of this? Well, maybe you could use it to make your code a little more readable. If we get into heaps of modules inside modules, it could also remove that extra layer of crypticness.\n",
        "\n",
        "If you wanted to, you could import everything from a module in this way by using `from modulename import *`. Of course, this can be troublesome if there are objects in your program with the same name as some items in the module. With large modules, this can easily happen, and can cause many a headache. A better way to do this would be to import a module in the normal way (without the `from` operator) and then assign items to a local name:\n",
        "\n",
        "```Python\n",
        "### ASSIGNING ITEMS TO A LOCAL NAME\n",
        "\n",
        "# Assigning to a local name\n",
        "timesfour = moduletest.timesfour\n",
        "\n",
        "# Using the local name\n",
        "print(timesfour(565))\n",
        "```\n",
        "\n",
        "This way, you can remove some crypticness, AND have all of the items from a certain module.\n",
        "\n",
        "A final handy way to import modules is with an alias. Maybe you want to change a name because you've already used the same name for something else in your program, another module you imported uses the same name, or maybe you want to abbreviate a longer name that you use a lot. We can then use the `as` operator. That looks like this:\n",
        "\n",
        "```Python\n",
        "### IMPORT A MODULE WITH AN ALIAS\n",
        "# import module\n",
        "import moduletest as mt\n",
        "\n",
        "# use module\n",
        "print(mt.age)\n",
        "cfcpiano = mt.Piano()\n",
        "cfcpiano.printdetails()\n",
        "```\n",
        "\n",
        "Can you import pandas and numpy? Please consider using aliases, pd and np"
      ],
      "metadata": {
        "id": "eR1_w-qUyfjp"
      }
    },
    {
      "cell_type": "code",
      "source": [
        "#please import pandas and numpy here\n",
        "import pandas as pd\n",
        "import numpy as np\n",
        "#pd.read_csv()"
      ],
      "metadata": {
        "id": "DmWs02WAy7Lm"
      },
      "execution_count": null,
      "outputs": []
    },
    {
      "cell_type": "markdown",
      "source": [
        "#File I/O\n",
        "\n",
        "## Opening a file\n",
        "To open a text file you use, well, the `open()` function. Seems sensible. You pass certain parameters to `open()` to tell it in which way the file should be opened - `r` for read only, `w` for writing only (if there is an old file, it will be written over), `a` for appending (adding things on to the end of the file) and `r+` for both reading and writing. But less talk, let's open a file for reading (you can do this in Spyder later in the course). Open a normal text file. We will then print out what we read inside the file:\n",
        "```Python\n",
        "filename = 'C:\\\\temp\\\\readme.txt' # path to file.\\ is an escape character, so you need 2 or use / instead.\n",
        "fl = open(filename, 'r') # Open the file\n",
        "for line in fl:\n",
        "    print(line)\n",
        "fl.close() #close the file\n",
        "```\n",
        "\n",
        "A better way to write this is:\n",
        "```Python\n",
        "filename = 'C:\\\\temp\\\\readme.txt'\n",
        "with open(filename, 'r') as fl:\n",
        "    for line in fl:\n",
        "        print(line)\n",
        "```\n",
        "\n",
        "With the second method you don't have to add `fl.close`, it is automagically closed.\n",
        "\n",
        "*Don't forget the indendation*"
      ],
      "metadata": {
        "id": "aTAiNxTQYNJq"
      }
    },
    {
      "cell_type": "code",
      "source": [
        "#let's read the titanic file\n",
        "filename = '/content/drive/MyDrive/DATA/titanic.csv'\n",
        "with open(filename, 'r') as fl:\n",
        "    for line in fl:\n",
        "        print(line)"
      ],
      "metadata": {
        "colab": {
          "base_uri": "https://localhost:8080/"
        },
        "id": "bobrCst-Ms6M",
        "outputId": "54abcd15-71f7-41cd-e709-d2f8723b49f3"
      },
      "execution_count": null,
      "outputs": [
        {
          "output_type": "stream",
          "name": "stdout",
          "text": [
            ",PassengerId,Survived,Pclass,Name,Sex,Age,SibSp,Parch,Ticket,Fare,Cabin,Embarked\n",
            "\n",
            "0,1,0,3,\"Braund, Mr. Owen Harris\",male,22.0,1,0,A/5 21171,7.25,,S\n",
            "\n",
            "1,2,1,1,\"Cumings, Mrs. John Bradley (Florence Briggs Thayer)\",female,38.0,1,0,PC 17599,71.2833,C85,C\n",
            "\n",
            "2,3,1,3,\"Heikkinen, Miss. Laina\",female,26.0,0,0,STON/O2. 3101282,7.925,,S\n",
            "\n",
            "3,4,1,1,\"Futrelle, Mrs. Jacques Heath (Lily May Peel)\",female,35.0,1,0,113803,53.1,C123,S\n",
            "\n",
            "4,5,0,3,\"Allen, Mr. William Henry\",male,35.0,0,0,373450,8.05,,S\n",
            "\n",
            "5,6,0,3,\"Moran, Mr. James\",male,,0,0,330877,8.4583,,Q\n",
            "\n",
            "6,7,0,1,\"McCarthy, Mr. Timothy J\",male,54.0,0,0,17463,51.8625,E46,S\n",
            "\n",
            "7,8,0,3,\"Palsson, Master. Gosta Leonard\",male,2.0,3,1,349909,21.075,,S\n",
            "\n",
            "8,9,1,3,\"Johnson, Mrs. Oscar W (Elisabeth Vilhelmina Berg)\",female,27.0,0,2,347742,11.1333,,S\n",
            "\n",
            "9,10,1,2,\"Nasser, Mrs. Nicholas (Adele Achem)\",female,14.0,1,0,237736,30.0708,,C\n",
            "\n",
            "10,11,1,3,\"Sandstrom, Miss. Marguerite Rut\",female,4.0,1,1,PP 9549,16.7,G6,S\n",
            "\n",
            "11,12,1,1,\"Bonnell, Miss. Elizabeth\",female,58.0,0,0,113783,26.55,C103,S\n",
            "\n",
            "12,13,0,3,\"Saundercock, Mr. William Henry\",male,20.0,0,0,A/5. 2151,8.05,,S\n",
            "\n",
            "13,14,0,3,\"Andersson, Mr. Anders Johan\",male,39.0,1,5,347082,31.275,,S\n",
            "\n",
            "14,15,0,3,\"Vestrom, Miss. Hulda Amanda Adolfina\",female,14.0,0,0,350406,7.8542,,S\n",
            "\n",
            "15,16,1,2,\"Hewlett, Mrs. (Mary D Kingcome) \",female,55.0,0,0,248706,16.0,,S\n",
            "\n",
            "16,17,0,3,\"Rice, Master. Eugene\",male,2.0,4,1,382652,29.125,,Q\n",
            "\n",
            "17,18,1,2,\"Williams, Mr. Charles Eugene\",male,,0,0,244373,13.0,,S\n",
            "\n",
            "18,19,0,3,\"Vander Planke, Mrs. Julius (Emelia Maria Vandemoortele)\",female,31.0,1,0,345763,18.0,,S\n",
            "\n",
            "19,20,1,3,\"Masselmani, Mrs. Fatima\",female,,0,0,2649,7.225,,C\n",
            "\n",
            "20,21,0,2,\"Fynney, Mr. Joseph J\",male,35.0,0,0,239865,26.0,,S\n",
            "\n",
            "21,22,1,2,\"Beesley, Mr. Lawrence\",male,34.0,0,0,248698,13.0,D56,S\n",
            "\n",
            "22,23,1,3,\"McGowan, Miss. Anna \"\"Annie\"\"\",female,15.0,0,0,330923,8.0292,,Q\n",
            "\n",
            "23,24,1,1,\"Sloper, Mr. William Thompson\",male,28.0,0,0,113788,35.5,A6,S\n",
            "\n",
            "24,25,0,3,\"Palsson, Miss. Torborg Danira\",female,8.0,3,1,349909,21.075,,S\n",
            "\n",
            "25,26,1,?,\"Asplund, Mrs. Carl Oscar (Selma Augusta Emilia Johansson)\",female,38.0,1,5,347077,31.3875,,S\n",
            "\n",
            "26,27,0,3,\"Emir, Mr. Farred Chehab\",male,,0,0,2631,7.225,,C\n",
            "\n",
            "27,28,0,1,\"Fortune, Mr. Charles Alexander\",male,19.0,3,2,19950,263.0,C23 C25 C27,S\n",
            "\n",
            "28,29,1,3,\"O'Dwyer, Miss. Ellen \"\"Nellie\"\"\",female,,0,0,330959,7.8792,,Q\n",
            "\n",
            "29,30,0,3,\"Todoroff, Mr. Lalio\",male,,0,0,349216,7.8958,,S\n",
            "\n",
            "30,31,0,1,\"Uruchurtu, Don. Manuel E\",male,40.0,0,0,PC 17601,27.7208,,C\n",
            "\n",
            "31,32,1,1,\"Spencer, Mrs. William Augustus (Marie Eugenie)\",female,,1,0,PC 17569,146.5208,B78,C\n",
            "\n",
            "32,33,1,3,\"Glynn, Miss. Mary Agatha\",female,,0,0,335677,7.75,,Q\n",
            "\n",
            "33,34,0,2,\"Wheadon, Mr. Edward H\",male,66.0,0,0,C.A. 24579,10.5,,S\n",
            "\n",
            "34,35,0,1,\"Meyer, Mr. Edgar Joseph\",male,28.0,1,0,PC 17604,82.1708,,C\n",
            "\n",
            "35,36,0,1,\"Holverson, Mr. Alexander Oskar\",male,42.0,1,0,113789,52.0,,S\n",
            "\n",
            "36,37,1,3,\"Mamee, Mr. Hanna\",male,,0,0,2677,7.2292,,C\n",
            "\n",
            "37,38,0,?,\"Cann, Mr. Ernest Charles\",male,21.0,0,0,A./5. 2152,8.05,,S\n",
            "\n",
            "38,39,0,3,\"Vander Planke, Miss. Augusta Maria\",female,18.0,2,0,345764,18.0,,S\n",
            "\n",
            "39,40,1,3,\"Nicola-Yarred, Miss. Jamila\",female,14.0,1,0,2651,11.2417,,C\n",
            "\n",
            "40,41,0,3,\"Ahlin, Mrs. Johan (Johanna Persdotter Larsson)\",female,40.0,1,0,7546,9.475,,S\n",
            "\n",
            "41,42,0,2,\"Turpin, Mrs. William John Robert (Dorothy Ann Wonnacott)\",female,27.0,1,0,11668,21.0,,S\n",
            "\n",
            "42,43,0,3,\"Kraeff, Mr. Theodor\",male,,0,0,349253,7.8958,,C\n",
            "\n",
            "43,44,1,2,\"Laroche, Miss. Simonne Marie Anne Andree\",female,3.0,1,2,SC/Paris 2123,41.5792,,C\n",
            "\n",
            "44,45,1,3,\"Devaney, Miss. Margaret Delia\",female,19.0,0,0,330958,7.8792,,Q\n",
            "\n",
            "45,46,0,3,\"Rogers, Mr. William John\",male,,0,0,S.C./A.4. 23567,8.05,,S\n",
            "\n",
            "46,47,0,3,\"Lennon, Mr. Denis\",male,,1,0,370371,15.5,,Q\n",
            "\n",
            "47,48,1,3,\"O'Driscoll, Miss. Bridget\",female,,0,0,14311,7.75,,Q\n",
            "\n",
            "48,49,0,3,\"Samaan, Mr. Youssef\",male,,2,0,2662,21.6792,,C\n",
            "\n",
            "49,50,0,3,\"Arnold-Franchi, Mrs. Josef (Josefine Franchi)\",female,18.0,1,0,349237,17.8,,S\n",
            "\n",
            "50,51,0,3,\"Panula, Master. Juha Niilo\",male,7.0,4,1,3101295,39.6875,,S\n",
            "\n",
            "51,52,0,3,\"Nosworthy, Mr. Richard Cater\",male,21.0,0,0,A/4. 39886,7.8,,S\n",
            "\n",
            "52,53,1,1,\"Harper, Mrs. Henry Sleeper (Myna Haxtun)\",female,49.0,1,0,PC 17572,76.7292,D33,C\n",
            "\n",
            "53,54,1,2,\"Faunthorpe, Mrs. Lizzie (Elizabeth Anne Wilkinson)\",female,29.0,1,0,2926,26.0,,S\n",
            "\n",
            "54,55,0,1,\"Ostby, Mr. Engelhart Cornelius\",male,65.0,0,1,113509,61.9792,B30,C\n",
            "\n",
            "55,56,1,1,\"Woolner, Mr. Hugh\",male,,0,0,19947,35.5,C52,S\n",
            "\n",
            "56,57,1,2,\"Rugg, Miss. Emily\",female,21.0,0,0,C.A. 31026,10.5,,S\n",
            "\n",
            "57,58,0,3,\"Novel, Mr. Mansouer\",male,28.5,0,0,2697,7.2292,,C\n",
            "\n",
            "58,59,1,2,\"West, Miss. Constance Mirium\",female,5.0,1,2,C.A. 34651,27.75,,S\n",
            "\n",
            "59,60,0,3,\"Goodwin, Master. William Frederick\",male,11.0,5,2,CA 2144,46.9,,S\n",
            "\n",
            "60,61,0,3,\"Sirayanian, Mr. Orsen\",male,22.0,0,0,2669,7.2292,,C\n",
            "\n",
            "61,62,1,?,\"Icard, Miss. Amelie\",female,38.0,0,0,113572,80.0,B28,\n",
            "\n",
            "62,63,0,1,\"Harris, Mr. Henry Birkhardt\",male,45.0,1,0,36973,83.475,C83,S\n",
            "\n",
            "63,64,0,3,\"Skoog, Master. Harald\",male,4.0,3,2,347088,27.9,,S\n",
            "\n",
            "64,65,0,1,\"Stewart, Mr. Albert A\",male,,0,0,PC 17605,27.7208,,C\n",
            "\n",
            "65,66,1,3,\"Moubarek, Master. Gerios\",male,,1,1,2661,15.2458,,C\n",
            "\n",
            "66,67,1,2,\"Nye, Mrs. (Elizabeth Ramell)\",female,29.0,0,0,C.A. 29395,10.5,F33,S\n",
            "\n",
            "67,68,0,3,\"Crease, Mr. Ernest James\",male,19.0,0,0,S.P. 3464,8.1583,,S\n",
            "\n",
            "68,69,1,3,\"Andersson, Miss. Erna Alexandra\",female,17.0,4,2,3101281,7.925,,S\n",
            "\n",
            "69,70,0,3,\"Kink, Mr. Vincenz\",male,26.0,2,0,315151,8.6625,,S\n",
            "\n",
            "70,71,0,2,\"Jenkin, Mr. Stephen Curnow\",male,32.0,0,0,C.A. 33111,10.5,,S\n",
            "\n",
            "71,72,0,3,\"Goodwin, Miss. Lillian Amy\",female,16.0,5,2,CA 2144,46.9,,S\n",
            "\n",
            "72,73,0,2,\"Hood, Mr. Ambrose Jr\",male,21.0,0,0,S.O.C. 14879,73.5,,S\n",
            "\n",
            "73,74,0,3,\"Chronopoulos, Mr. Apostolos\",male,26.0,1,0,2680,14.4542,,C\n",
            "\n",
            "74,75,1,3,\"Bing, Mr. Lee\",male,32.0,0,0,1601,56.4958,,S\n",
            "\n",
            "75,76,0,3,\"Moen, Mr. Sigurd Hansen\",male,25.0,0,0,348123,7.65,F G73,S\n",
            "\n",
            "76,77,0,3,\"Staneff, Mr. Ivan\",male,,0,0,349208,7.8958,,S\n",
            "\n",
            "77,78,0,3,\"Moutal, Mr. Rahamin Haim\",male,,0,0,374746,8.05,,S\n",
            "\n",
            "78,79,1,2,\"Caldwell, Master. Alden Gates\",male,0.83,0,2,248738,29.0,,S\n",
            "\n",
            "79,80,1,3,\"Dowdell, Miss. Elizabeth\",female,30.0,0,0,364516,12.475,,S\n",
            "\n",
            "80,81,0,?,\"Waelens, Mr. Achille\",male,22.0,0,0,345767,9.0,,S\n",
            "\n",
            "81,82,1,3,\"Sheerlinck, Mr. Jan Baptist\",male,29.0,0,0,345779,9.5,,S\n",
            "\n",
            "82,83,1,3,\"McDermott, Miss. Brigdet Delia\",female,,0,0,330932,7.7875,,Q\n",
            "\n",
            "83,84,0,1,\"Carrau, Mr. Francisco M\",male,28.0,0,0,113059,47.1,,S\n",
            "\n",
            "84,85,1,2,\"Ilett, Miss. Bertha\",female,17.0,0,0,SO/C 14885,10.5,,S\n",
            "\n",
            "85,86,1,3,\"Backstrom, Mrs. Karl Alfred (Maria Mathilda Gustafsson)\",female,33.0,3,0,3101278,15.85,,S\n",
            "\n",
            "86,87,0,3,\"Ford, Mr. William Neal\",male,16.0,1,3,W./C. 6608,34.375,,S\n",
            "\n",
            "87,88,0,3,\"Slocovski, Mr. Selman Francis\",male,,0,0,SOTON/OQ 392086,8.05,,S\n",
            "\n",
            "88,89,1,1,\"Fortune, Miss. Mabel Helen\",female,23.0,3,2,19950,263.0,C23 C25 C27,S\n",
            "\n",
            "89,90,0,3,\"Celotti, Mr. Francesco\",male,24.0,0,0,343275,8.05,,S\n",
            "\n",
            "90,91,0,3,\"Christmann, Mr. Emil\",male,29.0,0,0,343276,8.05,,S\n",
            "\n",
            "91,92,0,3,\"Andreasson, Mr. Paul Edvin\",male,20.0,0,0,347466,7.8542,,S\n",
            "\n",
            "92,93,0,1,\"Chaffee, Mr. Herbert Fuller\",male,46.0,1,0,W.E.P. 5734,61.175,E31,S\n",
            "\n",
            "93,94,0,3,\"Dean, Mr. Bertram Frank\",male,26.0,1,2,C.A. 2315,20.575,,S\n",
            "\n",
            "94,95,0,3,\"Coxon, Mr. Daniel\",male,59.0,0,0,364500,7.25,,S\n",
            "\n",
            "95,96,0,3,\"Shorney, Mr. Charles Joseph\",male,,0,0,374910,8.05,,S\n",
            "\n",
            "96,97,0,1,\"Goldschmidt, Mr. George B\",male,71.0,0,0,PC 17754,34.6542,A5,C\n",
            "\n",
            "97,98,1,1,\"Greenfield, Mr. William Bertram\",male,23.0,0,1,PC 17759,63.3583,D10 D12,C\n",
            "\n",
            "98,99,1,2,\"Doling, Mrs. John T (Ada Julia Bone)\",female,34.0,0,1,231919,23.0,,S\n",
            "\n",
            "99,100,0,2,\"Kantor, Mr. Sinai\",male,34.0,1,0,244367,26.0,,S\n",
            "\n",
            "100,101,0,3,\"Petranec, Miss. Matilda\",female,28.0,0,0,349245,7.8958,,S\n",
            "\n",
            "101,102,0,3,\"Petroff, Mr. Pastcho (\"\"Pentcho\"\")\",male,,0,0,349215,7.8958,,S\n",
            "\n",
            "102,103,0,1,\"White, Mr. Richard Frasar\",male,21.0,0,1,35281,77.2875,D26,S\n",
            "\n",
            "103,104,0,3,\"Johansson, Mr. Gustaf Joel\",male,33.0,0,0,7540,8.6542,,S\n",
            "\n",
            "104,105,0,3,\"Gustafsson, Mr. Anders Vilhelm\",male,37.0,2,0,3101276,7.925,,S\n",
            "\n",
            "105,106,0,3,\"Mionoff, Mr. Stoytcho\",male,28.0,0,0,349207,7.8958,,S\n",
            "\n",
            "106,107,1,3,\"Salkjelsvik, Miss. Anna Kristine\",female,21.0,0,0,343120,7.65,,S\n",
            "\n",
            "107,108,1,3,\"Moss, Mr. Albert Johan\",male,,0,0,312991,7.775,,S\n",
            "\n",
            "108,109,0,3,\"Rekic, Mr. Tido\",male,38.0,0,0,349249,7.8958,,S\n",
            "\n",
            "109,110,1,3,\"Moran, Miss. Bertha\",female,,1,0,371110,24.15,,Q\n",
            "\n",
            "110,111,0,1,\"Porter, Mr. Walter Chamberlain\",male,47.0,0,0,110465,52.0,C110,S\n",
            "\n",
            "111,112,0,3,\"Zabour, Miss. Hileni\",female,14.5,1,0,2665,14.4542,,C\n",
            "\n",
            "112,113,0,3,\"Barton, Mr. David John\",male,22.0,0,0,324669,8.05,,S\n",
            "\n",
            "113,114,0,3,\"Jussila, Miss. Katriina\",female,20.0,1,0,4136,9.825,,S\n",
            "\n",
            "114,115,0,3,\"Attalah, Miss. Malake\",female,17.0,0,0,2627,14.4583,,C\n",
            "\n",
            "115,116,0,3,\"Pekoniemi, Mr. Edvard\",male,21.0,0,0,STON/O 2. 3101294,7.925,,S\n",
            "\n",
            "116,117,0,3,\"Connors, Mr. Patrick\",male,70.5,0,0,370369,7.75,,Q\n",
            "\n",
            "117,118,0,2,\"Turpin, Mr. William John Robert\",male,29.0,1,0,11668,21.0,,S\n",
            "\n",
            "118,119,0,1,\"Baxter, Mr. Quigg Edmond\",male,24.0,0,1,PC 17558,247.5208,B58 B60,C\n",
            "\n",
            "119,120,0,?,\"Andersson, Miss. Ellis Anna Maria\",female,2.0,4,2,347082,31.275,,S\n",
            "\n",
            "120,121,0,2,\"Hickman, Mr. Stanley George\",male,21.0,2,0,S.O.C. 14879,73.5,,S\n",
            "\n",
            "121,122,0,3,\"Moore, Mr. Leonard Charles\",male,,0,0,A4. 54510,8.05,,S\n",
            "\n",
            "122,123,0,2,\"Nasser, Mr. Nicholas\",male,32.5,1,0,237736,30.0708,,C\n",
            "\n",
            "123,124,1,2,\"Webber, Miss. Susan\",female,32.5,0,0,27267,13.0,E101,S\n",
            "\n",
            "124,125,0,1,\"White, Mr. Percival Wayland\",male,54.0,0,1,35281,77.2875,D26,S\n",
            "\n",
            "125,126,1,3,\"Nicola-Yarred, Master. Elias\",male,12.0,1,0,2651,11.2417,,C\n",
            "\n",
            "126,127,0,3,\"McMahon, Mr. Martin\",male,,0,0,370372,7.75,,Q\n",
            "\n",
            "127,128,1,3,\"Madsen, Mr. Fridtjof Arne\",male,24.0,0,0,C 17369,7.1417,,S\n",
            "\n",
            "128,129,1,3,\"Peter, Miss. Anna\",female,,1,1,2668,22.3583,F E69,C\n",
            "\n",
            "129,130,0,3,\"Ekstrom, Mr. Johan\",male,45.0,0,0,347061,6.975,,S\n",
            "\n",
            "130,131,0,3,\"Drazenoic, Mr. Jozef\",male,33.0,0,0,349241,7.8958,,C\n",
            "\n",
            "131,132,0,3,\"Coelho, Mr. Domingos Fernandeo\",male,20.0,0,0,SOTON/O.Q. 3101307,7.05,,S\n",
            "\n",
            "132,133,0,3,\"Robins, Mrs. Alexander A (Grace Charity Laury)\",female,47.0,1,0,A/5. 3337,14.5,,S\n",
            "\n",
            "133,134,1,2,\"Weisz, Mrs. Leopold (Mathilde Francoise Pede)\",female,29.0,1,0,228414,26.0,,S\n",
            "\n",
            "134,135,0,2,\"Sobey, Mr. Samuel James Hayden\",male,25.0,0,0,C.A. 29178,13.0,,S\n",
            "\n",
            "135,136,0,2,\"Richard, Mr. Emile\",male,23.0,0,0,SC/PARIS 2133,15.0458,,C\n",
            "\n",
            "136,137,1,1,\"Newsom, Miss. Helen Monypeny\",female,19.0,0,2,11752,26.2833,D47,S\n",
            "\n",
            "137,138,0,1,\"Futrelle, Mr. Jacques Heath\",male,37.0,1,0,113803,53.1,C123,S\n",
            "\n",
            "138,139,0,3,\"Osen, Mr. Olaf Elon\",male,16.0,0,0,7534,9.2167,,S\n",
            "\n",
            "139,140,0,1,\"Giglio, Mr. Victor\",male,24.0,0,0,PC 17593,79.2,B86,C\n",
            "\n",
            "140,141,0,3,\"Boulos, Mrs. Joseph (Sultana)\",female,,0,2,2678,15.2458,,C\n",
            "\n",
            "141,142,1,3,\"Nysten, Miss. Anna Sofia\",female,22.0,0,0,347081,7.75,,S\n",
            "\n",
            "142,143,1,3,\"Hakkarainen, Mrs. Pekka Pietari (Elin Matilda Dolck)\",female,24.0,1,0,STON/O2. 3101279,15.85,,S\n",
            "\n",
            "143,144,0,3,\"Burke, Mr. Jeremiah\",male,19.0,0,0,365222,6.75,,Q\n",
            "\n",
            "144,145,0,2,\"Andrew, Mr. Edgardo Samuel\",male,18.0,0,0,231945,11.5,,S\n",
            "\n",
            "145,146,0,2,\"Nicholls, Mr. Joseph Charles\",male,19.0,1,1,C.A. 33112,36.75,,S\n",
            "\n",
            "146,147,1,?,\"Andersson, Mr. August Edvard (\"\"Wennerstrom\"\")\",male,27.0,0,0,350043,7.7958,,S\n",
            "\n",
            "147,148,0,3,\"Ford, Miss. Robina Maggie \"\"Ruby\"\"\",female,9.0,2,2,W./C. 6608,34.375,,S\n",
            "\n",
            "148,149,0,2,\"Navratil, Mr. Michel (\"\"Louis M Hoffman\"\")\",male,36.5,0,2,230080,26.0,F2,S\n",
            "\n",
            "149,150,0,2,\"Byles, Rev. Thomas Roussel Davids\",male,42.0,0,0,244310,13.0,,S\n",
            "\n",
            "150,151,0,2,\"Bateman, Rev. Robert James\",male,51.0,0,0,S.O.P. 1166,12.525,,S\n",
            "\n",
            "151,152,1,1,\"Pears, Mrs. Thomas (Edith Wearne)\",female,22.0,1,0,113776,66.6,C2,S\n",
            "\n",
            "152,153,0,3,\"Meo, Mr. Alfonzo\",male,55.5,0,0,A.5. 11206,8.05,,S\n",
            "\n",
            "153,154,0,3,\"van Billiard, Mr. Austin Blyler\",male,40.5,0,2,A/5. 851,14.5,,S\n",
            "\n",
            "154,155,0,3,\"Olsen, Mr. Ole Martin\",male,,0,0,Fa 265302,7.3125,,S\n",
            "\n",
            "155,156,0,1,\"Williams, Mr. Charles Duane\",male,51.0,0,1,PC 17597,61.3792,,C\n",
            "\n",
            "156,157,1,3,\"Gilnagh, Miss. Katherine \"\"Katie\"\"\",female,16.0,0,0,35851,7.7333,,Q\n",
            "\n",
            "157,158,0,3,\"Corn, Mr. Harry\",male,30.0,0,0,SOTON/OQ 392090,8.05,,S\n",
            "\n",
            "158,159,0,3,\"Smiljanic, Mr. Mile\",male,,0,0,315037,8.6625,,S\n",
            "\n",
            "159,160,0,3,\"Sage, Master. Thomas Henry\",male,,8,2,CA. 2343,69.55,,S\n",
            "\n",
            "160,161,0,3,\"Cribb, Mr. John Hatfield\",male,44.0,0,1,371362,16.1,,S\n",
            "\n",
            "161,162,1,2,\"Watt, Mrs. James (Elizabeth \"\"Bessie\"\" Inglis Milne)\",female,40.0,0,0,C.A. 33595,15.75,,S\n",
            "\n",
            "162,163,0,3,\"Bengtsson, Mr. John Viktor\",male,26.0,0,0,347068,7.775,,S\n",
            "\n",
            "163,164,0,3,\"Calic, Mr. Jovo\",male,17.0,0,0,315093,8.6625,,S\n",
            "\n",
            "164,165,0,3,\"Panula, Master. Eino Viljami\",male,1.0,4,1,3101295,39.6875,,S\n",
            "\n",
            "165,166,1,3,\"Goldsmith, Master. Frank John William \"\"Frankie\"\"\",male,9.0,0,2,363291,20.525,,S\n",
            "\n",
            "166,167,1,1,\"Chibnall, Mrs. (Edith Martha Bowerman)\",female,,0,1,113505,55.0,E33,S\n",
            "\n",
            "167,168,0,3,\"Skoog, Mrs. William (Anna Bernhardina Karlsson)\",female,45.0,1,4,347088,27.9,,S\n",
            "\n",
            "168,169,0,1,\"Baumann, Mr. John D\",male,,0,0,PC 17318,25.925,,S\n",
            "\n",
            "169,170,0,3,\"Ling, Mr. Lee\",male,28.0,0,0,1601,56.4958,,S\n",
            "\n",
            "170,171,0,1,\"Van der hoef, Mr. Wyckoff\",male,61.0,0,0,111240,33.5,B19,S\n",
            "\n",
            "171,172,0,3,\"Rice, Master. Arthur\",male,4.0,4,1,382652,29.125,,Q\n",
            "\n",
            "172,173,1,3,\"Johnson, Miss. Eleanor Ileen\",female,1.0,1,1,347742,11.1333,,S\n",
            "\n",
            "173,174,0,3,\"Sivola, Mr. Antti Wilhelm\",male,21.0,0,0,STON/O 2. 3101280,7.925,,S\n",
            "\n",
            "174,175,0,1,\"Smith, Mr. James Clinch\",male,56.0,0,0,17764,30.6958,A7,C\n",
            "\n",
            "175,176,0,3,\"Klasen, Mr. Klas Albin\",male,18.0,1,1,350404,7.8542,,S\n",
            "\n",
            "176,177,0,3,\"Lefebre, Master. Henry Forbes\",male,,3,1,4133,25.4667,,S\n",
            "\n",
            "177,178,0,1,\"Isham, Miss. Ann Elizabeth\",female,50.0,0,0,PC 17595,28.7125,C49,C\n",
            "\n",
            "178,179,0,2,\"Hale, Mr. Reginald\",male,30.0,0,0,250653,13.0,,S\n",
            "\n",
            "179,180,0,3,\"Leonard, Mr. Lionel\",male,36.0,0,0,LINE,0.0,,S\n",
            "\n",
            "180,181,0,?,\"Sage, Miss. Constance Gladys\",female,,8,2,CA. 2343,69.55,,S\n",
            "\n",
            "181,182,0,2,\"Pernot, Mr. Rene\",male,,0,0,SC/PARIS 2131,15.05,,C\n",
            "\n",
            "182,183,0,3,\"Asplund, Master. Clarence Gustaf Hugo\",male,9.0,4,2,347077,31.3875,,S\n",
            "\n",
            "183,184,1,2,\"Becker, Master. Richard F\",male,1.0,2,1,230136,39.0,F4,S\n",
            "\n",
            "184,185,1,3,\"Kink-Heilmann, Miss. Luise Gretchen\",female,4.0,0,2,315153,22.025,,S\n",
            "\n",
            "185,186,0,1,\"Rood, Mr. Hugh Roscoe\",male,,0,0,113767,50.0,A32,S\n",
            "\n",
            "186,187,1,3,\"O'Brien, Mrs. Thomas (Johanna \"\"Hannah\"\" Godfrey)\",female,,1,0,370365,15.5,,Q\n",
            "\n",
            "187,188,1,1,\"Romaine, Mr. Charles Hallace (\"\"Mr C Rolmane\"\")\",male,45.0,0,0,111428,26.55,,S\n",
            "\n",
            "188,189,0,3,\"Bourke, Mr. John\",male,40.0,1,1,364849,15.5,,Q\n",
            "\n",
            "189,190,0,3,\"Turcin, Mr. Stjepan\",male,36.0,0,0,349247,7.8958,,S\n",
            "\n",
            "190,191,1,2,\"Pinsky, Mrs. (Rosa)\",female,32.0,0,0,234604,13.0,,S\n",
            "\n",
            "191,192,0,2,\"Carbines, Mr. William\",male,19.0,0,0,28424,13.0,,S\n",
            "\n",
            "192,193,1,3,\"Andersen-Jensen, Miss. Carla Christine Nielsine\",female,19.0,1,0,350046,7.8542,,S\n",
            "\n",
            "193,194,1,2,\"Navratil, Master. Michel M\",male,3.0,1,1,230080,26.0,F2,S\n",
            "\n",
            "194,195,1,1,\"Brown, Mrs. James Joseph (Margaret Tobin)\",female,44.0,0,0,PC 17610,27.7208,B4,C\n",
            "\n",
            "195,196,1,1,\"Lurette, Miss. Elise\",female,58.0,0,0,PC 17569,146.5208,B80,C\n",
            "\n",
            "196,197,0,3,\"Mernagh, Mr. Robert\",male,,0,0,368703,7.75,,Q\n",
            "\n",
            "197,198,0,3,\"Olsen, Mr. Karl Siegwart Andreas\",male,42.0,0,1,4579,8.4042,,S\n",
            "\n",
            "198,199,1,3,\"Madigan, Miss. Margaret \"\"Maggie\"\"\",female,,0,0,370370,7.75,,Q\n",
            "\n",
            "199,200,0,2,\"Yrois, Miss. Henriette (\"\"Mrs Harbeck\"\")\",female,24.0,0,0,248747,13.0,,S\n",
            "\n",
            "200,201,0,3,\"Vande Walle, Mr. Nestor Cyriel\",male,28.0,0,0,345770,9.5,,S\n",
            "\n",
            "201,202,0,3,\"Sage, Mr. Frederick\",male,,8,2,CA. 2343,69.55,,S\n",
            "\n",
            "202,203,0,3,\"Johanson, Mr. Jakob Alfred\",male,34.0,0,0,3101264,6.4958,,S\n",
            "\n",
            "203,204,0,3,\"Youseff, Mr. Gerious\",male,45.5,0,0,2628,7.225,,C\n",
            "\n",
            "204,205,1,3,\"Cohen, Mr. Gurshon \"\"Gus\"\"\",male,18.0,0,0,A/5 3540,8.05,,S\n",
            "\n",
            "205,206,0,3,\"Strom, Miss. Telma Matilda\",female,2.0,0,1,347054,10.4625,G6,S\n",
            "\n",
            "206,207,0,3,\"Backstrom, Mr. Karl Alfred\",male,32.0,1,0,3101278,15.85,,S\n",
            "\n",
            "207,208,1,3,\"Albimona, Mr. Nassef Cassem\",male,26.0,0,0,2699,18.7875,,C\n",
            "\n",
            "208,209,1,3,\"Carr, Miss. Helen \"\"Ellen\"\"\",female,16.0,0,0,367231,7.75,,Q\n",
            "\n",
            "209,210,1,1,\"Blank, Mr. Henry\",male,40.0,0,0,112277,31.0,A31,C\n",
            "\n",
            "210,211,0,3,\"Ali, Mr. Ahmed\",male,24.0,0,0,SOTON/O.Q. 3101311,7.05,,S\n",
            "\n",
            "211,212,1,2,\"Cameron, Miss. Clear Annie\",female,35.0,0,0,F.C.C. 13528,21.0,,S\n",
            "\n",
            "212,213,0,3,\"Perkin, Mr. John Henry\",male,22.0,0,0,A/5 21174,7.25,,S\n",
            "\n",
            "213,214,0,2,\"Givard, Mr. Hans Kristensen\",male,30.0,0,0,250646,13.0,,S\n",
            "\n",
            "214,215,0,3,\"Kiernan, Mr. Philip\",male,,1,0,367229,7.75,,Q\n",
            "\n",
            "215,216,1,1,\"Newell, Miss. Madeleine\",female,31.0,1,0,35273,113.275,D36,C\n",
            "\n",
            "216,217,1,3,\"Honkanen, Miss. Eliina\",female,27.0,0,0,STON/O2. 3101283,7.925,,S\n",
            "\n",
            "217,218,0,2,\"Jacobsohn, Mr. Sidney Samuel\",male,42.0,1,0,243847,27.0,,S\n",
            "\n",
            "218,219,1,1,\"Bazzani, Miss. Albina\",female,32.0,0,0,11813,76.2917,D15,C\n",
            "\n",
            "219,220,0,2,\"Harris, Mr. Walter\",male,30.0,0,0,W/C 14208,10.5,,S\n",
            "\n",
            "220,221,1,3,\"Sunderland, Mr. Victor Francis\",male,16.0,0,0,SOTON/OQ 392089,8.05,,S\n",
            "\n",
            "221,222,0,?,\"Bracken, Mr. James H\",male,27.0,0,0,220367,13.0,,S\n",
            "\n",
            "222,223,0,3,\"Green, Mr. George Henry\",male,51.0,0,0,21440,8.05,,S\n",
            "\n",
            "223,224,0,3,\"Nenkoff, Mr. Christo\",male,,0,0,349234,7.8958,,S\n",
            "\n",
            "224,225,1,1,\"Hoyt, Mr. Frederick Maxfield\",male,38.0,1,0,19943,90.0,C93,S\n",
            "\n",
            "225,226,0,3,\"Berglund, Mr. Karl Ivar Sven\",male,22.0,0,0,PP 4348,9.35,,S\n",
            "\n",
            "226,227,1,2,\"Mellors, Mr. William John\",male,19.0,0,0,SW/PP 751,10.5,,S\n",
            "\n",
            "227,228,0,3,\"Lovell, Mr. John Hall (\"\"Henry\"\")\",male,20.5,0,0,A/5 21173,7.25,,S\n",
            "\n",
            "228,229,0,2,\"Fahlstrom, Mr. Arne Jonas\",male,18.0,0,0,236171,13.0,,S\n",
            "\n",
            "229,230,0,3,\"Lefebre, Miss. Mathilde\",female,,3,1,4133,25.4667,,S\n",
            "\n",
            "230,231,1,1,\"Harris, Mrs. Henry Birkhardt (Irene Wallach)\",female,35.0,1,0,36973,83.475,C83,S\n",
            "\n",
            "231,232,0,3,\"Larsson, Mr. Bengt Edvin\",male,29.0,0,0,347067,7.775,,S\n",
            "\n",
            "232,233,0,2,\"Sjostedt, Mr. Ernst Adolf\",male,59.0,0,0,237442,13.5,,S\n",
            "\n",
            "233,234,1,3,\"Asplund, Miss. Lillian Gertrud\",female,5.0,4,2,347077,31.3875,,S\n",
            "\n",
            "234,235,0,2,\"Leyson, Mr. Robert William Norman\",male,24.0,0,0,C.A. 29566,10.5,,S\n",
            "\n",
            "235,236,0,3,\"Harknett, Miss. Alice Phoebe\",female,,0,0,W./C. 6609,7.55,,S\n",
            "\n",
            "236,237,0,2,\"Hold, Mr. Stephen\",male,44.0,1,0,26707,26.0,,S\n",
            "\n",
            "237,238,1,2,\"Collyer, Miss. Marjorie \"\"Lottie\"\"\",female,8.0,0,2,C.A. 31921,26.25,,S\n",
            "\n",
            "238,239,0,2,\"Pengelly, Mr. Frederick William\",male,19.0,0,0,28665,10.5,,S\n",
            "\n",
            "239,240,0,2,\"Hunt, Mr. George Henry\",male,33.0,0,0,SCO/W 1585,12.275,,S\n",
            "\n",
            "240,241,0,3,\"Zabour, Miss. Thamine\",female,,1,0,2665,14.4542,,C\n",
            "\n",
            "241,242,1,3,\"Murphy, Miss. Katherine \"\"Kate\"\"\",female,,1,0,367230,15.5,,Q\n",
            "\n",
            "242,243,0,2,\"Coleridge, Mr. Reginald Charles\",male,29.0,0,0,W./C. 14263,10.5,,S\n",
            "\n",
            "243,244,0,3,\"Maenpaa, Mr. Matti Alexanteri\",male,22.0,0,0,STON/O 2. 3101275,7.125,,S\n",
            "\n",
            "244,245,0,3,\"Attalah, Mr. Sleiman\",male,30.0,0,0,2694,7.225,,C\n",
            "\n",
            "245,246,0,1,\"Minahan, Dr. William Edward\",male,44.0,2,0,19928,90.0,C78,Q\n",
            "\n",
            "246,247,0,3,\"Lindahl, Miss. Agda Thorilda Viktoria\",female,25.0,0,0,347071,7.775,,S\n",
            "\n",
            "247,248,1,2,\"Hamalainen, Mrs. William (Anna)\",female,24.0,0,2,250649,14.5,,S\n",
            "\n",
            "248,249,1,1,\"Beckwith, Mr. Richard Leonard\",male,37.0,1,1,11751,52.5542,D35,S\n",
            "\n",
            "249,250,0,2,\"Carter, Rev. Ernest Courtenay\",male,54.0,1,0,244252,26.0,,S\n",
            "\n",
            "250,251,0,3,\"Reed, Mr. James George\",male,,0,0,362316,7.25,,S\n",
            "\n",
            "251,252,0,3,\"Strom, Mrs. Wilhelm (Elna Matilda Persson)\",female,29.0,1,1,347054,10.4625,G6,S\n",
            "\n",
            "252,253,0,1,\"Stead, Mr. William Thomas\",male,62.0,0,0,113514,26.55,C87,S\n",
            "\n",
            "253,254,0,3,\"Lobb, Mr. William Arthur\",male,30.0,1,0,A/5. 3336,16.1,,S\n",
            "\n",
            "254,255,0,3,\"Rosblom, Mrs. Viktor (Helena Wilhelmina)\",female,41.0,0,2,370129,20.2125,,S\n",
            "\n",
            "255,256,1,3,\"Touma, Mrs. Darwis (Hanne Youssef Razi)\",female,29.0,0,2,2650,15.2458,,C\n",
            "\n",
            "256,257,1,1,\"Thorne, Mrs. Gertrude Maybelle\",female,,0,0,PC 17585,79.2,,C\n",
            "\n",
            "257,258,1,1,\"Cherry, Miss. Gladys\",female,30.0,0,0,110152,86.5,B77,S\n",
            "\n",
            "258,259,1,1,\"Ward, Miss. Anna\",female,35.0,0,0,PC 17755,512.3292,,C\n",
            "\n",
            "259,260,1,2,\"Parrish, Mrs. (Lutie Davis)\",female,50.0,0,1,230433,26.0,,S\n",
            "\n",
            "260,261,0,3,\"Smith, Mr. Thomas\",male,,0,0,384461,7.75,,Q\n",
            "\n",
            "261,262,1,3,\"Asplund, Master. Edvin Rojj Felix\",male,3.0,4,2,347077,31.3875,,S\n",
            "\n",
            "262,263,0,1,\"Taussig, Mr. Emil\",male,52.0,1,1,110413,79.65,E67,S\n",
            "\n",
            "263,264,0,1,\"Harrison, Mr. William\",male,40.0,0,0,112059,0.0,B94,S\n",
            "\n",
            "264,265,0,3,\"Henry, Miss. Delia\",female,,0,0,382649,7.75,,Q\n",
            "\n",
            "265,266,0,2,\"Reeves, Mr. David\",male,36.0,0,0,C.A. 17248,10.5,,S\n",
            "\n",
            "266,267,0,3,\"Panula, Mr. Ernesti Arvid\",male,16.0,4,1,3101295,39.6875,,S\n",
            "\n",
            "267,268,1,3,\"Persson, Mr. Ernst Ulrik\",male,25.0,1,0,347083,7.775,,S\n",
            "\n",
            "268,269,1,1,\"Graham, Mrs. William Thompson (Edith Junkins)\",female,58.0,0,1,PC 17582,153.4625,C125,S\n",
            "\n",
            "269,270,1,1,\"Bissette, Miss. Amelia\",female,35.0,0,0,PC 17760,135.6333,C99,S\n",
            "\n",
            "270,271,0,1,\"Cairns, Mr. Alexander\",male,,0,0,113798,31.0,,S\n",
            "\n",
            "271,272,1,3,\"Tornquist, Mr. William Henry\",male,25.0,0,0,LINE,0.0,,S\n",
            "\n",
            "272,273,1,?,\"Mellinger, Mrs. (Elizabeth Anne Maidment)\",female,41.0,0,1,250644,19.5,,S\n",
            "\n",
            "273,274,0,1,\"Natsch, Mr. Charles H\",male,37.0,0,1,PC 17596,29.7,C118,C\n",
            "\n",
            "274,275,1,3,\"Healy, Miss. Hanora \"\"Nora\"\"\",female,,0,0,370375,7.75,,Q\n",
            "\n",
            "275,276,1,1,\"Andrews, Miss. Kornelia Theodosia\",female,63.0,1,0,13502,77.9583,D7,S\n",
            "\n",
            "276,277,0,3,\"Lindblom, Miss. Augusta Charlotta\",female,45.0,0,0,347073,7.75,,S\n",
            "\n",
            "277,278,0,2,\"Parkes, Mr. Francis \"\"Frank\"\"\",male,,0,0,239853,0.0,,S\n",
            "\n",
            "278,279,0,3,\"Rice, Master. Eric\",male,7.0,4,1,382652,29.125,,Q\n",
            "\n",
            "279,280,1,3,\"Abbott, Mrs. Stanton (Rosa Hunt)\",female,35.0,1,1,C.A. 2673,20.25,,S\n",
            "\n",
            "280,281,0,3,\"Duane, Mr. Frank\",male,65.0,0,0,336439,7.75,,Q\n",
            "\n",
            "281,282,0,3,\"Olsson, Mr. Nils Johan Goransson\",male,28.0,0,0,347464,7.8542,,S\n",
            "\n",
            "282,283,0,3,\"de Pelsmaeker, Mr. Alfons\",male,16.0,0,0,345778,9.5,,S\n",
            "\n",
            "283,284,1,3,\"Dorking, Mr. Edward Arthur\",male,19.0,0,0,A/5. 10482,8.05,,S\n",
            "\n",
            "284,285,0,?,\"Smith, Mr. Richard William\",male,,0,0,113056,26.0,A19,S\n",
            "\n",
            "285,286,0,3,\"Stankovic, Mr. Ivan\",male,33.0,0,0,349239,8.6625,,C\n",
            "\n",
            "286,287,1,3,\"de Mulder, Mr. Theodore\",male,30.0,0,0,345774,9.5,,S\n",
            "\n",
            "287,288,0,3,\"Naidenoff, Mr. Penko\",male,22.0,0,0,349206,7.8958,,S\n",
            "\n",
            "288,289,1,2,\"Hosono, Mr. Masabumi\",male,42.0,0,0,237798,13.0,,S\n",
            "\n",
            "289,290,1,3,\"Connolly, Miss. Kate\",female,22.0,0,0,370373,7.75,,Q\n",
            "\n",
            "290,291,1,1,\"Barber, Miss. Ellen \"\"Nellie\"\"\",female,26.0,0,0,19877,78.85,,S\n",
            "\n",
            "291,292,1,1,\"Bishop, Mrs. Dickinson H (Helen Walton)\",female,19.0,1,0,11967,91.0792,B49,C\n",
            "\n",
            "292,293,0,?,\"Levy, Mr. Rene Jacques\",male,36.0,0,0,SC/Paris 2163,12.875,D,C\n",
            "\n",
            "293,294,0,3,\"Haas, Miss. Aloisia\",female,24.0,0,0,349236,8.85,,S\n",
            "\n",
            "294,295,0,3,\"Mineff, Mr. Ivan\",male,24.0,0,0,349233,7.8958,,S\n",
            "\n",
            "295,296,0,1,\"Lewy, Mr. Ervin G\",male,,0,0,PC 17612,27.7208,,C\n",
            "\n",
            "296,297,0,3,\"Hanna, Mr. Mansour\",male,23.5,0,0,2693,7.2292,,C\n",
            "\n",
            "297,298,0,1,\"Allison, Miss. Helen Loraine\",female,2.0,1,2,113781,151.55,C22 C26,S\n",
            "\n",
            "298,299,1,?,\"Saalfeld, Mr. Adolphe\",male,,0,0,19988,30.5,C106,S\n",
            "\n",
            "299,300,1,1,\"Baxter, Mrs. James (Helene DeLaudeniere Chaput)\",female,50.0,0,1,PC 17558,247.5208,B58 B60,C\n",
            "\n",
            "300,301,1,3,\"Kelly, Miss. Anna Katherine \"\"Annie Kate\"\"\",female,,0,0,9234,7.75,,Q\n",
            "\n",
            "301,302,1,3,\"McCoy, Mr. Bernard\",male,,2,0,367226,23.25,,Q\n",
            "\n",
            "302,303,0,3,\"Johnson, Mr. William Cahoone Jr\",male,19.0,0,0,LINE,0.0,,S\n",
            "\n",
            "303,304,1,2,\"Keane, Miss. Nora A\",female,,0,0,226593,12.35,E101,Q\n",
            "\n",
            "304,305,0,3,\"Williams, Mr. Howard Hugh \"\"Harry\"\"\",male,,0,0,A/5 2466,8.05,,S\n",
            "\n",
            "305,306,1,1,\"Allison, Master. Hudson Trevor\",male,0.92,1,2,113781,151.55,C22 C26,S\n",
            "\n",
            "306,307,1,1,\"Fleming, Miss. Margaret\",female,,0,0,17421,110.8833,,C\n",
            "\n",
            "307,308,1,1,\"Penasco y Castellana, Mrs. Victor de Satode (Maria Josefa Perez de Soto y Vallejo)\",female,17.0,1,0,PC 17758,108.9,C65,C\n",
            "\n",
            "308,309,0,2,\"Abelson, Mr. Samuel\",male,30.0,1,0,P/PP 3381,24.0,,C\n",
            "\n",
            "309,310,1,1,\"Francatelli, Miss. Laura Mabel\",female,30.0,0,0,PC 17485,56.9292,E36,C\n",
            "\n",
            "310,311,1,1,\"Hays, Miss. Margaret Bechstein\",female,24.0,0,0,11767,83.1583,C54,C\n",
            "\n",
            "311,312,1,1,\"Ryerson, Miss. Emily Borie\",female,18.0,2,2,PC 17608,262.375,B57 B59 B63 B66,C\n",
            "\n",
            "312,313,0,2,\"Lahtinen, Mrs. William (Anna Sylfven)\",female,26.0,1,1,250651,26.0,,S\n",
            "\n",
            "313,314,0,3,\"Hendekovic, Mr. Ignjac\",male,28.0,0,0,349243,7.8958,,S\n",
            "\n",
            "314,315,0,2,\"Hart, Mr. Benjamin\",male,43.0,1,1,F.C.C. 13529,26.25,,S\n",
            "\n",
            "315,316,1,3,\"Nilsson, Miss. Helmina Josefina\",female,26.0,0,0,347470,7.8542,,S\n",
            "\n",
            "316,317,1,2,\"Kantor, Mrs. Sinai (Miriam Sternin)\",female,24.0,1,0,244367,26.0,,S\n",
            "\n",
            "317,318,0,2,\"Moraweck, Dr. Ernest\",male,54.0,0,0,29011,14.0,,S\n",
            "\n",
            "318,319,1,1,\"Wick, Miss. Mary Natalie\",female,31.0,0,2,36928,164.8667,C7,S\n",
            "\n",
            "319,320,1,1,\"Spedden, Mrs. Frederic Oakley (Margaretta Corning Stone)\",female,40.0,1,1,16966,134.5,E34,C\n",
            "\n",
            "320,321,0,3,\"Dennis, Mr. Samuel\",male,22.0,0,0,A/5 21172,7.25,,S\n",
            "\n",
            "321,322,0,?,\"Danoff, Mr. Yoto\",male,27.0,0,0,349219,7.8958,,S\n",
            "\n",
            "322,323,1,2,\"Slayter, Miss. Hilda Mary\",female,30.0,0,0,234818,12.35,,Q\n",
            "\n",
            "323,324,1,2,\"Caldwell, Mrs. Albert Francis (Sylvia Mae Harbaugh)\",female,22.0,1,1,248738,29.0,,S\n",
            "\n",
            "324,325,0,3,\"Sage, Mr. George John Jr\",male,,8,2,CA. 2343,69.55,,S\n",
            "\n",
            "325,326,1,1,\"Young, Miss. Marie Grice\",female,36.0,0,0,PC 17760,135.6333,C32,C\n",
            "\n",
            "326,327,0,3,\"Nysveen, Mr. Johan Hansen\",male,61.0,0,0,345364,6.2375,,S\n",
            "\n",
            "327,328,1,2,\"Ball, Mrs. (Ada E Hall)\",female,36.0,0,0,28551,13.0,D,S\n",
            "\n",
            "328,329,1,3,\"Goldsmith, Mrs. Frank John (Emily Alice Brown)\",female,31.0,1,1,363291,20.525,,S\n",
            "\n",
            "329,330,1,1,\"Hippach, Miss. Jean Gertrude\",female,16.0,0,1,111361,57.9792,B18,C\n",
            "\n",
            "330,331,1,3,\"McCoy, Miss. Agnes\",female,,2,0,367226,23.25,,Q\n",
            "\n",
            "331,332,0,1,\"Partner, Mr. Austen\",male,45.5,0,0,113043,28.5,C124,S\n",
            "\n",
            "332,333,0,1,\"Graham, Mr. George Edward\",male,38.0,0,1,PC 17582,153.4625,C91,S\n",
            "\n",
            "333,334,0,3,\"Vander Planke, Mr. Leo Edmondus\",male,16.0,2,0,345764,18.0,,S\n",
            "\n",
            "334,335,1,1,\"Frauenthal, Mrs. Henry William (Clara Heinsheimer)\",female,,1,0,PC 17611,133.65,,S\n",
            "\n",
            "335,336,0,3,\"Denkoff, Mr. Mitto\",male,,0,0,349225,7.8958,,S\n",
            "\n",
            "336,337,0,1,\"Pears, Mr. Thomas Clinton\",male,29.0,1,0,113776,66.6,C2,S\n",
            "\n",
            "337,338,1,1,\"Burns, Miss. Elizabeth Margaret\",female,41.0,0,0,16966,134.5,E40,C\n",
            "\n",
            "338,339,1,3,\"Dahl, Mr. Karl Edwart\",male,45.0,0,0,7598,8.05,,S\n",
            "\n",
            "339,340,0,1,\"Blackwell, Mr. Stephen Weart\",male,45.0,0,0,113784,35.5,T,S\n",
            "\n",
            "340,341,1,2,\"Navratil, Master. Edmond Roger\",male,2.0,1,1,230080,26.0,F2,S\n",
            "\n",
            "341,342,1,1,\"Fortune, Miss. Alice Elizabeth\",female,24.0,3,2,19950,263.0,C23 C25 C27,S\n",
            "\n",
            "342,343,0,2,\"Collander, Mr. Erik Gustaf\",male,28.0,0,0,248740,13.0,,S\n",
            "\n",
            "343,344,0,2,\"Sedgwick, Mr. Charles Frederick Waddington\",male,25.0,0,0,244361,13.0,,S\n",
            "\n",
            "344,345,0,2,\"Fox, Mr. Stanley Hubert\",male,36.0,0,0,229236,13.0,,S\n",
            "\n",
            "345,346,1,2,\"Brown, Miss. Amelia \"\"Mildred\"\"\",female,24.0,0,0,248733,13.0,F33,S\n",
            "\n",
            "346,347,1,2,\"Smith, Miss. Marion Elsie\",female,40.0,0,0,31418,13.0,,S\n",
            "\n",
            "347,348,1,3,\"Davison, Mrs. Thomas Henry (Mary E Finck)\",female,,1,0,386525,16.1,,S\n",
            "\n",
            "348,349,1,3,\"Coutts, Master. William Loch \"\"William\"\"\",male,3.0,1,1,C.A. 37671,15.9,,S\n",
            "\n",
            "349,350,0,3,\"Dimic, Mr. Jovan\",male,42.0,0,0,315088,8.6625,,S\n",
            "\n",
            "350,351,0,3,\"Odahl, Mr. Nils Martin\",male,23.0,0,0,7267,9.225,,S\n",
            "\n",
            "351,352,0,1,\"Williams-Lambert, Mr. Fletcher Fellows\",male,,0,0,113510,35.0,C128,S\n",
            "\n",
            "352,353,0,3,\"Elias, Mr. Tannous\",male,15.0,1,1,2695,7.2292,,C\n",
            "\n",
            "353,354,0,3,\"Arnold-Franchi, Mr. Josef\",male,25.0,1,0,349237,17.8,,S\n",
            "\n",
            "354,355,0,3,\"Yousif, Mr. Wazli\",male,,0,0,2647,7.225,,C\n",
            "\n",
            "355,356,0,3,\"Vanden Steen, Mr. Leo Peter\",male,28.0,0,0,345783,9.5,,S\n",
            "\n",
            "356,357,1,1,\"Bowerman, Miss. Elsie Edith\",female,22.0,0,1,113505,55.0,E33,S\n",
            "\n",
            "357,358,0,2,\"Funk, Miss. Annie Clemmer\",female,38.0,0,0,237671,13.0,,S\n",
            "\n",
            "358,359,1,3,\"McGovern, Miss. Mary\",female,,0,0,330931,7.8792,,Q\n",
            "\n",
            "359,360,1,3,\"Mockler, Miss. Helen Mary \"\"Ellie\"\"\",female,,0,0,330980,7.8792,,Q\n",
            "\n",
            "360,361,0,3,\"Skoog, Mr. Wilhelm\",male,40.0,1,4,347088,27.9,,S\n",
            "\n",
            "361,362,0,2,\"del Carlo, Mr. Sebastiano\",male,29.0,1,0,SC/PARIS 2167,27.7208,,C\n",
            "\n",
            "362,363,0,3,\"Barbara, Mrs. (Catherine David)\",female,45.0,0,1,2691,14.4542,,C\n",
            "\n",
            "363,364,0,3,\"Asim, Mr. Adola\",male,35.0,0,0,SOTON/O.Q. 3101310,7.05,,S\n",
            "\n",
            "364,365,0,3,\"O'Brien, Mr. Thomas\",male,,1,0,370365,15.5,,Q\n",
            "\n",
            "365,366,0,?,\"Adahl, Mr. Mauritz Nils Martin\",male,30.0,0,0,C 7076,7.25,,S\n",
            "\n",
            "366,367,1,1,\"Warren, Mrs. Frank Manley (Anna Sophia Atkinson)\",female,60.0,1,0,110813,75.25,D37,C\n",
            "\n",
            "367,368,1,3,\"Moussa, Mrs. (Mantoura Boulos)\",female,,0,0,2626,7.2292,,C\n",
            "\n",
            "368,369,1,3,\"Jermyn, Miss. Annie\",female,,0,0,14313,7.75,,Q\n",
            "\n",
            "369,370,1,1,\"Aubart, Mme. Leontine Pauline\",female,24.0,0,0,PC 17477,69.3,B35,C\n",
            "\n",
            "370,371,1,1,\"Harder, Mr. George Achilles\",male,25.0,1,0,11765,55.4417,E50,C\n",
            "\n",
            "371,372,0,3,\"Wiklund, Mr. Jakob Alfred\",male,18.0,1,0,3101267,6.4958,,S\n",
            "\n",
            "372,373,0,3,\"Beavan, Mr. William Thomas\",male,19.0,0,0,323951,8.05,,S\n",
            "\n",
            "373,374,0,1,\"Ringhini, Mr. Sante\",male,22.0,0,0,PC 17760,135.6333,,C\n",
            "\n",
            "374,375,0,3,\"Palsson, Miss. Stina Viola\",female,3.0,3,1,349909,21.075,,S\n",
            "\n",
            "375,376,1,1,\"Meyer, Mrs. Edgar Joseph (Leila Saks)\",female,,1,0,PC 17604,82.1708,,C\n",
            "\n",
            "376,377,1,3,\"Landergren, Miss. Aurora Adelia\",female,22.0,0,0,C 7077,7.25,,S\n",
            "\n",
            "377,378,0,1,\"Widener, Mr. Harry Elkins\",male,27.0,0,2,113503,211.5,C82,C\n",
            "\n",
            "378,379,0,3,\"Betros, Mr. Tannous\",male,20.0,0,0,2648,4.0125,,C\n",
            "\n",
            "379,380,0,?,\"Gustafsson, Mr. Karl Gideon\",male,19.0,0,0,347069,7.775,,S\n",
            "\n",
            "380,381,1,?,\"Bidois, Miss. Rosalie\",female,42.0,0,0,PC 17757,227.525,,C\n",
            "\n",
            "381,382,1,3,\"Nakid, Miss. Maria (\"\"Mary\"\")\",female,1.0,0,2,2653,15.7417,,C\n",
            "\n",
            "382,383,0,3,\"Tikkanen, Mr. Juho\",male,32.0,0,0,STON/O 2. 3101293,7.925,,S\n",
            "\n",
            "383,384,1,1,\"Holverson, Mrs. Alexander Oskar (Mary Aline Towner)\",female,35.0,1,0,113789,52.0,,S\n",
            "\n",
            "384,385,0,3,\"Plotcharsky, Mr. Vasil\",male,,0,0,349227,7.8958,,S\n",
            "\n",
            "385,386,0,2,\"Davies, Mr. Charles Henry\",male,18.0,0,0,S.O.C. 14879,73.5,,S\n",
            "\n",
            "386,387,0,3,\"Goodwin, Master. Sidney Leonard\",male,1.0,5,2,CA 2144,46.9,,S\n",
            "\n",
            "387,388,1,2,\"Buss, Miss. Kate\",female,36.0,0,0,27849,13.0,,S\n",
            "\n",
            "388,389,0,3,\"Sadlier, Mr. Matthew\",male,,0,0,367655,7.7292,,Q\n",
            "\n",
            "389,390,1,2,\"Lehmann, Miss. Bertha\",female,17.0,0,0,SC 1748,12.0,,C\n",
            "\n",
            "390,391,1,?,\"Carter, Mr. William Ernest\",male,36.0,1,2,113760,120.0,B96 B98,S\n",
            "\n",
            "391,392,1,3,\"Jansson, Mr. Carl Olof\",male,21.0,0,0,350034,7.7958,,S\n",
            "\n",
            "392,393,0,3,\"Gustafsson, Mr. Johan Birger\",male,28.0,2,0,3101277,7.925,,S\n",
            "\n",
            "393,394,1,1,\"Newell, Miss. Marjorie\",female,23.0,1,0,35273,113.275,D36,C\n",
            "\n",
            "394,395,1,3,\"Sandstrom, Mrs. Hjalmar (Agnes Charlotta Bengtsson)\",female,24.0,0,2,PP 9549,16.7,G6,S\n",
            "\n",
            "395,396,0,3,\"Johansson, Mr. Erik\",male,22.0,0,0,350052,7.7958,,S\n",
            "\n",
            "396,397,0,3,\"Olsson, Miss. Elina\",female,31.0,0,0,350407,7.8542,,S\n",
            "\n",
            "397,398,0,2,\"McKane, Mr. Peter David\",male,46.0,0,0,28403,26.0,,S\n",
            "\n",
            "398,399,0,2,\"Pain, Dr. Alfred\",male,23.0,0,0,244278,10.5,,S\n",
            "\n",
            "399,400,1,2,\"Trout, Mrs. William H (Jessie L)\",female,28.0,0,0,240929,12.65,,S\n",
            "\n",
            "400,401,1,3,\"Niskanen, Mr. Juha\",male,39.0,0,0,STON/O 2. 3101289,7.925,,S\n",
            "\n",
            "401,402,0,3,\"Adams, Mr. John\",male,26.0,0,0,341826,8.05,,S\n",
            "\n",
            "402,403,0,3,\"Jussila, Miss. Mari Aina\",female,21.0,1,0,4137,9.825,,S\n",
            "\n",
            "403,404,0,3,\"Hakkarainen, Mr. Pekka Pietari\",male,28.0,1,0,STON/O2. 3101279,15.85,,S\n",
            "\n",
            "404,405,0,3,\"Oreskovic, Miss. Marija\",female,20.0,0,0,315096,8.6625,,S\n",
            "\n",
            "405,406,0,2,\"Gale, Mr. Shadrach\",male,34.0,1,0,28664,21.0,,S\n",
            "\n",
            "406,407,0,3,\"Widegren, Mr. Carl/Charles Peter\",male,51.0,0,0,347064,7.75,,S\n",
            "\n",
            "407,408,1,2,\"Richards, Master. William Rowe\",male,3.0,1,1,29106,18.75,,S\n",
            "\n",
            "408,409,0,3,\"Birkeland, Mr. Hans Martin Monsen\",male,21.0,0,0,312992,7.775,,S\n",
            "\n",
            "409,410,0,3,\"Lefebre, Miss. Ida\",female,,3,1,4133,25.4667,,S\n",
            "\n",
            "410,411,0,3,\"Sdycoff, Mr. Todor\",male,,0,0,349222,7.8958,,S\n",
            "\n",
            "411,412,0,?,\"Hart, Mr. Henry\",male,,0,0,394140,6.8583,,Q\n",
            "\n",
            "412,413,1,?,\"Minahan, Miss. Daisy E\",female,33.0,1,0,19928,90.0,C78,Q\n",
            "\n",
            "413,414,0,2,\"Cunningham, Mr. Alfred Fleming\",male,,0,0,239853,0.0,,S\n",
            "\n",
            "414,415,1,3,\"Sundman, Mr. Johan Julian\",male,44.0,0,0,STON/O 2. 3101269,7.925,,S\n",
            "\n",
            "415,416,0,?,\"Meek, Mrs. Thomas (Annie Louise Rowley)\",female,,0,0,343095,8.05,,S\n",
            "\n",
            "416,417,1,2,\"Drew, Mrs. James Vivian (Lulu Thorne Christian)\",female,34.0,1,1,28220,32.5,,S\n",
            "\n",
            "417,418,1,2,\"Silven, Miss. Lyyli Karoliina\",female,18.0,0,2,250652,13.0,,S\n",
            "\n",
            "418,419,0,2,\"Matthews, Mr. William John\",male,30.0,0,0,28228,13.0,,S\n",
            "\n",
            "419,420,0,3,\"Van Impe, Miss. Catharina\",female,10.0,0,2,345773,24.15,,S\n",
            "\n",
            "420,421,0,?,\"Gheorgheff, Mr. Stanio\",male,,0,0,349254,7.8958,,C\n",
            "\n",
            "421,422,0,3,\"Charters, Mr. David\",male,21.0,0,0,A/5. 13032,7.7333,,Q\n",
            "\n",
            "422,423,0,3,\"Zimmerman, Mr. Leo\",male,29.0,0,0,315082,7.875,,S\n",
            "\n",
            "423,424,0,3,\"Danbom, Mrs. Ernst Gilbert (Anna Sigrid Maria Brogren)\",female,28.0,1,1,347080,14.4,,S\n",
            "\n",
            "424,425,0,3,\"Rosblom, Mr. Viktor Richard\",male,18.0,1,1,370129,20.2125,,S\n",
            "\n",
            "425,426,0,3,\"Wiseman, Mr. Phillippe\",male,,0,0,A/4. 34244,7.25,,S\n",
            "\n",
            "426,427,1,2,\"Clarke, Mrs. Charles V (Ada Maria Winfield)\",female,28.0,1,0,2003,26.0,,S\n",
            "\n",
            "427,428,1,2,\"Phillips, Miss. Kate Florence (\"\"Mrs Kate Louise Phillips Marshall\"\")\",female,19.0,0,0,250655,26.0,,S\n",
            "\n",
            "428,429,0,3,\"Flynn, Mr. James\",male,,0,0,364851,7.75,,Q\n",
            "\n",
            "429,430,1,3,\"Pickard, Mr. Berk (Berk Trembisky)\",male,32.0,0,0,SOTON/O.Q. 392078,8.05,E10,S\n",
            "\n",
            "430,431,1,1,\"Bjornstrom-Steffansson, Mr. Mauritz Hakan\",male,28.0,0,0,110564,26.55,C52,S\n",
            "\n",
            "431,432,1,3,\"Thorneycroft, Mrs. Percival (Florence Kate White)\",female,,1,0,376564,16.1,,S\n",
            "\n",
            "432,433,1,2,\"Louch, Mrs. Charles Alexander (Alice Adelaide Slow)\",female,42.0,1,0,SC/AH 3085,26.0,,S\n",
            "\n",
            "433,434,0,3,\"Kallio, Mr. Nikolai Erland\",male,17.0,0,0,STON/O 2. 3101274,7.125,,S\n",
            "\n",
            "434,435,0,1,\"Silvey, Mr. William Baird\",male,50.0,1,0,13507,55.9,E44,S\n",
            "\n",
            "435,436,1,1,\"Carter, Miss. Lucile Polk\",female,14.0,1,2,113760,120.0,B96 B98,S\n",
            "\n",
            "436,437,0,3,\"Ford, Miss. Doolina Margaret \"\"Daisy\"\"\",female,21.0,2,2,W./C. 6608,34.375,,S\n",
            "\n",
            "437,438,1,2,\"Richards, Mrs. Sidney (Emily Hocking)\",female,24.0,2,3,29106,18.75,,S\n",
            "\n",
            "438,439,0,1,\"Fortune, Mr. Mark\",male,64.0,1,4,19950,263.0,C23 C25 C27,S\n",
            "\n",
            "439,440,0,2,\"Kvillner, Mr. Johan Henrik Johannesson\",male,31.0,0,0,C.A. 18723,10.5,,S\n",
            "\n",
            "440,441,1,2,\"Hart, Mrs. Benjamin (Esther Ada Bloomfield)\",female,45.0,1,1,F.C.C. 13529,26.25,,S\n",
            "\n",
            "441,442,0,3,\"Hampe, Mr. Leon\",male,20.0,0,0,345769,9.5,,S\n",
            "\n",
            "442,443,0,3,\"Petterson, Mr. Johan Emil\",male,25.0,1,0,347076,7.775,,S\n",
            "\n",
            "443,444,1,2,\"Reynaldo, Ms. Encarnacion\",female,28.0,0,0,230434,13.0,,S\n",
            "\n",
            "444,445,1,3,\"Johannesen-Bratthammer, Mr. Bernt\",male,,0,0,65306,8.1125,,S\n",
            "\n",
            "445,446,1,1,\"Dodge, Master. Washington\",male,4.0,0,2,33638,81.8583,A34,S\n",
            "\n",
            "446,447,1,2,\"Mellinger, Miss. Madeleine Violet\",female,13.0,0,1,250644,19.5,,S\n",
            "\n",
            "447,448,1,1,\"Seward, Mr. Frederic Kimber\",male,34.0,0,0,113794,26.55,,S\n",
            "\n",
            "448,449,1,3,\"Baclini, Miss. Marie Catherine\",female,5.0,2,1,2666,19.2583,,C\n",
            "\n",
            "449,450,1,1,\"Peuchen, Major. Arthur Godfrey\",male,52.0,0,0,113786,30.5,C104,S\n",
            "\n",
            "450,451,0,2,\"West, Mr. Edwy Arthur\",male,36.0,1,2,C.A. 34651,27.75,,S\n",
            "\n",
            "451,452,0,3,\"Hagland, Mr. Ingvald Olai Olsen\",male,,1,0,65303,19.9667,,S\n",
            "\n",
            "452,453,0,1,\"Foreman, Mr. Benjamin Laventall\",male,30.0,0,0,113051,27.75,C111,C\n",
            "\n",
            "453,454,1,1,\"Goldenberg, Mr. Samuel L\",male,49.0,1,0,17453,89.1042,C92,C\n",
            "\n",
            "454,455,0,3,\"Peduzzi, Mr. Joseph\",male,,0,0,A/5 2817,8.05,,S\n",
            "\n",
            "455,456,1,3,\"Jalsevac, Mr. Ivan\",male,29.0,0,0,349240,7.8958,,C\n",
            "\n",
            "456,457,0,1,\"Millet, Mr. Francis Davis\",male,65.0,0,0,13509,26.55,E38,S\n",
            "\n",
            "457,458,1,1,\"Kenyon, Mrs. Frederick R (Marion)\",female,,1,0,17464,51.8625,D21,S\n",
            "\n",
            "458,459,1,2,\"Toomey, Miss. Ellen\",female,50.0,0,0,F.C.C. 13531,10.5,,S\n",
            "\n",
            "459,460,0,3,\"O'Connor, Mr. Maurice\",male,,0,0,371060,7.75,,Q\n",
            "\n",
            "460,461,1,1,\"Anderson, Mr. Harry\",male,48.0,0,0,19952,26.55,E12,S\n",
            "\n",
            "461,462,0,3,\"Morley, Mr. William\",male,34.0,0,0,364506,8.05,,S\n",
            "\n",
            "462,463,0,1,\"Gee, Mr. Arthur H\",male,47.0,0,0,111320,38.5,E63,S\n",
            "\n",
            "463,464,0,2,\"Milling, Mr. Jacob Christian\",male,48.0,0,0,234360,13.0,,S\n",
            "\n",
            "464,465,0,3,\"Maisner, Mr. Simon\",male,,0,0,A/S 2816,8.05,,S\n",
            "\n",
            "465,466,0,3,\"Goncalves, Mr. Manuel Estanslas\",male,38.0,0,0,SOTON/O.Q. 3101306,7.05,,S\n",
            "\n",
            "466,467,0,2,\"Campbell, Mr. William\",male,,0,0,239853,0.0,,S\n",
            "\n",
            "467,468,0,1,\"Smart, Mr. John Montgomery\",male,56.0,0,0,113792,26.55,,S\n",
            "\n",
            "468,469,0,3,\"Scanlan, Mr. James\",male,,0,0,36209,7.725,,Q\n",
            "\n",
            "469,470,1,3,\"Baclini, Miss. Helene Barbara\",female,0.75,2,1,2666,19.2583,,C\n",
            "\n",
            "470,471,0,3,\"Keefe, Mr. Arthur\",male,,0,0,323592,7.25,,S\n",
            "\n",
            "471,472,0,3,\"Cacic, Mr. Luka\",male,38.0,0,0,315089,8.6625,,S\n",
            "\n",
            "472,473,1,2,\"West, Mrs. Edwy Arthur (Ada Mary Worth)\",female,33.0,1,2,C.A. 34651,27.75,,S\n",
            "\n",
            "473,474,1,2,\"Jerwan, Mrs. Amin S (Marie Marthe Thuillard)\",female,23.0,0,0,SC/AH Basle 541,13.7917,D,C\n",
            "\n",
            "474,475,0,3,\"Strandberg, Miss. Ida Sofia\",female,22.0,0,0,7553,9.8375,,S\n",
            "\n",
            "475,476,0,1,\"Clifford, Mr. George Quincy\",male,,0,0,110465,52.0,A14,S\n",
            "\n",
            "476,477,0,2,\"Renouf, Mr. Peter Henry\",male,34.0,1,0,31027,21.0,,S\n",
            "\n",
            "477,478,0,3,\"Braund, Mr. Lewis Richard\",male,29.0,1,0,3460,7.0458,,S\n",
            "\n",
            "478,479,0,3,\"Karlsson, Mr. Nils August\",male,22.0,0,0,350060,7.5208,,S\n",
            "\n",
            "479,480,1,3,\"Hirvonen, Miss. Hildur E\",female,2.0,0,1,3101298,12.2875,,S\n",
            "\n",
            "480,481,0,3,\"Goodwin, Master. Harold Victor\",male,9.0,5,2,CA 2144,46.9,,S\n",
            "\n",
            "481,482,0,2,\"Frost, Mr. Anthony Wood \"\"Archie\"\"\",male,,0,0,239854,0.0,,S\n",
            "\n",
            "482,483,0,3,\"Rouse, Mr. Richard Henry\",male,50.0,0,0,A/5 3594,8.05,,S\n",
            "\n",
            "483,484,1,3,\"Turkula, Mrs. (Hedwig)\",female,63.0,0,0,4134,9.5875,,S\n",
            "\n",
            "484,485,1,1,\"Bishop, Mr. Dickinson H\",male,25.0,1,0,11967,91.0792,B49,C\n",
            "\n",
            "485,486,0,3,\"Lefebre, Miss. Jeannie\",female,,3,1,4133,25.4667,,S\n",
            "\n",
            "486,487,1,1,\"Hoyt, Mrs. Frederick Maxfield (Jane Anne Forby)\",female,35.0,1,0,19943,90.0,C93,S\n",
            "\n",
            "487,488,0,1,\"Kent, Mr. Edward Austin\",male,58.0,0,0,11771,29.7,B37,C\n",
            "\n",
            "488,489,0,3,\"Somerton, Mr. Francis William\",male,30.0,0,0,A.5. 18509,8.05,,S\n",
            "\n",
            "489,490,1,3,\"Coutts, Master. Eden Leslie \"\"Neville\"\"\",male,9.0,1,1,C.A. 37671,15.9,,S\n",
            "\n",
            "490,491,0,?,\"Hagland, Mr. Konrad Mathias Reiersen\",male,,1,0,65304,19.9667,,S\n",
            "\n",
            "491,492,0,3,\"Windelov, Mr. Einar\",male,21.0,0,0,SOTON/OQ 3101317,7.25,,S\n",
            "\n",
            "492,493,0,1,\"Molson, Mr. Harry Markland\",male,55.0,0,0,113787,30.5,C30,S\n",
            "\n",
            "493,494,0,1,\"Artagaveytia, Mr. Ramon\",male,71.0,0,0,PC 17609,49.5042,,C\n",
            "\n",
            "494,495,0,3,\"Stanley, Mr. Edward Roland\",male,21.0,0,0,A/4 45380,8.05,,S\n",
            "\n",
            "495,496,0,3,\"Yousseff, Mr. Gerious\",male,,0,0,2627,14.4583,,C\n",
            "\n",
            "496,497,1,1,\"Eustis, Miss. Elizabeth Mussey\",female,54.0,1,0,36947,78.2667,D20,C\n",
            "\n",
            "497,498,0,3,\"Shellard, Mr. Frederick William\",male,,0,0,C.A. 6212,15.1,,S\n",
            "\n",
            "498,499,0,1,\"Allison, Mrs. Hudson J C (Bessie Waldo Daniels)\",female,25.0,1,2,113781,151.55,C22 C26,S\n",
            "\n",
            "499,500,0,3,\"Svensson, Mr. Olof\",male,24.0,0,0,350035,7.7958,,S\n",
            "\n",
            "500,501,0,3,\"Calic, Mr. Petar\",male,17.0,0,0,315086,8.6625,,S\n",
            "\n",
            "501,502,0,3,\"Canavan, Miss. Mary\",female,21.0,0,0,364846,7.75,,Q\n",
            "\n",
            "502,503,0,3,\"O'Sullivan, Miss. Bridget Mary\",female,,0,0,330909,7.6292,,Q\n",
            "\n",
            "503,504,0,3,\"Laitinen, Miss. Kristina Sofia\",female,37.0,0,0,4135,9.5875,,S\n",
            "\n",
            "504,505,1,1,\"Maioni, Miss. Roberta\",female,16.0,0,0,110152,86.5,B79,S\n",
            "\n",
            "505,506,0,1,\"Penasco y Castellana, Mr. Victor de Satode\",male,18.0,1,0,PC 17758,108.9,C65,C\n",
            "\n",
            "506,507,1,2,\"Quick, Mrs. Frederick Charles (Jane Richards)\",female,33.0,0,2,26360,26.0,,S\n",
            "\n",
            "507,508,1,1,\"Bradley, Mr. George (\"\"George Arthur Brayton\"\")\",male,,0,0,111427,26.55,,S\n",
            "\n",
            "508,509,0,3,\"Olsen, Mr. Henry Margido\",male,28.0,0,0,C 4001,22.525,,S\n",
            "\n",
            "509,510,1,3,\"Lang, Mr. Fang\",male,26.0,0,0,1601,56.4958,,S\n",
            "\n",
            "510,511,1,3,\"Daly, Mr. Eugene Patrick\",male,29.0,0,0,382651,7.75,,Q\n",
            "\n",
            "511,512,0,3,\"Webber, Mr. James\",male,,0,0,SOTON/OQ 3101316,8.05,,S\n",
            "\n",
            "512,513,1,?,\"McGough, Mr. James Robert\",male,36.0,0,0,PC 17473,26.2875,E25,S\n",
            "\n",
            "513,514,1,1,\"Rothschild, Mrs. Martin (Elizabeth L. Barrett)\",female,54.0,1,0,PC 17603,59.4,,C\n",
            "\n",
            "514,515,0,3,\"Coleff, Mr. Satio\",male,24.0,0,0,349209,7.4958,,S\n",
            "\n",
            "515,516,0,1,\"Walker, Mr. William Anderson\",male,47.0,0,0,36967,34.0208,D46,S\n",
            "\n",
            "516,517,1,?,\"Lemore, Mrs. (Amelia Milley)\",female,34.0,0,0,C.A. 34260,10.5,F33,S\n",
            "\n",
            "517,518,0,3,\"Ryan, Mr. Patrick\",male,,0,0,371110,24.15,,Q\n",
            "\n",
            "518,519,1,2,\"Angle, Mrs. William A (Florence \"\"Mary\"\" Agnes Hughes)\",female,36.0,1,0,226875,26.0,,S\n",
            "\n",
            "519,520,0,3,\"Pavlovic, Mr. Stefo\",male,32.0,0,0,349242,7.8958,,S\n",
            "\n",
            "520,521,1,1,\"Perreault, Miss. Anne\",female,30.0,0,0,12749,93.5,B73,S\n",
            "\n",
            "521,522,0,3,\"Vovk, Mr. Janko\",male,22.0,0,0,349252,7.8958,,S\n",
            "\n",
            "522,523,0,3,\"Lahoud, Mr. Sarkis\",male,,0,0,2624,7.225,,C\n",
            "\n",
            "523,524,1,1,\"Hippach, Mrs. Louis Albert (Ida Sophia Fischer)\",female,44.0,0,1,111361,57.9792,B18,C\n",
            "\n",
            "524,525,0,3,\"Kassem, Mr. Fared\",male,,0,0,2700,7.2292,,C\n",
            "\n",
            "525,526,0,3,\"Farrell, Mr. James\",male,40.5,0,0,367232,7.75,,Q\n",
            "\n",
            "526,527,1,2,\"Ridsdale, Miss. Lucy\",female,50.0,0,0,W./C. 14258,10.5,,S\n",
            "\n",
            "527,528,0,1,\"Farthing, Mr. John\",male,,0,0,PC 17483,221.7792,C95,S\n",
            "\n",
            "528,529,0,3,\"Salonen, Mr. Johan Werner\",male,39.0,0,0,3101296,7.925,,S\n",
            "\n",
            "529,530,0,2,\"Hocking, Mr. Richard George\",male,23.0,2,1,29104,11.5,,S\n",
            "\n",
            "530,531,1,2,\"Quick, Miss. Phyllis May\",female,2.0,1,1,26360,26.0,,S\n",
            "\n",
            "531,532,0,3,\"Toufik, Mr. Nakli\",male,,0,0,2641,7.2292,,C\n",
            "\n",
            "532,533,0,3,\"Elias, Mr. Joseph Jr\",male,17.0,1,1,2690,7.2292,,C\n",
            "\n",
            "533,534,1,3,\"Peter, Mrs. Catherine (Catherine Rizk)\",female,,0,2,2668,22.3583,,C\n",
            "\n",
            "534,535,0,3,\"Cacic, Miss. Marija\",female,30.0,0,0,315084,8.6625,,S\n",
            "\n",
            "535,536,1,2,\"Hart, Miss. Eva Miriam\",female,7.0,0,2,F.C.C. 13529,26.25,,S\n",
            "\n",
            "536,537,0,1,\"Butt, Major. Archibald Willingham\",male,45.0,0,0,113050,26.55,B38,S\n",
            "\n",
            "537,538,1,1,\"LeRoy, Miss. Bertha\",female,30.0,0,0,PC 17761,106.425,,C\n",
            "\n",
            "538,539,0,3,\"Risien, Mr. Samuel Beard\",male,,0,0,364498,14.5,,S\n",
            "\n",
            "539,540,1,1,\"Frolicher, Miss. Hedwig Margaritha\",female,22.0,0,2,13568,49.5,B39,C\n",
            "\n",
            "540,541,1,1,\"Crosby, Miss. Harriet R\",female,36.0,0,2,WE/P 5735,71.0,B22,S\n",
            "\n",
            "541,542,0,3,\"Andersson, Miss. Ingeborg Constanzia\",female,9.0,4,2,347082,31.275,,S\n",
            "\n",
            "542,543,0,3,\"Andersson, Miss. Sigrid Elisabeth\",female,11.0,4,2,347082,31.275,,S\n",
            "\n",
            "543,544,1,2,\"Beane, Mr. Edward\",male,32.0,1,0,2908,26.0,,S\n",
            "\n",
            "544,545,0,1,\"Douglas, Mr. Walter Donald\",male,50.0,1,0,PC 17761,106.425,C86,C\n",
            "\n",
            "545,546,0,1,\"Nicholson, Mr. Arthur Ernest\",male,64.0,0,0,693,26.0,,S\n",
            "\n",
            "546,547,1,2,\"Beane, Mrs. Edward (Ethel Clarke)\",female,19.0,1,0,2908,26.0,,S\n",
            "\n",
            "547,548,1,2,\"Padro y Manent, Mr. Julian\",male,,0,0,SC/PARIS 2146,13.8625,,C\n",
            "\n",
            "548,549,0,?,\"Goldsmith, Mr. Frank John\",male,33.0,1,1,363291,20.525,,S\n",
            "\n",
            "549,550,1,?,\"Davies, Master. John Morgan Jr\",male,8.0,1,1,C.A. 33112,36.75,,S\n",
            "\n",
            "550,551,1,1,\"Thayer, Mr. John Borland Jr\",male,17.0,0,2,17421,110.8833,C70,C\n",
            "\n",
            "551,552,0,2,\"Sharp, Mr. Percival James R\",male,27.0,0,0,244358,26.0,,S\n",
            "\n",
            "552,553,0,3,\"O'Brien, Mr. Timothy\",male,,0,0,330979,7.8292,,Q\n",
            "\n",
            "553,554,1,3,\"Leeni, Mr. Fahim (\"\"Philip Zenni\"\")\",male,22.0,0,0,2620,7.225,,C\n",
            "\n",
            "554,555,1,3,\"Ohman, Miss. Velin\",female,22.0,0,0,347085,7.775,,S\n",
            "\n",
            "555,556,0,1,\"Wright, Mr. George\",male,62.0,0,0,113807,26.55,,S\n",
            "\n",
            "556,557,1,1,\"Duff Gordon, Lady. (Lucille Christiana Sutherland) (\"\"Mrs Morgan\"\")\",female,48.0,1,0,11755,39.6,A16,C\n",
            "\n",
            "557,558,0,1,\"Robbins, Mr. Victor\",male,,0,0,PC 17757,227.525,,C\n",
            "\n",
            "558,559,1,1,\"Taussig, Mrs. Emil (Tillie Mandelbaum)\",female,39.0,1,1,110413,79.65,E67,S\n",
            "\n",
            "559,560,1,3,\"de Messemaeker, Mrs. Guillaume Joseph (Emma)\",female,36.0,1,0,345572,17.4,,S\n",
            "\n",
            "560,561,0,3,\"Morrow, Mr. Thomas Rowan\",male,,0,0,372622,7.75,,Q\n",
            "\n",
            "561,562,0,3,\"Sivic, Mr. Husein\",male,40.0,0,0,349251,7.8958,,S\n",
            "\n",
            "562,563,0,2,\"Norman, Mr. Robert Douglas\",male,28.0,0,0,218629,13.5,,S\n",
            "\n",
            "563,564,0,3,\"Simmons, Mr. John\",male,,0,0,SOTON/OQ 392082,8.05,,S\n",
            "\n",
            "564,565,0,3,\"Meanwell, Miss. (Marion Ogden)\",female,,0,0,SOTON/O.Q. 392087,8.05,,S\n",
            "\n",
            "565,566,0,3,\"Davies, Mr. Alfred J\",male,24.0,2,0,A/4 48871,24.15,,S\n",
            "\n",
            "566,567,0,3,\"Stoytcheff, Mr. Ilia\",male,19.0,0,0,349205,7.8958,,S\n",
            "\n",
            "567,568,0,3,\"Palsson, Mrs. Nils (Alma Cornelia Berglund)\",female,29.0,0,4,349909,21.075,,S\n",
            "\n",
            "568,569,0,3,\"Doharr, Mr. Tannous\",male,,0,0,2686,7.2292,,C\n",
            "\n",
            "569,570,1,3,\"Jonsson, Mr. Carl\",male,32.0,0,0,350417,7.8542,,S\n",
            "\n",
            "570,571,1,2,\"Harris, Mr. George\",male,62.0,0,0,S.W./PP 752,10.5,,S\n",
            "\n",
            "571,572,1,1,\"Appleton, Mrs. Edward Dale (Charlotte Lamson)\",female,53.0,2,0,11769,51.4792,C101,S\n",
            "\n",
            "572,573,1,1,\"Flynn, Mr. John Irwin (\"\"Irving\"\")\",male,36.0,0,0,PC 17474,26.3875,E25,S\n",
            "\n",
            "573,574,1,3,\"Kelly, Miss. Mary\",female,,0,0,14312,7.75,,Q\n",
            "\n",
            "574,575,0,3,\"Rush, Mr. Alfred George John\",male,16.0,0,0,A/4. 20589,8.05,,S\n",
            "\n",
            "575,576,0,3,\"Patchett, Mr. George\",male,19.0,0,0,358585,14.5,,S\n",
            "\n",
            "576,577,1,2,\"Garside, Miss. Ethel\",female,34.0,0,0,243880,13.0,,S\n",
            "\n",
            "577,578,1,?,\"Silvey, Mrs. William Baird (Alice Munger)\",female,39.0,1,0,13507,55.9,E44,S\n",
            "\n",
            "578,579,0,3,\"Caram, Mrs. Joseph (Maria Elias)\",female,,1,0,2689,14.4583,,C\n",
            "\n",
            "579,580,1,3,\"Jussila, Mr. Eiriik\",male,32.0,0,0,STON/O 2. 3101286,7.925,,S\n",
            "\n",
            "580,581,1,2,\"Christy, Miss. Julie Rachel\",female,25.0,1,1,237789,30.0,,S\n",
            "\n",
            "581,582,1,1,\"Thayer, Mrs. John Borland (Marian Longstreth Morris)\",female,39.0,1,1,17421,110.8833,C68,C\n",
            "\n",
            "582,583,0,2,\"Downton, Mr. William James\",male,54.0,0,0,28403,26.0,,S\n",
            "\n",
            "583,584,0,1,\"Ross, Mr. John Hugo\",male,36.0,0,0,13049,40.125,A10,C\n",
            "\n",
            "584,585,0,3,\"Paulner, Mr. Uscher\",male,,0,0,3411,8.7125,,C\n",
            "\n",
            "585,586,1,1,\"Taussig, Miss. Ruth\",female,18.0,0,2,110413,79.65,E68,S\n",
            "\n",
            "586,587,0,2,\"Jarvis, Mr. John Denzil\",male,47.0,0,0,237565,15.0,,S\n",
            "\n",
            "587,588,1,1,\"Frolicher-Stehli, Mr. Maxmillian\",male,60.0,1,1,13567,79.2,B41,C\n",
            "\n",
            "588,589,0,3,\"Gilinski, Mr. Eliezer\",male,22.0,0,0,14973,8.05,,S\n",
            "\n",
            "589,590,0,3,\"Murdlin, Mr. Joseph\",male,,0,0,A./5. 3235,8.05,,S\n",
            "\n",
            "590,591,0,3,\"Rintamaki, Mr. Matti\",male,35.0,0,0,STON/O 2. 3101273,7.125,,S\n",
            "\n",
            "591,592,1,1,\"Stephenson, Mrs. Walter Bertram (Martha Eustis)\",female,52.0,1,0,36947,78.2667,D20,C\n",
            "\n",
            "592,593,0,3,\"Elsbury, Mr. William James\",male,47.0,0,0,A/5 3902,7.25,,S\n",
            "\n",
            "593,594,0,3,\"Bourke, Miss. Mary\",female,,0,2,364848,7.75,,Q\n",
            "\n",
            "594,595,0,2,\"Chapman, Mr. John Henry\",male,37.0,1,0,SC/AH 29037,26.0,,S\n",
            "\n",
            "595,596,0,3,\"Van Impe, Mr. Jean Baptiste\",male,36.0,1,1,345773,24.15,,S\n",
            "\n",
            "596,597,1,2,\"Leitch, Miss. Jessie Wills\",female,,0,0,248727,33.0,,S\n",
            "\n",
            "597,598,0,3,\"Johnson, Mr. Alfred\",male,49.0,0,0,LINE,0.0,,S\n",
            "\n",
            "598,599,0,3,\"Boulos, Mr. Hanna\",male,,0,0,2664,7.225,,C\n",
            "\n",
            "599,600,1,1,\"Duff Gordon, Sir. Cosmo Edmund (\"\"Mr Morgan\"\")\",male,49.0,1,0,PC 17485,56.9292,A20,C\n",
            "\n",
            "600,601,1,2,\"Jacobsohn, Mrs. Sidney Samuel (Amy Frances Christy)\",female,24.0,2,1,243847,27.0,,S\n",
            "\n",
            "601,602,0,3,\"Slabenoff, Mr. Petco\",male,,0,0,349214,7.8958,,S\n",
            "\n",
            "602,603,0,1,\"Harrington, Mr. Charles H\",male,,0,0,113796,42.4,,S\n",
            "\n",
            "603,604,0,3,\"Torber, Mr. Ernst William\",male,44.0,0,0,364511,8.05,,S\n",
            "\n",
            "604,605,1,1,\"Homer, Mr. Harry (\"\"Mr E Haven\"\")\",male,35.0,0,0,111426,26.55,,C\n",
            "\n",
            "605,606,0,3,\"Lindell, Mr. Edvard Bengtsson\",male,36.0,1,0,349910,15.55,,S\n",
            "\n",
            "606,607,0,3,\"Karaic, Mr. Milan\",male,30.0,0,0,349246,7.8958,,S\n",
            "\n",
            "607,608,1,1,\"Daniel, Mr. Robert Williams\",male,27.0,0,0,113804,30.5,,S\n",
            "\n",
            "608,609,1,2,\"Laroche, Mrs. Joseph (Juliette Marie Louise Lafargue)\",female,22.0,1,2,SC/Paris 2123,41.5792,,C\n",
            "\n",
            "609,610,1,1,\"Shutes, Miss. Elizabeth W\",female,40.0,0,0,PC 17582,153.4625,C125,S\n",
            "\n",
            "610,611,0,3,\"Andersson, Mrs. Anders Johan (Alfrida Konstantia Brogren)\",female,39.0,1,5,347082,31.275,,S\n",
            "\n",
            "611,612,0,3,\"Jardin, Mr. Jose Neto\",male,,0,0,SOTON/O.Q. 3101305,7.05,,S\n",
            "\n",
            "612,613,1,3,\"Murphy, Miss. Margaret Jane\",female,,1,0,367230,15.5,,Q\n",
            "\n",
            "613,614,0,3,\"Horgan, Mr. John\",male,,0,0,370377,7.75,,Q\n",
            "\n",
            "614,615,0,3,\"Brocklebank, Mr. William Alfred\",male,35.0,0,0,364512,8.05,,S\n",
            "\n",
            "615,616,1,2,\"Herman, Miss. Alice\",female,24.0,1,2,220845,65.0,,S\n",
            "\n",
            "616,617,0,3,\"Danbom, Mr. Ernst Gilbert\",male,34.0,1,1,347080,14.4,,S\n",
            "\n",
            "617,618,0,3,\"Lobb, Mrs. William Arthur (Cordelia K Stanlick)\",female,26.0,1,0,A/5. 3336,16.1,,S\n",
            "\n",
            "618,619,1,2,\"Becker, Miss. Marion Louise\",female,4.0,2,1,230136,39.0,F4,S\n",
            "\n",
            "619,620,0,2,\"Gavey, Mr. Lawrence\",male,26.0,0,0,31028,10.5,,S\n",
            "\n",
            "620,621,0,3,\"Yasbeck, Mr. Antoni\",male,27.0,1,0,2659,14.4542,,C\n",
            "\n",
            "621,622,1,1,\"Kimball, Mr. Edwin Nelson Jr\",male,42.0,1,0,11753,52.5542,D19,S\n",
            "\n",
            "622,623,1,3,\"Nakid, Mr. Sahid\",male,20.0,1,1,2653,15.7417,,C\n",
            "\n",
            "623,624,0,3,\"Hansen, Mr. Henry Damsgaard\",male,21.0,0,0,350029,7.8542,,S\n",
            "\n",
            "624,625,0,3,\"Bowen, Mr. David John \"\"Dai\"\"\",male,21.0,0,0,54636,16.1,,S\n",
            "\n",
            "625,626,0,1,\"Sutton, Mr. Frederick\",male,61.0,0,0,36963,32.3208,D50,S\n",
            "\n",
            "626,627,0,2,\"Kirkland, Rev. Charles Leonard\",male,57.0,0,0,219533,12.35,,Q\n",
            "\n",
            "627,628,1,1,\"Longley, Miss. Gretchen Fiske\",female,21.0,0,0,13502,77.9583,D9,S\n",
            "\n",
            "628,629,0,3,\"Bostandyeff, Mr. Guentcho\",male,26.0,0,0,349224,7.8958,,S\n",
            "\n",
            "629,630,0,3,\"O'Connell, Mr. Patrick D\",male,,0,0,334912,7.7333,,Q\n",
            "\n",
            "630,631,1,1,\"Barkworth, Mr. Algernon Henry Wilson\",male,80.0,0,0,27042,30.0,A23,S\n",
            "\n",
            "631,632,0,3,\"Lundahl, Mr. Johan Svensson\",male,51.0,0,0,347743,7.0542,,S\n",
            "\n",
            "632,633,1,?,\"Stahelin-Maeglin, Dr. Max\",male,32.0,0,0,13214,30.5,B50,C\n",
            "\n",
            "633,634,0,1,\"Parr, Mr. William Henry Marsh\",male,,0,0,112052,0.0,,S\n",
            "\n",
            "634,635,0,3,\"Skoog, Miss. Mabel\",female,9.0,3,2,347088,27.9,,S\n",
            "\n",
            "635,636,1,2,\"Davis, Miss. Mary\",female,28.0,0,0,237668,13.0,,S\n",
            "\n",
            "636,637,0,3,\"Leinonen, Mr. Antti Gustaf\",male,32.0,0,0,STON/O 2. 3101292,7.925,,S\n",
            "\n",
            "637,638,0,2,\"Collyer, Mr. Harvey\",male,31.0,1,1,C.A. 31921,26.25,,S\n",
            "\n",
            "638,639,0,3,\"Panula, Mrs. Juha (Maria Emilia Ojala)\",female,41.0,0,5,3101295,39.6875,,S\n",
            "\n",
            "639,640,0,3,\"Thorneycroft, Mr. Percival\",male,,1,0,376564,16.1,,S\n",
            "\n",
            "640,641,0,3,\"Jensen, Mr. Hans Peder\",male,20.0,0,0,350050,7.8542,,S\n",
            "\n",
            "641,642,1,1,\"Sagesser, Mlle. Emma\",female,24.0,0,0,PC 17477,69.3,B35,C\n",
            "\n",
            "642,643,0,3,\"Skoog, Miss. Margit Elizabeth\",female,2.0,3,2,347088,27.9,,S\n",
            "\n",
            "643,644,1,3,\"Foo, Mr. Choong\",male,,0,0,1601,56.4958,,S\n",
            "\n",
            "644,645,1,3,\"Baclini, Miss. Eugenie\",female,0.75,2,1,2666,19.2583,,C\n",
            "\n",
            "645,646,1,1,\"Harper, Mr. Henry Sleeper\",male,48.0,1,0,PC 17572,76.7292,D33,C\n",
            "\n",
            "646,647,0,3,\"Cor, Mr. Liudevit\",male,19.0,0,0,349231,7.8958,,S\n",
            "\n",
            "647,648,1,?,\"Simonius-Blumer, Col. Oberst Alfons\",male,56.0,0,0,13213,35.5,A26,C\n",
            "\n",
            "648,649,0,3,\"Willey, Mr. Edward\",male,,0,0,S.O./P.P. 751,7.55,,S\n",
            "\n",
            "649,650,1,3,\"Stanley, Miss. Amy Zillah Elsie\",female,23.0,0,0,CA. 2314,7.55,,S\n",
            "\n",
            "650,651,0,3,\"Mitkoff, Mr. Mito\",male,,0,0,349221,7.8958,,S\n",
            "\n",
            "651,652,1,2,\"Doling, Miss. Elsie\",female,18.0,0,1,231919,23.0,,S\n",
            "\n",
            "652,653,0,3,\"Kalvik, Mr. Johannes Halvorsen\",male,21.0,0,0,8475,8.4333,,S\n",
            "\n",
            "653,654,1,3,\"O'Leary, Miss. Hanora \"\"Norah\"\"\",female,,0,0,330919,7.8292,,Q\n",
            "\n",
            "654,655,0,3,\"Hegarty, Miss. Hanora \"\"Nora\"\"\",female,18.0,0,0,365226,6.75,,Q\n",
            "\n",
            "655,656,0,2,\"Hickman, Mr. Leonard Mark\",male,24.0,2,0,S.O.C. 14879,73.5,,S\n",
            "\n",
            "656,657,0,3,\"Radeff, Mr. Alexander\",male,,0,0,349223,7.8958,,S\n",
            "\n",
            "657,658,0,3,\"Bourke, Mrs. John (Catherine)\",female,32.0,1,1,364849,15.5,,Q\n",
            "\n",
            "658,659,0,2,\"Eitemiller, Mr. George Floyd\",male,23.0,0,0,29751,13.0,,S\n",
            "\n",
            "659,660,0,1,\"Newell, Mr. Arthur Webster\",male,58.0,0,2,35273,113.275,D48,C\n",
            "\n",
            "660,661,1,1,\"Frauenthal, Dr. Henry William\",male,50.0,2,0,PC 17611,133.65,,S\n",
            "\n",
            "661,662,0,3,\"Badt, Mr. Mohamed\",male,40.0,0,0,2623,7.225,,C\n",
            "\n",
            "662,663,0,1,\"Colley, Mr. Edward Pomeroy\",male,47.0,0,0,5727,25.5875,E58,S\n",
            "\n",
            "663,664,0,3,\"Coleff, Mr. Peju\",male,36.0,0,0,349210,7.4958,,S\n",
            "\n",
            "664,665,1,3,\"Lindqvist, Mr. Eino William\",male,20.0,1,0,STON/O 2. 3101285,7.925,,S\n",
            "\n",
            "665,666,0,2,\"Hickman, Mr. Lewis\",male,32.0,2,0,S.O.C. 14879,73.5,,S\n",
            "\n",
            "666,667,0,2,\"Butler, Mr. Reginald Fenton\",male,25.0,0,0,234686,13.0,,S\n",
            "\n",
            "667,668,0,3,\"Rommetvedt, Mr. Knud Paust\",male,,0,0,312993,7.775,,S\n",
            "\n",
            "668,669,0,3,\"Cook, Mr. Jacob\",male,43.0,0,0,A/5 3536,8.05,,S\n",
            "\n",
            "669,670,1,1,\"Taylor, Mrs. Elmer Zebley (Juliet Cummins Wright)\",female,,1,0,19996,52.0,C126,S\n",
            "\n",
            "670,671,1,2,\"Brown, Mrs. Thomas William Solomon (Elizabeth Catherine Ford)\",female,40.0,1,1,29750,39.0,,S\n",
            "\n",
            "671,672,0,1,\"Davidson, Mr. Thornton\",male,31.0,1,0,F.C. 12750,52.0,B71,S\n",
            "\n",
            "672,673,0,2,\"Mitchell, Mr. Henry Michael\",male,70.0,0,0,C.A. 24580,10.5,,S\n",
            "\n",
            "673,674,1,2,\"Wilhelms, Mr. Charles\",male,31.0,0,0,244270,13.0,,S\n",
            "\n",
            "674,675,0,?,\"Watson, Mr. Ennis Hastings\",male,,0,0,239856,0.0,,S\n",
            "\n",
            "675,676,0,3,\"Edvardsson, Mr. Gustaf Hjalmar\",male,18.0,0,0,349912,7.775,,S\n",
            "\n",
            "676,677,0,3,\"Sawyer, Mr. Frederick Charles\",male,24.5,0,0,342826,8.05,,S\n",
            "\n",
            "677,678,1,3,\"Turja, Miss. Anna Sofia\",female,18.0,0,0,4138,9.8417,,S\n",
            "\n",
            "678,679,0,3,\"Goodwin, Mrs. Frederick (Augusta Tyler)\",female,43.0,1,6,CA 2144,46.9,,S\n",
            "\n",
            "679,680,1,1,\"Cardeza, Mr. Thomas Drake Martinez\",male,36.0,0,1,PC 17755,512.3292,B51 B53 B55,C\n",
            "\n",
            "680,681,0,3,\"Peters, Miss. Katie\",female,,0,0,330935,8.1375,,Q\n",
            "\n",
            "681,682,1,1,\"Hassab, Mr. Hammad\",male,27.0,0,0,PC 17572,76.7292,D49,C\n",
            "\n",
            "682,683,0,3,\"Olsvigen, Mr. Thor Anderson\",male,20.0,0,0,6563,9.225,,S\n",
            "\n",
            "683,684,0,3,\"Goodwin, Mr. Charles Edward\",male,14.0,5,2,CA 2144,46.9,,S\n",
            "\n",
            "684,685,0,2,\"Brown, Mr. Thomas William Solomon\",male,60.0,1,1,29750,39.0,,S\n",
            "\n",
            "685,686,0,2,\"Laroche, Mr. Joseph Philippe Lemercier\",male,25.0,1,2,SC/Paris 2123,41.5792,,C\n",
            "\n",
            "686,687,0,3,\"Panula, Mr. Jaako Arnold\",male,14.0,4,1,3101295,39.6875,,S\n",
            "\n",
            "687,688,0,3,\"Dakic, Mr. Branko\",male,19.0,0,0,349228,10.1708,,S\n",
            "\n",
            "688,689,0,3,\"Fischer, Mr. Eberhard Thelander\",male,18.0,0,0,350036,7.7958,,S\n",
            "\n",
            "689,690,1,1,\"Madill, Miss. Georgette Alexandra\",female,15.0,0,1,24160,211.3375,B5,S\n",
            "\n",
            "690,691,1,1,\"Dick, Mr. Albert Adrian\",male,31.0,1,0,17474,57.0,B20,S\n",
            "\n",
            "691,692,1,3,\"Karun, Miss. Manca\",female,4.0,0,1,349256,13.4167,,C\n",
            "\n",
            "692,693,1,3,\"Lam, Mr. Ali\",male,,0,0,1601,56.4958,,S\n",
            "\n",
            "693,694,0,3,\"Saad, Mr. Khalil\",male,25.0,0,0,2672,7.225,,C\n",
            "\n",
            "694,695,0,1,\"Weir, Col. John\",male,60.0,0,0,113800,26.55,,S\n",
            "\n",
            "695,696,0,2,\"Chapman, Mr. Charles Henry\",male,52.0,0,0,248731,13.5,,S\n",
            "\n",
            "696,697,0,?,\"Kelly, Mr. James\",male,44.0,0,0,363592,8.05,,S\n",
            "\n",
            "697,698,1,3,\"Mullens, Miss. Katherine \"\"Katie\"\"\",female,,0,0,35852,7.7333,,Q\n",
            "\n",
            "698,699,0,1,\"Thayer, Mr. John Borland\",male,49.0,1,1,17421,110.8833,C68,C\n",
            "\n",
            "699,700,0,3,\"Humblen, Mr. Adolf Mathias Nicolai Olsen\",male,42.0,0,0,348121,7.65,F G63,S\n",
            "\n",
            "700,701,1,1,\"Astor, Mrs. John Jacob (Madeleine Talmadge Force)\",female,18.0,1,0,PC 17757,227.525,C62 C64,C\n",
            "\n",
            "701,702,1,1,\"Silverthorne, Mr. Spencer Victor\",male,35.0,0,0,PC 17475,26.2875,E24,S\n",
            "\n",
            "702,703,0,3,\"Barbara, Miss. Saiide\",female,18.0,0,1,2691,14.4542,,C\n",
            "\n",
            "703,704,0,3,\"Gallagher, Mr. Martin\",male,25.0,0,0,36864,7.7417,,Q\n",
            "\n",
            "704,705,0,3,\"Hansen, Mr. Henrik Juul\",male,26.0,1,0,350025,7.8542,,S\n",
            "\n",
            "705,706,0,2,\"Morley, Mr. Henry Samuel (\"\"Mr Henry Marshall\"\")\",male,39.0,0,0,250655,26.0,,S\n",
            "\n",
            "706,707,1,2,\"Kelly, Mrs. Florence \"\"Fannie\"\"\",female,45.0,0,0,223596,13.5,,S\n",
            "\n",
            "707,708,1,?,\"Calderhead, Mr. Edward Pennington\",male,42.0,0,0,PC 17476,26.2875,E24,S\n",
            "\n",
            "708,709,1,1,\"Cleaver, Miss. Alice\",female,22.0,0,0,113781,151.55,,S\n",
            "\n",
            "709,710,1,3,\"Moubarek, Master. Halim Gonios (\"\"William George\"\")\",male,,1,1,2661,15.2458,,C\n",
            "\n",
            "710,711,1,1,\"Mayne, Mlle. Berthe Antonine (\"\"Mrs de Villiers\"\")\",female,24.0,0,0,PC 17482,49.5042,C90,C\n",
            "\n",
            "711,712,0,?,\"Klaber, Mr. Herman\",male,,0,0,113028,26.55,C124,S\n",
            "\n",
            "712,713,1,1,\"Taylor, Mr. Elmer Zebley\",male,48.0,1,0,19996,52.0,C126,S\n",
            "\n",
            "713,714,0,3,\"Larsson, Mr. August Viktor\",male,29.0,0,0,7545,9.4833,,S\n",
            "\n",
            "714,715,0,2,\"Greenberg, Mr. Samuel\",male,52.0,0,0,250647,13.0,,S\n",
            "\n",
            "715,716,0,3,\"Soholt, Mr. Peter Andreas Lauritz Andersen\",male,19.0,0,0,348124,7.65,F G73,S\n",
            "\n",
            "716,717,1,1,\"Endres, Miss. Caroline Louise\",female,38.0,0,0,PC 17757,227.525,C45,C\n",
            "\n",
            "717,718,1,2,\"Troutt, Miss. Edwina Celia \"\"Winnie\"\"\",female,27.0,0,0,34218,10.5,E101,S\n",
            "\n",
            "718,719,0,3,\"McEvoy, Mr. Michael\",male,,0,0,36568,15.5,,Q\n",
            "\n",
            "719,720,0,3,\"Johnson, Mr. Malkolm Joackim\",male,33.0,0,0,347062,7.775,,S\n",
            "\n",
            "720,721,1,2,\"Harper, Miss. Annie Jessie \"\"Nina\"\"\",female,6.0,0,1,248727,33.0,,S\n",
            "\n",
            "721,722,0,3,\"Jensen, Mr. Svend Lauritz\",male,17.0,1,0,350048,7.0542,,S\n",
            "\n",
            "722,723,0,2,\"Gillespie, Mr. William Henry\",male,34.0,0,0,12233,13.0,,S\n",
            "\n",
            "723,724,0,2,\"Hodges, Mr. Henry Price\",male,50.0,0,0,250643,13.0,,S\n",
            "\n",
            "724,725,1,1,\"Chambers, Mr. Norman Campbell\",male,27.0,1,0,113806,53.1,E8,S\n",
            "\n",
            "725,726,0,3,\"Oreskovic, Mr. Luka\",male,20.0,0,0,315094,8.6625,,S\n",
            "\n",
            "726,727,1,?,\"Renouf, Mrs. Peter Henry (Lillian Jefferys)\",female,30.0,3,0,31027,21.0,,S\n",
            "\n",
            "727,728,1,3,\"Mannion, Miss. Margareth\",female,,0,0,36866,7.7375,,Q\n",
            "\n",
            "728,729,0,2,\"Bryhl, Mr. Kurt Arnold Gottfrid\",male,25.0,1,0,236853,26.0,,S\n",
            "\n",
            "729,730,0,3,\"Ilmakangas, Miss. Pieta Sofia\",female,25.0,1,0,STON/O2. 3101271,7.925,,S\n",
            "\n",
            "730,731,1,?,\"Allen, Miss. Elisabeth Walton\",female,29.0,0,0,24160,211.3375,B5,S\n",
            "\n",
            "731,732,0,3,\"Hassan, Mr. Houssein G N\",male,11.0,0,0,2699,18.7875,,C\n",
            "\n",
            "732,733,0,2,\"Knight, Mr. Robert J\",male,,0,0,239855,0.0,,S\n",
            "\n",
            "733,734,0,2,\"Berriman, Mr. William John\",male,23.0,0,0,28425,13.0,,S\n",
            "\n",
            "734,735,0,2,\"Troupiansky, Mr. Moses Aaron\",male,23.0,0,0,233639,13.0,,S\n",
            "\n",
            "735,736,0,3,\"Williams, Mr. Leslie\",male,28.5,0,0,54636,16.1,,S\n",
            "\n",
            "736,737,0,3,\"Ford, Mrs. Edward (Margaret Ann Watson)\",female,48.0,1,3,W./C. 6608,34.375,,S\n",
            "\n",
            "737,738,1,1,\"Lesurer, Mr. Gustave J\",male,35.0,0,0,PC 17755,512.3292,B101,C\n",
            "\n",
            "738,739,0,3,\"Ivanoff, Mr. Kanio\",male,,0,0,349201,7.8958,,S\n",
            "\n",
            "739,740,0,3,\"Nankoff, Mr. Minko\",male,,0,0,349218,7.8958,,S\n",
            "\n",
            "740,741,1,1,\"Hawksford, Mr. Walter James\",male,,0,0,16988,30.0,D45,S\n",
            "\n",
            "741,742,0,1,\"Cavendish, Mr. Tyrell William\",male,36.0,1,0,19877,78.85,C46,S\n",
            "\n",
            "742,743,1,1,\"Ryerson, Miss. Susan Parker \"\"Suzette\"\"\",female,21.0,2,2,PC 17608,262.375,B57 B59 B63 B66,C\n",
            "\n",
            "743,744,0,3,\"McNamee, Mr. Neal\",male,24.0,1,0,376566,16.1,,S\n",
            "\n",
            "744,745,1,3,\"Stranden, Mr. Juho\",male,31.0,0,0,STON/O 2. 3101288,7.925,,S\n",
            "\n",
            "745,746,0,?,\"Crosby, Capt. Edward Gifford\",male,70.0,1,1,WE/P 5735,71.0,B22,S\n",
            "\n",
            "746,747,0,3,\"Abbott, Mr. Rossmore Edward\",male,16.0,1,1,C.A. 2673,20.25,,S\n",
            "\n",
            "747,748,1,2,\"Sinkkonen, Miss. Anna\",female,30.0,0,0,250648,13.0,,S\n",
            "\n",
            "748,749,0,1,\"Marvin, Mr. Daniel Warner\",male,19.0,1,0,113773,53.1,D30,S\n",
            "\n",
            "749,750,0,?,\"Connaghton, Mr. Michael\",male,31.0,0,0,335097,7.75,,Q\n",
            "\n",
            "750,751,1,2,\"Wells, Miss. Joan\",female,4.0,1,1,29103,23.0,,S\n",
            "\n",
            "751,752,1,3,\"Moor, Master. Meier\",male,6.0,0,1,392096,12.475,E121,S\n",
            "\n",
            "752,753,0,3,\"Vande Velde, Mr. Johannes Joseph\",male,33.0,0,0,345780,9.5,,S\n",
            "\n",
            "753,754,0,3,\"Jonkoff, Mr. Lalio\",male,23.0,0,0,349204,7.8958,,S\n",
            "\n",
            "754,755,1,?,\"Herman, Mrs. Samuel (Jane Laver)\",female,48.0,1,2,220845,65.0,,S\n",
            "\n",
            "755,756,1,2,\"Hamalainen, Master. Viljo\",male,0.67,1,1,250649,14.5,,S\n",
            "\n",
            "756,757,0,?,\"Carlsson, Mr. August Sigfrid\",male,28.0,0,0,350042,7.7958,,S\n",
            "\n",
            "757,758,0,2,\"Bailey, Mr. Percy Andrew\",male,18.0,0,0,29108,11.5,,S\n",
            "\n",
            "758,759,0,3,\"Theobald, Mr. Thomas Leonard\",male,34.0,0,0,363294,8.05,,S\n",
            "\n",
            "759,760,1,?,\"Rothes, the Countess. of (Lucy Noel Martha Dyer-Edwards)\",female,33.0,0,0,110152,86.5,B77,S\n",
            "\n",
            "760,761,0,3,\"Garfirth, Mr. John\",male,,0,0,358585,14.5,,S\n",
            "\n",
            "761,762,0,3,\"Nirva, Mr. Iisakki Antino Aijo\",male,41.0,0,0,SOTON/O2 3101272,7.125,,S\n",
            "\n",
            "762,763,1,3,\"Barah, Mr. Hanna Assi\",male,20.0,0,0,2663,7.2292,,C\n",
            "\n",
            "763,764,1,1,\"Carter, Mrs. William Ernest (Lucile Polk)\",female,36.0,1,2,113760,120.0,B96 B98,S\n",
            "\n",
            "764,765,0,3,\"Eklund, Mr. Hans Linus\",male,16.0,0,0,347074,7.775,,S\n",
            "\n",
            "765,766,1,1,\"Hogeboom, Mrs. John C (Anna Andrews)\",female,51.0,1,0,13502,77.9583,D11,S\n",
            "\n",
            "766,767,0,1,\"Brewe, Dr. Arthur Jackson\",male,,0,0,112379,39.6,,C\n",
            "\n",
            "767,768,0,3,\"Mangan, Miss. Mary\",female,30.5,0,0,364850,7.75,,Q\n",
            "\n",
            "768,769,0,3,\"Moran, Mr. Daniel J\",male,,1,0,371110,24.15,,Q\n",
            "\n",
            "769,770,0,3,\"Gronnestad, Mr. Daniel Danielsen\",male,32.0,0,0,8471,8.3625,,S\n",
            "\n",
            "770,771,0,3,\"Lievens, Mr. Rene Aime\",male,24.0,0,0,345781,9.5,,S\n",
            "\n",
            "771,772,0,3,\"Jensen, Mr. Niels Peder\",male,48.0,0,0,350047,7.8542,,S\n",
            "\n",
            "772,773,0,2,\"Mack, Mrs. (Mary)\",female,57.0,0,0,S.O./P.P. 3,10.5,E77,S\n",
            "\n",
            "773,774,0,3,\"Elias, Mr. Dibo\",male,,0,0,2674,7.225,,C\n",
            "\n",
            "774,775,1,?,\"Hocking, Mrs. Elizabeth (Eliza Needs)\",female,54.0,1,3,29105,23.0,,S\n",
            "\n",
            "775,776,0,3,\"Myhrman, Mr. Pehr Fabian Oliver Malkolm\",male,18.0,0,0,347078,7.75,,S\n",
            "\n",
            "776,777,0,?,\"Tobin, Mr. Roger\",male,,0,0,383121,7.75,F38,Q\n",
            "\n",
            "777,778,1,3,\"Emanuel, Miss. Virginia Ethel\",female,5.0,0,0,364516,12.475,,S\n",
            "\n",
            "778,779,0,3,\"Kilgannon, Mr. Thomas J\",male,,0,0,36865,7.7375,,Q\n",
            "\n",
            "779,780,1,1,\"Robert, Mrs. Edward Scott (Elisabeth Walton McMillan)\",female,43.0,0,1,24160,211.3375,B3,S\n",
            "\n",
            "780,781,1,3,\"Ayoub, Miss. Banoura\",female,13.0,0,0,2687,7.2292,,C\n",
            "\n",
            "781,782,1,1,\"Dick, Mrs. Albert Adrian (Vera Gillespie)\",female,17.0,1,0,17474,57.0,B20,S\n",
            "\n",
            "782,783,0,1,\"Long, Mr. Milton Clyde\",male,29.0,0,0,113501,30.0,D6,S\n",
            "\n",
            "783,784,0,3,\"Johnston, Mr. Andrew G\",male,,1,2,W./C. 6607,23.45,,S\n",
            "\n",
            "784,785,0,3,\"Ali, Mr. William\",male,25.0,0,0,SOTON/O.Q. 3101312,7.05,,S\n",
            "\n",
            "785,786,0,3,\"Harmer, Mr. Abraham (David Lishin)\",male,25.0,0,0,374887,7.25,,S\n",
            "\n",
            "786,787,1,3,\"Sjoblom, Miss. Anna Sofia\",female,18.0,0,0,3101265,7.4958,,S\n",
            "\n",
            "787,788,0,3,\"Rice, Master. George Hugh\",male,8.0,4,1,382652,29.125,,Q\n",
            "\n",
            "788,789,1,3,\"Dean, Master. Bertram Vere\",male,1.0,1,2,C.A. 2315,20.575,,S\n",
            "\n",
            "789,790,0,1,\"Guggenheim, Mr. Benjamin\",male,46.0,0,0,PC 17593,79.2,B82 B84,C\n",
            "\n",
            "790,791,0,3,\"Keane, Mr. Andrew \"\"Andy\"\"\",male,,0,0,12460,7.75,,Q\n",
            "\n",
            "791,792,0,2,\"Gaskell, Mr. Alfred\",male,16.0,0,0,239865,26.0,,S\n",
            "\n",
            "792,793,0,3,\"Sage, Miss. Stella Anna\",female,,8,2,CA. 2343,69.55,,S\n",
            "\n",
            "793,794,0,1,\"Hoyt, Mr. William Fisher\",male,,0,0,PC 17600,30.6958,,C\n",
            "\n",
            "794,795,0,3,\"Dantcheff, Mr. Ristiu\",male,25.0,0,0,349203,7.8958,,S\n",
            "\n",
            "795,796,0,2,\"Otter, Mr. Richard\",male,39.0,0,0,28213,13.0,,S\n",
            "\n",
            "796,797,1,1,\"Leader, Dr. Alice (Farnham)\",female,49.0,0,0,17465,25.9292,D17,S\n",
            "\n",
            "797,798,1,3,\"Osman, Mrs. Mara\",female,31.0,0,0,349244,8.6833,,S\n",
            "\n",
            "798,799,0,3,\"Ibrahim Shawah, Mr. Yousseff\",male,30.0,0,0,2685,7.2292,,C\n",
            "\n",
            "799,800,0,3,\"Van Impe, Mrs. Jean Baptiste (Rosalie Paula Govaert)\",female,30.0,1,1,345773,24.15,,S\n",
            "\n",
            "800,801,0,2,\"Ponesell, Mr. Martin\",male,34.0,0,0,250647,13.0,,S\n",
            "\n",
            "801,802,1,?,\"Collyer, Mrs. Harvey (Charlotte Annie Tate)\",female,31.0,1,1,C.A. 31921,26.25,,S\n",
            "\n",
            "802,803,1,1,\"Carter, Master. William Thornton II\",male,11.0,1,2,113760,120.0,B96 B98,S\n",
            "\n",
            "803,804,1,3,\"Thomas, Master. Assad Alexander\",male,0.42,0,1,2625,8.5167,,C\n",
            "\n",
            "804,805,1,3,\"Hedman, Mr. Oskar Arvid\",male,27.0,0,0,347089,6.975,,S\n",
            "\n",
            "805,806,0,3,\"Johansson, Mr. Karl Johan\",male,31.0,0,0,347063,7.775,,S\n",
            "\n",
            "806,807,0,1,\"Andrews, Mr. Thomas Jr\",male,39.0,0,0,112050,0.0,A36,S\n",
            "\n",
            "807,808,0,3,\"Pettersson, Miss. Ellen Natalia\",female,18.0,0,0,347087,7.775,,S\n",
            "\n",
            "808,809,0,?,\"Meyer, Mr. August\",male,39.0,0,0,248723,13.0,,S\n",
            "\n",
            "809,810,1,1,\"Chambers, Mrs. Norman Campbell (Bertha Griggs)\",female,33.0,1,0,113806,53.1,E8,S\n",
            "\n",
            "810,811,0,3,\"Alexander, Mr. William\",male,26.0,0,0,3474,7.8875,,S\n",
            "\n",
            "811,812,0,3,\"Lester, Mr. James\",male,39.0,0,0,A/4 48871,24.15,,S\n",
            "\n",
            "812,813,0,2,\"Slemen, Mr. Richard James\",male,35.0,0,0,28206,10.5,,S\n",
            "\n",
            "813,814,0,3,\"Andersson, Miss. Ebba Iris Alfrida\",female,6.0,4,2,347082,31.275,,S\n",
            "\n",
            "814,815,0,3,\"Tomlin, Mr. Ernest Portage\",male,30.5,0,0,364499,8.05,,S\n",
            "\n",
            "815,816,0,1,\"Fry, Mr. Richard\",male,,0,0,112058,0.0,B102,S\n",
            "\n",
            "816,817,0,3,\"Heininen, Miss. Wendla Maria\",female,23.0,0,0,STON/O2. 3101290,7.925,,S\n",
            "\n",
            "817,818,0,2,\"Mallet, Mr. Albert\",male,31.0,1,1,S.C./PARIS 2079,37.0042,,C\n",
            "\n",
            "818,819,0,3,\"Holm, Mr. John Fredrik Alexander\",male,43.0,0,0,C 7075,6.45,,S\n",
            "\n",
            "819,820,0,3,\"Skoog, Master. Karl Thorsten\",male,10.0,3,2,347088,27.9,,S\n",
            "\n",
            "820,821,1,1,\"Hays, Mrs. Charles Melville (Clara Jennings Gregg)\",female,52.0,1,1,12749,93.5,B69,S\n",
            "\n",
            "821,822,1,3,\"Lulic, Mr. Nikola\",male,27.0,0,0,315098,8.6625,,S\n",
            "\n",
            "822,823,0,1,\"Reuchlin, Jonkheer. John George\",male,38.0,0,0,19972,0.0,,S\n",
            "\n",
            "823,824,1,3,\"Moor, Mrs. (Beila)\",female,27.0,0,1,392096,12.475,E121,S\n",
            "\n",
            "824,825,0,3,\"Panula, Master. Urho Abraham\",male,2.0,4,1,3101295,39.6875,,S\n",
            "\n",
            "825,826,0,3,\"Flynn, Mr. John\",male,,0,0,368323,6.95,,Q\n",
            "\n",
            "826,827,0,?,\"Lam, Mr. Len\",male,,0,0,1601,56.4958,,S\n",
            "\n",
            "827,828,1,2,\"Mallet, Master. Andre\",male,1.0,0,2,S.C./PARIS 2079,37.0042,,C\n",
            "\n",
            "828,829,1,3,\"McCormack, Mr. Thomas Joseph\",male,,0,0,367228,7.75,,Q\n",
            "\n",
            "829,830,1,1,\"Stone, Mrs. George Nelson (Martha Evelyn)\",female,62.0,0,0,113572,80.0,B28,\n",
            "\n",
            "830,831,1,3,\"Yasbeck, Mrs. Antoni (Selini Alexander)\",female,15.0,1,0,2659,14.4542,,C\n",
            "\n",
            "831,832,1,2,\"Richards, Master. George Sibley\",male,0.83,1,1,29106,18.75,,S\n",
            "\n",
            "832,833,0,3,\"Saad, Mr. Amin\",male,,0,0,2671,7.2292,,C\n",
            "\n",
            "833,834,0,3,\"Augustsson, Mr. Albert\",male,23.0,0,0,347468,7.8542,,S\n",
            "\n",
            "834,835,0,3,\"Allum, Mr. Owen George\",male,18.0,0,0,2223,8.3,,S\n",
            "\n",
            "835,836,1,1,\"Compton, Miss. Sara Rebecca\",female,39.0,1,1,PC 17756,83.1583,E49,C\n",
            "\n",
            "836,837,0,3,\"Pasic, Mr. Jakob\",male,21.0,0,0,315097,8.6625,,S\n",
            "\n",
            "837,838,0,3,\"Sirota, Mr. Maurice\",male,,0,0,392092,8.05,,S\n",
            "\n",
            "838,839,1,3,\"Chip, Mr. Chang\",male,32.0,0,0,1601,56.4958,,S\n",
            "\n",
            "839,840,1,1,\"Marechal, Mr. Pierre\",male,,0,0,11774,29.7,C47,C\n",
            "\n",
            "840,841,0,3,\"Alhomaki, Mr. Ilmari Rudolf\",male,20.0,0,0,SOTON/O2 3101287,7.925,,S\n",
            "\n",
            "841,842,0,2,\"Mudd, Mr. Thomas Charles\",male,16.0,0,0,S.O./P.P. 3,10.5,,S\n",
            "\n",
            "842,843,1,1,\"Serepeca, Miss. Augusta\",female,30.0,0,0,113798,31.0,,C\n",
            "\n",
            "843,844,0,3,\"Lemberopolous, Mr. Peter L\",male,34.5,0,0,2683,6.4375,,C\n",
            "\n",
            "844,845,0,3,\"Culumovic, Mr. Jeso\",male,17.0,0,0,315090,8.6625,,S\n",
            "\n",
            "845,846,0,3,\"Abbing, Mr. Anthony\",male,42.0,0,0,C.A. 5547,7.55,,S\n",
            "\n",
            "846,847,0,3,\"Sage, Mr. Douglas Bullen\",male,,8,2,CA. 2343,69.55,,S\n",
            "\n",
            "847,848,0,3,\"Markoff, Mr. Marin\",male,35.0,0,0,349213,7.8958,,C\n",
            "\n",
            "848,849,0,2,\"Harper, Rev. John\",male,28.0,0,1,248727,33.0,,S\n",
            "\n",
            "849,850,1,1,\"Goldenberg, Mrs. Samuel L (Edwiga Grabowska)\",female,,1,0,17453,89.1042,C92,C\n",
            "\n",
            "850,851,0,3,\"Andersson, Master. Sigvard Harald Elias\",male,4.0,4,2,347082,31.275,,S\n",
            "\n",
            "851,852,0,3,\"Svensson, Mr. Johan\",male,74.0,0,0,347060,7.775,,S\n",
            "\n",
            "852,853,0,3,\"Boulos, Miss. Nourelain\",female,9.0,1,1,2678,15.2458,,C\n",
            "\n",
            "853,854,1,1,\"Lines, Miss. Mary Conover\",female,16.0,0,1,PC 17592,39.4,D28,S\n",
            "\n",
            "854,855,0,2,\"Carter, Mrs. Ernest Courtenay (Lilian Hughes)\",female,44.0,1,0,244252,26.0,,S\n",
            "\n",
            "855,856,1,?,\"Aks, Mrs. Sam (Leah Rosen)\",female,18.0,0,1,392091,9.35,,S\n",
            "\n",
            "856,857,1,1,\"Wick, Mrs. George Dennick (Mary Hitchcock)\",female,45.0,1,1,36928,164.8667,,S\n",
            "\n",
            "857,858,1,1,\"Daly, Mr. Peter Denis \",male,51.0,0,0,113055,26.55,E17,S\n",
            "\n",
            "858,859,1,3,\"Baclini, Mrs. Solomon (Latifa Qurban)\",female,24.0,0,3,2666,19.2583,,C\n",
            "\n",
            "859,860,0,3,\"Razi, Mr. Raihed\",male,,0,0,2629,7.2292,,C\n",
            "\n",
            "860,861,0,3,\"Hansen, Mr. Claus Peter\",male,41.0,2,0,350026,14.1083,,S\n",
            "\n",
            "861,862,0,?,\"Giles, Mr. Frederick Edward\",male,21.0,1,0,28134,11.5,,S\n",
            "\n",
            "862,863,1,1,\"Swift, Mrs. Frederick Joel (Margaret Welles Barron)\",female,48.0,0,0,17466,25.9292,D17,S\n",
            "\n",
            "863,864,0,3,\"Sage, Miss. Dorothy Edith \"\"Dolly\"\"\",female,,8,2,CA. 2343,69.55,,S\n",
            "\n",
            "864,865,0,2,\"Gill, Mr. John William\",male,24.0,0,0,233866,13.0,,S\n",
            "\n",
            "865,866,1,2,\"Bystrom, Mrs. (Karolina)\",female,42.0,0,0,236852,13.0,,S\n",
            "\n",
            "866,867,1,2,\"Duran y More, Miss. Asuncion\",female,27.0,1,0,SC/PARIS 2149,13.8583,,C\n",
            "\n",
            "867,868,0,1,\"Roebling, Mr. Washington Augustus II\",male,31.0,0,0,PC 17590,50.4958,A24,S\n",
            "\n",
            "868,869,0,3,\"van Melkebeke, Mr. Philemon\",male,,0,0,345777,9.5,,S\n",
            "\n",
            "869,870,1,3,\"Johnson, Master. Harold Theodor\",male,4.0,1,1,347742,11.1333,,S\n",
            "\n",
            "870,871,0,3,\"Balkic, Mr. Cerin\",male,26.0,0,0,349248,7.8958,,S\n",
            "\n",
            "871,872,1,1,\"Beckwith, Mrs. Richard Leonard (Sallie Monypeny)\",female,47.0,1,1,11751,52.5542,D35,S\n",
            "\n",
            "872,873,0,1,\"Carlsson, Mr. Frans Olof\",male,33.0,0,0,695,5.0,B51 B53 B55,S\n",
            "\n",
            "873,874,0,3,\"Vander Cruyssen, Mr. Victor\",male,47.0,0,0,345765,9.0,,S\n",
            "\n",
            "874,875,1,2,\"Abelson, Mrs. Samuel (Hannah Wizosky)\",female,28.0,1,0,P/PP 3381,24.0,,C\n",
            "\n",
            "875,876,1,?,\"Najib, Miss. Adele Kiamie \"\"Jane\"\"\",female,15.0,0,0,2667,7.225,,C\n",
            "\n",
            "876,877,0,3,\"Gustafsson, Mr. Alfred Ossian\",male,20.0,0,0,7534,9.8458,,S\n",
            "\n",
            "877,878,0,3,\"Petroff, Mr. Nedelio\",male,19.0,0,0,349212,7.8958,,S\n",
            "\n",
            "878,879,0,3,\"Laleff, Mr. Kristo\",male,,0,0,349217,7.8958,,S\n",
            "\n",
            "879,880,1,1,\"Potter, Mrs. Thomas Jr (Lily Alexenia Wilson)\",female,56.0,0,1,11767,83.1583,C50,C\n",
            "\n",
            "880,881,1,2,\"Shelley, Mrs. William (Imanita Parrish Hall)\",female,25.0,0,1,230433,26.0,,S\n",
            "\n",
            "881,882,0,3,\"Markun, Mr. Johann\",male,33.0,0,0,349257,7.8958,,S\n",
            "\n",
            "882,883,0,3,\"Dahlberg, Miss. Gerda Ulrika\",female,22.0,0,0,7552,10.5167,,S\n",
            "\n",
            "883,884,0,2,\"Banfield, Mr. Frederick James\",male,28.0,0,0,C.A./SOTON 34068,10.5,,S\n",
            "\n",
            "884,885,0,3,\"Sutehall, Mr. Henry Jr\",male,25.0,0,0,SOTON/OQ 392076,7.05,,S\n",
            "\n",
            "885,886,0,3,\"Rice, Mrs. William (Margaret Norton)\",female,39.0,0,5,382652,29.125,,Q\n",
            "\n",
            "886,887,0,2,\"Montvila, Rev. Juozas\",male,27.0,0,0,211536,13.0,,S\n",
            "\n",
            "887,888,1,1,\"Graham, Miss. Margaret Edith\",female,19.0,0,0,112053,30.0,B42,S\n",
            "\n",
            "888,889,0,?,\"Johnston, Miss. Catherine Helen \"\"Carrie\"\"\",female,,1,2,W./C. 6607,23.45,,S\n",
            "\n",
            "889,890,1,1,\"Behr, Mr. Karl Howell\",male,26.0,0,0,111369,30.0,C148,C\n",
            "\n",
            "890,891,0,3,\"Dooley, Mr. Patrick\",male,32.0,0,0,370376,7.75,,Q\n",
            "\n"
          ]
        }
      ]
    },
    {
      "cell_type": "markdown",
      "source": [
        "## Seek and You Shall Find\n",
        "If you want to print the whole file, instead of looping over the lines you can use this:\n",
        "```Python\n",
        "\n",
        "filename = 'C:\\\\temp\\\\readme.txt'\n",
        "fl = open(filename, 'r')\n",
        "print(fl.read())\n",
        "```\n",
        "\n",
        "Did you try to run `print(fl.read())` a second time? Did it fail? It likely did, and reason is because the 'cursor' has changed it's place. Cursor? What cursor? Well, a cursor that you really cannot see, but still a cursor. This invisible cursor tells the read function (and many other I/O functions) where to start from. To set where the cursor is, you use the `seek()` function. It is used in the form `seek(offset, whence)`.\n",
        "\n",
        "`whence` is optional, and determines where to seek from. If `whence` is 0, the bytes/letters are counted from the beginning. If it is 1, the bytes are counted from the current cursor position. If it is 2, then the bytes are counted from the end of the file. If nothing is put there, 0 is assumed.\n",
        "\n",
        "`offset` decribes how far from `whence` that the cursor moves. for example:\n",
        "* `fl.seek(45,0)` would move the cursor to 45 bytes/letters after the beginning of the file.\n",
        "* `fl.seek(10,1)` would move the cursor to 10 bytes/letters after the current cursor position.\n",
        "* `fl.seek(-77,2)` would move the cursor to 77 bytes/letters before the end of the file (notice the - before the 77)\n"
      ],
      "metadata": {
        "id": "YTjvm_OcYrO_"
      }
    },
    {
      "cell_type": "markdown",
      "source": [
        "We can use `fl.seek()` to go to any spot in the file and then try typing `print(fl.read())`. It will print from the spot you seeked to. But realise that `fl.read()` moves the cursor to the end of the file - you will have to seek again.\n",
        "\n",
        "##Other I/O Functions\n",
        "There are many other functions that help you with dealing with files. They have many uses that empower you to do more, and make the things you can do easier. Let's have a look at `tell()`, `readline()`, `readlines()`, `write()` and `close()`.\n",
        "\n",
        "`tell()` returns where the cursor is in the file. It has no parameters, just type it in (like what the example below will show). This is infinitely useful, for knowing what you are referring to, where it is, and simple control of the cursor. To use it, type `fileobjectname.tell()` - where fileobjectname is the name of the file object you created when you opened the file (in `openfile = open('pathtofile', 'r')` the file object name is `openfile`).\n",
        "\n",
        "`readline()` reads from where the cursor is till the end of the line. Remember that the end of the line isn't the edge of your screen - the line ends when you press enter to create a new line. This is useful for things like reading a log of events, or going through something progressively to process it. There are no parameters you have to pass to `readline()`, though you can optionally tell it the maximum number of bytes/letters to read by putting a number in the brackets. Use it with `fileobjectname.readline()`.<br>\n",
        "\n",
        "`readlines()` is much like `readline()`, however `readlines()` reads all the lines from the cursor onwards, and returns a list, with each list element holding a line of code. Use it with `fileobjectname.readlines()`. For example, if you had the text file:\n",
        "```\n",
        "Line 1\n",
        "\n",
        "Line 3\n",
        "Line 4\n",
        "\n",
        "Line 6\n",
        "```\n",
        "then the returned list from `readlines()` would be:<br>\n",
        "\n",
        "| Index | Value |\n",
        "| :--: | :--: |\n",
        "| 0 | 'Line 1' |\n",
        "| 1 | \" |\n",
        "| 2 | 'Line 3' |\n",
        "| 3 | 'Line 4' |\n",
        "| 4 | \" |\n",
        "| 5 | 'Line 6' |\n",
        "\n",
        "The `write()` function, writes to the file. How did you guess??? It writes from where the cursor is, and overwrites text in front of it - like in MS Word, where you press 'insert' and it writes over the top of old text. To utilise this most purposeful function, put a string between the brackets to write e.g. `fileobjectname.write('this is a string')`.\n",
        "\n",
        "`close`, you may figure, closes the file so that you can no longer read or write to it until you reopen in again. Simple enough. To use, you would write `fileobjectname.close()`. Simple!\n",
        "\n",
        "Later in the course you can try this in the Python command line. Open up a test file (or create a new one...) and play around with these functions. You can do some simple (and very inconvenient) text editing."
      ],
      "metadata": {
        "id": "3m3HfLahZGbn"
      }
    },
    {
      "cell_type": "markdown",
      "source": [
        "## Mmm, Pickles\n",
        "Pickles, in Python, are to be eaten. Their flavour is just too good to let programmers leave them in the fridge.\n",
        "\n",
        "Ok, just joking there. Pickles, in Python, are objects saved to a file. An object in this case could be a variable, instance of a class, or a list, dictionary, or tuple. Other things can also be pickled, but with limits. The object can then be restored, or unpickled, later on. In other words, you are 'saving' your objects.\n",
        "\n",
        "So how do we pickle? With the `dump()` function, which is inside the pickle module - so at the beginning of your program you will have to write `import pickle`. Simple enough? Then open an empty file, and use `pickle.dump()` to drop the object into that file. Let's try that:\n",
        "\n",
        "```Python\n",
        "### pickletest.py\n",
        "### PICKLE AN OBJECT\n",
        "\n",
        "# import the pickle module\n",
        "import pickle\n",
        "\n",
        "# lets create something to be pickled\n",
        "# How about a list?\n",
        "picklelist = ['one',2,'three','four',5,'can you count?']\n",
        "\n",
        "# now create a file\n",
        "# replace filename with the file you want to create\n",
        "# wb means that it's written in a binary file\n",
        "file = open('filename', 'wb')\n",
        "\n",
        "# now let's pickle picklelist\n",
        "pickle.dump(picklelist,file)\n",
        "\n",
        "# close the file, and your pickling is complete\n",
        "file.close()\n",
        "```\n",
        "\n",
        "The code to do this is laid out like `pickle.dump(object_to_pickle, file_object)` where:\n",
        "* `object_to_pickle` is the object you want to pickle (i.e. save it to file)\n",
        "* `file_object` is the file object you want to write to (in this case, the file object is `file`)"
      ],
      "metadata": {
        "id": "pevAhQr6ZLh-"
      }
    },
    {
      "cell_type": "markdown",
      "source": [
        "Now to re-open, or unpickle, your file we would use `pickle.load()`:<br>\n",
        "```Python\n",
        "### unpickletest.py\n",
        "### unpickle file\n",
        "\n",
        "# import the pickle module\n",
        "import pickle\n",
        "\n",
        "# now open a file for reading\n",
        "# replace filename with the path to the file you created in pickletest.py\n",
        "unpicklefile = open('filename', 'rb')\n",
        "\n",
        "# now load the list that we pickled into a new object\n",
        "unpickledlist = pickle.load(unpicklefile)\n",
        "\n",
        "# close the file, just for safety\n",
        "unpicklefile.close()\n",
        "\n",
        "# Try out using the list\n",
        "for item in unpickledlist:\n",
        "    print(item)\n",
        "```\n",
        "Nifty, eh?<br>\n",
        "\n",
        "Of course, the limitation above is that we can only put in one object to a file. We could get around this by putting lots of picklable objects in a list or dictionary, and then pickling that list or dictionary. This is the quickest and easiest way, but you can do some pretty advanced stuff if you have advanced knowledge of pickle.<br>\n",
        "    \n",
        "Which we won't cover."
      ],
      "metadata": {
        "id": "n56roW46Zgtv"
      }
    },
    {
      "cell_type": "markdown",
      "source": [
        "##Exercise\n",
        "Please read the first 1000 lines from the lego_setsHB.csv in the [DATA folder](https://drive.google.com/drive/folders/1ehWwunuAo7CE1Vk2JYkUnQMmxh5pph3C) and split each line by using comma.\n",
        "\n",
        "As you do go through each line populate two dictinaries, Price and Difficulty, which uses product id as the key and price and review diffulty as your values.\n",
        "\n",
        "You may have to make a copy of the DATA folder to your own drive to be able to read from there.\n",
        "\n",
        "Feel free to modify the following cell"
      ],
      "metadata": {
        "id": "4k0E_aV-vZmK"
      }
    },
    {
      "cell_type": "code",
      "source": [
        "filename = '/content/drive/MyDrive/DATA/lego_setsHB.csv'\n",
        "\n",
        "#filename = '/content/drive/MyDrive/DATA/titanic.csv'\n",
        "price = {}\n",
        "difficulty = {}\n",
        "\n",
        "with open(filename, 'r') as fl:\n",
        "    next(fl) #will help you skip the first line in which we have the headers\n",
        "    for line in fl:\n",
        "        print(line)\n",
        "\n",
        "for key, value in price.items():\n",
        "    print(key, value, difficulty[key])"
      ],
      "metadata": {
        "id": "lenacKw-vaEe"
      },
      "execution_count": null,
      "outputs": []
    }
  ]
}