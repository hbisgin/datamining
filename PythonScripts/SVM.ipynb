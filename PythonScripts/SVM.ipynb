{
 "cells": [
  {
   "cell_type": "code",
   "execution_count": 88,
   "metadata": {
    "collapsed": false
   },
   "outputs": [
    {
     "data": {
      "text/plain": [
       "SVC(C=1000.0, cache_size=200, class_weight=None, coef0=0.0,\n",
       "  decision_function_shape='ovr', degree=3, gamma=1e-05, kernel='rbf',\n",
       "  max_iter=-1, probability=False, random_state=None, shrinking=True,\n",
       "  tol=0.001, verbose=False)"
      ]
     },
     "execution_count": 88,
     "metadata": {},
     "output_type": "execute_result"
    }
   ],
   "source": [
    "from sklearn import svm\n",
    "import pandas as pd\n",
    "import numpy as np\n",
    "\n",
    "data=pd.read_csv(\"/Users/bisgin/Documents/TEACHING/Data_Mining/data/diabetes_train.csv\")\n",
    "m,n=data.shape\n",
    "\n",
    "X=data.iloc[:,0:n-1].as_matrix()\n",
    "y=data.iloc[:,n-1].as_matrix()\n",
    "\n",
    "C=1e+03\n",
    "gamma=1e-05\n",
    "clf = svm.SVC(C=C, cache_size=200, class_weight=None, coef0=0.0,\n",
    "    decision_function_shape='ovr', degree=3, gamma=gamma, kernel='rbf',\n",
    "    max_iter=-1, probability=False, random_state=None, shrinking=True,\n",
    "    tol=0.001, verbose=False)\n",
    "\n",
    "clf.fit(X, y)\n"
   ]
  },
  {
   "cell_type": "code",
   "execution_count": 89,
   "metadata": {
    "collapsed": false
   },
   "outputs": [
    {
     "name": "stdout",
     "output_type": "stream",
     "text": [
      "tested_negative tested_negative\n",
      "tested_positive tested_positive\n",
      "tested_negative tested_negative\n",
      "tested_positive tested_positive\n",
      "tested_negative tested_negative\n",
      "tested_positive tested_negative\n",
      "tested_negative tested_negative\n",
      "tested_negative tested_negative\n",
      "tested_negative tested_positive\n",
      "tested_negative tested_negative\n"
     ]
    },
    {
     "data": {
      "text/plain": [
       "(385, 8)"
      ]
     },
     "execution_count": 89,
     "metadata": {},
     "output_type": "execute_result"
    }
   ],
   "source": [
    "test=pd.read_csv(\"/Users/bisgin/Documents/TEACHING/Data_Mining/data/diabetes_test.csv\")\n",
    "testX=test.iloc[:,0:n-1].as_matrix()\n",
    "testy=test.iloc[:,n-1].as_matrix()\n",
    "\n",
    "pred=clf.predict(testX)\n",
    "for i in range(10):\n",
    "    print(pred[i], testy[i])\n",
    "    \n",
    "clf.support_vectors_.shape\n"
   ]
  }
 ],
 "metadata": {
  "anaconda-cloud": {},
  "kernelspec": {
   "display_name": "Python [Root]",
   "language": "python",
   "name": "Python [Root]"
  },
  "language_info": {
   "codemirror_mode": {
    "name": "ipython",
    "version": 3
   },
   "file_extension": ".py",
   "mimetype": "text/x-python",
   "name": "python",
   "nbconvert_exporter": "python",
   "pygments_lexer": "ipython3",
   "version": "3.5.5"
  }
 },
 "nbformat": 4,
 "nbformat_minor": 0
}
