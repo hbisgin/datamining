{
  "nbformat": 4,
  "nbformat_minor": 0,
  "metadata": {
    "anaconda-cloud": {},
    "kernelspec": {
      "display_name": "Python [Root]",
      "language": "python",
      "name": "Python [Root]"
    },
    "language_info": {
      "codemirror_mode": {
        "name": "ipython",
        "version": 3
      },
      "file_extension": ".py",
      "mimetype": "text/x-python",
      "name": "python",
      "nbconvert_exporter": "python",
      "pygments_lexer": "ipython3",
      "version": "3.5.5"
    },
    "colab": {
      "provenance": [],
      "include_colab_link": true
    }
  },
  "cells": [
    {
      "cell_type": "markdown",
      "metadata": {
        "id": "view-in-github",
        "colab_type": "text"
      },
      "source": [
        "<a href=\"https://colab.research.google.com/github/hbisgin/datamining/blob/main/SupportVectorMachinesW25.ipynb\" target=\"_parent\"><img src=\"https://colab.research.google.com/assets/colab-badge.svg\" alt=\"Open In Colab\"/></a>"
      ]
    },
    {
      "cell_type": "code",
      "metadata": {
        "id": "Oznk6SGeuBNx"
      },
      "source": [
        "from google.colab import drive\n",
        "drive.mount('/content/drive')"
      ],
      "execution_count": null,
      "outputs": []
    },
    {
      "cell_type": "code",
      "metadata": {
        "id": "L978BR5uq3XV"
      },
      "source": [
        "from sklearn import svm\n",
        "import pandas as pd\n",
        "import numpy as np\n",
        "\n",
        "C=1e+03\n",
        "gamma=1e-05\n",
        "clf = svm.SVC(C=C, gamma=gamma, kernel='rbf', probability=True)"
      ],
      "execution_count": null,
      "outputs": []
    },
    {
      "cell_type": "code",
      "metadata": {
        "id": "r3avzGW5q3Xd"
      },
      "source": [
        "import pandas as pd\n",
        "train = pd.read_csv('/content/drive/My Drive/TEACHING/CSC_487_587/data/diabetes_train.csv') #this is our dataset, please change the path for your case\n",
        "test = pd.read_csv('/content/drive/My Drive/TEACHING/CSC_487_587/data/diabetes_test.csv')\n",
        "train.columns[:8] #wanted to show which attributs we have"
      ],
      "execution_count": null,
      "outputs": []
    },
    {
      "cell_type": "code",
      "metadata": {
        "id": "1Sb3mkBSq3Xi"
      },
      "source": [
        "clf = clf.fit(train.iloc[:,0:8], train.iloc[:,8]) #first paramater data, second labels\n",
        "y_pred = clf.predict(test.iloc[:,0:8]) #doing prediction on unknown test set\n",
        "y_pred"
      ],
      "execution_count": null,
      "outputs": []
    },
    {
      "cell_type": "code",
      "metadata": {
        "id": "zE4DKCgKq3Xm",
        "colab": {
          "base_uri": "https://localhost:8080/",
          "height": 33
        },
        "outputId": "b7ca2087-532b-484a-959a-7922e8c8f48a"
      },
      "source": [
        "from sklearn.metrics import confusion_matrix #let's see how good we did\n",
        "y_true = test.iloc[:,8]\n",
        "tn, fp, fn, tp = confusion_matrix(y_true, y_pred).ravel()\n",
        "tn, fp, fn, tp"
      ],
      "execution_count": null,
      "outputs": [
        {
          "output_type": "execute_result",
          "data": {
            "text/plain": [
              "(6, 1, 1, 2)"
            ]
          },
          "metadata": {
            "tags": []
          },
          "execution_count": 5
        }
      ]
    },
    {
      "cell_type": "code",
      "metadata": {
        "id": "yTN-i2clq3Xq"
      },
      "source": [
        "import numpy as np\n",
        "from sklearn.metrics import roc_curve, auc\n",
        "from scipy import interp\n",
        "\n",
        "y = test.iloc[:,8]\n",
        "scores = clf.predict_proba(test.iloc[:,0:8])\n",
        "scores[:,1]\n",
        "#y is the true labels, scores[:,1] which has probabilities\n",
        "fpr, tpr, thresholds = roc_curve(y, scores[:,1], pos_label='tested_positive')\n",
        "#fpr, tpr, thresholds = roc_curve(true_labels, scores[:,1], pos_label=1)\n",
        "\n",
        "roc_auc = auc(fpr,tpr)\n",
        "\n",
        "print(fpr)\n",
        "\n",
        "print(tpr)\n",
        "\n",
        "print(thresholds)"
      ],
      "execution_count": null,
      "outputs": []
    },
    {
      "cell_type": "code",
      "metadata": {
        "id": "Y_MA7nzjq3Xt",
        "outputId": "52f0901a-f9f9-4f82-83e4-badccd9a1d71"
      },
      "source": [
        "%matplotlib inline\n",
        "import matplotlib.pyplot as plt\n",
        "plt.figure()\n",
        "lw = 2\n",
        "plt.plot(fpr, tpr, color='darkorange',\n",
        "         lw=lw, label='ROC curve (area = %0.2f)' % roc_auc)\n",
        "plt.plot([0, 1], [0, 1], color='navy', lw=lw, linestyle='--')\n",
        "plt.xlim([0.0, 1.0])\n",
        "plt.ylim([0.0, 1.05])\n",
        "plt.xlabel('False Positive Rate')\n",
        "plt.ylabel('True Positive Rate')\n",
        "plt.title('Receiver operating characteristic example')\n",
        "plt.legend(loc=\"lower right\")\n",
        "plt.show()"
      ],
      "execution_count": null,
      "outputs": [
        {
          "output_type": "display_data",
          "data": {
            "image/png": "[encoded data removed]",
            "text/plain": [
              "<matplotlib.figure.Figure at 0x115a29a20>"
            ]
          },
          "metadata": {
            "tags": []
          }
        }
      ]
    }
  ]
}