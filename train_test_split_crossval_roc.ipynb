{
  "cells": [
    {
      "cell_type": "markdown",
      "metadata": {
        "id": "view-in-github",
        "colab_type": "text"
      },
      "source": [
        "<a href=\"https://colab.research.google.com/github/hbisgin/datamining/blob/main/train_test_split_crossval_roc.ipynb\" target=\"_parent\"><img src=\"https://colab.research.google.com/assets/colab-badge.svg\" alt=\"Open In Colab\"/></a>"
      ]
    },
    {
      "cell_type": "markdown",
      "id": "7b421959",
      "metadata": {
        "id": "7b421959"
      },
      "source": [
        "# Train-Test Split, Cross-Validation, and ROC Curve\n",
        "\n",
        "This notebook will demonstrate:\n",
        "- How to **split data** into training and testing sets using `train_test_split`\n",
        "- How to perform **cross-validation** to evaluate model performance\n",
        "- How to **plot an ROC curve** to assess classification performance\n",
        "\n",
        "We will use the **Breast Cancer dataset** from `sklearn.datasets`.\n"
      ]
    },
    {
      "cell_type": "code",
      "execution_count": 1,
      "id": "71f4d40d",
      "metadata": {
        "id": "71f4d40d"
      },
      "outputs": [],
      "source": [
        "import numpy as np\n",
        "import pandas as pd\n",
        "import matplotlib.pyplot as plt\n",
        "import seaborn as sns\n",
        "from sklearn.model_selection import train_test_split, cross_val_score, StratifiedKFold\n",
        "from sklearn.datasets import load_breast_cancer\n",
        "from sklearn.linear_model import LogisticRegression\n",
        "from sklearn.metrics import roc_curve, auc, RocCurveDisplay\n",
        "\n",
        "# Set style\n",
        "sns.set_style(\"whitegrid\")\n"
      ]
    },
    {
      "cell_type": "code",
      "execution_count": null,
      "id": "1761004a",
      "metadata": {
        "id": "1761004a"
      },
      "outputs": [],
      "source": [
        "# Load Breast Cancer dataset\n",
        "data = load_breast_cancer()\n",
        "X = data.data\n",
        "y = data.target\n",
        "\n",
        "# Convert to DataFrame for visualization\n",
        "df = pd.DataFrame(X, columns=data.feature_names)\n",
        "df[\"target\"] = y\n",
        "\n",
        "# Display first few rows\n",
        "df.head()\n"
      ]
    },
    {
      "cell_type": "code",
      "execution_count": null,
      "id": "5d8fb2dd",
      "metadata": {
        "id": "5d8fb2dd"
      },
      "outputs": [],
      "source": [
        "# Split data into 80% training and 20% testing\n",
        "X_train, X_test, y_train, y_test = train_test_split(X, y, test_size=0.2, random_state=42, stratify=y)\n",
        "\n",
        "print(\"Training set size:\", X_train.shape[0])\n",
        "print(\"Testing set size:\", X_test.shape[0])\n"
      ]
    },
    {
      "cell_type": "code",
      "execution_count": null,
      "id": "e61ccc6c",
      "metadata": {
        "id": "e61ccc6c"
      },
      "outputs": [],
      "source": [
        "# Perform 5-fold cross-validation with Logistic Regression\n",
        "model = LogisticRegression(max_iter=10000)\n",
        "cv = StratifiedKFold(n_splits=5, shuffle=True, random_state=42)\n",
        "cv_scores = cross_val_score(model, X_train, y_train, cv=cv, scoring='accuracy')\n",
        "\n",
        "print(\"Cross-validation scores:\", cv_scores)\n",
        "print(\"Mean accuracy:\", np.mean(cv_scores))\n"
      ]
    },
    {
      "cell_type": "code",
      "execution_count": null,
      "id": "b501a38b",
      "metadata": {
        "id": "b501a38b"
      },
      "outputs": [],
      "source": [
        "# Fit model and get probabilities\n",
        "model.fit(X_train, y_train)\n",
        "y_scores = model.predict_proba(X_test)[:, 1]#we're only interested in the probabilities for the positive class. Therefore, skip column 0\n",
        "\n",
        "# Compute ROC curve\n",
        "fpr, tpr, _ = roc_curve(y_test, y_scores)\n",
        "roc_auc = auc(fpr, tpr)\n",
        "\n",
        "# Plot ROC Curve\n",
        "plt.figure(figsize=(8, 6))\n",
        "plt.plot(fpr, tpr, color='blue', label=f\"ROC Curve (AUC = {roc_auc:.2f})\")\n",
        "plt.plot([0, 1], [0, 1], linestyle=\"--\", color=\"gray\", label=\"Random Classifier\")\n",
        "plt.xlabel(\"False Positive Rate\")\n",
        "plt.ylabel(\"True Positive Rate\")\n",
        "plt.title(\"ROC Curve\")\n",
        "plt.legend()\n",
        "plt.show()\n",
        "\n",
        "print(model.predict_proba(X_test))"
      ]
    },
    {
      "cell_type": "code",
      "source": [
        "from sklearn.metrics import precision_recall_curve, average_precision_score\n",
        "\n",
        "# Get precision-recall values\n",
        "precision, recall, _ = precision_recall_curve(y_test, y_scores)\n",
        "\n",
        "# Compute Average Precision (AP) Score\n",
        "ap_score = average_precision_score(y_test, y_scores)\n",
        "\n",
        "# Plot Precision-Recall Curve\n",
        "plt.figure(figsize=(8, 6))\n",
        "plt.plot(recall, precision, color='blue', label=f\"PR Curve (AP = {ap_score:.2f})\")\n",
        "plt.xlabel(\"Recall\")\n",
        "plt.ylabel(\"Precision\")\n",
        "plt.title(\"Precision-Recall Curve\")\n",
        "plt.legend()\n",
        "plt.show()"
      ],
      "metadata": {
        "colab": {
          "base_uri": "https://localhost:8080/",
          "height": 564
        },
        "id": "jOVw3UOe7fDn",
        "outputId": "d73fd177-5c9c-46f0-bd73-4217152b33d8"
      },
      "id": "jOVw3UOe7fDn",
      "execution_count": 8,
      "outputs": [
        {
          "output_type": "display_data",
          "data": {
            "text/plain": [
              "<Figure size 800x600 with 1 Axes>"
            ],
            "image/png": "[encoded data removed]"
          },
          "metadata": {}
        }
      ]
    },
    {
      "cell_type": "markdown",
      "id": "cc3f93b7",
      "metadata": {
        "id": "cc3f93b7"
      },
      "source": [
        "## ✨ Lab questions\n",
        "\n",
        "Try the following exercises to reinforce your learning:\n",
        "\n",
        "1. Modify the `train_test_split` function to use **30% test data** instead of 20%.  \n",
        "2. Change the classifier to **Support Vector Macines** and compare its ROC curve with Logistic Regression.  You can try different C values and vary your kernel functions. Please note that different kernel functions come with different parameters which you may want to change, too\n",
        "3. Compute and visualize the **Precision-Recall Curve** in addition to the ROC curve.  \n"
      ]
    }
  ],
  "metadata": {
    "colab": {
      "provenance": [],
      "include_colab_link": true
    },
    "language_info": {
      "name": "python"
    },
    "kernelspec": {
      "name": "python3",
      "display_name": "Python 3"
    }
  },
  "nbformat": 4,
  "nbformat_minor": 5
}